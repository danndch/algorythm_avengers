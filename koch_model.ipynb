{
 "cells": [
  {
   "cell_type": "code",
   "execution_count": 9,
   "metadata": {},
   "outputs": [],
   "source": [
    "import pandas as pd\n",
    "import numpy as np\n",
    "from sklearn.decomposition import TruncatedSVD\n",
    "from sklearn.pipeline import Pipeline\n",
    "from sklearn.feature_extraction.text import TfidfVectorizer\n",
    "\n"
   ]
  },
  {
   "cell_type": "code",
   "execution_count": 90,
   "metadata": {},
   "outputs": [
    {
     "data": {
      "text/html": [
       "<div>\n",
       "<style scoped>\n",
       "    .dataframe tbody tr th:only-of-type {\n",
       "        vertical-align: middle;\n",
       "    }\n",
       "\n",
       "    .dataframe tbody tr th {\n",
       "        vertical-align: top;\n",
       "    }\n",
       "\n",
       "    .dataframe thead th {\n",
       "        text-align: right;\n",
       "    }\n",
       "</style>\n",
       "<table border=\"1\" class=\"dataframe\">\n",
       "  <thead>\n",
       "    <tr style=\"text-align: right;\">\n",
       "      <th></th>\n",
       "      <th>Unnamed: 0</th>\n",
       "      <th>SHORT_TEXT</th>\n",
       "      <th>D_day_of_week</th>\n",
       "      <th>COUNTRY</th>\n",
       "      <th>MATERIAL_ID</th>\n",
       "      <th>IS_HOLIDAY</th>\n",
       "      <th>Mean_Delay_Material</th>\n",
       "      <th>Median_Delay_Material</th>\n",
       "      <th>quarter</th>\n",
       "      <th>month</th>\n",
       "      <th>...</th>\n",
       "      <th>INBOUND_DELIVERY_ITEM_ID</th>\n",
       "      <th>REQUESTED_DELIVERY_DATE</th>\n",
       "      <th>PLANT_ID</th>\n",
       "      <th>SUB_COMMODITY_DESC</th>\n",
       "      <th>COMPANY_CODE_ID</th>\n",
       "      <th>CREATE_DATE</th>\n",
       "      <th>Time_Difference</th>\n",
       "      <th>REQUESTED_DELIVERY_DATE_year</th>\n",
       "      <th>REQUESTED_DELIVERY_DATE_month</th>\n",
       "      <th>REQUESTED_DELIVERY_DATE_day</th>\n",
       "    </tr>\n",
       "  </thead>\n",
       "  <tbody>\n",
       "    <tr>\n",
       "      <th>0</th>\n",
       "      <td>0</td>\n",
       "      <td>1/2\" OD x 0.063\" Wall 20' Long ASTM A51</td>\n",
       "      <td>5.0</td>\n",
       "      <td>CA</td>\n",
       "      <td>NaN</td>\n",
       "      <td>0</td>\n",
       "      <td>NaN</td>\n",
       "      <td>NaN</td>\n",
       "      <td>3</td>\n",
       "      <td>7</td>\n",
       "      <td>...</td>\n",
       "      <td>0.0</td>\n",
       "      <td>2021-08-06</td>\n",
       "      <td>4036.0</td>\n",
       "      <td>29</td>\n",
       "      <td>0</td>\n",
       "      <td>2021-07-26</td>\n",
       "      <td>6.0</td>\n",
       "      <td>2021.0</td>\n",
       "      <td>8.0</td>\n",
       "      <td>6.0</td>\n",
       "    </tr>\n",
       "    <tr>\n",
       "      <th>1</th>\n",
       "      <td>1</td>\n",
       "      <td>994 45 9951A TU E 4.99-8.62 3X0X 4014</td>\n",
       "      <td>5.0</td>\n",
       "      <td>US</td>\n",
       "      <td>2.100008e+09</td>\n",
       "      <td>0</td>\n",
       "      <td>18.307692</td>\n",
       "      <td>3.0</td>\n",
       "      <td>3</td>\n",
       "      <td>7</td>\n",
       "      <td>...</td>\n",
       "      <td>10.0</td>\n",
       "      <td>2021-09-10</td>\n",
       "      <td>4016.0</td>\n",
       "      <td>12</td>\n",
       "      <td>20</td>\n",
       "      <td>2021-07-26</td>\n",
       "      <td>4.0</td>\n",
       "      <td>2021.0</td>\n",
       "      <td>9.0</td>\n",
       "      <td>10.0</td>\n",
       "    </tr>\n",
       "    <tr>\n",
       "      <th>2</th>\n",
       "      <td>2</td>\n",
       "      <td>5/8\" x 50 ft Black Rubber ProFitter[REG]</td>\n",
       "      <td>5.0</td>\n",
       "      <td>CA</td>\n",
       "      <td>NaN</td>\n",
       "      <td>0</td>\n",
       "      <td>NaN</td>\n",
       "      <td>NaN</td>\n",
       "      <td>3</td>\n",
       "      <td>7</td>\n",
       "      <td>...</td>\n",
       "      <td>0.0</td>\n",
       "      <td>2021-08-27</td>\n",
       "      <td>4036.0</td>\n",
       "      <td>41</td>\n",
       "      <td>0</td>\n",
       "      <td>2021-07-26</td>\n",
       "      <td>-24.0</td>\n",
       "      <td>2021.0</td>\n",
       "      <td>8.0</td>\n",
       "      <td>27.0</td>\n",
       "    </tr>\n",
       "    <tr>\n",
       "      <th>3</th>\n",
       "      <td>3</td>\n",
       "      <td>4XL - HI-VIZ SAFETY LONG-SLEEVED SHIRT -</td>\n",
       "      <td>4.0</td>\n",
       "      <td>CA</td>\n",
       "      <td>NaN</td>\n",
       "      <td>0</td>\n",
       "      <td>NaN</td>\n",
       "      <td>NaN</td>\n",
       "      <td>3</td>\n",
       "      <td>7</td>\n",
       "      <td>...</td>\n",
       "      <td>0.0</td>\n",
       "      <td>2021-08-05</td>\n",
       "      <td>4036.0</td>\n",
       "      <td>35</td>\n",
       "      <td>0</td>\n",
       "      <td>2021-07-26</td>\n",
       "      <td>-6.0</td>\n",
       "      <td>2021.0</td>\n",
       "      <td>8.0</td>\n",
       "      <td>5.0</td>\n",
       "    </tr>\n",
       "    <tr>\n",
       "      <th>4</th>\n",
       "      <td>4</td>\n",
       "      <td>N66 2 BT 00WUD BN PL 65 1.5% 0</td>\n",
       "      <td>2.0</td>\n",
       "      <td>CA</td>\n",
       "      <td>2.100022e+09</td>\n",
       "      <td>0</td>\n",
       "      <td>0.000000</td>\n",
       "      <td>0.0</td>\n",
       "      <td>3</td>\n",
       "      <td>7</td>\n",
       "      <td>...</td>\n",
       "      <td>10.0</td>\n",
       "      <td>2021-07-27</td>\n",
       "      <td>4007.0</td>\n",
       "      <td>62</td>\n",
       "      <td>0</td>\n",
       "      <td>2021-07-26</td>\n",
       "      <td>7.0</td>\n",
       "      <td>2021.0</td>\n",
       "      <td>7.0</td>\n",
       "      <td>27.0</td>\n",
       "    </tr>\n",
       "  </tbody>\n",
       "</table>\n",
       "<p>5 rows × 24 columns</p>\n",
       "</div>"
      ],
      "text/plain": [
       "   Unnamed: 0                                SHORT_TEXT  D_day_of_week  \\\n",
       "0           0   1/2\" OD x 0.063\" Wall 20' Long ASTM A51            5.0   \n",
       "1           1     994 45 9951A TU E 4.99-8.62 3X0X 4014            5.0   \n",
       "2           2  5/8\" x 50 ft Black Rubber ProFitter[REG]            5.0   \n",
       "3           3  4XL - HI-VIZ SAFETY LONG-SLEEVED SHIRT -            4.0   \n",
       "4           4            N66 2 BT 00WUD BN PL 65 1.5% 0            2.0   \n",
       "\n",
       "  COUNTRY   MATERIAL_ID  IS_HOLIDAY  Mean_Delay_Material  \\\n",
       "0      CA           NaN           0                  NaN   \n",
       "1      US  2.100008e+09           0            18.307692   \n",
       "2      CA           NaN           0                  NaN   \n",
       "3      CA           NaN           0                  NaN   \n",
       "4      CA  2.100022e+09           0             0.000000   \n",
       "\n",
       "   Median_Delay_Material  quarter  month  ...  INBOUND_DELIVERY_ITEM_ID  \\\n",
       "0                    NaN        3      7  ...                       0.0   \n",
       "1                    3.0        3      7  ...                      10.0   \n",
       "2                    NaN        3      7  ...                       0.0   \n",
       "3                    NaN        3      7  ...                       0.0   \n",
       "4                    0.0        3      7  ...                      10.0   \n",
       "\n",
       "   REQUESTED_DELIVERY_DATE  PLANT_ID  SUB_COMMODITY_DESC  COMPANY_CODE_ID  \\\n",
       "0               2021-08-06    4036.0                  29                0   \n",
       "1               2021-09-10    4016.0                  12               20   \n",
       "2               2021-08-27    4036.0                  41                0   \n",
       "3               2021-08-05    4036.0                  35                0   \n",
       "4               2021-07-27    4007.0                  62                0   \n",
       "\n",
       "  CREATE_DATE  Time_Difference  REQUESTED_DELIVERY_DATE_year  \\\n",
       "0  2021-07-26              6.0                        2021.0   \n",
       "1  2021-07-26              4.0                        2021.0   \n",
       "2  2021-07-26            -24.0                        2021.0   \n",
       "3  2021-07-26             -6.0                        2021.0   \n",
       "4  2021-07-26              7.0                        2021.0   \n",
       "\n",
       "   REQUESTED_DELIVERY_DATE_month REQUESTED_DELIVERY_DATE_day  \n",
       "0                            8.0                         6.0  \n",
       "1                            9.0                        10.0  \n",
       "2                            8.0                        27.0  \n",
       "3                            8.0                         5.0  \n",
       "4                            7.0                        27.0  \n",
       "\n",
       "[5 rows x 24 columns]"
      ]
     },
     "execution_count": 90,
     "metadata": {},
     "output_type": "execute_result"
    }
   ],
   "source": [
    "data.head()"
   ]
  },
  {
   "cell_type": "code",
   "execution_count": 10,
   "metadata": {},
   "outputs": [
    {
     "data": {
      "text/plain": [
       "Index(['Unnamed: 0', 'DELIVERY_DATE', 'SHORT_TEXT', 'D_day_of_week', 'COUNTRY',\n",
       "       'MATERIAL_ID', 'IS_HOLIDAY', 'Mean_Delay_Material',\n",
       "       'Median_Delay_Material', 'quarter', 'month', 'day_of_week', 'Ranking',\n",
       "       'Category_total_counts', 'PLANNED_DELIVERY_DAYS',\n",
       "       'INBOUND_DELIVERY_ITEM_ID', 'REQUESTED_DELIVERY_DATE', 'PLANT_ID',\n",
       "       'SUB_COMMODITY_DESC', 'COMPANY_CODE_ID', 'CREATE_DATE',\n",
       "       'Time_Difference'],\n",
       "      dtype='object')"
      ]
     },
     "execution_count": 10,
     "metadata": {},
     "output_type": "execute_result"
    }
   ],
   "source": [
    "\n",
    "data = pd.read_csv('all_koch2.csv')\n",
    "data[data['DELIVERY_DATE'] >= data['CREATE_DATE']]\n",
    "\n",
    "data['REQUESTED_DELIVERY_DATE'] = pd.to_datetime(data['REQUESTED_DELIVERY_DATE'])\n",
    "\n",
    "\n",
    "data.columns"
   ]
  },
  {
   "cell_type": "code",
   "execution_count": 11,
   "metadata": {},
   "outputs": [],
   "source": [
    "\n",
    "\n",
    "data['REQUESTED_DELIVERY_DATE_year'] = data['REQUESTED_DELIVERY_DATE'].dt.year\n",
    "data['REQUESTED_DELIVERY_DATE_month'] = data['REQUESTED_DELIVERY_DATE'].dt.month\n",
    "data['REQUESTED_DELIVERY_DATE_day'] = data['REQUESTED_DELIVERY_DATE'].dt.day\n",
    "\n",
    "data['REQUESTED_DELIVERY_DATE_month_sin'] = np.sin((data['REQUESTED_DELIVERY_DATE_month'] - 1) * (2. * np.pi / 12))\n",
    "data['REQUESTED_DELIVERY_DATE_month_cos'] = np.cos((data['REQUESTED_DELIVERY_DATE_month'] - 1) * (2. * np.pi / 12))\n",
    "\n",
    "data['REQUESTED_DELIVERY_DATE_day_sin'] = np.sin((data['REQUESTED_DELIVERY_DATE_day'] - 1) * (2. * np.pi / 12))\n",
    "data['REQUESTED_DELIVERY_DATE_day_cos'] = np.cos((data['REQUESTED_DELIVERY_DATE_day'] - 1) * (2. * np.pi / 12))\n",
    "\n",
    "data['REQUESTED_DELIVERY_DATE_year_sin'] = np.sin((data['REQUESTED_DELIVERY_DATE_year'] - 1) * (2. * np.pi / 12))\n",
    "data['REQUESTED_DELIVERY_DATE_year_cos'] = np.cos((data['REQUESTED_DELIVERY_DATE_year'] - 1) * (2. * np.pi / 12))\n",
    "\n",
    "\n"
   ]
  },
  {
   "cell_type": "code",
   "execution_count": 4,
   "metadata": {},
   "outputs": [],
   "source": [
    "import pandas as pd\n",
    "import re\n",
    "\n",
    "# Assuming df is your DataFrame and \"SHORT_TEXT\" is the column containing product descriptions\n",
    "product_descriptions = []\n",
    "\n",
    "# Define regular expression pattern to extract product descriptions\n",
    "pattern = r'[a-zA-Z0-9\\s-]+'\n",
    "\n",
    "# Loop through each row in the \"SHORT_TEXT\" column\n",
    "for text in data[\"SHORT_TEXT\"]:\n",
    "    # Check if the text is not None (i.e., not missing)\n",
    "    if pd.notna(text):\n",
    "        # Find all matches of the pattern in the text\n",
    "        matches = re.findall(pattern, text)\n",
    "        # Join the matches into a single string and append to the list of product descriptions\n",
    "        product_description = ' '.join(matches)\n",
    "        product_descriptions.append(product_description)\n",
    "    else:\n",
    "        # If the text is missing, append an empty string\n",
    "        product_descriptions.append(\"\")\n",
    "\n",
    "# Add the extracted product descriptions to the DataFrame as a new column\n",
    "data[\"PRODUCT_DESCRIPTION\"] = product_descriptions"
   ]
  },
  {
   "cell_type": "code",
   "execution_count": 5,
   "metadata": {},
   "outputs": [],
   "source": [
    "\n",
    "# Define the TF-IDF vectorizer with stop words removal\n",
    "tfidf_vectorizer = TfidfVectorizer(stop_words='english')\n",
    "\n",
    "# Define the dimensionality reduction technique (Truncated SVD)\n",
    "lsa = TruncatedSVD(n_components=5)\n",
    "\n",
    "# Create a pipeline combining TF-IDF and Truncated SVD\n",
    "pipeline = Pipeline([\n",
    "    ('tfidf', tfidf_vectorizer),\n",
    "    ('lsa', lsa)\n",
    "])\n",
    "\n",
    "# Fit and transform the data\n",
    "tfidf_lsa_features = pipeline.fit_transform(data[\"PRODUCT_DESCRIPTION\"])\n",
    "\n",
    "# Convert the transformed data to a DataFrame\n",
    "tfidf_lsa_df = pd.DataFrame(tfidf_lsa_features)\n",
    "\n",
    "data = pd.concat([data, tfidf_lsa_df], axis=1)"
   ]
  },
  {
   "cell_type": "code",
   "execution_count": 5,
   "metadata": {},
   "outputs": [
    {
     "name": "stdout",
     "output_type": "stream",
     "text": [
      "<class 'pandas.core.frame.DataFrame'>\n",
      "RangeIndex: 959086 entries, 0 to 959085\n",
      "Data columns (total 31 columns):\n",
      " #   Column                             Non-Null Count   Dtype  \n",
      "---  ------                             --------------   -----  \n",
      " 0   Unnamed: 0                         959086 non-null  int64  \n",
      " 1   SHORT_TEXT                         959084 non-null  object \n",
      " 2   D_day_of_week                      959086 non-null  float64\n",
      " 3   COUNTRY                            959086 non-null  object \n",
      " 4   MATERIAL_ID                        521704 non-null  float64\n",
      " 5   IS_HOLIDAY                         959086 non-null  int64  \n",
      " 6   Mean_Delay_Material                521704 non-null  float64\n",
      " 7   Median_Delay_Material              521704 non-null  float64\n",
      " 8   quarter                            959086 non-null  int64  \n",
      " 9   month                              959086 non-null  int64  \n",
      " 10  day_of_week                        959086 non-null  int64  \n",
      " 11  Ranking                            958896 non-null  float64\n",
      " 12  Category_total_counts              958896 non-null  float64\n",
      " 13  PLANNED_DELIVERY_DAYS              959086 non-null  int64  \n",
      " 14  INBOUND_DELIVERY_ITEM_ID           959086 non-null  float64\n",
      " 15  REQUESTED_DELIVERY_DATE            959055 non-null  object \n",
      " 16  PLANT_ID                           959082 non-null  float64\n",
      " 17  SUB_COMMODITY_DESC                 959086 non-null  int64  \n",
      " 18  COMPANY_CODE_ID                    959086 non-null  int64  \n",
      " 19  CREATE_DATE                        959086 non-null  object \n",
      " 20  Time_Difference                    959086 non-null  float64\n",
      " 21  REQUESTED_DELIVERY_DATE_year       959055 non-null  float64\n",
      " 22  REQUESTED_DELIVERY_DATE_month      959055 non-null  float64\n",
      " 23  REQUESTED_DELIVERY_DATE_day        959055 non-null  float64\n",
      " 24  REQUESTED_DELIVERY_DATE_month_sin  959055 non-null  float64\n",
      " 25  REQUESTED_DELIVERY_DATE_month_cos  959055 non-null  float64\n",
      " 26  REQUESTED_DELIVERY_DATE_day_sin    959055 non-null  float64\n",
      " 27  REQUESTED_DELIVERY_DATE_day_cos    959055 non-null  float64\n",
      " 28  REQUESTED_DELIVERY_DATE_year_sin   959055 non-null  float64\n",
      " 29  REQUESTED_DELIVERY_DATE_year_cos   959055 non-null  float64\n",
      " 30  PRODUCT_DESCRIPTION                959086 non-null  object \n",
      "dtypes: float64(18), int64(8), object(5)\n",
      "memory usage: 226.8+ MB\n"
     ]
    }
   ],
   "source": [
    "pd.set_option('display.max_columns', None)\n",
    "data.info()"
   ]
  },
  {
   "cell_type": "code",
   "execution_count": 7,
   "metadata": {},
   "outputs": [],
   "source": [
    "# # Assuming df_combined is your DataFrame with the TF-IDF and LSA features\n",
    "# data.rename(columns={0: 'v_0', 1: 'v_1', 2: 'v_2', 3: 'v_3', 4: 'v_4', 5: 'v_5'}, inplace=True)\n",
    "# # Rename duplicate columns\n"
   ]
  },
  {
   "cell_type": "code",
   "execution_count": 13,
   "metadata": {},
   "outputs": [
    {
     "data": {
      "text/plain": [
       "((767268, 120), (191818, 120))"
      ]
     },
     "execution_count": 13,
     "metadata": {},
     "output_type": "execute_result"
    }
   ],
   "source": [
    "# from sklearn.preprocessing import StandardScaler, OneHotEncoder\n",
    "# from sklearn.compose import ColumnTransformer\n",
    "# from sklearn.model_selection import train_test_split\n",
    "# from sklearn.pipeline import Pipeline\n",
    "# from sklearn.impute import SimpleImputer\n",
    "\n",
    "# # Assuming the features to use for prediction (excluding date features for simplicity)\n",
    "# features = ['D_day_of_week', 'COUNTRY', 'IS_HOLIDAY', 'Mean_Delay_Material', 'Median_Delay_Material',\n",
    "#             'quarter', 'month','SUB_COMMODITY_DESC', 'COMPANY_CODE_ID', 'REQUESTED_DELIVERY_DATE_month', 'CREATE_DATE', \n",
    "#             'PLANNED_DELIVERY_DAYS', 'REQUESTED_DELIVERY_DATE_year', 'REQUESTED_DELIVERY_DATE_day','REQUESTED_DELIVERY_DATE_year_cos','REQUESTED_DELIVERY_DATE_year_sin',\n",
    "#             'REQUESTED_DELIVERY_DATE_day_cos','REQUESTED_DELIVERY_DATE_day_sin','REQUESTED_DELIVERY_DATE_month_cos','REQUESTED_DELIVERY_DATE_month_sin']\n",
    "# target = 'Time_Difference'\n",
    "\n",
    "# # Handling categorical and numerical columns separately\n",
    "# categorical_features = ['COUNTRY','REQUESTED_DELIVERY_DATE_year', 'REQUESTED_DELIVERY_DATE_day','IS_HOLIDAY' ,'SUB_COMMODITY_DESC', 'COMPANY_CODE_ID', 'D_day_of_week', 'CREATE_DATE']\n",
    "# numerical_features = list(set(features) - set(categorical_features))\n",
    "\n",
    "# # Defining preprocessing for numerical and categorical data\n",
    "# numerical_transformer = Pipeline(steps=[\n",
    "#     ('imputer', SimpleImputer(strategy='mean')),\n",
    "#     ('scaler', StandardScaler())])\n",
    "\n",
    "# python\n",
    "# Copy code\n",
    "from sklearn.preprocessing import StandardScaler, OneHotEncoder\n",
    "from sklearn.compose import ColumnTransformer\n",
    "from sklearn.model_selection import train_test_split\n",
    "from sklearn.pipeline import Pipeline\n",
    "from sklearn.impute import SimpleImputer\n",
    "\n",
    "# Assuming the features to use for prediction (excluding date features for simplicity)\n",
    "features = ['COUNTRY', 'Mean_Delay_Material',\n",
    "            'quarter', 'month', 'INBOUND_DELIVERY_ITEM_ID', 'SUB_COMMODITY_DESC', 'COMPANY_CODE_ID', 'PLANNED_DELIVERY_DAYS','REQUESTED_DELIVERY_DATE_day_cos', 'REQUESTED_DELIVERY_DATE_day_sin','REQUESTED_DELIVERY_DATE_month_cos', 'REQUESTED_DELIVERY_DATE_month_sin',\n",
    "            'REQUESTED_DELIVERY_DATE_year_cos','REQUESTED_DELIVERY_DATE_year_sin']\n",
    "target = 'Time_Difference'\n",
    "\n",
    "# Handling categorical and numerical columns separately\n",
    "categorical_features = ['COUNTRY', 'SUB_COMMODITY_DESC', 'COMPANY_CODE_ID']\n",
    "numerical_features = list(set(features) - set(categorical_features))\n",
    "\n",
    "# Defining preprocessing for numerical and categorical data\n",
    "numerical_transformer = Pipeline(steps=[\n",
    "    ('imputer', SimpleImputer(strategy='mean')),\n",
    "    ('scaler', StandardScaler())])\n",
    "\n",
    "categorical_transformer = Pipeline(steps=[\n",
    "    ('imputer', SimpleImputer(strategy='most_frequent')),\n",
    "    ('onehot', OneHotEncoder(handle_unknown='ignore'))])\n",
    "\n",
    "# Combining preprocessing steps\n",
    "preprocessor = ColumnTransformer(\n",
    "    transformers=[\n",
    "        ('num', numerical_transformer, numerical_features),\n",
    "        ('cat', categorical_transformer, categorical_features)])\n",
    "\n",
    "X = data[features]\n",
    "y = data[target]\n",
    "\n",
    "# Splitting dataset into training and testing\n",
    "X_train, X_test, y_train, y_test = train_test_split(X, y, test_size=0.2, random_state=42)\n",
    "\n",
    "# Applying preprocessing\n",
    "X_train_preprocessed = preprocessor.fit_transform(X_train)\n",
    "X_test_preprocessed = preprocessor.transform(X_test)\n",
    "\n",
    "# Checking the shape of the processed data\n",
    "X_train_preprocessed.shape, X_test_preprocessed.shape\n"
   ]
  },
  {
   "cell_type": "code",
   "execution_count": 14,
   "metadata": {},
   "outputs": [],
   "source": [
    "X_train_preprocessed = X_train_preprocessed.toarray()\n",
    "X_test_preprocessed = X_test_preprocessed.toarray()\n",
    "\n",
    "# Now you can reshape\n",
    "X_train_preprocessed = X_train_preprocessed.reshape((X_train_preprocessed.shape[0], 1, X_train_preprocessed.shape[1]))\n",
    "X_test_preprocessed = X_test_preprocessed.reshape((X_test_preprocessed.shape[0], 1, X_test_preprocessed.shape[1]))\n"
   ]
  },
  {
   "cell_type": "code",
   "execution_count": 15,
   "metadata": {},
   "outputs": [
    {
     "name": "stdout",
     "output_type": "stream",
     "text": [
      "Model: \"sequential\"\n",
      "_________________________________________________________________\n",
      " Layer (type)                Output Shape              Param #   \n",
      "=================================================================\n",
      " lstm (LSTM)                 (None, 1, 50)             34200     \n",
      "                                                                 \n",
      " dropout (Dropout)           (None, 1, 50)             0         \n",
      "                                                                 \n",
      " lstm_1 (LSTM)               (None, 100)               60400     \n",
      "                                                                 \n",
      " dropout_1 (Dropout)         (None, 100)               0         \n",
      "                                                                 \n",
      " dense (Dense)               (None, 50)                5050      \n",
      "                                                                 \n",
      " dropout_2 (Dropout)         (None, 50)                0         \n",
      "                                                                 \n",
      " dense_1 (Dense)             (None, 1)                 51        \n",
      "                                                                 \n",
      "=================================================================\n",
      "Total params: 99701 (389.46 KB)\n",
      "Trainable params: 99701 (389.46 KB)\n",
      "Non-trainable params: 0 (0.00 Byte)\n",
      "_________________________________________________________________\n"
     ]
    }
   ],
   "source": [
    "from tensorflow.keras.models import Sequential\n",
    "from tensorflow.keras.layers import LSTM, Dense, Dropout\n",
    "\n",
    "model = Sequential([\n",
    "    # First LSTM layer with return_sequences=True to stack another LSTM layer on top\n",
    "    LSTM(50, activation='relu', input_shape=(1, 120), return_sequences=True),\n",
    "    Dropout(0.2),  # Dropout for regularization\n",
    "    \n",
    "    # Second LSTM layer\n",
    "    LSTM(100, activation='relu', return_sequences=False),  # Increased number of units\n",
    "    Dropout(0.2),  # Dropout for regularization\n",
    "    \n",
    "    # Additional Dense layer (optional) to increase model capacity\n",
    "    Dense(50, activation='relu'),\n",
    "    Dropout(0.2),  # Dropout for regularization\n",
    "    \n",
    "    # Output layer\n",
    "    Dense(1)\n",
    "])\n",
    "\n",
    "# Compile the model\n",
    "model.compile(optimizer='adam', loss='mean_squared_error')\n",
    "\n",
    "# Model summary to see the structure and number of parameters\n",
    "model.summary()"
   ]
  },
  {
   "cell_type": "code",
   "execution_count": 17,
   "metadata": {},
   "outputs": [
    {
     "name": "stdout",
     "output_type": "stream",
     "text": [
      "Epoch 1/10\n",
      "19161/19182 [============================>.] - ETA: 0s - loss: 1708.1112\n",
      "Epoch 1: val_loss improved from inf to 1928.62317, saving model to best_model.h5\n",
      "19182/19182 [==============================] - 38s 2ms/step - loss: 1707.5211 - val_loss: 1928.6232\n",
      "Epoch 2/10\n",
      "   94/19182 [..............................] - ETA: 31s - loss: 1655.4587"
     ]
    },
    {
     "name": "stderr",
     "output_type": "stream",
     "text": [
      "/Library/Frameworks/Python.framework/Versions/3.11/lib/python3.11/site-packages/keras/src/engine/training.py:3103: UserWarning: You are saving your model as an HDF5 file via `model.save()`. This file format is considered legacy. We recommend using instead the native Keras format, e.g. `model.save('my_model.keras')`.\n",
      "  saving_api.save_model(\n"
     ]
    },
    {
     "name": "stdout",
     "output_type": "stream",
     "text": [
      "19166/19182 [============================>.] - ETA: 0s - loss: 1597.3640\n",
      "Epoch 2: val_loss improved from 1928.62317 to 1855.70947, saving model to best_model.h5\n",
      "19182/19182 [==============================] - 34s 2ms/step - loss: 1597.1083 - val_loss: 1855.7095\n",
      "Epoch 3/10\n",
      "19162/19182 [============================>.] - ETA: 0s - loss: 1562.3468\n",
      "Epoch 3: val_loss improved from 1855.70947 to 1821.40833, saving model to best_model.h5\n",
      "19182/19182 [==============================] - 34s 2ms/step - loss: 1561.2051 - val_loss: 1821.4083\n",
      "Epoch 4/10\n",
      "19182/19182 [==============================] - ETA: 0s - loss: 1527.9666\n",
      "Epoch 4: val_loss improved from 1821.40833 to 1793.53418, saving model to best_model.h5\n",
      "19182/19182 [==============================] - 34s 2ms/step - loss: 1527.9666 - val_loss: 1793.5342\n",
      "Epoch 5/10\n",
      "19167/19182 [============================>.] - ETA: 0s - loss: 1510.5350\n",
      "Epoch 5: val_loss improved from 1793.53418 to 1775.96326, saving model to best_model.h5\n",
      "19182/19182 [==============================] - 34s 2ms/step - loss: 1510.4893 - val_loss: 1775.9633\n",
      "Epoch 6/10\n",
      "19171/19182 [============================>.] - ETA: 0s - loss: 1490.7065\n",
      "Epoch 6: val_loss improved from 1775.96326 to 1741.75793, saving model to best_model.h5\n",
      "19182/19182 [==============================] - 36s 2ms/step - loss: 1490.3240 - val_loss: 1741.7579\n",
      "Epoch 7/10\n",
      "19176/19182 [============================>.] - ETA: 0s - loss: 1477.5823\n",
      "Epoch 7: val_loss improved from 1741.75793 to 1728.77417, saving model to best_model.h5\n",
      "19182/19182 [==============================] - 35s 2ms/step - loss: 1477.4907 - val_loss: 1728.7742\n",
      "Epoch 8/10\n",
      "19171/19182 [============================>.] - ETA: 0s - loss: 1472.5355\n",
      "Epoch 8: val_loss did not improve from 1728.77417\n",
      "19182/19182 [==============================] - 35s 2ms/step - loss: 1472.0189 - val_loss: 1743.2905\n",
      "Epoch 9/10\n",
      "19168/19182 [============================>.] - ETA: 0s - loss: 1445.3300\n",
      "Epoch 9: val_loss improved from 1728.77417 to 1708.53174, saving model to best_model.h5\n",
      "19182/19182 [==============================] - 37s 2ms/step - loss: 1445.8345 - val_loss: 1708.5317\n",
      "Epoch 10/10\n",
      "19179/19182 [============================>.] - ETA: 0s - loss: 1432.6302\n",
      "Epoch 10: val_loss improved from 1708.53174 to 1691.50818, saving model to best_model.h5\n",
      "19182/19182 [==============================] - 35s 2ms/step - loss: 1432.5234 - val_loss: 1691.5082\n"
     ]
    }
   ],
   "source": [
    "from tensorflow.keras.callbacks import EarlyStopping, ModelCheckpoint\n",
    "# Define the early stopping callback\n",
    "early_stopping = EarlyStopping(\n",
    "    monitor='val_loss',  # Monitor the validation loss\n",
    "    patience=10,         # Number of epochs with no improvement after which training will be stopped\n",
    "    verbose=1,           # Log when training is stopped\n",
    "    restore_best_weights=True)  # Restore model weights from the epoch with the best value of the monitored quantity\n",
    "\n",
    "# Define the model checkpoint callback\n",
    "model_checkpoint = ModelCheckpoint(\n",
    "    filepath='best_model.h5',  # Path where to save the model\n",
    "    monitor='val_loss',        # Monitor the validation loss\n",
    "    save_best_only=True,       # Only save the model if it's the best on the validation dataset\n",
    "    verbose=1)                 # Log when a new best model is saved\n",
    "\n",
    "# Add the callbacks to the training process\n",
    "history = model.fit(\n",
    "    X_train_preprocessed,\n",
    "    y_train,\n",
    "    epochs=10,\n",
    "    batch_size=32,\n",
    "    validation_split=0.2,\n",
    "    callbacks=[early_stopping, model_checkpoint])  # Include the callbacks here\n"
   ]
  },
  {
   "cell_type": "code",
   "execution_count": 18,
   "metadata": {},
   "outputs": [
    {
     "name": "stdout",
     "output_type": "stream",
     "text": [
      "5995/5995 [==============================] - 3s 565us/step - loss: 1292.4191\n"
     ]
    }
   ],
   "source": [
    "test_loss = model.evaluate(X_test_preprocessed, y_test)"
   ]
  },
  {
   "cell_type": "code",
   "execution_count": 19,
   "metadata": {},
   "outputs": [
    {
     "name": "stdout",
     "output_type": "stream",
     "text": [
      "5995/5995 [==============================] - 3s 550us/step\n"
     ]
    }
   ],
   "source": [
    "predictions = model.predict(X_test_preprocessed)"
   ]
  },
  {
   "cell_type": "code",
   "execution_count": 20,
   "metadata": {},
   "outputs": [
    {
     "name": "stdout",
     "output_type": "stream",
     "text": [
      "Mean Absolute Error (MAE): 12.62325938163856\n",
      "Mean Squared Error (MSE): 1292.416273351273\n",
      "R-squared Score: 0.22718908483069733\n"
     ]
    }
   ],
   "source": [
    "from sklearn.metrics import mean_absolute_error, mean_squared_error, r2_score, accuracy_score\n",
    "\n",
    "# Assuming y_test contains the actual target values\n",
    "mae = mean_absolute_error(y_test, predictions)\n",
    "mse = mean_squared_error(y_test, predictions)\n",
    "r2 = r2_score(y_test, predictions)\n",
    "\n",
    "\n",
    "print(f\"Mean Absolute Error (MAE): {mae}\")\n",
    "print(f\"Mean Squared Error (MSE): {mse}\")\n",
    "print(f\"R-squared Score: {r2}\")\n"
   ]
  },
  {
   "cell_type": "code",
   "execution_count": 21,
   "metadata": {},
   "outputs": [
    {
     "data": {
      "image/png": "[encoded data removed]",
      "text/plain": [
       "<Figure size 1000x600 with 1 Axes>"
      ]
     },
     "metadata": {},
     "output_type": "display_data"
    }
   ],
   "source": [
    "import matplotlib.pyplot as plt\n",
    "import seaborn as sns\n",
    "\n",
    "sns.set(style=\"whitegrid\")\n",
    "\n",
    "# Plotting Training and Validation Loss\n",
    "plt.figure(figsize=(10, 6))\n",
    "plt.plot(history.history['loss'], label='Training Loss')\n",
    "plt.plot(history.history['val_loss'], label='Validation Loss')\n",
    "plt.title('Training and Validation Loss Over Epochs')\n",
    "plt.xlabel('Epoch')\n",
    "plt.ylabel('Loss')\n",
    "plt.legend()\n",
    "plt.show()\n"
   ]
  },
  {
   "cell_type": "code",
   "execution_count": 7,
   "metadata": {},
   "outputs": [],
   "source": [
    "from tensorflow.keras.models import load_model\n",
    "\n",
    "# Load the entire model from the .h5 file\n",
    "model_base = load_model('/Users/addisonjpratt/sfguide-intro-to-machine-learning-with-snowpark-ml-for-python/best_model (3).h5')"
   ]
  },
  {
   "cell_type": "code",
   "execution_count": 16,
   "metadata": {},
   "outputs": [
    {
     "ename": "ValueError",
     "evalue": "in user code:\n\n    File \"/Library/Frameworks/Python.framework/Versions/3.11/lib/python3.11/site-packages/keras/src/engine/training.py\", line 2066, in test_function  *\n        return step_function(self, iterator)\n    File \"/Library/Frameworks/Python.framework/Versions/3.11/lib/python3.11/site-packages/keras/src/engine/training.py\", line 2049, in step_function  **\n        outputs = model.distribute_strategy.run(run_step, args=(data,))\n    File \"/Library/Frameworks/Python.framework/Versions/3.11/lib/python3.11/site-packages/keras/src/engine/training.py\", line 2037, in run_step  **\n        outputs = model.test_step(data)\n    File \"/Library/Frameworks/Python.framework/Versions/3.11/lib/python3.11/site-packages/keras/src/engine/training.py\", line 1917, in test_step\n        y_pred = self(x, training=False)\n    File \"/Library/Frameworks/Python.framework/Versions/3.11/lib/python3.11/site-packages/keras/src/utils/traceback_utils.py\", line 70, in error_handler\n        raise e.with_traceback(filtered_tb) from None\n    File \"/Library/Frameworks/Python.framework/Versions/3.11/lib/python3.11/site-packages/keras/src/engine/input_spec.py\", line 298, in assert_input_compatibility\n        raise ValueError(\n\n    ValueError: Input 0 of layer \"sequential_12\" is incompatible with the layer: expected shape=(None, 1, 255), found shape=(None, 1, 120)\n",
     "output_type": "error",
     "traceback": [
      "\u001b[0;31m---------------------------------------------------------------------------\u001b[0m",
      "\u001b[0;31mValueError\u001b[0m                                Traceback (most recent call last)",
      "\u001b[1;32m/Users/addisonjpratt/sfguide-intro-to-machine-learning-with-snowpark-ml-for-python/koch_model.ipynb Cell 18\u001b[0m line \u001b[0;36m1\n\u001b[0;32m----> <a href='vscode-notebook-cell:/Users/addisonjpratt/sfguide-intro-to-machine-learning-with-snowpark-ml-for-python/koch_model.ipynb#X25sZmlsZQ%3D%3D?line=0'>1</a>\u001b[0m test_loss \u001b[39m=\u001b[39m model_base\u001b[39m.\u001b[39;49mevaluate(X_test_preprocessed, y_test)\n",
      "File \u001b[0;32m/Library/Frameworks/Python.framework/Versions/3.11/lib/python3.11/site-packages/keras/src/utils/traceback_utils.py:70\u001b[0m, in \u001b[0;36mfilter_traceback.<locals>.error_handler\u001b[0;34m(*args, **kwargs)\u001b[0m\n\u001b[1;32m     67\u001b[0m     filtered_tb \u001b[39m=\u001b[39m _process_traceback_frames(e\u001b[39m.\u001b[39m__traceback__)\n\u001b[1;32m     68\u001b[0m     \u001b[39m# To get the full stack trace, call:\u001b[39;00m\n\u001b[1;32m     69\u001b[0m     \u001b[39m# `tf.debugging.disable_traceback_filtering()`\u001b[39;00m\n\u001b[0;32m---> 70\u001b[0m     \u001b[39mraise\u001b[39;00m e\u001b[39m.\u001b[39mwith_traceback(filtered_tb) \u001b[39mfrom\u001b[39;00m \u001b[39mNone\u001b[39;00m\n\u001b[1;32m     71\u001b[0m \u001b[39mfinally\u001b[39;00m:\n\u001b[1;32m     72\u001b[0m     \u001b[39mdel\u001b[39;00m filtered_tb\n",
      "File \u001b[0;32m/var/folders/jf/5crtmt7n2rl3tww1rbt55bd80000gn/T/__autograph_generated_file9fy_e8d8.py:15\u001b[0m, in \u001b[0;36mouter_factory.<locals>.inner_factory.<locals>.tf__test_function\u001b[0;34m(iterator)\u001b[0m\n\u001b[1;32m     13\u001b[0m \u001b[39mtry\u001b[39;00m:\n\u001b[1;32m     14\u001b[0m     do_return \u001b[39m=\u001b[39m \u001b[39mTrue\u001b[39;00m\n\u001b[0;32m---> 15\u001b[0m     retval_ \u001b[39m=\u001b[39m ag__\u001b[39m.\u001b[39mconverted_call(ag__\u001b[39m.\u001b[39mld(step_function), (ag__\u001b[39m.\u001b[39mld(\u001b[39mself\u001b[39m), ag__\u001b[39m.\u001b[39mld(iterator)), \u001b[39mNone\u001b[39;00m, fscope)\n\u001b[1;32m     16\u001b[0m \u001b[39mexcept\u001b[39;00m:\n\u001b[1;32m     17\u001b[0m     do_return \u001b[39m=\u001b[39m \u001b[39mFalse\u001b[39;00m\n",
      "\u001b[0;31mValueError\u001b[0m: in user code:\n\n    File \"/Library/Frameworks/Python.framework/Versions/3.11/lib/python3.11/site-packages/keras/src/engine/training.py\", line 2066, in test_function  *\n        return step_function(self, iterator)\n    File \"/Library/Frameworks/Python.framework/Versions/3.11/lib/python3.11/site-packages/keras/src/engine/training.py\", line 2049, in step_function  **\n        outputs = model.distribute_strategy.run(run_step, args=(data,))\n    File \"/Library/Frameworks/Python.framework/Versions/3.11/lib/python3.11/site-packages/keras/src/engine/training.py\", line 2037, in run_step  **\n        outputs = model.test_step(data)\n    File \"/Library/Frameworks/Python.framework/Versions/3.11/lib/python3.11/site-packages/keras/src/engine/training.py\", line 1917, in test_step\n        y_pred = self(x, training=False)\n    File \"/Library/Frameworks/Python.framework/Versions/3.11/lib/python3.11/site-packages/keras/src/utils/traceback_utils.py\", line 70, in error_handler\n        raise e.with_traceback(filtered_tb) from None\n    File \"/Library/Frameworks/Python.framework/Versions/3.11/lib/python3.11/site-packages/keras/src/engine/input_spec.py\", line 298, in assert_input_compatibility\n        raise ValueError(\n\n    ValueError: Input 0 of layer \"sequential_12\" is incompatible with the layer: expected shape=(None, 1, 255), found shape=(None, 1, 120)\n"
     ]
    }
   ],
   "source": [
    "test_loss = model_base.evaluate(X_test_preprocessed, y_test)"
   ]
  },
  {
   "cell_type": "code",
   "execution_count": null,
   "metadata": {},
   "outputs": [],
   "source": [
    "from tensorflow.keras.models import model_from_json\n",
    "\n",
    "model_json = model.to_json()\n",
    "with open(\"model_architecture.json\", \"w\") as json_file:\n",
    "    json_file.write(model_json)\n",
    "# Load model architecture from JSON file\n",
    "with open('/Users/addisonjpratt/Documents/model_architecture.json', 'r') as json_file:\n",
    "    loaded_model_json = json_file.read()\n",
    "loaded_model = model_from_json(loaded_model_json)\n",
    "\n",
    "# Load weights into the new model\n",
    "loaded_model.load_weights(\"model_weights(3).h5\")"
   ]
  },
  {
   "cell_type": "code",
   "execution_count": null,
   "metadata": {},
   "outputs": [],
   "source": [
    "Mean Absolute Error (MAE): 12.446554899726546\n",
    "Mean Squared Error (MSE): 1178.0400238236136\n",
    "R-squared Score: 0.295581301714428"
   ]
  }
 ],
 "metadata": {
  "kernelspec": {
   "display_name": "Python 3",
   "language": "python",
   "name": "python3"
  },
  "language_info": {
   "codemirror_mode": {
    "name": "ipython",
    "version": 3
   },
   "file_extension": ".py",
   "mimetype": "text/x-python",
   "name": "python",
   "nbconvert_exporter": "python",
   "pygments_lexer": "ipython3",
   "version": "3.11.6"
  }
 },
 "nbformat": 4,
 "nbformat_minor": 2
}
