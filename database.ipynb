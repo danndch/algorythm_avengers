{
 "cells": [
  {
   "cell_type": "code",
   "execution_count": 27,
   "id": "686bd409-12e6-4cfd-ae1d-0587e896201d",
   "metadata": {},
   "outputs": [],
   "source": [
    "# Snowpark for Python\n",
    "from snowflake.snowpark import Session\n",
    "from snowflake.snowpark.version import VERSION\n",
    "from snowflake.snowpark.types import StructType, StructField, DoubleType, StringType\n",
    "import snowflake.snowpark.functions as F\n",
    "\n",
    "# data science libs\n",
    "import numpy as np\n",
    "import pandas as pd\n",
    "import polars as pl\n",
    "# misc\n",
    "import json"
   ]
  },
  {
   "cell_type": "code",
   "execution_count": 28,
   "id": "cde56905-ec8d-4d51-8c04-76f6946af30c",
   "metadata": {},
   "outputs": [
    {
     "name": "stdout",
     "output_type": "stream",
     "text": [
      "\n",
      "Connection Established with the following parameters:\n",
      "User                        : GRIZZLY\n",
      "Role                        : \"TRAINING_ROLE\"\n",
      "Database                    : \"HACKATHON_ALGORITHM_AVENGERS\"\n",
      "Schema                      : \"PROCUREMENT_ON_TIME_DELIVERY\"\n",
      "Warehouse                   : \"ALGORITHM_AVENGERS\"\n",
      "Snowflake version           : 8.8.4\n",
      "Snowpark for Python version : 1.13.0\n"
     ]
    }
   ],
   "source": [
    "connection_parameters = json.load(open('connection.json'))\n",
    "session = Session.builder.configs(connection_parameters).create()\n",
    "session.sql_simplifier_enabled = True\n",
    "\n",
    "snowflake_environment = session.sql('SELECT current_user(), current_version()').collect()\n",
    "snowpark_version = VERSION\n",
    "\n",
    "# Current Environment Details\n",
    "print('\\nConnection Established with the following parameters:')\n",
    "print('User                        : {}'.format(snowflake_environment[0][0]))\n",
    "print('Role                        : {}'.format(session.get_current_role()))\n",
    "print('Database                    : {}'.format(session.get_current_database()))\n",
    "print('Schema                      : {}'.format(session.get_current_schema()))\n",
    "print('Warehouse                   : {}'.format(session.get_current_warehouse()))\n",
    "print('Snowflake version           : {}'.format(snowflake_environment[0][1]))\n",
    "print('Snowpark for Python version : {}.{}.{}'.format(snowpark_version[0],snowpark_version[1],snowpark_version[2]))"
   ]
  },
  {
   "cell_type": "code",
   "execution_count": 29,
   "id": "9b507bc1-f2fa-44e9-9e06-624173290c3c",
   "metadata": {},
   "outputs": [
    {
     "name": "stdout",
     "output_type": "stream",
     "text": [
      "---------------------------------------------------------------------------------------------------------------------------------------------------------------------------------------\n",
      "|\"name\"                     |\"type\"             |\"kind\"  |\"null?\"  |\"default\"  |\"primary key\"  |\"unique key\"  |\"check\"  |\"expression\"  |\"comment\"  |\"policy name\"  |\"privacy domain\"  |\n",
      "---------------------------------------------------------------------------------------------------------------------------------------------------------------------------------------\n",
      "|PURCHASE_DOCUMENT_ID       |NUMBER(38,0)       |COLUMN  |Y        |NULL       |N              |N             |NULL     |NULL          |NULL       |NULL           |NULL              |\n",
      "|CREATE_DATE                |NUMBER(38,0)       |COLUMN  |Y        |NULL       |N              |N             |NULL     |NULL          |NULL       |NULL           |NULL              |\n",
      "|COMPANY_CODE_ID            |VARCHAR(16777216)  |COLUMN  |Y        |NULL       |N              |N             |NULL     |NULL          |NULL       |NULL           |NULL              |\n",
      "|VENDOR_ID                  |VARCHAR(16777216)  |COLUMN  |Y        |NULL       |N              |N             |NULL     |NULL          |NULL       |NULL           |NULL              |\n",
      "|POSTAL_CD                  |VARCHAR(16777216)  |COLUMN  |Y        |NULL       |N              |N             |NULL     |NULL          |NULL       |NULL           |NULL              |\n",
      "|RELEASE_DATE               |NUMBER(38,0)       |COLUMN  |Y        |NULL       |N              |N             |NULL     |NULL          |NULL       |NULL           |NULL              |\n",
      "|PURCHASE_DOCUMENT_ITEM_ID  |NUMBER(38,0)       |COLUMN  |Y        |NULL       |N              |N             |NULL     |NULL          |NULL       |NULL           |NULL              |\n",
      "|MATERIAL_ID                |NUMBER(38,0)       |COLUMN  |Y        |NULL       |N              |N             |NULL     |NULL          |NULL       |NULL           |NULL              |\n",
      "|SUB_COMMODITY_DESC         |VARCHAR(16777216)  |COLUMN  |Y        |NULL       |N              |N             |NULL     |NULL          |NULL       |NULL           |NULL              |\n",
      "|MRP_TYPE_ID                |NUMBER(38,0)       |COLUMN  |Y        |NULL       |N              |N             |NULL     |NULL          |NULL       |NULL           |NULL              |\n",
      "---------------------------------------------------------------------------------------------------------------------------------------------------------------------------------------\n",
      "\n"
     ]
    }
   ],
   "source": [
    "session.sql(\"DESCRIBE TABLE PROCUREMENT_ON_TIME_DELIVERY.PURCHASE_ORDER_HISTORY;\").show()\n",
    "\n",
    "df = session.read.options({\"field_delimiter\": \",\",\n",
    "                                    \"field_optionally_enclosed_by\": '\"',\n",
    "                                    \"infer_schema\": True,\n",
    "                                    \"parse_header\": True}).table(\"PROCUREMENT_ON_TIME_DELIVERY.PURCHASE_ORDER_HISTORY\")\n",
    "\n",
    "\n",
    "\n",
    "# Select only three columns from the DataFrame\n",
    "#selected_coke = coke.select(\"PURCHASE_DOCUMENT_ID\", \"CREATE_DATE\", \"COMPANY_CODE_ID\")\n",
    "\n",
    "# Show the selected columns"
   ]
  },
  {
   "cell_type": "code",
   "execution_count": 30,
   "id": "cc5ab466-21ae-46d4-825b-2a96710880c4",
   "metadata": {},
   "outputs": [
    {
     "name": "stdout",
     "output_type": "stream",
     "text": [
      "-------------------------------------------------------------------------------------------------------------------------------------------------------------------------------------------------------------------------------------------------------------------------------------------------------------------------------------------------------------------------------------------------------------------------------------------------------------------------------------------------------\n",
      "|\"PURCHASE_DOCUMENT_ID\"  |\"CREATE_DATE\"  |\"COMPANY_CODE_ID\"  |\"VENDOR_ID\"  |\"POSTAL_CD\"  |\"RELEASE_DATE\"  |\"PURCHASE_DOCUMENT_ITEM_ID\"  |\"MATERIAL_ID\"  |\"SUB_COMMODITY_DESC\"     |\"MRP_TYPE_ID\"  |\"MRP_TYPE_DESC_E\"  |\"SHORT_TEXT\"                              |\"PLANT_ID\"  |\"POR_DELIVERY_DATE\"  |\"FIRST_GR_POSTING_DATE\"  |\"DELIVERY_DATE\"  |\"REQUESTED_DELIVERY_DATE\"  |\"INBOUND_DELIVERY_ID\"  |\"INBOUND_DELIVERY_ITEM_ID\"  |\"PLANNED_DELIVERY_DAYS\"  |\"BI_LAST_UPDATED_PURCHASE_DOCUMENT_ITEM\"  |\n",
      "-------------------------------------------------------------------------------------------------------------------------------------------------------------------------------------------------------------------------------------------------------------------------------------------------------------------------------------------------------------------------------------------------------------------------------------------------------------------------------------------------------\n",
      "|2000008134              |20210726       |CA10               |8010005836   |N2C 0B7      |NULL            |30                           |NULL           |Machinery & Equipment    |NULL           |NULL               |1/2\" OD x 0.063\" Wall 20' Long ASTM A51   |4036        |NULL                 |20210812                 |20210806         |20210806                   |NULL                   |0                           |0.0                      |2023-05-30 23:07:43.640000                |\n",
      "|5100146560              |20210726       |US10               |NULL         |NULL         |NULL            |130                          |2100007844     |Custom Manufacturing     |1              |1                  |994 45 9951A TU E 4.99-8.62 3X0X 4014     |4016        |20210914             |20210914                 |20210910         |20210910                   |185979544              |10                          |3.0                      |2021-11-08 03:52:05.270000                |\n",
      "|5501410919              |20210726       |CA10               |8010003139   |L6H 5T5      |NULL            |10                           |NULL           |Infrastructure Services  |NULL           |NULL               |B66 RECHARGE PORTABLE SAFETY SHOWER 2021  |4036        |NULL                 |0                        |20210802         |20210802                   |NULL                   |0                           |0.0                      |2023-09-07 10:07:29.323000                |\n",
      "|2000008138              |20210726       |CA10               |8010005836   |N2C 0B7      |NULL            |20                           |NULL           |Piping & Tubing          |NULL           |NULL               |5/8\" x 50 ft Black Rubber ProFitter[REG]  |4036        |NULL                 |20210803                 |20210827         |20210827                   |NULL                   |0                           |0.0                      |2023-05-30 23:07:43.640000                |\n",
      "|2000008136              |20210726       |CA10               |8010005836   |N2C 0B7      |NULL            |40                           |NULL           |Material Handling        |NULL           |NULL               |4XL - HI-VIZ SAFETY LONG-SLEEVED SHIRT -  |4036        |NULL                 |20210730                 |20210805         |20210805                   |NULL                   |0                           |0.0                      |2023-05-30 23:07:43.640000                |\n",
      "|5100146528              |20210726       |CA10               |NULL         |NULL         |NULL            |10                           |2100021961     |Tolling                  |1              |1                  |N66 2 BT 00WUD BN PL 65 1.5% 0            |4007        |NULL                 |20210803                 |20210727         |20210727                   |185876870              |10                          |0.0                      |2021-11-08 03:52:05.270000                |\n",
      "|5501410863              |20210726       |US10               |8010000984   |60045-5202   |NULL            |10                           |NULL           |Material Handling        |NULL           |NULL               |TK55803936T Window Air Conditioner Duty   |4014        |NULL                 |20210729                 |20210730         |20210730                   |185878895              |10                          |0.0                      |2023-05-30 23:07:43.640000                |\n",
      "|2000008105              |20210726       |US39               |8010000984   |60045-5202   |NULL            |110                          |NULL           |Safety Supplies          |NULL           |NULL               |TK55798622T Chemical Resistant Gloves Ni  |4120        |NULL                 |20210729                 |20210728         |20210728                   |NULL                   |0                           |0.0                      |2023-05-30 23:07:43.640000                |\n",
      "|5501410894              |20210726       |US10               |8010003993   |28103-0219   |NULL            |10                           |3100000127     |Pallets                  |1              |1                  |PALLET 44X44 NYLON BATCH POLY NY30-0102J  |4014        |NULL                 |20210811                 |20210811         |20210811                   |NULL                   |0                           |2.0                      |2023-05-30 23:07:43.640000                |\n",
      "|2000008131              |20210726       |US39               |8010008932   |01702-4478   |NULL            |10                           |NULL           |Safety Supplies          |NULL           |NULL               |Folgers Classic Roast Coffee, Keurig K-C  |4120        |NULL                 |20210727                 |20210728         |20210728                   |NULL                   |0                           |0.0                      |2023-05-30 23:07:43.640000                |\n",
      "-------------------------------------------------------------------------------------------------------------------------------------------------------------------------------------------------------------------------------------------------------------------------------------------------------------------------------------------------------------------------------------------------------------------------------------------------------------------------------------------------------\n",
      "\n"
     ]
    }
   ],
   "source": [
    "df.show()"
   ]
  },
  {
   "cell_type": "code",
   "execution_count": 31,
   "id": "20b4bd68-8a86-4d69-af83-cb55b9449efe",
   "metadata": {},
   "outputs": [],
   "source": [
    "koch = df.to_pandas()"
   ]
  },
  {
   "cell_type": "code",
   "execution_count": 32,
   "metadata": {},
   "outputs": [
    {
     "data": {
      "text/html": [
       "<div>\n",
       "<style scoped>\n",
       "    .dataframe tbody tr th:only-of-type {\n",
       "        vertical-align: middle;\n",
       "    }\n",
       "\n",
       "    .dataframe tbody tr th {\n",
       "        vertical-align: top;\n",
       "    }\n",
       "\n",
       "    .dataframe thead th {\n",
       "        text-align: right;\n",
       "    }\n",
       "</style>\n",
       "<table border=\"1\" class=\"dataframe\">\n",
       "  <thead>\n",
       "    <tr style=\"text-align: right;\">\n",
       "      <th></th>\n",
       "      <th>PURCHASE_DOCUMENT_ID</th>\n",
       "      <th>CREATE_DATE</th>\n",
       "      <th>COMPANY_CODE_ID</th>\n",
       "      <th>VENDOR_ID</th>\n",
       "      <th>POSTAL_CD</th>\n",
       "      <th>RELEASE_DATE</th>\n",
       "      <th>PURCHASE_DOCUMENT_ITEM_ID</th>\n",
       "      <th>MATERIAL_ID</th>\n",
       "      <th>SUB_COMMODITY_DESC</th>\n",
       "      <th>MRP_TYPE_ID</th>\n",
       "      <th>...</th>\n",
       "      <th>SHORT_TEXT</th>\n",
       "      <th>PLANT_ID</th>\n",
       "      <th>POR_DELIVERY_DATE</th>\n",
       "      <th>FIRST_GR_POSTING_DATE</th>\n",
       "      <th>DELIVERY_DATE</th>\n",
       "      <th>REQUESTED_DELIVERY_DATE</th>\n",
       "      <th>INBOUND_DELIVERY_ID</th>\n",
       "      <th>INBOUND_DELIVERY_ITEM_ID</th>\n",
       "      <th>PLANNED_DELIVERY_DAYS</th>\n",
       "      <th>BI_LAST_UPDATED_PURCHASE_DOCUMENT_ITEM</th>\n",
       "    </tr>\n",
       "  </thead>\n",
       "  <tbody>\n",
       "    <tr>\n",
       "      <th>0</th>\n",
       "      <td>2000008134</td>\n",
       "      <td>20210726</td>\n",
       "      <td>CA10</td>\n",
       "      <td>8010005836</td>\n",
       "      <td>N2C 0B7</td>\n",
       "      <td>NaN</td>\n",
       "      <td>30.0</td>\n",
       "      <td>NaN</td>\n",
       "      <td>Machinery &amp; Equipment</td>\n",
       "      <td>NaN</td>\n",
       "      <td>...</td>\n",
       "      <td>1/2\" OD x 0.063\" Wall 20' Long ASTM A51</td>\n",
       "      <td>4036.0</td>\n",
       "      <td>NaN</td>\n",
       "      <td>20210812.0</td>\n",
       "      <td>20210806.0</td>\n",
       "      <td>20210806.0</td>\n",
       "      <td>NaN</td>\n",
       "      <td>0.0</td>\n",
       "      <td>0.0</td>\n",
       "      <td>2023-05-30 23:07:43.640</td>\n",
       "    </tr>\n",
       "    <tr>\n",
       "      <th>1</th>\n",
       "      <td>5100146560</td>\n",
       "      <td>20210726</td>\n",
       "      <td>US10</td>\n",
       "      <td>None</td>\n",
       "      <td>None</td>\n",
       "      <td>NaN</td>\n",
       "      <td>130.0</td>\n",
       "      <td>2.100008e+09</td>\n",
       "      <td>Custom Manufacturing</td>\n",
       "      <td>1.0</td>\n",
       "      <td>...</td>\n",
       "      <td>994 45 9951A TU E 4.99-8.62 3X0X 4014</td>\n",
       "      <td>4016.0</td>\n",
       "      <td>20210914.0</td>\n",
       "      <td>20210914.0</td>\n",
       "      <td>20210910.0</td>\n",
       "      <td>20210910.0</td>\n",
       "      <td>185979544.0</td>\n",
       "      <td>10.0</td>\n",
       "      <td>3.0</td>\n",
       "      <td>2021-11-08 03:52:05.270</td>\n",
       "    </tr>\n",
       "    <tr>\n",
       "      <th>2</th>\n",
       "      <td>5501410919</td>\n",
       "      <td>20210726</td>\n",
       "      <td>CA10</td>\n",
       "      <td>8010003139</td>\n",
       "      <td>L6H 5T5</td>\n",
       "      <td>NaN</td>\n",
       "      <td>10.0</td>\n",
       "      <td>NaN</td>\n",
       "      <td>Infrastructure Services</td>\n",
       "      <td>NaN</td>\n",
       "      <td>...</td>\n",
       "      <td>B66 RECHARGE PORTABLE SAFETY SHOWER 2021</td>\n",
       "      <td>4036.0</td>\n",
       "      <td>NaN</td>\n",
       "      <td>0.0</td>\n",
       "      <td>20210802.0</td>\n",
       "      <td>20210802.0</td>\n",
       "      <td>NaN</td>\n",
       "      <td>0.0</td>\n",
       "      <td>0.0</td>\n",
       "      <td>2023-09-07 10:07:29.323</td>\n",
       "    </tr>\n",
       "    <tr>\n",
       "      <th>3</th>\n",
       "      <td>2000008138</td>\n",
       "      <td>20210726</td>\n",
       "      <td>CA10</td>\n",
       "      <td>8010005836</td>\n",
       "      <td>N2C 0B7</td>\n",
       "      <td>NaN</td>\n",
       "      <td>20.0</td>\n",
       "      <td>NaN</td>\n",
       "      <td>Piping &amp; Tubing</td>\n",
       "      <td>NaN</td>\n",
       "      <td>...</td>\n",
       "      <td>5/8\" x 50 ft Black Rubber ProFitter[REG]</td>\n",
       "      <td>4036.0</td>\n",
       "      <td>NaN</td>\n",
       "      <td>20210803.0</td>\n",
       "      <td>20210827.0</td>\n",
       "      <td>20210827.0</td>\n",
       "      <td>NaN</td>\n",
       "      <td>0.0</td>\n",
       "      <td>0.0</td>\n",
       "      <td>2023-05-30 23:07:43.640</td>\n",
       "    </tr>\n",
       "    <tr>\n",
       "      <th>4</th>\n",
       "      <td>2000008136</td>\n",
       "      <td>20210726</td>\n",
       "      <td>CA10</td>\n",
       "      <td>8010005836</td>\n",
       "      <td>N2C 0B7</td>\n",
       "      <td>NaN</td>\n",
       "      <td>40.0</td>\n",
       "      <td>NaN</td>\n",
       "      <td>Material Handling</td>\n",
       "      <td>NaN</td>\n",
       "      <td>...</td>\n",
       "      <td>4XL - HI-VIZ SAFETY LONG-SLEEVED SHIRT -</td>\n",
       "      <td>4036.0</td>\n",
       "      <td>NaN</td>\n",
       "      <td>20210730.0</td>\n",
       "      <td>20210805.0</td>\n",
       "      <td>20210805.0</td>\n",
       "      <td>NaN</td>\n",
       "      <td>0.0</td>\n",
       "      <td>0.0</td>\n",
       "      <td>2023-05-30 23:07:43.640</td>\n",
       "    </tr>\n",
       "  </tbody>\n",
       "</table>\n",
       "<p>5 rows × 21 columns</p>\n",
       "</div>"
      ],
      "text/plain": [
       "   PURCHASE_DOCUMENT_ID  CREATE_DATE COMPANY_CODE_ID   VENDOR_ID POSTAL_CD  \\\n",
       "0            2000008134     20210726            CA10  8010005836   N2C 0B7   \n",
       "1            5100146560     20210726            US10        None      None   \n",
       "2            5501410919     20210726            CA10  8010003139   L6H 5T5   \n",
       "3            2000008138     20210726            CA10  8010005836   N2C 0B7   \n",
       "4            2000008136     20210726            CA10  8010005836   N2C 0B7   \n",
       "\n",
       "   RELEASE_DATE  PURCHASE_DOCUMENT_ITEM_ID   MATERIAL_ID  \\\n",
       "0           NaN                       30.0           NaN   \n",
       "1           NaN                      130.0  2.100008e+09   \n",
       "2           NaN                       10.0           NaN   \n",
       "3           NaN                       20.0           NaN   \n",
       "4           NaN                       40.0           NaN   \n",
       "\n",
       "        SUB_COMMODITY_DESC  MRP_TYPE_ID  ...  \\\n",
       "0    Machinery & Equipment          NaN  ...   \n",
       "1     Custom Manufacturing          1.0  ...   \n",
       "2  Infrastructure Services          NaN  ...   \n",
       "3          Piping & Tubing          NaN  ...   \n",
       "4        Material Handling          NaN  ...   \n",
       "\n",
       "                                 SHORT_TEXT PLANT_ID  POR_DELIVERY_DATE  \\\n",
       "0   1/2\" OD x 0.063\" Wall 20' Long ASTM A51   4036.0                NaN   \n",
       "1     994 45 9951A TU E 4.99-8.62 3X0X 4014   4016.0         20210914.0   \n",
       "2  B66 RECHARGE PORTABLE SAFETY SHOWER 2021   4036.0                NaN   \n",
       "3  5/8\" x 50 ft Black Rubber ProFitter[REG]   4036.0                NaN   \n",
       "4  4XL - HI-VIZ SAFETY LONG-SLEEVED SHIRT -   4036.0                NaN   \n",
       "\n",
       "   FIRST_GR_POSTING_DATE  DELIVERY_DATE  REQUESTED_DELIVERY_DATE  \\\n",
       "0             20210812.0     20210806.0               20210806.0   \n",
       "1             20210914.0     20210910.0               20210910.0   \n",
       "2                    0.0     20210802.0               20210802.0   \n",
       "3             20210803.0     20210827.0               20210827.0   \n",
       "4             20210730.0     20210805.0               20210805.0   \n",
       "\n",
       "   INBOUND_DELIVERY_ID  INBOUND_DELIVERY_ITEM_ID  PLANNED_DELIVERY_DAYS  \\\n",
       "0                  NaN                       0.0                    0.0   \n",
       "1          185979544.0                      10.0                    3.0   \n",
       "2                  NaN                       0.0                    0.0   \n",
       "3                  NaN                       0.0                    0.0   \n",
       "4                  NaN                       0.0                    0.0   \n",
       "\n",
       "  BI_LAST_UPDATED_PURCHASE_DOCUMENT_ITEM  \n",
       "0                2023-05-30 23:07:43.640  \n",
       "1                2021-11-08 03:52:05.270  \n",
       "2                2023-09-07 10:07:29.323  \n",
       "3                2023-05-30 23:07:43.640  \n",
       "4                2023-05-30 23:07:43.640  \n",
       "\n",
       "[5 rows x 21 columns]"
      ]
     },
     "execution_count": 32,
     "metadata": {},
     "output_type": "execute_result"
    }
   ],
   "source": [
    "koch.head()"
   ]
  },
  {
   "cell_type": "code",
   "execution_count": 33,
   "metadata": {},
   "outputs": [],
   "source": [
    "date_columns = ['POR_DELIVERY_DATE', 'DELIVERY_DATE', 'REQUESTED_DELIVERY_DATE', 'FIRST_GR_POSTING_DATE']\n",
    "for column in date_columns:\n",
    "    temp_series = koch[column].fillna(0).astype(int).astype(str)\n",
    "    # Replace '0' string back to NaN to avoid incorrect date conversion\n",
    "    temp_series = temp_series.replace('0', np.nan)\n",
    "    # Convert to datetime\n",
    "    koch[column] = pd.to_datetime(temp_series, format='%Y%m%d', errors='coerce')\n",
    "#Creating target column\n",
    "koch['Time_Difference'] = koch['FIRST_GR_POSTING_DATE'] - koch['DELIVERY_DATE']\n",
    "koch['Time_Difference'] = koch['Time_Difference'].dt.days\n"
   ]
  },
  {
   "cell_type": "code",
   "execution_count": 34,
   "metadata": {},
   "outputs": [
    {
     "data": {
      "text/html": [
       "<div>\n",
       "<style scoped>\n",
       "    .dataframe tbody tr th:only-of-type {\n",
       "        vertical-align: middle;\n",
       "    }\n",
       "\n",
       "    .dataframe tbody tr th {\n",
       "        vertical-align: top;\n",
       "    }\n",
       "\n",
       "    .dataframe thead th {\n",
       "        text-align: right;\n",
       "    }\n",
       "</style>\n",
       "<table border=\"1\" class=\"dataframe\">\n",
       "  <thead>\n",
       "    <tr style=\"text-align: right;\">\n",
       "      <th></th>\n",
       "      <th>PURCHASE_DOCUMENT_ID</th>\n",
       "      <th>CREATE_DATE</th>\n",
       "      <th>COMPANY_CODE_ID</th>\n",
       "      <th>VENDOR_ID</th>\n",
       "      <th>POSTAL_CD</th>\n",
       "      <th>RELEASE_DATE</th>\n",
       "      <th>PURCHASE_DOCUMENT_ITEM_ID</th>\n",
       "      <th>MATERIAL_ID</th>\n",
       "      <th>SUB_COMMODITY_DESC</th>\n",
       "      <th>MRP_TYPE_ID</th>\n",
       "      <th>...</th>\n",
       "      <th>PLANT_ID</th>\n",
       "      <th>POR_DELIVERY_DATE</th>\n",
       "      <th>FIRST_GR_POSTING_DATE</th>\n",
       "      <th>DELIVERY_DATE</th>\n",
       "      <th>REQUESTED_DELIVERY_DATE</th>\n",
       "      <th>INBOUND_DELIVERY_ID</th>\n",
       "      <th>INBOUND_DELIVERY_ITEM_ID</th>\n",
       "      <th>PLANNED_DELIVERY_DAYS</th>\n",
       "      <th>BI_LAST_UPDATED_PURCHASE_DOCUMENT_ITEM</th>\n",
       "      <th>Time_Difference</th>\n",
       "    </tr>\n",
       "  </thead>\n",
       "  <tbody>\n",
       "    <tr>\n",
       "      <th>0</th>\n",
       "      <td>2000008134</td>\n",
       "      <td>20210726</td>\n",
       "      <td>CA10</td>\n",
       "      <td>8010005836</td>\n",
       "      <td>N2C 0B7</td>\n",
       "      <td>NaN</td>\n",
       "      <td>30.0</td>\n",
       "      <td>NaN</td>\n",
       "      <td>Machinery &amp; Equipment</td>\n",
       "      <td>NaN</td>\n",
       "      <td>...</td>\n",
       "      <td>4036.0</td>\n",
       "      <td>NaT</td>\n",
       "      <td>2021-08-12</td>\n",
       "      <td>2021-08-06</td>\n",
       "      <td>2021-08-06</td>\n",
       "      <td>NaN</td>\n",
       "      <td>0.0</td>\n",
       "      <td>0.0</td>\n",
       "      <td>2023-05-30 23:07:43.640</td>\n",
       "      <td>6.0</td>\n",
       "    </tr>\n",
       "    <tr>\n",
       "      <th>1</th>\n",
       "      <td>5100146560</td>\n",
       "      <td>20210726</td>\n",
       "      <td>US10</td>\n",
       "      <td>None</td>\n",
       "      <td>None</td>\n",
       "      <td>NaN</td>\n",
       "      <td>130.0</td>\n",
       "      <td>2.100008e+09</td>\n",
       "      <td>Custom Manufacturing</td>\n",
       "      <td>1.0</td>\n",
       "      <td>...</td>\n",
       "      <td>4016.0</td>\n",
       "      <td>2021-09-14</td>\n",
       "      <td>2021-09-14</td>\n",
       "      <td>2021-09-10</td>\n",
       "      <td>2021-09-10</td>\n",
       "      <td>185979544.0</td>\n",
       "      <td>10.0</td>\n",
       "      <td>3.0</td>\n",
       "      <td>2021-11-08 03:52:05.270</td>\n",
       "      <td>4.0</td>\n",
       "    </tr>\n",
       "    <tr>\n",
       "      <th>2</th>\n",
       "      <td>5501410919</td>\n",
       "      <td>20210726</td>\n",
       "      <td>CA10</td>\n",
       "      <td>8010003139</td>\n",
       "      <td>L6H 5T5</td>\n",
       "      <td>NaN</td>\n",
       "      <td>10.0</td>\n",
       "      <td>NaN</td>\n",
       "      <td>Infrastructure Services</td>\n",
       "      <td>NaN</td>\n",
       "      <td>...</td>\n",
       "      <td>4036.0</td>\n",
       "      <td>NaT</td>\n",
       "      <td>NaT</td>\n",
       "      <td>2021-08-02</td>\n",
       "      <td>2021-08-02</td>\n",
       "      <td>NaN</td>\n",
       "      <td>0.0</td>\n",
       "      <td>0.0</td>\n",
       "      <td>2023-09-07 10:07:29.323</td>\n",
       "      <td>NaN</td>\n",
       "    </tr>\n",
       "    <tr>\n",
       "      <th>3</th>\n",
       "      <td>2000008138</td>\n",
       "      <td>20210726</td>\n",
       "      <td>CA10</td>\n",
       "      <td>8010005836</td>\n",
       "      <td>N2C 0B7</td>\n",
       "      <td>NaN</td>\n",
       "      <td>20.0</td>\n",
       "      <td>NaN</td>\n",
       "      <td>Piping &amp; Tubing</td>\n",
       "      <td>NaN</td>\n",
       "      <td>...</td>\n",
       "      <td>4036.0</td>\n",
       "      <td>NaT</td>\n",
       "      <td>2021-08-03</td>\n",
       "      <td>2021-08-27</td>\n",
       "      <td>2021-08-27</td>\n",
       "      <td>NaN</td>\n",
       "      <td>0.0</td>\n",
       "      <td>0.0</td>\n",
       "      <td>2023-05-30 23:07:43.640</td>\n",
       "      <td>-24.0</td>\n",
       "    </tr>\n",
       "    <tr>\n",
       "      <th>4</th>\n",
       "      <td>2000008136</td>\n",
       "      <td>20210726</td>\n",
       "      <td>CA10</td>\n",
       "      <td>8010005836</td>\n",
       "      <td>N2C 0B7</td>\n",
       "      <td>NaN</td>\n",
       "      <td>40.0</td>\n",
       "      <td>NaN</td>\n",
       "      <td>Material Handling</td>\n",
       "      <td>NaN</td>\n",
       "      <td>...</td>\n",
       "      <td>4036.0</td>\n",
       "      <td>NaT</td>\n",
       "      <td>2021-07-30</td>\n",
       "      <td>2021-08-05</td>\n",
       "      <td>2021-08-05</td>\n",
       "      <td>NaN</td>\n",
       "      <td>0.0</td>\n",
       "      <td>0.0</td>\n",
       "      <td>2023-05-30 23:07:43.640</td>\n",
       "      <td>-6.0</td>\n",
       "    </tr>\n",
       "  </tbody>\n",
       "</table>\n",
       "<p>5 rows × 22 columns</p>\n",
       "</div>"
      ],
      "text/plain": [
       "   PURCHASE_DOCUMENT_ID  CREATE_DATE COMPANY_CODE_ID   VENDOR_ID POSTAL_CD  \\\n",
       "0            2000008134     20210726            CA10  8010005836   N2C 0B7   \n",
       "1            5100146560     20210726            US10        None      None   \n",
       "2            5501410919     20210726            CA10  8010003139   L6H 5T5   \n",
       "3            2000008138     20210726            CA10  8010005836   N2C 0B7   \n",
       "4            2000008136     20210726            CA10  8010005836   N2C 0B7   \n",
       "\n",
       "   RELEASE_DATE  PURCHASE_DOCUMENT_ITEM_ID   MATERIAL_ID  \\\n",
       "0           NaN                       30.0           NaN   \n",
       "1           NaN                      130.0  2.100008e+09   \n",
       "2           NaN                       10.0           NaN   \n",
       "3           NaN                       20.0           NaN   \n",
       "4           NaN                       40.0           NaN   \n",
       "\n",
       "        SUB_COMMODITY_DESC  MRP_TYPE_ID  ...  PLANT_ID POR_DELIVERY_DATE  \\\n",
       "0    Machinery & Equipment          NaN  ...    4036.0               NaT   \n",
       "1     Custom Manufacturing          1.0  ...    4016.0        2021-09-14   \n",
       "2  Infrastructure Services          NaN  ...    4036.0               NaT   \n",
       "3          Piping & Tubing          NaN  ...    4036.0               NaT   \n",
       "4        Material Handling          NaN  ...    4036.0               NaT   \n",
       "\n",
       "   FIRST_GR_POSTING_DATE DELIVERY_DATE REQUESTED_DELIVERY_DATE  \\\n",
       "0             2021-08-12    2021-08-06              2021-08-06   \n",
       "1             2021-09-14    2021-09-10              2021-09-10   \n",
       "2                    NaT    2021-08-02              2021-08-02   \n",
       "3             2021-08-03    2021-08-27              2021-08-27   \n",
       "4             2021-07-30    2021-08-05              2021-08-05   \n",
       "\n",
       "  INBOUND_DELIVERY_ID INBOUND_DELIVERY_ITEM_ID  PLANNED_DELIVERY_DAYS  \\\n",
       "0                 NaN                      0.0                    0.0   \n",
       "1         185979544.0                     10.0                    3.0   \n",
       "2                 NaN                      0.0                    0.0   \n",
       "3                 NaN                      0.0                    0.0   \n",
       "4                 NaN                      0.0                    0.0   \n",
       "\n",
       "   BI_LAST_UPDATED_PURCHASE_DOCUMENT_ITEM Time_Difference  \n",
       "0                 2023-05-30 23:07:43.640             6.0  \n",
       "1                 2021-11-08 03:52:05.270             4.0  \n",
       "2                 2023-09-07 10:07:29.323             NaN  \n",
       "3                 2023-05-30 23:07:43.640           -24.0  \n",
       "4                 2023-05-30 23:07:43.640            -6.0  \n",
       "\n",
       "[5 rows x 22 columns]"
      ]
     },
     "execution_count": 34,
     "metadata": {},
     "output_type": "execute_result"
    }
   ],
   "source": [
    "koch.head()"
   ]
  },
  {
   "cell_type": "code",
   "execution_count": 35,
   "metadata": {},
   "outputs": [],
   "source": [
    "coke = pl.from_pandas(koch)"
   ]
  },
  {
   "cell_type": "code",
   "execution_count": 36,
   "metadata": {},
   "outputs": [
    {
     "data": {
      "text/html": [
       "<div><style>\n",
       ".dataframe > thead > tr,\n",
       ".dataframe > tbody > tr {\n",
       "  text-align: right;\n",
       "  white-space: pre-wrap;\n",
       "}\n",
       "</style>\n",
       "<small>shape: (5, 22)</small><table border=\"1\" class=\"dataframe\"><thead><tr><th>PURCHASE_DOCUMENT_ID</th><th>CREATE_DATE</th><th>COMPANY_CODE_ID</th><th>VENDOR_ID</th><th>POSTAL_CD</th><th>RELEASE_DATE</th><th>PURCHASE_DOCUMENT_ITEM_ID</th><th>MATERIAL_ID</th><th>SUB_COMMODITY_DESC</th><th>MRP_TYPE_ID</th><th>MRP_TYPE_DESC_E</th><th>SHORT_TEXT</th><th>PLANT_ID</th><th>POR_DELIVERY_DATE</th><th>FIRST_GR_POSTING_DATE</th><th>DELIVERY_DATE</th><th>REQUESTED_DELIVERY_DATE</th><th>INBOUND_DELIVERY_ID</th><th>INBOUND_DELIVERY_ITEM_ID</th><th>PLANNED_DELIVERY_DAYS</th><th>BI_LAST_UPDATED_PURCHASE_DOCUMENT_ITEM</th><th>Time_Difference</th></tr><tr><td>i64</td><td>i32</td><td>str</td><td>str</td><td>str</td><td>f64</td><td>f64</td><td>f64</td><td>str</td><td>f64</td><td>f64</td><td>str</td><td>f64</td><td>datetime[ns]</td><td>datetime[ns]</td><td>datetime[ns]</td><td>datetime[ns]</td><td>f64</td><td>f64</td><td>str</td><td>datetime[ns]</td><td>f64</td></tr></thead><tbody><tr><td>2000008134</td><td>20210726</td><td>&quot;CA10&quot;</td><td>&quot;8010005836&quot;</td><td>&quot;N2C 0B7&quot;</td><td>null</td><td>30.0</td><td>null</td><td>&quot;Machinery &amp; Eq…</td><td>null</td><td>null</td><td>&quot;1/2&quot; OD x 0.06…</td><td>4036.0</td><td>null</td><td>2021-08-12 00:00:00</td><td>2021-08-06 00:00:00</td><td>2021-08-06 00:00:00</td><td>null</td><td>0.0</td><td>&quot;0.0&quot;</td><td>2023-05-30 23:07:43.640</td><td>6.0</td></tr><tr><td>5100146560</td><td>20210726</td><td>&quot;US10&quot;</td><td>null</td><td>null</td><td>null</td><td>130.0</td><td>2.1000e9</td><td>&quot;Custom Manufac…</td><td>1.0</td><td>1.0</td><td>&quot;994 45 9951A T…</td><td>4016.0</td><td>2021-09-14 00:00:00</td><td>2021-09-14 00:00:00</td><td>2021-09-10 00:00:00</td><td>2021-09-10 00:00:00</td><td>1.85979544e8</td><td>10.0</td><td>&quot;3.0&quot;</td><td>2021-11-08 03:52:05.270</td><td>4.0</td></tr><tr><td>5501410919</td><td>20210726</td><td>&quot;CA10&quot;</td><td>&quot;8010003139&quot;</td><td>&quot;L6H 5T5&quot;</td><td>null</td><td>10.0</td><td>null</td><td>&quot;Infrastructure…</td><td>null</td><td>null</td><td>&quot;B66 RECHARGE P…</td><td>4036.0</td><td>null</td><td>null</td><td>2021-08-02 00:00:00</td><td>2021-08-02 00:00:00</td><td>null</td><td>0.0</td><td>&quot;0.0&quot;</td><td>2023-09-07 10:07:29.323</td><td>null</td></tr><tr><td>2000008138</td><td>20210726</td><td>&quot;CA10&quot;</td><td>&quot;8010005836&quot;</td><td>&quot;N2C 0B7&quot;</td><td>null</td><td>20.0</td><td>null</td><td>&quot;Piping &amp; Tubin…</td><td>null</td><td>null</td><td>&quot;5/8&quot; x 50 ft B…</td><td>4036.0</td><td>null</td><td>2021-08-03 00:00:00</td><td>2021-08-27 00:00:00</td><td>2021-08-27 00:00:00</td><td>null</td><td>0.0</td><td>&quot;0.0&quot;</td><td>2023-05-30 23:07:43.640</td><td>-24.0</td></tr><tr><td>2000008136</td><td>20210726</td><td>&quot;CA10&quot;</td><td>&quot;8010005836&quot;</td><td>&quot;N2C 0B7&quot;</td><td>null</td><td>40.0</td><td>null</td><td>&quot;Material Handl…</td><td>null</td><td>null</td><td>&quot;4XL - HI-VIZ S…</td><td>4036.0</td><td>null</td><td>2021-07-30 00:00:00</td><td>2021-08-05 00:00:00</td><td>2021-08-05 00:00:00</td><td>null</td><td>0.0</td><td>&quot;0.0&quot;</td><td>2023-05-30 23:07:43.640</td><td>-6.0</td></tr></tbody></table></div>"
      ],
      "text/plain": [
       "shape: (5, 22)\n",
       "┌───────────┬───────────┬───────────┬───────────┬───┬───────────┬───────────┬───────────┬──────────┐\n",
       "│ PURCHASE_ ┆ CREATE_DA ┆ COMPANY_C ┆ VENDOR_ID ┆ … ┆ INBOUND_D ┆ PLANNED_D ┆ BI_LAST_U ┆ Time_Dif │\n",
       "│ DOCUMENT_ ┆ TE        ┆ ODE_ID    ┆ ---       ┆   ┆ ELIVERY_I ┆ ELIVERY_D ┆ PDATED_PU ┆ ference  │\n",
       "│ ID        ┆ ---       ┆ ---       ┆ str       ┆   ┆ TEM_ID    ┆ AYS       ┆ RCHASE_DO ┆ ---      │\n",
       "│ ---       ┆ i32       ┆ str       ┆           ┆   ┆ ---       ┆ ---       ┆ CUMEN…    ┆ f64      │\n",
       "│ i64       ┆           ┆           ┆           ┆   ┆ f64       ┆ str       ┆ ---       ┆          │\n",
       "│           ┆           ┆           ┆           ┆   ┆           ┆           ┆ datetime[ ┆          │\n",
       "│           ┆           ┆           ┆           ┆   ┆           ┆           ┆ ns]       ┆          │\n",
       "╞═══════════╪═══════════╪═══════════╪═══════════╪═══╪═══════════╪═══════════╪═══════════╪══════════╡\n",
       "│ 200000813 ┆ 20210726  ┆ CA10      ┆ 801000583 ┆ … ┆ 0.0       ┆ 0.0       ┆ 2023-05-3 ┆ 6.0      │\n",
       "│ 4         ┆           ┆           ┆ 6         ┆   ┆           ┆           ┆ 0 23:07:4 ┆          │\n",
       "│           ┆           ┆           ┆           ┆   ┆           ┆           ┆ 3.640     ┆          │\n",
       "│ 510014656 ┆ 20210726  ┆ US10      ┆ null      ┆ … ┆ 10.0      ┆ 3.0       ┆ 2021-11-0 ┆ 4.0      │\n",
       "│ 0         ┆           ┆           ┆           ┆   ┆           ┆           ┆ 8 03:52:0 ┆          │\n",
       "│           ┆           ┆           ┆           ┆   ┆           ┆           ┆ 5.270     ┆          │\n",
       "│ 550141091 ┆ 20210726  ┆ CA10      ┆ 801000313 ┆ … ┆ 0.0       ┆ 0.0       ┆ 2023-09-0 ┆ null     │\n",
       "│ 9         ┆           ┆           ┆ 9         ┆   ┆           ┆           ┆ 7 10:07:2 ┆          │\n",
       "│           ┆           ┆           ┆           ┆   ┆           ┆           ┆ 9.323     ┆          │\n",
       "│ 200000813 ┆ 20210726  ┆ CA10      ┆ 801000583 ┆ … ┆ 0.0       ┆ 0.0       ┆ 2023-05-3 ┆ -24.0    │\n",
       "│ 8         ┆           ┆           ┆ 6         ┆   ┆           ┆           ┆ 0 23:07:4 ┆          │\n",
       "│           ┆           ┆           ┆           ┆   ┆           ┆           ┆ 3.640     ┆          │\n",
       "│ 200000813 ┆ 20210726  ┆ CA10      ┆ 801000583 ┆ … ┆ 0.0       ┆ 0.0       ┆ 2023-05-3 ┆ -6.0     │\n",
       "│ 6         ┆           ┆           ┆ 6         ┆   ┆           ┆           ┆ 0 23:07:4 ┆          │\n",
       "│           ┆           ┆           ┆           ┆   ┆           ┆           ┆ 3.640     ┆          │\n",
       "└───────────┴───────────┴───────────┴───────────┴───┴───────────┴───────────┴───────────┴──────────┘"
      ]
     },
     "execution_count": 36,
     "metadata": {},
     "output_type": "execute_result"
    }
   ],
   "source": [
    "coke.head()"
   ]
  },
  {
   "cell_type": "code",
   "execution_count": 37,
   "metadata": {},
   "outputs": [],
   "source": [
    "coke = coke.with_columns(pl.col('CREATE_DATE').cast(pl.Utf8))"
   ]
  },
  {
   "cell_type": "code",
   "execution_count": 38,
   "metadata": {},
   "outputs": [],
   "source": [
    "coke = coke.with_columns(\n",
    "    pl.col(\"CREATE_DATE\").str.strptime(pl.Date, \"%Y%m%d\").alias(\"CREATE_DATE\")\n",
    ")"
   ]
  },
  {
   "cell_type": "code",
   "execution_count": 39,
   "metadata": {},
   "outputs": [
    {
     "data": {
      "text/html": [
       "<div><style>\n",
       ".dataframe > thead > tr,\n",
       ".dataframe > tbody > tr {\n",
       "  text-align: right;\n",
       "  white-space: pre-wrap;\n",
       "}\n",
       "</style>\n",
       "<small>shape: (1_000, 22)</small><table border=\"1\" class=\"dataframe\"><thead><tr><th>PURCHASE_DOCUMENT_ID</th><th>CREATE_DATE</th><th>COMPANY_CODE_ID</th><th>VENDOR_ID</th><th>POSTAL_CD</th><th>RELEASE_DATE</th><th>PURCHASE_DOCUMENT_ITEM_ID</th><th>MATERIAL_ID</th><th>SUB_COMMODITY_DESC</th><th>MRP_TYPE_ID</th><th>MRP_TYPE_DESC_E</th><th>SHORT_TEXT</th><th>PLANT_ID</th><th>POR_DELIVERY_DATE</th><th>FIRST_GR_POSTING_DATE</th><th>DELIVERY_DATE</th><th>REQUESTED_DELIVERY_DATE</th><th>INBOUND_DELIVERY_ID</th><th>INBOUND_DELIVERY_ITEM_ID</th><th>PLANNED_DELIVERY_DAYS</th><th>BI_LAST_UPDATED_PURCHASE_DOCUMENT_ITEM</th><th>Time_Difference</th></tr><tr><td>i64</td><td>date</td><td>str</td><td>str</td><td>str</td><td>f64</td><td>f64</td><td>f64</td><td>str</td><td>f64</td><td>f64</td><td>str</td><td>f64</td><td>datetime[ns]</td><td>datetime[ns]</td><td>datetime[ns]</td><td>datetime[ns]</td><td>f64</td><td>f64</td><td>str</td><td>datetime[ns]</td><td>f64</td></tr></thead><tbody><tr><td>5501410370</td><td>2021-07-23</td><td>&quot;US39&quot;</td><td>&quot;8010097537&quot;</td><td>&quot;89423&quot;</td><td>null</td><td>10.0</td><td>1.1001e9</td><td>&quot;Instrumentatio…</td><td>1.0</td><td>1.0</td><td>&quot;PROBE VIBRATIO…</td><td>4124.0</td><td>null</td><td>2021-09-01 00:00:00</td><td>2021-08-06 00:00:00</td><td>2021-08-06 00:00:00</td><td>null</td><td>0.0</td><td>&quot;14.0&quot;</td><td>2023-05-30 23:07:43.640</td><td>26.0</td></tr><tr><td>5100146451</td><td>2021-07-23</td><td>&quot;CA10&quot;</td><td>null</td><td>null</td><td>null</td><td>30.0</td><td>2.1000e9</td><td>&quot;Tolling&quot;</td><td>1.0</td><td>1.0</td><td>&quot;N66 14 MC 00WW…</td><td>4036.0</td><td>null</td><td>null</td><td>2021-07-23 00:00:00</td><td>2021-07-23 00:00:00</td><td>null</td><td>0.0</td><td>&quot;0.0&quot;</td><td>2021-11-08 03:52:05.270</td><td>null</td></tr><tr><td>5501410399</td><td>2021-07-23</td><td>&quot;US39&quot;</td><td>&quot;8010099411&quot;</td><td>&quot;46319&quot;</td><td>null</td><td>10.0</td><td>2.1000e9</td><td>&quot;Additives, Col…</td><td>1.0</td><td>1.0</td><td>&quot;ADI-PURE® HP A…</td><td>4130.0</td><td>null</td><td>2021-08-02 00:00:00</td><td>2021-07-30 00:00:00</td><td>2021-07-30 00:00:00</td><td>1.858915e8</td><td>10.0</td><td>&quot;1.0&quot;</td><td>2023-05-30 23:07:43.640</td><td>3.0</td></tr><tr><td>5501410394</td><td>2021-07-23</td><td>&quot;US39&quot;</td><td>&quot;8010099411&quot;</td><td>&quot;46319&quot;</td><td>null</td><td>10.0</td><td>2.1000e9</td><td>&quot;Additives, Col…</td><td>1.0</td><td>1.0</td><td>&quot;ADI-PURE® HP A…</td><td>4115.0</td><td>null</td><td>2021-07-30 00:00:00</td><td>2021-07-27 00:00:00</td><td>2021-07-27 00:00:00</td><td>1.85886063e8</td><td>10.0</td><td>&quot;1.0&quot;</td><td>2023-05-30 23:07:43.640</td><td>3.0</td></tr><tr><td>2000008020</td><td>2021-07-23</td><td>&quot;US10&quot;</td><td>&quot;8010099066&quot;</td><td>&quot;98109&quot;</td><td>null</td><td>20.0</td><td>null</td><td>&quot;Office Supplie…</td><td>null</td><td>null</td><td>&quot;1600 Pieces St…</td><td>4014.0</td><td>null</td><td>2021-07-24 00:00:00</td><td>2021-07-24 00:00:00</td><td>2021-07-24 00:00:00</td><td>null</td><td>0.0</td><td>&quot;0.0&quot;</td><td>2023-05-30 23:07:43.640</td><td>0.0</td></tr><tr><td>5100146459</td><td>2021-07-23</td><td>&quot;CA10&quot;</td><td>null</td><td>null</td><td>null</td><td>10.0</td><td>2.1000e9</td><td>&quot;Tolling&quot;</td><td>1.0</td><td>1.0</td><td>&quot;N66 41 MC 00CN…</td><td>4007.0</td><td>null</td><td>2021-07-24 00:00:00</td><td>2021-07-23 00:00:00</td><td>2021-07-23 00:00:00</td><td>1.85871395e8</td><td>10.0</td><td>&quot;0.0&quot;</td><td>2021-11-08 03:52:05.270</td><td>1.0</td></tr><tr><td>5501410521</td><td>2021-07-23</td><td>&quot;CA10&quot;</td><td>&quot;8010003958&quot;</td><td>&quot;43015-8903&quot;</td><td>null</td><td>140.0</td><td>3.1000e9</td><td>&quot;CONTAINMENTS&quot;</td><td>1.0</td><td>1.0</td><td>&quot;DRUM 55GAL TH …</td><td>4040.0</td><td>null</td><td>2021-09-22 00:00:00</td><td>2021-09-01 00:00:00</td><td>2021-09-01 00:00:00</td><td>1.85910289e8</td><td>10.0</td><td>&quot;35.0&quot;</td><td>2023-05-30 23:07:43.640</td><td>21.0</td></tr><tr><td>5501410521</td><td>2021-07-23</td><td>&quot;CA10&quot;</td><td>&quot;8010003958&quot;</td><td>&quot;43015-8903&quot;</td><td>null</td><td>160.0</td><td>3.1000e9</td><td>&quot;CONTAINMENTS&quot;</td><td>1.0</td><td>1.0</td><td>&quot;DRUM 55GAL TH …</td><td>4040.0</td><td>null</td><td>2021-09-09 00:00:00</td><td>2021-09-06 00:00:00</td><td>2021-09-06 00:00:00</td><td>1.85910249e8</td><td>10.0</td><td>&quot;35.0&quot;</td><td>2023-05-30 23:07:43.640</td><td>3.0</td></tr><tr><td>5501410521</td><td>2021-07-23</td><td>&quot;CA10&quot;</td><td>&quot;8010003958&quot;</td><td>&quot;43015-8903&quot;</td><td>null</td><td>150.0</td><td>3.1000e9</td><td>&quot;CONTAINMENTS&quot;</td><td>1.0</td><td>1.0</td><td>&quot;DRUM 55GAL TH …</td><td>4040.0</td><td>null</td><td>2021-09-10 00:00:00</td><td>2021-09-03 00:00:00</td><td>2021-09-03 00:00:00</td><td>1.85910286e8</td><td>10.0</td><td>&quot;35.0&quot;</td><td>2023-05-30 23:07:43.640</td><td>7.0</td></tr><tr><td>5501410514</td><td>2021-07-23</td><td>&quot;CA10&quot;</td><td>&quot;8010004522&quot;</td><td>&quot;K7P 2T3&quot;</td><td>null</td><td>10.0</td><td>null</td><td>&quot;Environmental …</td><td>null</td><td>null</td><td>&quot;PSS EMPTY AND …</td><td>4036.0</td><td>null</td><td>2021-09-21 00:00:00</td><td>2021-07-23 00:00:00</td><td>2021-07-23 00:00:00</td><td>null</td><td>0.0</td><td>&quot;0.0&quot;</td><td>2023-09-07 10:07:29.323</td><td>60.0</td></tr><tr><td>5501410527</td><td>2021-07-23</td><td>&quot;CA10&quot;</td><td>&quot;8010004158&quot;</td><td>&quot;L7N 3W5&quot;</td><td>null</td><td>10.0</td><td>null</td><td>&quot;Electric &amp; Ele…</td><td>null</td><td>null</td><td>&quot;T93 High Perfo…</td><td>4036.0</td><td>null</td><td>2021-09-15 00:00:00</td><td>2021-11-26 00:00:00</td><td>2021-08-10 00:00:00</td><td>null</td><td>0.0</td><td>&quot;0.0&quot;</td><td>2023-05-30 23:07:43.640</td><td>-72.0</td></tr><tr><td>5501410438</td><td>2021-07-23</td><td>&quot;US40&quot;</td><td>&quot;8010002250&quot;</td><td>&quot;21030-2216&quot;</td><td>null</td><td>20.0</td><td>1.1000e9</td><td>&quot;Machinery &amp; Eq…</td><td>1.0</td><td>1.0</td><td>&quot;ULTRA KLEEN SO…</td><td>4138.0</td><td>null</td><td>null</td><td>2021-11-30 00:00:00</td><td>2021-07-30 00:00:00</td><td>null</td><td>0.0</td><td>&quot;7.0&quot;</td><td>2023-05-30 23:07:43.640</td><td>null</td></tr><tr><td>&hellip;</td><td>&hellip;</td><td>&hellip;</td><td>&hellip;</td><td>&hellip;</td><td>&hellip;</td><td>&hellip;</td><td>&hellip;</td><td>&hellip;</td><td>&hellip;</td><td>&hellip;</td><td>&hellip;</td><td>&hellip;</td><td>&hellip;</td><td>&hellip;</td><td>&hellip;</td><td>&hellip;</td><td>&hellip;</td><td>&hellip;</td><td>&hellip;</td><td>&hellip;</td><td>&hellip;</td></tr><tr><td>5501410884</td><td>2021-07-26</td><td>&quot;GB10&quot;</td><td>&quot;8010023118&quot;</td><td>&quot;EH2 4DF&quot;</td><td>null</td><td>30.0</td><td>2.5000e9</td><td>&quot;Tolling&quot;</td><td>1.0</td><td>1.0</td><td>&quot;2770 SC201550S…</td><td>3014.0</td><td>null</td><td>2021-10-28 00:00:00</td><td>2021-10-19 00:00:00</td><td>2021-09-09 00:00:00</td><td>1.86198573e8</td><td>10.0</td><td>&quot;1.0&quot;</td><td>2023-05-30 23:07:43.640</td><td>9.0</td></tr><tr><td>5501410880</td><td>2021-07-26</td><td>&quot;NL24&quot;</td><td>&quot;V4040&quot;</td><td>&quot;K0E 1P0&quot;</td><td>null</td><td>10.0</td><td>2.1000e9</td><td>&quot;Additives, Col…</td><td>1.0</td><td>1.0</td><td>&quot;DYTEK® A AMINE…</td><td>3091.0</td><td>2021-10-05 00:00:00</td><td>2021-10-20 00:00:00</td><td>2021-10-08 00:00:00</td><td>2021-10-08 00:00:00</td><td>1.85972281e8</td><td>10.0</td><td>&quot;23.0&quot;</td><td>2023-05-30 23:07:43.640</td><td>12.0</td></tr><tr><td>5501410881</td><td>2021-07-26</td><td>&quot;GB10&quot;</td><td>&quot;8010023118&quot;</td><td>&quot;EH2 4DF&quot;</td><td>null</td><td>30.0</td><td>2.5000e9</td><td>&quot;Tolling&quot;</td><td>1.0</td><td>1.0</td><td>&quot;2770 SA201500S…</td><td>3014.0</td><td>null</td><td>2022-01-04 00:00:00</td><td>2021-09-14 00:00:00</td><td>2021-09-14 00:00:00</td><td>null</td><td>0.0</td><td>&quot;1.0&quot;</td><td>2023-05-30 23:07:43.640</td><td>112.0</td></tr><tr><td>5501410862</td><td>2021-07-26</td><td>&quot;GB10&quot;</td><td>&quot;8010023118&quot;</td><td>&quot;EH2 4DF&quot;</td><td>null</td><td>20.0</td><td>2.5000e9</td><td>&quot;Tolling&quot;</td><td>1.0</td><td>1.0</td><td>&quot;2770 SC201550S…</td><td>3014.0</td><td>null</td><td>2021-10-21 00:00:00</td><td>2021-10-19 00:00:00</td><td>2021-09-16 00:00:00</td><td>1.86059319e8</td><td>10.0</td><td>&quot;1.0&quot;</td><td>2023-05-30 23:07:43.640</td><td>2.0</td></tr><tr><td>5501410900</td><td>2021-07-26</td><td>&quot;CA10&quot;</td><td>&quot;8010005405&quot;</td><td>&quot;75039-3726&quot;</td><td>null</td><td>10.0</td><td>1.1000e9</td><td>&quot;Pumps &amp; Compre…</td><td>1.0</td><td>1.0</td><td>&quot;SHIM KIT DURIR…</td><td>4036.0</td><td>null</td><td>2021-08-04 00:00:00</td><td>2021-08-10 00:00:00</td><td>2021-08-10 00:00:00</td><td>null</td><td>0.0</td><td>&quot;15.0&quot;</td><td>2023-05-30 23:07:43.640</td><td>-6.0</td></tr><tr><td>5100146534</td><td>2021-07-26</td><td>&quot;US10&quot;</td><td>null</td><td>null</td><td>null</td><td>90.0</td><td>2.1000e9</td><td>&quot;Custom Manufac…</td><td>1.0</td><td>1.0</td><td>&quot;1385 64 C285A …</td><td>4016.0</td><td>2021-08-31 00:00:00</td><td>2021-08-31 00:00:00</td><td>2021-08-31 00:00:00</td><td>2021-08-31 00:00:00</td><td>1.85949787e8</td><td>900001.0</td><td>&quot;3.0&quot;</td><td>2021-11-08 03:52:05.270</td><td>0.0</td></tr><tr><td>5100146551</td><td>2021-07-26</td><td>&quot;US10&quot;</td><td>null</td><td>null</td><td>null</td><td>70.0</td><td>2.1000e9</td><td>&quot;Custom Manufac…</td><td>1.0</td><td>1.0</td><td>&quot;994 45 4620 TU…</td><td>4016.0</td><td>2021-09-14 00:00:00</td><td>2021-09-14 00:00:00</td><td>2021-07-25 00:00:00</td><td>2021-07-25 00:00:00</td><td>1.85979546e8</td><td>10.0</td><td>&quot;3.0&quot;</td><td>2021-11-08 03:52:05.270</td><td>51.0</td></tr><tr><td>2000008133</td><td>2021-07-26</td><td>&quot;US39&quot;</td><td>&quot;8010007849&quot;</td><td>&quot;02061-1612&quot;</td><td>null</td><td>10.0</td><td>null</td><td>&quot;Building Mater…</td><td>null</td><td>null</td><td>&quot;VENDOR : CLEAN…</td><td>4124.0</td><td>null</td><td>null</td><td>2021-07-21 00:00:00</td><td>2021-07-21 00:00:00</td><td>null</td><td>0.0</td><td>&quot;0.0&quot;</td><td>2023-09-07 10:07:29.323</td><td>null</td></tr><tr><td>5100146551</td><td>2021-07-26</td><td>&quot;US10&quot;</td><td>null</td><td>null</td><td>null</td><td>70.0</td><td>2.1000e9</td><td>&quot;Custom Manufac…</td><td>1.0</td><td>1.0</td><td>&quot;994 45 4620 TU…</td><td>4016.0</td><td>2021-09-14 00:00:00</td><td>2021-09-14 00:00:00</td><td>2021-09-14 00:00:00</td><td>2021-09-14 00:00:00</td><td>1.85979546e8</td><td>10.0</td><td>&quot;3.0&quot;</td><td>2021-11-08 03:52:05.270</td><td>0.0</td></tr><tr><td>5501410915</td><td>2021-07-26</td><td>&quot;US10&quot;</td><td>&quot;8010004406&quot;</td><td>&quot;38197-0100&quot;</td><td>null</td><td>20.0</td><td>3.1000e9</td><td>&quot;CORRUGATED&quot;</td><td>1.0</td><td>1.0</td><td>&quot;PAD OCTAGONAL …</td><td>4014.0</td><td>null</td><td>2021-10-05 00:00:00</td><td>2021-09-24 00:00:00</td><td>2021-09-24 00:00:00</td><td>null</td><td>0.0</td><td>&quot;0.0&quot;</td><td>2023-05-30 23:07:43.640</td><td>11.0</td></tr><tr><td>5501410909</td><td>2021-07-26</td><td>&quot;US39&quot;</td><td>&quot;8010099344&quot;</td><td>&quot;77536&quot;</td><td>null</td><td>10.0</td><td>null</td><td>&quot;Industrial Cle…</td><td>null</td><td>null</td><td>&quot;COVER COST OF …</td><td>4124.0</td><td>null</td><td>2021-08-10 00:00:00</td><td>2021-08-02 00:00:00</td><td>2021-08-02 00:00:00</td><td>null</td><td>0.0</td><td>&quot;0.0&quot;</td><td>2023-09-07 10:07:29.323</td><td>8.0</td></tr><tr><td>5100146539</td><td>2021-07-26</td><td>&quot;US10&quot;</td><td>null</td><td>null</td><td>null</td><td>10.0</td><td>2.1000e9</td><td>&quot;Custom Manufac…</td><td>1.0</td><td>1.0</td><td>&quot;994 45 1325A T…</td><td>4016.0</td><td>null</td><td>2021-07-27 00:00:00</td><td>2021-07-28 00:00:00</td><td>2021-07-28 00:00:00</td><td>1.85877852e8</td><td>10.0</td><td>&quot;3.0&quot;</td><td>2021-11-08 03:52:05.270</td><td>-1.0</td></tr></tbody></table></div>"
      ],
      "text/plain": [
       "shape: (1_000, 22)\n",
       "┌───────────┬───────────┬───────────┬───────────┬───┬───────────┬───────────┬───────────┬──────────┐\n",
       "│ PURCHASE_ ┆ CREATE_DA ┆ COMPANY_C ┆ VENDOR_ID ┆ … ┆ INBOUND_D ┆ PLANNED_D ┆ BI_LAST_U ┆ Time_Dif │\n",
       "│ DOCUMENT_ ┆ TE        ┆ ODE_ID    ┆ ---       ┆   ┆ ELIVERY_I ┆ ELIVERY_D ┆ PDATED_PU ┆ ference  │\n",
       "│ ID        ┆ ---       ┆ ---       ┆ str       ┆   ┆ TEM_ID    ┆ AYS       ┆ RCHASE_DO ┆ ---      │\n",
       "│ ---       ┆ date      ┆ str       ┆           ┆   ┆ ---       ┆ ---       ┆ CUMEN…    ┆ f64      │\n",
       "│ i64       ┆           ┆           ┆           ┆   ┆ f64       ┆ str       ┆ ---       ┆          │\n",
       "│           ┆           ┆           ┆           ┆   ┆           ┆           ┆ datetime[ ┆          │\n",
       "│           ┆           ┆           ┆           ┆   ┆           ┆           ┆ ns]       ┆          │\n",
       "╞═══════════╪═══════════╪═══════════╪═══════════╪═══╪═══════════╪═══════════╪═══════════╪══════════╡\n",
       "│ 550141037 ┆ 2021-07-2 ┆ US39      ┆ 801009753 ┆ … ┆ 0.0       ┆ 14.0      ┆ 2023-05-3 ┆ 26.0     │\n",
       "│ 0         ┆ 3         ┆           ┆ 7         ┆   ┆           ┆           ┆ 0 23:07:4 ┆          │\n",
       "│           ┆           ┆           ┆           ┆   ┆           ┆           ┆ 3.640     ┆          │\n",
       "│ 510014645 ┆ 2021-07-2 ┆ CA10      ┆ null      ┆ … ┆ 0.0       ┆ 0.0       ┆ 2021-11-0 ┆ null     │\n",
       "│ 1         ┆ 3         ┆           ┆           ┆   ┆           ┆           ┆ 8 03:52:0 ┆          │\n",
       "│           ┆           ┆           ┆           ┆   ┆           ┆           ┆ 5.270     ┆          │\n",
       "│ 550141039 ┆ 2021-07-2 ┆ US39      ┆ 801009941 ┆ … ┆ 10.0      ┆ 1.0       ┆ 2023-05-3 ┆ 3.0      │\n",
       "│ 9         ┆ 3         ┆           ┆ 1         ┆   ┆           ┆           ┆ 0 23:07:4 ┆          │\n",
       "│           ┆           ┆           ┆           ┆   ┆           ┆           ┆ 3.640     ┆          │\n",
       "│ 550141039 ┆ 2021-07-2 ┆ US39      ┆ 801009941 ┆ … ┆ 10.0      ┆ 1.0       ┆ 2023-05-3 ┆ 3.0      │\n",
       "│ 4         ┆ 3         ┆           ┆ 1         ┆   ┆           ┆           ┆ 0 23:07:4 ┆          │\n",
       "│           ┆           ┆           ┆           ┆   ┆           ┆           ┆ 3.640     ┆          │\n",
       "│ …         ┆ …         ┆ …         ┆ …         ┆ … ┆ …         ┆ …         ┆ …         ┆ …        │\n",
       "│ 510014655 ┆ 2021-07-2 ┆ US10      ┆ null      ┆ … ┆ 10.0      ┆ 3.0       ┆ 2021-11-0 ┆ 0.0      │\n",
       "│ 1         ┆ 6         ┆           ┆           ┆   ┆           ┆           ┆ 8 03:52:0 ┆          │\n",
       "│           ┆           ┆           ┆           ┆   ┆           ┆           ┆ 5.270     ┆          │\n",
       "│ 550141091 ┆ 2021-07-2 ┆ US10      ┆ 801000440 ┆ … ┆ 0.0       ┆ 0.0       ┆ 2023-05-3 ┆ 11.0     │\n",
       "│ 5         ┆ 6         ┆           ┆ 6         ┆   ┆           ┆           ┆ 0 23:07:4 ┆          │\n",
       "│           ┆           ┆           ┆           ┆   ┆           ┆           ┆ 3.640     ┆          │\n",
       "│ 550141090 ┆ 2021-07-2 ┆ US39      ┆ 801009934 ┆ … ┆ 0.0       ┆ 0.0       ┆ 2023-09-0 ┆ 8.0      │\n",
       "│ 9         ┆ 6         ┆           ┆ 4         ┆   ┆           ┆           ┆ 7 10:07:2 ┆          │\n",
       "│           ┆           ┆           ┆           ┆   ┆           ┆           ┆ 9.323     ┆          │\n",
       "│ 510014653 ┆ 2021-07-2 ┆ US10      ┆ null      ┆ … ┆ 10.0      ┆ 3.0       ┆ 2021-11-0 ┆ -1.0     │\n",
       "│ 9         ┆ 6         ┆           ┆           ┆   ┆           ┆           ┆ 8 03:52:0 ┆          │\n",
       "│           ┆           ┆           ┆           ┆   ┆           ┆           ┆ 5.270     ┆          │\n",
       "└───────────┴───────────┴───────────┴───────────┴───┴───────────┴───────────┴───────────┴──────────┘"
      ]
     },
     "execution_count": 39,
     "metadata": {},
     "output_type": "execute_result"
    }
   ],
   "source": [
    "coke.tail(1000)"
   ]
  },
  {
   "cell_type": "code",
   "execution_count": 40,
   "metadata": {},
   "outputs": [],
   "source": [
    "coke = coke.with_columns([\n",
    "    pl.col('CREATE_DATE').dt.weekday().alias('day_of_week'),  # Monday=0, Sunday=6\n",
    "    pl.col('CREATE_DATE').dt.month().alias('month'),\n",
    "    pl.col('CREATE_DATE').dt.quarter().alias('quarter')\n",
    "])"
   ]
  },
  {
   "cell_type": "code",
   "execution_count": 41,
   "metadata": {},
   "outputs": [
    {
     "data": {
      "text/html": [
       "<div><style>\n",
       ".dataframe > thead > tr,\n",
       ".dataframe > tbody > tr {\n",
       "  text-align: right;\n",
       "  white-space: pre-wrap;\n",
       "}\n",
       "</style>\n",
       "<small>shape: (5, 25)</small><table border=\"1\" class=\"dataframe\"><thead><tr><th>PURCHASE_DOCUMENT_ID</th><th>CREATE_DATE</th><th>COMPANY_CODE_ID</th><th>VENDOR_ID</th><th>POSTAL_CD</th><th>RELEASE_DATE</th><th>PURCHASE_DOCUMENT_ITEM_ID</th><th>MATERIAL_ID</th><th>SUB_COMMODITY_DESC</th><th>MRP_TYPE_ID</th><th>MRP_TYPE_DESC_E</th><th>SHORT_TEXT</th><th>PLANT_ID</th><th>POR_DELIVERY_DATE</th><th>FIRST_GR_POSTING_DATE</th><th>DELIVERY_DATE</th><th>REQUESTED_DELIVERY_DATE</th><th>INBOUND_DELIVERY_ID</th><th>INBOUND_DELIVERY_ITEM_ID</th><th>PLANNED_DELIVERY_DAYS</th><th>BI_LAST_UPDATED_PURCHASE_DOCUMENT_ITEM</th><th>Time_Difference</th><th>day_of_week</th><th>month</th><th>quarter</th></tr><tr><td>i64</td><td>date</td><td>str</td><td>str</td><td>str</td><td>f64</td><td>f64</td><td>f64</td><td>str</td><td>f64</td><td>f64</td><td>str</td><td>f64</td><td>datetime[ns]</td><td>datetime[ns]</td><td>datetime[ns]</td><td>datetime[ns]</td><td>f64</td><td>f64</td><td>str</td><td>datetime[ns]</td><td>f64</td><td>u32</td><td>u32</td><td>u32</td></tr></thead><tbody><tr><td>2000008134</td><td>2021-07-26</td><td>&quot;CA10&quot;</td><td>&quot;8010005836&quot;</td><td>&quot;N2C 0B7&quot;</td><td>null</td><td>30.0</td><td>null</td><td>&quot;Machinery &amp; Eq…</td><td>null</td><td>null</td><td>&quot;1/2&quot; OD x 0.06…</td><td>4036.0</td><td>null</td><td>2021-08-12 00:00:00</td><td>2021-08-06 00:00:00</td><td>2021-08-06 00:00:00</td><td>null</td><td>0.0</td><td>&quot;0.0&quot;</td><td>2023-05-30 23:07:43.640</td><td>6.0</td><td>1</td><td>7</td><td>3</td></tr><tr><td>5100146560</td><td>2021-07-26</td><td>&quot;US10&quot;</td><td>null</td><td>null</td><td>null</td><td>130.0</td><td>2.1000e9</td><td>&quot;Custom Manufac…</td><td>1.0</td><td>1.0</td><td>&quot;994 45 9951A T…</td><td>4016.0</td><td>2021-09-14 00:00:00</td><td>2021-09-14 00:00:00</td><td>2021-09-10 00:00:00</td><td>2021-09-10 00:00:00</td><td>1.85979544e8</td><td>10.0</td><td>&quot;3.0&quot;</td><td>2021-11-08 03:52:05.270</td><td>4.0</td><td>1</td><td>7</td><td>3</td></tr><tr><td>5501410919</td><td>2021-07-26</td><td>&quot;CA10&quot;</td><td>&quot;8010003139&quot;</td><td>&quot;L6H 5T5&quot;</td><td>null</td><td>10.0</td><td>null</td><td>&quot;Infrastructure…</td><td>null</td><td>null</td><td>&quot;B66 RECHARGE P…</td><td>4036.0</td><td>null</td><td>null</td><td>2021-08-02 00:00:00</td><td>2021-08-02 00:00:00</td><td>null</td><td>0.0</td><td>&quot;0.0&quot;</td><td>2023-09-07 10:07:29.323</td><td>null</td><td>1</td><td>7</td><td>3</td></tr><tr><td>2000008138</td><td>2021-07-26</td><td>&quot;CA10&quot;</td><td>&quot;8010005836&quot;</td><td>&quot;N2C 0B7&quot;</td><td>null</td><td>20.0</td><td>null</td><td>&quot;Piping &amp; Tubin…</td><td>null</td><td>null</td><td>&quot;5/8&quot; x 50 ft B…</td><td>4036.0</td><td>null</td><td>2021-08-03 00:00:00</td><td>2021-08-27 00:00:00</td><td>2021-08-27 00:00:00</td><td>null</td><td>0.0</td><td>&quot;0.0&quot;</td><td>2023-05-30 23:07:43.640</td><td>-24.0</td><td>1</td><td>7</td><td>3</td></tr><tr><td>2000008136</td><td>2021-07-26</td><td>&quot;CA10&quot;</td><td>&quot;8010005836&quot;</td><td>&quot;N2C 0B7&quot;</td><td>null</td><td>40.0</td><td>null</td><td>&quot;Material Handl…</td><td>null</td><td>null</td><td>&quot;4XL - HI-VIZ S…</td><td>4036.0</td><td>null</td><td>2021-07-30 00:00:00</td><td>2021-08-05 00:00:00</td><td>2021-08-05 00:00:00</td><td>null</td><td>0.0</td><td>&quot;0.0&quot;</td><td>2023-05-30 23:07:43.640</td><td>-6.0</td><td>1</td><td>7</td><td>3</td></tr></tbody></table></div>"
      ],
      "text/plain": [
       "shape: (5, 25)\n",
       "┌────────────┬────────────┬────────────┬────────────┬───┬────────────┬───────────┬───────┬─────────┐\n",
       "│ PURCHASE_D ┆ CREATE_DAT ┆ COMPANY_CO ┆ VENDOR_ID  ┆ … ┆ Time_Diffe ┆ day_of_we ┆ month ┆ quarter │\n",
       "│ OCUMENT_ID ┆ E          ┆ DE_ID      ┆ ---        ┆   ┆ rence      ┆ ek        ┆ ---   ┆ ---     │\n",
       "│ ---        ┆ ---        ┆ ---        ┆ str        ┆   ┆ ---        ┆ ---       ┆ u32   ┆ u32     │\n",
       "│ i64        ┆ date       ┆ str        ┆            ┆   ┆ f64        ┆ u32       ┆       ┆         │\n",
       "╞════════════╪════════════╪════════════╪════════════╪═══╪════════════╪═══════════╪═══════╪═════════╡\n",
       "│ 2000008134 ┆ 2021-07-26 ┆ CA10       ┆ 8010005836 ┆ … ┆ 6.0        ┆ 1         ┆ 7     ┆ 3       │\n",
       "│ 5100146560 ┆ 2021-07-26 ┆ US10       ┆ null       ┆ … ┆ 4.0        ┆ 1         ┆ 7     ┆ 3       │\n",
       "│ 5501410919 ┆ 2021-07-26 ┆ CA10       ┆ 8010003139 ┆ … ┆ null       ┆ 1         ┆ 7     ┆ 3       │\n",
       "│ 2000008138 ┆ 2021-07-26 ┆ CA10       ┆ 8010005836 ┆ … ┆ -24.0      ┆ 1         ┆ 7     ┆ 3       │\n",
       "│ 2000008136 ┆ 2021-07-26 ┆ CA10       ┆ 8010005836 ┆ … ┆ -6.0       ┆ 1         ┆ 7     ┆ 3       │\n",
       "└────────────┴────────────┴────────────┴────────────┴───┴────────────┴───────────┴───────┴─────────┘"
      ]
     },
     "execution_count": 41,
     "metadata": {},
     "output_type": "execute_result"
    }
   ],
   "source": [
    "coke.head()"
   ]
  },
  {
   "cell_type": "code",
   "execution_count": 42,
   "metadata": {},
   "outputs": [],
   "source": [
    "value_counts = coke.group_by('day_of_week').agg(pl.count('day_of_week').alias('frequency'))\n",
    "\n",
    "value_counts_sorted = value_counts.sort('frequency')"
   ]
  },
  {
   "cell_type": "code",
   "execution_count": 43,
   "metadata": {},
   "outputs": [
    {
     "data": {
      "application/vnd.plotly.v1+json": {
       "config": {
        "plotlyServerURL": "https://plot.ly"
       },
       "data": [
        {
         "alignmentgroup": "True",
         "hovertemplate": "Day of the Week=%{x}<br>Frequency=%{y}<extra></extra>",
         "legendgroup": "Monday",
         "marker": {
          "color": "#636efa",
          "pattern": {
           "shape": ""
          }
         },
         "name": "Monday",
         "offsetgroup": "Monday",
         "orientation": "v",
         "showlegend": true,
         "textposition": "auto",
         "type": "bar",
         "x": [
          "Monday"
         ],
         "xaxis": "x",
         "y": [
          203297
         ],
         "yaxis": "y"
        },
        {
         "alignmentgroup": "True",
         "hovertemplate": "Day of the Week=%{x}<br>Frequency=%{y}<extra></extra>",
         "legendgroup": "Tuesday",
         "marker": {
          "color": "#EF553B",
          "pattern": {
           "shape": ""
          }
         },
         "name": "Tuesday",
         "offsetgroup": "Tuesday",
         "orientation": "v",
         "showlegend": true,
         "textposition": "auto",
         "type": "bar",
         "x": [
          "Tuesday"
         ],
         "xaxis": "x",
         "y": [
          232429
         ],
         "yaxis": "y"
        },
        {
         "alignmentgroup": "True",
         "hovertemplate": "Day of the Week=%{x}<br>Frequency=%{y}<extra></extra>",
         "legendgroup": "Wednesday",
         "marker": {
          "color": "#00cc96",
          "pattern": {
           "shape": ""
          }
         },
         "name": "Wednesday",
         "offsetgroup": "Wednesday",
         "orientation": "v",
         "showlegend": true,
         "textposition": "auto",
         "type": "bar",
         "x": [
          "Wednesday"
         ],
         "xaxis": "x",
         "y": [
          238367
         ],
         "yaxis": "y"
        },
        {
         "alignmentgroup": "True",
         "hovertemplate": "Day of the Week=%{x}<br>Frequency=%{y}<extra></extra>",
         "legendgroup": "Thursday",
         "marker": {
          "color": "#ab63fa",
          "pattern": {
           "shape": ""
          }
         },
         "name": "Thursday",
         "offsetgroup": "Thursday",
         "orientation": "v",
         "showlegend": true,
         "textposition": "auto",
         "type": "bar",
         "x": [
          "Thursday"
         ],
         "xaxis": "x",
         "y": [
          228067
         ],
         "yaxis": "y"
        },
        {
         "alignmentgroup": "True",
         "hovertemplate": "Day of the Week=%{x}<br>Frequency=%{y}<extra></extra>",
         "legendgroup": "Friday",
         "marker": {
          "color": "#FFA15A",
          "pattern": {
           "shape": ""
          }
         },
         "name": "Friday",
         "offsetgroup": "Friday",
         "orientation": "v",
         "showlegend": true,
         "textposition": "auto",
         "type": "bar",
         "x": [
          "Friday"
         ],
         "xaxis": "x",
         "y": [
          193197
         ],
         "yaxis": "y"
        },
        {
         "alignmentgroup": "True",
         "hovertemplate": "Day of the Week=%{x}<br>Frequency=%{y}<extra></extra>",
         "legendgroup": "Saturday",
         "marker": {
          "color": "#19d3f3",
          "pattern": {
           "shape": ""
          }
         },
         "name": "Saturday",
         "offsetgroup": "Saturday",
         "orientation": "v",
         "showlegend": true,
         "textposition": "auto",
         "type": "bar",
         "x": [
          "Saturday"
         ],
         "xaxis": "x",
         "y": [
          26518
         ],
         "yaxis": "y"
        },
        {
         "alignmentgroup": "True",
         "hovertemplate": "Day of the Week=%{x}<br>Frequency=%{y}<extra></extra>",
         "legendgroup": "Sunday",
         "marker": {
          "color": "#FF6692",
          "pattern": {
           "shape": ""
          }
         },
         "name": "Sunday",
         "offsetgroup": "Sunday",
         "orientation": "v",
         "showlegend": true,
         "textposition": "auto",
         "type": "bar",
         "x": [
          "Sunday"
         ],
         "xaxis": "x",
         "y": [
          17532
         ],
         "yaxis": "y"
        }
       ],
       "layout": {
        "barmode": "relative",
        "legend": {
         "title": {
          "text": "Day of the Week"
         },
         "tracegroupgap": 0
        },
        "template": {
         "data": {
          "bar": [
           {
            "error_x": {
             "color": "#2a3f5f"
            },
            "error_y": {
             "color": "#2a3f5f"
            },
            "marker": {
             "line": {
              "color": "#E5ECF6",
              "width": 0.5
             },
             "pattern": {
              "fillmode": "overlay",
              "size": 10,
              "solidity": 0.2
             }
            },
            "type": "bar"
           }
          ],
          "barpolar": [
           {
            "marker": {
             "line": {
              "color": "#E5ECF6",
              "width": 0.5
             },
             "pattern": {
              "fillmode": "overlay",
              "size": 10,
              "solidity": 0.2
             }
            },
            "type": "barpolar"
           }
          ],
          "carpet": [
           {
            "aaxis": {
             "endlinecolor": "#2a3f5f",
             "gridcolor": "white",
             "linecolor": "white",
             "minorgridcolor": "white",
             "startlinecolor": "#2a3f5f"
            },
            "baxis": {
             "endlinecolor": "#2a3f5f",
             "gridcolor": "white",
             "linecolor": "white",
             "minorgridcolor": "white",
             "startlinecolor": "#2a3f5f"
            },
            "type": "carpet"
           }
          ],
          "choropleth": [
           {
            "colorbar": {
             "outlinewidth": 0,
             "ticks": ""
            },
            "type": "choropleth"
           }
          ],
          "contour": [
           {
            "colorbar": {
             "outlinewidth": 0,
             "ticks": ""
            },
            "colorscale": [
             [
              0,
              "#0d0887"
             ],
             [
              0.1111111111111111,
              "#46039f"
             ],
             [
              0.2222222222222222,
              "#7201a8"
             ],
             [
              0.3333333333333333,
              "#9c179e"
             ],
             [
              0.4444444444444444,
              "#bd3786"
             ],
             [
              0.5555555555555556,
              "#d8576b"
             ],
             [
              0.6666666666666666,
              "#ed7953"
             ],
             [
              0.7777777777777778,
              "#fb9f3a"
             ],
             [
              0.8888888888888888,
              "#fdca26"
             ],
             [
              1,
              "#f0f921"
             ]
            ],
            "type": "contour"
           }
          ],
          "contourcarpet": [
           {
            "colorbar": {
             "outlinewidth": 0,
             "ticks": ""
            },
            "type": "contourcarpet"
           }
          ],
          "heatmap": [
           {
            "colorbar": {
             "outlinewidth": 0,
             "ticks": ""
            },
            "colorscale": [
             [
              0,
              "#0d0887"
             ],
             [
              0.1111111111111111,
              "#46039f"
             ],
             [
              0.2222222222222222,
              "#7201a8"
             ],
             [
              0.3333333333333333,
              "#9c179e"
             ],
             [
              0.4444444444444444,
              "#bd3786"
             ],
             [
              0.5555555555555556,
              "#d8576b"
             ],
             [
              0.6666666666666666,
              "#ed7953"
             ],
             [
              0.7777777777777778,
              "#fb9f3a"
             ],
             [
              0.8888888888888888,
              "#fdca26"
             ],
             [
              1,
              "#f0f921"
             ]
            ],
            "type": "heatmap"
           }
          ],
          "heatmapgl": [
           {
            "colorbar": {
             "outlinewidth": 0,
             "ticks": ""
            },
            "colorscale": [
             [
              0,
              "#0d0887"
             ],
             [
              0.1111111111111111,
              "#46039f"
             ],
             [
              0.2222222222222222,
              "#7201a8"
             ],
             [
              0.3333333333333333,
              "#9c179e"
             ],
             [
              0.4444444444444444,
              "#bd3786"
             ],
             [
              0.5555555555555556,
              "#d8576b"
             ],
             [
              0.6666666666666666,
              "#ed7953"
             ],
             [
              0.7777777777777778,
              "#fb9f3a"
             ],
             [
              0.8888888888888888,
              "#fdca26"
             ],
             [
              1,
              "#f0f921"
             ]
            ],
            "type": "heatmapgl"
           }
          ],
          "histogram": [
           {
            "marker": {
             "pattern": {
              "fillmode": "overlay",
              "size": 10,
              "solidity": 0.2
             }
            },
            "type": "histogram"
           }
          ],
          "histogram2d": [
           {
            "colorbar": {
             "outlinewidth": 0,
             "ticks": ""
            },
            "colorscale": [
             [
              0,
              "#0d0887"
             ],
             [
              0.1111111111111111,
              "#46039f"
             ],
             [
              0.2222222222222222,
              "#7201a8"
             ],
             [
              0.3333333333333333,
              "#9c179e"
             ],
             [
              0.4444444444444444,
              "#bd3786"
             ],
             [
              0.5555555555555556,
              "#d8576b"
             ],
             [
              0.6666666666666666,
              "#ed7953"
             ],
             [
              0.7777777777777778,
              "#fb9f3a"
             ],
             [
              0.8888888888888888,
              "#fdca26"
             ],
             [
              1,
              "#f0f921"
             ]
            ],
            "type": "histogram2d"
           }
          ],
          "histogram2dcontour": [
           {
            "colorbar": {
             "outlinewidth": 0,
             "ticks": ""
            },
            "colorscale": [
             [
              0,
              "#0d0887"
             ],
             [
              0.1111111111111111,
              "#46039f"
             ],
             [
              0.2222222222222222,
              "#7201a8"
             ],
             [
              0.3333333333333333,
              "#9c179e"
             ],
             [
              0.4444444444444444,
              "#bd3786"
             ],
             [
              0.5555555555555556,
              "#d8576b"
             ],
             [
              0.6666666666666666,
              "#ed7953"
             ],
             [
              0.7777777777777778,
              "#fb9f3a"
             ],
             [
              0.8888888888888888,
              "#fdca26"
             ],
             [
              1,
              "#f0f921"
             ]
            ],
            "type": "histogram2dcontour"
           }
          ],
          "mesh3d": [
           {
            "colorbar": {
             "outlinewidth": 0,
             "ticks": ""
            },
            "type": "mesh3d"
           }
          ],
          "parcoords": [
           {
            "line": {
             "colorbar": {
              "outlinewidth": 0,
              "ticks": ""
             }
            },
            "type": "parcoords"
           }
          ],
          "pie": [
           {
            "automargin": true,
            "type": "pie"
           }
          ],
          "scatter": [
           {
            "fillpattern": {
             "fillmode": "overlay",
             "size": 10,
             "solidity": 0.2
            },
            "type": "scatter"
           }
          ],
          "scatter3d": [
           {
            "line": {
             "colorbar": {
              "outlinewidth": 0,
              "ticks": ""
             }
            },
            "marker": {
             "colorbar": {
              "outlinewidth": 0,
              "ticks": ""
             }
            },
            "type": "scatter3d"
           }
          ],
          "scattercarpet": [
           {
            "marker": {
             "colorbar": {
              "outlinewidth": 0,
              "ticks": ""
             }
            },
            "type": "scattercarpet"
           }
          ],
          "scattergeo": [
           {
            "marker": {
             "colorbar": {
              "outlinewidth": 0,
              "ticks": ""
             }
            },
            "type": "scattergeo"
           }
          ],
          "scattergl": [
           {
            "marker": {
             "colorbar": {
              "outlinewidth": 0,
              "ticks": ""
             }
            },
            "type": "scattergl"
           }
          ],
          "scattermapbox": [
           {
            "marker": {
             "colorbar": {
              "outlinewidth": 0,
              "ticks": ""
             }
            },
            "type": "scattermapbox"
           }
          ],
          "scatterpolar": [
           {
            "marker": {
             "colorbar": {
              "outlinewidth": 0,
              "ticks": ""
             }
            },
            "type": "scatterpolar"
           }
          ],
          "scatterpolargl": [
           {
            "marker": {
             "colorbar": {
              "outlinewidth": 0,
              "ticks": ""
             }
            },
            "type": "scatterpolargl"
           }
          ],
          "scatterternary": [
           {
            "marker": {
             "colorbar": {
              "outlinewidth": 0,
              "ticks": ""
             }
            },
            "type": "scatterternary"
           }
          ],
          "surface": [
           {
            "colorbar": {
             "outlinewidth": 0,
             "ticks": ""
            },
            "colorscale": [
             [
              0,
              "#0d0887"
             ],
             [
              0.1111111111111111,
              "#46039f"
             ],
             [
              0.2222222222222222,
              "#7201a8"
             ],
             [
              0.3333333333333333,
              "#9c179e"
             ],
             [
              0.4444444444444444,
              "#bd3786"
             ],
             [
              0.5555555555555556,
              "#d8576b"
             ],
             [
              0.6666666666666666,
              "#ed7953"
             ],
             [
              0.7777777777777778,
              "#fb9f3a"
             ],
             [
              0.8888888888888888,
              "#fdca26"
             ],
             [
              1,
              "#f0f921"
             ]
            ],
            "type": "surface"
           }
          ],
          "table": [
           {
            "cells": {
             "fill": {
              "color": "#EBF0F8"
             },
             "line": {
              "color": "white"
             }
            },
            "header": {
             "fill": {
              "color": "#C8D4E3"
             },
             "line": {
              "color": "white"
             }
            },
            "type": "table"
           }
          ]
         },
         "layout": {
          "annotationdefaults": {
           "arrowcolor": "#2a3f5f",
           "arrowhead": 0,
           "arrowwidth": 1
          },
          "autotypenumbers": "strict",
          "coloraxis": {
           "colorbar": {
            "outlinewidth": 0,
            "ticks": ""
           }
          },
          "colorscale": {
           "diverging": [
            [
             0,
             "#8e0152"
            ],
            [
             0.1,
             "#c51b7d"
            ],
            [
             0.2,
             "#de77ae"
            ],
            [
             0.3,
             "#f1b6da"
            ],
            [
             0.4,
             "#fde0ef"
            ],
            [
             0.5,
             "#f7f7f7"
            ],
            [
             0.6,
             "#e6f5d0"
            ],
            [
             0.7,
             "#b8e186"
            ],
            [
             0.8,
             "#7fbc41"
            ],
            [
             0.9,
             "#4d9221"
            ],
            [
             1,
             "#276419"
            ]
           ],
           "sequential": [
            [
             0,
             "#0d0887"
            ],
            [
             0.1111111111111111,
             "#46039f"
            ],
            [
             0.2222222222222222,
             "#7201a8"
            ],
            [
             0.3333333333333333,
             "#9c179e"
            ],
            [
             0.4444444444444444,
             "#bd3786"
            ],
            [
             0.5555555555555556,
             "#d8576b"
            ],
            [
             0.6666666666666666,
             "#ed7953"
            ],
            [
             0.7777777777777778,
             "#fb9f3a"
            ],
            [
             0.8888888888888888,
             "#fdca26"
            ],
            [
             1,
             "#f0f921"
            ]
           ],
           "sequentialminus": [
            [
             0,
             "#0d0887"
            ],
            [
             0.1111111111111111,
             "#46039f"
            ],
            [
             0.2222222222222222,
             "#7201a8"
            ],
            [
             0.3333333333333333,
             "#9c179e"
            ],
            [
             0.4444444444444444,
             "#bd3786"
            ],
            [
             0.5555555555555556,
             "#d8576b"
            ],
            [
             0.6666666666666666,
             "#ed7953"
            ],
            [
             0.7777777777777778,
             "#fb9f3a"
            ],
            [
             0.8888888888888888,
             "#fdca26"
            ],
            [
             1,
             "#f0f921"
            ]
           ]
          },
          "colorway": [
           "#636efa",
           "#EF553B",
           "#00cc96",
           "#ab63fa",
           "#FFA15A",
           "#19d3f3",
           "#FF6692",
           "#B6E880",
           "#FF97FF",
           "#FECB52"
          ],
          "font": {
           "color": "#2a3f5f"
          },
          "geo": {
           "bgcolor": "white",
           "lakecolor": "white",
           "landcolor": "#E5ECF6",
           "showlakes": true,
           "showland": true,
           "subunitcolor": "white"
          },
          "hoverlabel": {
           "align": "left"
          },
          "hovermode": "closest",
          "mapbox": {
           "style": "light"
          },
          "paper_bgcolor": "white",
          "plot_bgcolor": "#E5ECF6",
          "polar": {
           "angularaxis": {
            "gridcolor": "white",
            "linecolor": "white",
            "ticks": ""
           },
           "bgcolor": "#E5ECF6",
           "radialaxis": {
            "gridcolor": "white",
            "linecolor": "white",
            "ticks": ""
           }
          },
          "scene": {
           "xaxis": {
            "backgroundcolor": "#E5ECF6",
            "gridcolor": "white",
            "gridwidth": 2,
            "linecolor": "white",
            "showbackground": true,
            "ticks": "",
            "zerolinecolor": "white"
           },
           "yaxis": {
            "backgroundcolor": "#E5ECF6",
            "gridcolor": "white",
            "gridwidth": 2,
            "linecolor": "white",
            "showbackground": true,
            "ticks": "",
            "zerolinecolor": "white"
           },
           "zaxis": {
            "backgroundcolor": "#E5ECF6",
            "gridcolor": "white",
            "gridwidth": 2,
            "linecolor": "white",
            "showbackground": true,
            "ticks": "",
            "zerolinecolor": "white"
           }
          },
          "shapedefaults": {
           "line": {
            "color": "#2a3f5f"
           }
          },
          "ternary": {
           "aaxis": {
            "gridcolor": "white",
            "linecolor": "white",
            "ticks": ""
           },
           "baxis": {
            "gridcolor": "white",
            "linecolor": "white",
            "ticks": ""
           },
           "bgcolor": "#E5ECF6",
           "caxis": {
            "gridcolor": "white",
            "linecolor": "white",
            "ticks": ""
           }
          },
          "title": {
           "x": 0.05
          },
          "xaxis": {
           "automargin": true,
           "gridcolor": "white",
           "linecolor": "white",
           "ticks": "",
           "title": {
            "standoff": 15
           },
           "zerolinecolor": "white",
           "zerolinewidth": 2
          },
          "yaxis": {
           "automargin": true,
           "gridcolor": "white",
           "linecolor": "white",
           "ticks": "",
           "title": {
            "standoff": 15
           },
           "zerolinecolor": "white",
           "zerolinewidth": 2
          }
         }
        },
        "title": {
         "text": "Frequency of Days of the Week When Purchased"
        },
        "xaxis": {
         "anchor": "y",
         "categoryarray": [
          "Monday",
          "Tuesday",
          "Wednesday",
          "Thursday",
          "Friday",
          "Saturday",
          "Sunday"
         ],
         "categoryorder": "array",
         "domain": [
          0,
          1
         ],
         "title": {
          "text": "Day of the Week"
         }
        },
        "yaxis": {
         "anchor": "x",
         "domain": [
          0,
          1
         ],
         "title": {
          "text": "Frequency"
         }
        }
       }
      }
     },
     "metadata": {},
     "output_type": "display_data"
    }
   ],
   "source": [
    "import plotly.express as px\n",
    "df = value_counts_sorted.to_pandas()\n",
    "# Map the numeric day of the week to actual day names for better readability\n",
    "day_names = {1: 'Monday', 2: 'Tuesday', 3: 'Wednesday', 4: 'Thursday', \n",
    "             5: 'Friday', 6: 'Saturday', 7: 'Sunday'}\n",
    "df['day_name'] = df['day_of_week'].map(day_names)\n",
    "\n",
    "# Sort the DataFrame by 'day_of_week' to ensure the days are in the correct order\n",
    "df = df.sort_values('day_of_week')\n",
    "\n",
    "# Create the bar chart using Plotly Express\n",
    "fig = px.bar(df, x='day_name', y='frequency', \n",
    "             title='Frequency of Days of the Week When Purchased',\n",
    "             labels={'day_name': 'Day of the Week', 'frequency': 'Frequency'},\n",
    "             color='day_name')\n",
    "\n",
    "# Show the plot\n",
    "fig.show()"
   ]
  },
  {
   "cell_type": "code",
   "execution_count": 44,
   "metadata": {},
   "outputs": [
    {
     "name": "stderr",
     "output_type": "stream",
     "text": [
      "/var/folders/jf/5crtmt7n2rl3tww1rbt55bd80000gn/T/ipykernel_2156/2902027795.py:3: ChronoFormatWarning:\n",
      "\n",
      "Detected the pattern `.%f` in the chrono format string. This pattern should not be used to parse values after a decimal point. Use `%.f` instead. See the full specification: https://docs.rs/chrono/latest/chrono/format/strftime\n",
      "\n"
     ]
    }
   ],
   "source": [
    "coke = coke.with_columns(pl.col('DELIVERY_DATE').cast(pl.Utf8))\n",
    "coke = coke.with_columns(\n",
    "    pl.col(\"DELIVERY_DATE\").str.strptime(pl.Datetime, \"%Y-%m-%d %H:%M:%S.%f\")\n",
    ")\n",
    "\n",
    "coke = coke.with_columns([\n",
    "    pl.col('DELIVERY_DATE').dt.weekday().alias('D_day_of_week'),  # Monday=0, Sunday=6\n",
    "])\n",
    "value_counts = coke.group_by('D_day_of_week').agg(pl.count('D_day_of_week').alias('D_frequency'))\n",
    "\n",
    "value_counts_sorted_D = value_counts.sort('D_frequency')"
   ]
  },
  {
   "cell_type": "code",
   "execution_count": 45,
   "metadata": {},
   "outputs": [
    {
     "data": {
      "text/html": [
       "<div><style>\n",
       ".dataframe > thead > tr,\n",
       ".dataframe > tbody > tr {\n",
       "  text-align: right;\n",
       "  white-space: pre-wrap;\n",
       "}\n",
       "</style>\n",
       "<small>shape: (8, 2)</small><table border=\"1\" class=\"dataframe\"><thead><tr><th>D_day_of_week</th><th>D_frequency</th></tr><tr><td>u32</td><td>u32</td></tr></thead><tbody><tr><td>null</td><td>45651</td></tr><tr><td>7</td><td>74048</td></tr><tr><td>6</td><td>85618</td></tr><tr><td>3</td><td>164272</td></tr><tr><td>4</td><td>164285</td></tr><tr><td>2</td><td>181674</td></tr><tr><td>1</td><td>189535</td></tr><tr><td>5</td><td>234324</td></tr></tbody></table></div>"
      ],
      "text/plain": [
       "shape: (8, 2)\n",
       "┌───────────────┬─────────────┐\n",
       "│ D_day_of_week ┆ D_frequency │\n",
       "│ ---           ┆ ---         │\n",
       "│ u32           ┆ u32         │\n",
       "╞═══════════════╪═════════════╡\n",
       "│ null          ┆ 45651       │\n",
       "│ 7             ┆ 74048       │\n",
       "│ 6             ┆ 85618       │\n",
       "│ 3             ┆ 164272      │\n",
       "│ 4             ┆ 164285      │\n",
       "│ 2             ┆ 181674      │\n",
       "│ 1             ┆ 189535      │\n",
       "│ 5             ┆ 234324      │\n",
       "└───────────────┴─────────────┘"
      ]
     },
     "execution_count": 45,
     "metadata": {},
     "output_type": "execute_result"
    }
   ],
   "source": [
    "value_counts_sorted_D"
   ]
  },
  {
   "cell_type": "code",
   "execution_count": 46,
   "metadata": {},
   "outputs": [
    {
     "data": {
      "application/vnd.plotly.v1+json": {
       "config": {
        "plotlyServerURL": "https://plot.ly"
       },
       "data": [
        {
         "alignmentgroup": "True",
         "hovertemplate": "Day of the Week=%{x}<br>Frequency=%{y}<extra></extra>",
         "legendgroup": "Monday",
         "marker": {
          "color": "#636efa",
          "pattern": {
           "shape": ""
          }
         },
         "name": "Monday",
         "offsetgroup": "Monday",
         "orientation": "v",
         "showlegend": true,
         "textposition": "auto",
         "type": "bar",
         "x": [
          "Monday"
         ],
         "xaxis": "x",
         "y": [
          189535
         ],
         "yaxis": "y"
        },
        {
         "alignmentgroup": "True",
         "hovertemplate": "Day of the Week=%{x}<br>Frequency=%{y}<extra></extra>",
         "legendgroup": "Tuesday",
         "marker": {
          "color": "#EF553B",
          "pattern": {
           "shape": ""
          }
         },
         "name": "Tuesday",
         "offsetgroup": "Tuesday",
         "orientation": "v",
         "showlegend": true,
         "textposition": "auto",
         "type": "bar",
         "x": [
          "Tuesday"
         ],
         "xaxis": "x",
         "y": [
          181674
         ],
         "yaxis": "y"
        },
        {
         "alignmentgroup": "True",
         "hovertemplate": "Day of the Week=%{x}<br>Frequency=%{y}<extra></extra>",
         "legendgroup": "Wednesday",
         "marker": {
          "color": "#00cc96",
          "pattern": {
           "shape": ""
          }
         },
         "name": "Wednesday",
         "offsetgroup": "Wednesday",
         "orientation": "v",
         "showlegend": true,
         "textposition": "auto",
         "type": "bar",
         "x": [
          "Wednesday"
         ],
         "xaxis": "x",
         "y": [
          164272
         ],
         "yaxis": "y"
        },
        {
         "alignmentgroup": "True",
         "hovertemplate": "Day of the Week=%{x}<br>Frequency=%{y}<extra></extra>",
         "legendgroup": "Thursday",
         "marker": {
          "color": "#ab63fa",
          "pattern": {
           "shape": ""
          }
         },
         "name": "Thursday",
         "offsetgroup": "Thursday",
         "orientation": "v",
         "showlegend": true,
         "textposition": "auto",
         "type": "bar",
         "x": [
          "Thursday"
         ],
         "xaxis": "x",
         "y": [
          164285
         ],
         "yaxis": "y"
        },
        {
         "alignmentgroup": "True",
         "hovertemplate": "Day of the Week=%{x}<br>Frequency=%{y}<extra></extra>",
         "legendgroup": "Friday",
         "marker": {
          "color": "#FFA15A",
          "pattern": {
           "shape": ""
          }
         },
         "name": "Friday",
         "offsetgroup": "Friday",
         "orientation": "v",
         "showlegend": true,
         "textposition": "auto",
         "type": "bar",
         "x": [
          "Friday"
         ],
         "xaxis": "x",
         "y": [
          234324
         ],
         "yaxis": "y"
        },
        {
         "alignmentgroup": "True",
         "hovertemplate": "Day of the Week=%{x}<br>Frequency=%{y}<extra></extra>",
         "legendgroup": "Saturday",
         "marker": {
          "color": "#19d3f3",
          "pattern": {
           "shape": ""
          }
         },
         "name": "Saturday",
         "offsetgroup": "Saturday",
         "orientation": "v",
         "showlegend": true,
         "textposition": "auto",
         "type": "bar",
         "x": [
          "Saturday"
         ],
         "xaxis": "x",
         "y": [
          85618
         ],
         "yaxis": "y"
        },
        {
         "alignmentgroup": "True",
         "hovertemplate": "Day of the Week=%{x}<br>Frequency=%{y}<extra></extra>",
         "legendgroup": "Sunday",
         "marker": {
          "color": "#FF6692",
          "pattern": {
           "shape": ""
          }
         },
         "name": "Sunday",
         "offsetgroup": "Sunday",
         "orientation": "v",
         "showlegend": true,
         "textposition": "auto",
         "type": "bar",
         "x": [
          "Sunday"
         ],
         "xaxis": "x",
         "y": [
          74048
         ],
         "yaxis": "y"
        }
       ],
       "layout": {
        "barmode": "relative",
        "legend": {
         "title": {
          "text": "Day of the Week"
         },
         "tracegroupgap": 0
        },
        "template": {
         "data": {
          "bar": [
           {
            "error_x": {
             "color": "#2a3f5f"
            },
            "error_y": {
             "color": "#2a3f5f"
            },
            "marker": {
             "line": {
              "color": "#E5ECF6",
              "width": 0.5
             },
             "pattern": {
              "fillmode": "overlay",
              "size": 10,
              "solidity": 0.2
             }
            },
            "type": "bar"
           }
          ],
          "barpolar": [
           {
            "marker": {
             "line": {
              "color": "#E5ECF6",
              "width": 0.5
             },
             "pattern": {
              "fillmode": "overlay",
              "size": 10,
              "solidity": 0.2
             }
            },
            "type": "barpolar"
           }
          ],
          "carpet": [
           {
            "aaxis": {
             "endlinecolor": "#2a3f5f",
             "gridcolor": "white",
             "linecolor": "white",
             "minorgridcolor": "white",
             "startlinecolor": "#2a3f5f"
            },
            "baxis": {
             "endlinecolor": "#2a3f5f",
             "gridcolor": "white",
             "linecolor": "white",
             "minorgridcolor": "white",
             "startlinecolor": "#2a3f5f"
            },
            "type": "carpet"
           }
          ],
          "choropleth": [
           {
            "colorbar": {
             "outlinewidth": 0,
             "ticks": ""
            },
            "type": "choropleth"
           }
          ],
          "contour": [
           {
            "colorbar": {
             "outlinewidth": 0,
             "ticks": ""
            },
            "colorscale": [
             [
              0,
              "#0d0887"
             ],
             [
              0.1111111111111111,
              "#46039f"
             ],
             [
              0.2222222222222222,
              "#7201a8"
             ],
             [
              0.3333333333333333,
              "#9c179e"
             ],
             [
              0.4444444444444444,
              "#bd3786"
             ],
             [
              0.5555555555555556,
              "#d8576b"
             ],
             [
              0.6666666666666666,
              "#ed7953"
             ],
             [
              0.7777777777777778,
              "#fb9f3a"
             ],
             [
              0.8888888888888888,
              "#fdca26"
             ],
             [
              1,
              "#f0f921"
             ]
            ],
            "type": "contour"
           }
          ],
          "contourcarpet": [
           {
            "colorbar": {
             "outlinewidth": 0,
             "ticks": ""
            },
            "type": "contourcarpet"
           }
          ],
          "heatmap": [
           {
            "colorbar": {
             "outlinewidth": 0,
             "ticks": ""
            },
            "colorscale": [
             [
              0,
              "#0d0887"
             ],
             [
              0.1111111111111111,
              "#46039f"
             ],
             [
              0.2222222222222222,
              "#7201a8"
             ],
             [
              0.3333333333333333,
              "#9c179e"
             ],
             [
              0.4444444444444444,
              "#bd3786"
             ],
             [
              0.5555555555555556,
              "#d8576b"
             ],
             [
              0.6666666666666666,
              "#ed7953"
             ],
             [
              0.7777777777777778,
              "#fb9f3a"
             ],
             [
              0.8888888888888888,
              "#fdca26"
             ],
             [
              1,
              "#f0f921"
             ]
            ],
            "type": "heatmap"
           }
          ],
          "heatmapgl": [
           {
            "colorbar": {
             "outlinewidth": 0,
             "ticks": ""
            },
            "colorscale": [
             [
              0,
              "#0d0887"
             ],
             [
              0.1111111111111111,
              "#46039f"
             ],
             [
              0.2222222222222222,
              "#7201a8"
             ],
             [
              0.3333333333333333,
              "#9c179e"
             ],
             [
              0.4444444444444444,
              "#bd3786"
             ],
             [
              0.5555555555555556,
              "#d8576b"
             ],
             [
              0.6666666666666666,
              "#ed7953"
             ],
             [
              0.7777777777777778,
              "#fb9f3a"
             ],
             [
              0.8888888888888888,
              "#fdca26"
             ],
             [
              1,
              "#f0f921"
             ]
            ],
            "type": "heatmapgl"
           }
          ],
          "histogram": [
           {
            "marker": {
             "pattern": {
              "fillmode": "overlay",
              "size": 10,
              "solidity": 0.2
             }
            },
            "type": "histogram"
           }
          ],
          "histogram2d": [
           {
            "colorbar": {
             "outlinewidth": 0,
             "ticks": ""
            },
            "colorscale": [
             [
              0,
              "#0d0887"
             ],
             [
              0.1111111111111111,
              "#46039f"
             ],
             [
              0.2222222222222222,
              "#7201a8"
             ],
             [
              0.3333333333333333,
              "#9c179e"
             ],
             [
              0.4444444444444444,
              "#bd3786"
             ],
             [
              0.5555555555555556,
              "#d8576b"
             ],
             [
              0.6666666666666666,
              "#ed7953"
             ],
             [
              0.7777777777777778,
              "#fb9f3a"
             ],
             [
              0.8888888888888888,
              "#fdca26"
             ],
             [
              1,
              "#f0f921"
             ]
            ],
            "type": "histogram2d"
           }
          ],
          "histogram2dcontour": [
           {
            "colorbar": {
             "outlinewidth": 0,
             "ticks": ""
            },
            "colorscale": [
             [
              0,
              "#0d0887"
             ],
             [
              0.1111111111111111,
              "#46039f"
             ],
             [
              0.2222222222222222,
              "#7201a8"
             ],
             [
              0.3333333333333333,
              "#9c179e"
             ],
             [
              0.4444444444444444,
              "#bd3786"
             ],
             [
              0.5555555555555556,
              "#d8576b"
             ],
             [
              0.6666666666666666,
              "#ed7953"
             ],
             [
              0.7777777777777778,
              "#fb9f3a"
             ],
             [
              0.8888888888888888,
              "#fdca26"
             ],
             [
              1,
              "#f0f921"
             ]
            ],
            "type": "histogram2dcontour"
           }
          ],
          "mesh3d": [
           {
            "colorbar": {
             "outlinewidth": 0,
             "ticks": ""
            },
            "type": "mesh3d"
           }
          ],
          "parcoords": [
           {
            "line": {
             "colorbar": {
              "outlinewidth": 0,
              "ticks": ""
             }
            },
            "type": "parcoords"
           }
          ],
          "pie": [
           {
            "automargin": true,
            "type": "pie"
           }
          ],
          "scatter": [
           {
            "fillpattern": {
             "fillmode": "overlay",
             "size": 10,
             "solidity": 0.2
            },
            "type": "scatter"
           }
          ],
          "scatter3d": [
           {
            "line": {
             "colorbar": {
              "outlinewidth": 0,
              "ticks": ""
             }
            },
            "marker": {
             "colorbar": {
              "outlinewidth": 0,
              "ticks": ""
             }
            },
            "type": "scatter3d"
           }
          ],
          "scattercarpet": [
           {
            "marker": {
             "colorbar": {
              "outlinewidth": 0,
              "ticks": ""
             }
            },
            "type": "scattercarpet"
           }
          ],
          "scattergeo": [
           {
            "marker": {
             "colorbar": {
              "outlinewidth": 0,
              "ticks": ""
             }
            },
            "type": "scattergeo"
           }
          ],
          "scattergl": [
           {
            "marker": {
             "colorbar": {
              "outlinewidth": 0,
              "ticks": ""
             }
            },
            "type": "scattergl"
           }
          ],
          "scattermapbox": [
           {
            "marker": {
             "colorbar": {
              "outlinewidth": 0,
              "ticks": ""
             }
            },
            "type": "scattermapbox"
           }
          ],
          "scatterpolar": [
           {
            "marker": {
             "colorbar": {
              "outlinewidth": 0,
              "ticks": ""
             }
            },
            "type": "scatterpolar"
           }
          ],
          "scatterpolargl": [
           {
            "marker": {
             "colorbar": {
              "outlinewidth": 0,
              "ticks": ""
             }
            },
            "type": "scatterpolargl"
           }
          ],
          "scatterternary": [
           {
            "marker": {
             "colorbar": {
              "outlinewidth": 0,
              "ticks": ""
             }
            },
            "type": "scatterternary"
           }
          ],
          "surface": [
           {
            "colorbar": {
             "outlinewidth": 0,
             "ticks": ""
            },
            "colorscale": [
             [
              0,
              "#0d0887"
             ],
             [
              0.1111111111111111,
              "#46039f"
             ],
             [
              0.2222222222222222,
              "#7201a8"
             ],
             [
              0.3333333333333333,
              "#9c179e"
             ],
             [
              0.4444444444444444,
              "#bd3786"
             ],
             [
              0.5555555555555556,
              "#d8576b"
             ],
             [
              0.6666666666666666,
              "#ed7953"
             ],
             [
              0.7777777777777778,
              "#fb9f3a"
             ],
             [
              0.8888888888888888,
              "#fdca26"
             ],
             [
              1,
              "#f0f921"
             ]
            ],
            "type": "surface"
           }
          ],
          "table": [
           {
            "cells": {
             "fill": {
              "color": "#EBF0F8"
             },
             "line": {
              "color": "white"
             }
            },
            "header": {
             "fill": {
              "color": "#C8D4E3"
             },
             "line": {
              "color": "white"
             }
            },
            "type": "table"
           }
          ]
         },
         "layout": {
          "annotationdefaults": {
           "arrowcolor": "#2a3f5f",
           "arrowhead": 0,
           "arrowwidth": 1
          },
          "autotypenumbers": "strict",
          "coloraxis": {
           "colorbar": {
            "outlinewidth": 0,
            "ticks": ""
           }
          },
          "colorscale": {
           "diverging": [
            [
             0,
             "#8e0152"
            ],
            [
             0.1,
             "#c51b7d"
            ],
            [
             0.2,
             "#de77ae"
            ],
            [
             0.3,
             "#f1b6da"
            ],
            [
             0.4,
             "#fde0ef"
            ],
            [
             0.5,
             "#f7f7f7"
            ],
            [
             0.6,
             "#e6f5d0"
            ],
            [
             0.7,
             "#b8e186"
            ],
            [
             0.8,
             "#7fbc41"
            ],
            [
             0.9,
             "#4d9221"
            ],
            [
             1,
             "#276419"
            ]
           ],
           "sequential": [
            [
             0,
             "#0d0887"
            ],
            [
             0.1111111111111111,
             "#46039f"
            ],
            [
             0.2222222222222222,
             "#7201a8"
            ],
            [
             0.3333333333333333,
             "#9c179e"
            ],
            [
             0.4444444444444444,
             "#bd3786"
            ],
            [
             0.5555555555555556,
             "#d8576b"
            ],
            [
             0.6666666666666666,
             "#ed7953"
            ],
            [
             0.7777777777777778,
             "#fb9f3a"
            ],
            [
             0.8888888888888888,
             "#fdca26"
            ],
            [
             1,
             "#f0f921"
            ]
           ],
           "sequentialminus": [
            [
             0,
             "#0d0887"
            ],
            [
             0.1111111111111111,
             "#46039f"
            ],
            [
             0.2222222222222222,
             "#7201a8"
            ],
            [
             0.3333333333333333,
             "#9c179e"
            ],
            [
             0.4444444444444444,
             "#bd3786"
            ],
            [
             0.5555555555555556,
             "#d8576b"
            ],
            [
             0.6666666666666666,
             "#ed7953"
            ],
            [
             0.7777777777777778,
             "#fb9f3a"
            ],
            [
             0.8888888888888888,
             "#fdca26"
            ],
            [
             1,
             "#f0f921"
            ]
           ]
          },
          "colorway": [
           "#636efa",
           "#EF553B",
           "#00cc96",
           "#ab63fa",
           "#FFA15A",
           "#19d3f3",
           "#FF6692",
           "#B6E880",
           "#FF97FF",
           "#FECB52"
          ],
          "font": {
           "color": "#2a3f5f"
          },
          "geo": {
           "bgcolor": "white",
           "lakecolor": "white",
           "landcolor": "#E5ECF6",
           "showlakes": true,
           "showland": true,
           "subunitcolor": "white"
          },
          "hoverlabel": {
           "align": "left"
          },
          "hovermode": "closest",
          "mapbox": {
           "style": "light"
          },
          "paper_bgcolor": "white",
          "plot_bgcolor": "#E5ECF6",
          "polar": {
           "angularaxis": {
            "gridcolor": "white",
            "linecolor": "white",
            "ticks": ""
           },
           "bgcolor": "#E5ECF6",
           "radialaxis": {
            "gridcolor": "white",
            "linecolor": "white",
            "ticks": ""
           }
          },
          "scene": {
           "xaxis": {
            "backgroundcolor": "#E5ECF6",
            "gridcolor": "white",
            "gridwidth": 2,
            "linecolor": "white",
            "showbackground": true,
            "ticks": "",
            "zerolinecolor": "white"
           },
           "yaxis": {
            "backgroundcolor": "#E5ECF6",
            "gridcolor": "white",
            "gridwidth": 2,
            "linecolor": "white",
            "showbackground": true,
            "ticks": "",
            "zerolinecolor": "white"
           },
           "zaxis": {
            "backgroundcolor": "#E5ECF6",
            "gridcolor": "white",
            "gridwidth": 2,
            "linecolor": "white",
            "showbackground": true,
            "ticks": "",
            "zerolinecolor": "white"
           }
          },
          "shapedefaults": {
           "line": {
            "color": "#2a3f5f"
           }
          },
          "ternary": {
           "aaxis": {
            "gridcolor": "white",
            "linecolor": "white",
            "ticks": ""
           },
           "baxis": {
            "gridcolor": "white",
            "linecolor": "white",
            "ticks": ""
           },
           "bgcolor": "#E5ECF6",
           "caxis": {
            "gridcolor": "white",
            "linecolor": "white",
            "ticks": ""
           }
          },
          "title": {
           "x": 0.05
          },
          "xaxis": {
           "automargin": true,
           "gridcolor": "white",
           "linecolor": "white",
           "ticks": "",
           "title": {
            "standoff": 15
           },
           "zerolinecolor": "white",
           "zerolinewidth": 2
          },
          "yaxis": {
           "automargin": true,
           "gridcolor": "white",
           "linecolor": "white",
           "ticks": "",
           "title": {
            "standoff": 15
           },
           "zerolinecolor": "white",
           "zerolinewidth": 2
          }
         }
        },
        "title": {
         "text": "Frequency of Days of the Week When Delivered"
        },
        "xaxis": {
         "anchor": "y",
         "categoryarray": [
          "Monday",
          "Tuesday",
          "Wednesday",
          "Thursday",
          "Friday",
          "Saturday",
          "Sunday",
          null
         ],
         "categoryorder": "array",
         "domain": [
          0,
          1
         ],
         "title": {
          "text": "Day of the Week"
         }
        },
        "yaxis": {
         "anchor": "x",
         "domain": [
          0,
          1
         ],
         "title": {
          "text": "Frequency"
         }
        }
       }
      }
     },
     "metadata": {},
     "output_type": "display_data"
    }
   ],
   "source": [
    "\n",
    "ddf = value_counts_sorted_D \n",
    "ddf = ddf.to_pandas()\n",
    "# Map the numeric day of the week to actual day names for better readability\n",
    "day_names = {1: 'Monday', 2: 'Tuesday', 3: 'Wednesday', 4: 'Thursday', \n",
    "             5: 'Friday', 6: 'Saturday', 7: 'Sunday'}\n",
    "ddf['day_name'] = ddf['D_day_of_week'].map(day_names)\n",
    "\n",
    "# Sort the DataFrame by 'D_day_of_week' to ensure the days are in the correct order\n",
    "ddf = ddf.sort_values('D_day_of_week')\n",
    "\n",
    "# Create the bar chart using Plotly Express\n",
    "fig = px.bar(ddf, x='day_name', y='D_frequency', \n",
    "             title='Frequency of Days of the Week When Delivered',\n",
    "             labels={'day_name': 'Day of the Week', 'D_frequency': 'Frequency'},\n",
    "             color='day_name')\n",
    "\n",
    "# Show the plot\n",
    "fig.show()\n"
   ]
  },
  {
   "cell_type": "code",
   "execution_count": 47,
   "metadata": {},
   "outputs": [
    {
     "data": {
      "text/html": [
       "<div><style>\n",
       ".dataframe > thead > tr,\n",
       ".dataframe > tbody > tr {\n",
       "  text-align: right;\n",
       "  white-space: pre-wrap;\n",
       "}\n",
       "</style>\n",
       "<small>shape: (5, 26)</small><table border=\"1\" class=\"dataframe\"><thead><tr><th>PURCHASE_DOCUMENT_ID</th><th>CREATE_DATE</th><th>COMPANY_CODE_ID</th><th>VENDOR_ID</th><th>POSTAL_CD</th><th>RELEASE_DATE</th><th>PURCHASE_DOCUMENT_ITEM_ID</th><th>MATERIAL_ID</th><th>SUB_COMMODITY_DESC</th><th>MRP_TYPE_ID</th><th>MRP_TYPE_DESC_E</th><th>SHORT_TEXT</th><th>PLANT_ID</th><th>POR_DELIVERY_DATE</th><th>FIRST_GR_POSTING_DATE</th><th>DELIVERY_DATE</th><th>REQUESTED_DELIVERY_DATE</th><th>INBOUND_DELIVERY_ID</th><th>INBOUND_DELIVERY_ITEM_ID</th><th>PLANNED_DELIVERY_DAYS</th><th>BI_LAST_UPDATED_PURCHASE_DOCUMENT_ITEM</th><th>Time_Difference</th><th>day_of_week</th><th>month</th><th>quarter</th><th>D_day_of_week</th></tr><tr><td>i64</td><td>date</td><td>str</td><td>str</td><td>str</td><td>f64</td><td>f64</td><td>f64</td><td>str</td><td>f64</td><td>f64</td><td>str</td><td>f64</td><td>datetime[ns]</td><td>datetime[ns]</td><td>datetime[ns]</td><td>datetime[ns]</td><td>f64</td><td>f64</td><td>str</td><td>datetime[ns]</td><td>f64</td><td>u32</td><td>u32</td><td>u32</td><td>u32</td></tr></thead><tbody><tr><td>2000008134</td><td>2021-07-26</td><td>&quot;CA10&quot;</td><td>&quot;8010005836&quot;</td><td>&quot;N2C 0B7&quot;</td><td>null</td><td>30.0</td><td>null</td><td>&quot;Machinery &amp; Eq…</td><td>null</td><td>null</td><td>&quot;1/2&quot; OD x 0.06…</td><td>4036.0</td><td>null</td><td>2021-08-12 00:00:00</td><td>2021-08-06 00:00:00</td><td>2021-08-06 00:00:00</td><td>null</td><td>0.0</td><td>&quot;0.0&quot;</td><td>2023-05-30 23:07:43.640</td><td>6.0</td><td>1</td><td>7</td><td>3</td><td>5</td></tr><tr><td>5100146560</td><td>2021-07-26</td><td>&quot;US10&quot;</td><td>null</td><td>null</td><td>null</td><td>130.0</td><td>2.1000e9</td><td>&quot;Custom Manufac…</td><td>1.0</td><td>1.0</td><td>&quot;994 45 9951A T…</td><td>4016.0</td><td>2021-09-14 00:00:00</td><td>2021-09-14 00:00:00</td><td>2021-09-10 00:00:00</td><td>2021-09-10 00:00:00</td><td>1.85979544e8</td><td>10.0</td><td>&quot;3.0&quot;</td><td>2021-11-08 03:52:05.270</td><td>4.0</td><td>1</td><td>7</td><td>3</td><td>5</td></tr><tr><td>5501410919</td><td>2021-07-26</td><td>&quot;CA10&quot;</td><td>&quot;8010003139&quot;</td><td>&quot;L6H 5T5&quot;</td><td>null</td><td>10.0</td><td>null</td><td>&quot;Infrastructure…</td><td>null</td><td>null</td><td>&quot;B66 RECHARGE P…</td><td>4036.0</td><td>null</td><td>null</td><td>2021-08-02 00:00:00</td><td>2021-08-02 00:00:00</td><td>null</td><td>0.0</td><td>&quot;0.0&quot;</td><td>2023-09-07 10:07:29.323</td><td>null</td><td>1</td><td>7</td><td>3</td><td>1</td></tr><tr><td>2000008138</td><td>2021-07-26</td><td>&quot;CA10&quot;</td><td>&quot;8010005836&quot;</td><td>&quot;N2C 0B7&quot;</td><td>null</td><td>20.0</td><td>null</td><td>&quot;Piping &amp; Tubin…</td><td>null</td><td>null</td><td>&quot;5/8&quot; x 50 ft B…</td><td>4036.0</td><td>null</td><td>2021-08-03 00:00:00</td><td>2021-08-27 00:00:00</td><td>2021-08-27 00:00:00</td><td>null</td><td>0.0</td><td>&quot;0.0&quot;</td><td>2023-05-30 23:07:43.640</td><td>-24.0</td><td>1</td><td>7</td><td>3</td><td>5</td></tr><tr><td>2000008136</td><td>2021-07-26</td><td>&quot;CA10&quot;</td><td>&quot;8010005836&quot;</td><td>&quot;N2C 0B7&quot;</td><td>null</td><td>40.0</td><td>null</td><td>&quot;Material Handl…</td><td>null</td><td>null</td><td>&quot;4XL - HI-VIZ S…</td><td>4036.0</td><td>null</td><td>2021-07-30 00:00:00</td><td>2021-08-05 00:00:00</td><td>2021-08-05 00:00:00</td><td>null</td><td>0.0</td><td>&quot;0.0&quot;</td><td>2023-05-30 23:07:43.640</td><td>-6.0</td><td>1</td><td>7</td><td>3</td><td>4</td></tr></tbody></table></div>"
      ],
      "text/plain": [
       "shape: (5, 26)\n",
       "┌────────────┬────────────┬────────────┬────────────┬───┬────────────┬───────┬─────────┬───────────┐\n",
       "│ PURCHASE_D ┆ CREATE_DAT ┆ COMPANY_CO ┆ VENDOR_ID  ┆ … ┆ day_of_wee ┆ month ┆ quarter ┆ D_day_of_ │\n",
       "│ OCUMENT_ID ┆ E          ┆ DE_ID      ┆ ---        ┆   ┆ k          ┆ ---   ┆ ---     ┆ week      │\n",
       "│ ---        ┆ ---        ┆ ---        ┆ str        ┆   ┆ ---        ┆ u32   ┆ u32     ┆ ---       │\n",
       "│ i64        ┆ date       ┆ str        ┆            ┆   ┆ u32        ┆       ┆         ┆ u32       │\n",
       "╞════════════╪════════════╪════════════╪════════════╪═══╪════════════╪═══════╪═════════╪═══════════╡\n",
       "│ 2000008134 ┆ 2021-07-26 ┆ CA10       ┆ 8010005836 ┆ … ┆ 1          ┆ 7     ┆ 3       ┆ 5         │\n",
       "│ 5100146560 ┆ 2021-07-26 ┆ US10       ┆ null       ┆ … ┆ 1          ┆ 7     ┆ 3       ┆ 5         │\n",
       "│ 5501410919 ┆ 2021-07-26 ┆ CA10       ┆ 8010003139 ┆ … ┆ 1          ┆ 7     ┆ 3       ┆ 1         │\n",
       "│ 2000008138 ┆ 2021-07-26 ┆ CA10       ┆ 8010005836 ┆ … ┆ 1          ┆ 7     ┆ 3       ┆ 5         │\n",
       "│ 2000008136 ┆ 2021-07-26 ┆ CA10       ┆ 8010005836 ┆ … ┆ 1          ┆ 7     ┆ 3       ┆ 4         │\n",
       "└────────────┴────────────┴────────────┴────────────┴───┴────────────┴───────┴─────────┴───────────┘"
      ]
     },
     "execution_count": 47,
     "metadata": {},
     "output_type": "execute_result"
    }
   ],
   "source": [
    "coke.head()"
   ]
  },
  {
   "cell_type": "code",
   "execution_count": 48,
   "metadata": {},
   "outputs": [],
   "source": [
    "from pycaret.regression import *"
   ]
  },
  {
   "cell_type": "markdown",
   "metadata": {},
   "source": [
    "Create Dataset"
   ]
  },
  {
   "cell_type": "code",
   "execution_count": 5,
   "metadata": {},
   "outputs": [
    {
     "data": {
      "text/html": [
       "<div>\n",
       "<style scoped>\n",
       "    .dataframe tbody tr th:only-of-type {\n",
       "        vertical-align: middle;\n",
       "    }\n",
       "\n",
       "    .dataframe tbody tr th {\n",
       "        vertical-align: top;\n",
       "    }\n",
       "\n",
       "    .dataframe thead th {\n",
       "        text-align: right;\n",
       "    }\n",
       "</style>\n",
       "<table border=\"1\" class=\"dataframe\">\n",
       "  <thead>\n",
       "    <tr style=\"text-align: right;\">\n",
       "      <th></th>\n",
       "      <th>PURCHASE_DOCUMENT_ID</th>\n",
       "      <th>CREATE_DATE</th>\n",
       "      <th>COMPANY_CODE_ID</th>\n",
       "      <th>VENDOR_ID</th>\n",
       "      <th>POSTAL_CD</th>\n",
       "      <th>RELEASE_DATE</th>\n",
       "      <th>PURCHASE_DOCUMENT_ITEM_ID</th>\n",
       "      <th>MATERIAL_ID</th>\n",
       "      <th>SUB_COMMODITY_DESC</th>\n",
       "      <th>MRP_TYPE_ID</th>\n",
       "      <th>...</th>\n",
       "      <th>SHORT_TEXT</th>\n",
       "      <th>PLANT_ID</th>\n",
       "      <th>POR_DELIVERY_DATE</th>\n",
       "      <th>FIRST_GR_POSTING_DATE</th>\n",
       "      <th>DELIVERY_DATE</th>\n",
       "      <th>REQUESTED_DELIVERY_DATE</th>\n",
       "      <th>INBOUND_DELIVERY_ID</th>\n",
       "      <th>INBOUND_DELIVERY_ITEM_ID</th>\n",
       "      <th>PLANNED_DELIVERY_DAYS</th>\n",
       "      <th>BI_LAST_UPDATED_PURCHASE_DOCUMENT_ITEM</th>\n",
       "    </tr>\n",
       "  </thead>\n",
       "  <tbody>\n",
       "    <tr>\n",
       "      <th>0</th>\n",
       "      <td>2000008134</td>\n",
       "      <td>20210726</td>\n",
       "      <td>CA10</td>\n",
       "      <td>8010005836</td>\n",
       "      <td>N2C 0B7</td>\n",
       "      <td>NaN</td>\n",
       "      <td>30.0</td>\n",
       "      <td>NaN</td>\n",
       "      <td>Machinery &amp; Equipment</td>\n",
       "      <td>NaN</td>\n",
       "      <td>...</td>\n",
       "      <td>1/2\" OD x 0.063\" Wall 20' Long ASTM A51</td>\n",
       "      <td>4036.0</td>\n",
       "      <td>NaN</td>\n",
       "      <td>20210812.0</td>\n",
       "      <td>20210806.0</td>\n",
       "      <td>20210806.0</td>\n",
       "      <td>NaN</td>\n",
       "      <td>0.0</td>\n",
       "      <td>0.0</td>\n",
       "      <td>2023-05-30 23:07:43.640</td>\n",
       "    </tr>\n",
       "    <tr>\n",
       "      <th>1</th>\n",
       "      <td>5100146560</td>\n",
       "      <td>20210726</td>\n",
       "      <td>US10</td>\n",
       "      <td>None</td>\n",
       "      <td>None</td>\n",
       "      <td>NaN</td>\n",
       "      <td>130.0</td>\n",
       "      <td>2.100008e+09</td>\n",
       "      <td>Custom Manufacturing</td>\n",
       "      <td>1.0</td>\n",
       "      <td>...</td>\n",
       "      <td>994 45 9951A TU E 4.99-8.62 3X0X 4014</td>\n",
       "      <td>4016.0</td>\n",
       "      <td>20210914.0</td>\n",
       "      <td>20210914.0</td>\n",
       "      <td>20210910.0</td>\n",
       "      <td>20210910.0</td>\n",
       "      <td>185979544.0</td>\n",
       "      <td>10.0</td>\n",
       "      <td>3.0</td>\n",
       "      <td>2021-11-08 03:52:05.270</td>\n",
       "    </tr>\n",
       "    <tr>\n",
       "      <th>2</th>\n",
       "      <td>5501410919</td>\n",
       "      <td>20210726</td>\n",
       "      <td>CA10</td>\n",
       "      <td>8010003139</td>\n",
       "      <td>L6H 5T5</td>\n",
       "      <td>NaN</td>\n",
       "      <td>10.0</td>\n",
       "      <td>NaN</td>\n",
       "      <td>Infrastructure Services</td>\n",
       "      <td>NaN</td>\n",
       "      <td>...</td>\n",
       "      <td>B66 RECHARGE PORTABLE SAFETY SHOWER 2021</td>\n",
       "      <td>4036.0</td>\n",
       "      <td>NaN</td>\n",
       "      <td>0.0</td>\n",
       "      <td>20210802.0</td>\n",
       "      <td>20210802.0</td>\n",
       "      <td>NaN</td>\n",
       "      <td>0.0</td>\n",
       "      <td>0.0</td>\n",
       "      <td>2023-09-07 10:07:29.323</td>\n",
       "    </tr>\n",
       "    <tr>\n",
       "      <th>3</th>\n",
       "      <td>2000008138</td>\n",
       "      <td>20210726</td>\n",
       "      <td>CA10</td>\n",
       "      <td>8010005836</td>\n",
       "      <td>N2C 0B7</td>\n",
       "      <td>NaN</td>\n",
       "      <td>20.0</td>\n",
       "      <td>NaN</td>\n",
       "      <td>Piping &amp; Tubing</td>\n",
       "      <td>NaN</td>\n",
       "      <td>...</td>\n",
       "      <td>5/8\" x 50 ft Black Rubber ProFitter[REG]</td>\n",
       "      <td>4036.0</td>\n",
       "      <td>NaN</td>\n",
       "      <td>20210803.0</td>\n",
       "      <td>20210827.0</td>\n",
       "      <td>20210827.0</td>\n",
       "      <td>NaN</td>\n",
       "      <td>0.0</td>\n",
       "      <td>0.0</td>\n",
       "      <td>2023-05-30 23:07:43.640</td>\n",
       "    </tr>\n",
       "    <tr>\n",
       "      <th>4</th>\n",
       "      <td>2000008136</td>\n",
       "      <td>20210726</td>\n",
       "      <td>CA10</td>\n",
       "      <td>8010005836</td>\n",
       "      <td>N2C 0B7</td>\n",
       "      <td>NaN</td>\n",
       "      <td>40.0</td>\n",
       "      <td>NaN</td>\n",
       "      <td>Material Handling</td>\n",
       "      <td>NaN</td>\n",
       "      <td>...</td>\n",
       "      <td>4XL - HI-VIZ SAFETY LONG-SLEEVED SHIRT -</td>\n",
       "      <td>4036.0</td>\n",
       "      <td>NaN</td>\n",
       "      <td>20210730.0</td>\n",
       "      <td>20210805.0</td>\n",
       "      <td>20210805.0</td>\n",
       "      <td>NaN</td>\n",
       "      <td>0.0</td>\n",
       "      <td>0.0</td>\n",
       "      <td>2023-05-30 23:07:43.640</td>\n",
       "    </tr>\n",
       "  </tbody>\n",
       "</table>\n",
       "<p>5 rows × 21 columns</p>\n",
       "</div>"
      ],
      "text/plain": [
       "   PURCHASE_DOCUMENT_ID  CREATE_DATE COMPANY_CODE_ID   VENDOR_ID POSTAL_CD  \\\n",
       "0            2000008134     20210726            CA10  8010005836   N2C 0B7   \n",
       "1            5100146560     20210726            US10        None      None   \n",
       "2            5501410919     20210726            CA10  8010003139   L6H 5T5   \n",
       "3            2000008138     20210726            CA10  8010005836   N2C 0B7   \n",
       "4            2000008136     20210726            CA10  8010005836   N2C 0B7   \n",
       "\n",
       "   RELEASE_DATE  PURCHASE_DOCUMENT_ITEM_ID   MATERIAL_ID  \\\n",
       "0           NaN                       30.0           NaN   \n",
       "1           NaN                      130.0  2.100008e+09   \n",
       "2           NaN                       10.0           NaN   \n",
       "3           NaN                       20.0           NaN   \n",
       "4           NaN                       40.0           NaN   \n",
       "\n",
       "        SUB_COMMODITY_DESC  MRP_TYPE_ID  ...  \\\n",
       "0    Machinery & Equipment          NaN  ...   \n",
       "1     Custom Manufacturing          1.0  ...   \n",
       "2  Infrastructure Services          NaN  ...   \n",
       "3          Piping & Tubing          NaN  ...   \n",
       "4        Material Handling          NaN  ...   \n",
       "\n",
       "                                 SHORT_TEXT PLANT_ID  POR_DELIVERY_DATE  \\\n",
       "0   1/2\" OD x 0.063\" Wall 20' Long ASTM A51   4036.0                NaN   \n",
       "1     994 45 9951A TU E 4.99-8.62 3X0X 4014   4016.0         20210914.0   \n",
       "2  B66 RECHARGE PORTABLE SAFETY SHOWER 2021   4036.0                NaN   \n",
       "3  5/8\" x 50 ft Black Rubber ProFitter[REG]   4036.0                NaN   \n",
       "4  4XL - HI-VIZ SAFETY LONG-SLEEVED SHIRT -   4036.0                NaN   \n",
       "\n",
       "   FIRST_GR_POSTING_DATE  DELIVERY_DATE  REQUESTED_DELIVERY_DATE  \\\n",
       "0             20210812.0     20210806.0               20210806.0   \n",
       "1             20210914.0     20210910.0               20210910.0   \n",
       "2                    0.0     20210802.0               20210802.0   \n",
       "3             20210803.0     20210827.0               20210827.0   \n",
       "4             20210730.0     20210805.0               20210805.0   \n",
       "\n",
       "   INBOUND_DELIVERY_ID  INBOUND_DELIVERY_ITEM_ID  PLANNED_DELIVERY_DAYS  \\\n",
       "0                  NaN                       0.0                    0.0   \n",
       "1          185979544.0                      10.0                    3.0   \n",
       "2                  NaN                       0.0                    0.0   \n",
       "3                  NaN                       0.0                    0.0   \n",
       "4                  NaN                       0.0                    0.0   \n",
       "\n",
       "  BI_LAST_UPDATED_PURCHASE_DOCUMENT_ITEM  \n",
       "0                2023-05-30 23:07:43.640  \n",
       "1                2021-11-08 03:52:05.270  \n",
       "2                2023-09-07 10:07:29.323  \n",
       "3                2023-05-30 23:07:43.640  \n",
       "4                2023-05-30 23:07:43.640  \n",
       "\n",
       "[5 rows x 21 columns]"
      ]
     },
     "execution_count": 5,
     "metadata": {},
     "output_type": "execute_result"
    }
   ],
   "source": [
    "koch.head()"
   ]
  },
  {
   "cell_type": "code",
   "execution_count": 49,
   "metadata": {},
   "outputs": [],
   "source": [
    "def determine_status(days):\n",
    "    if days < 0:\n",
    "        return 'Early'\n",
    "    elif days == 0:\n",
    "        return 'On Time'\n",
    "    else:\n",
    "        return 'Late'\n",
    "# Give a status of it\n",
    "koch['Arrival_Status'] = koch['Time_Difference'].apply(determine_status)"
   ]
  },
  {
   "cell_type": "code",
   "execution_count": 50,
   "metadata": {},
   "outputs": [
    {
     "data": {
      "text/html": [
       "<div>\n",
       "<style scoped>\n",
       "    .dataframe tbody tr th:only-of-type {\n",
       "        vertical-align: middle;\n",
       "    }\n",
       "\n",
       "    .dataframe tbody tr th {\n",
       "        vertical-align: top;\n",
       "    }\n",
       "\n",
       "    .dataframe thead th {\n",
       "        text-align: right;\n",
       "    }\n",
       "</style>\n",
       "<table border=\"1\" class=\"dataframe\">\n",
       "  <thead>\n",
       "    <tr style=\"text-align: right;\">\n",
       "      <th></th>\n",
       "      <th>PURCHASE_DOCUMENT_ID</th>\n",
       "      <th>CREATE_DATE</th>\n",
       "      <th>COMPANY_CODE_ID</th>\n",
       "      <th>VENDOR_ID</th>\n",
       "      <th>POSTAL_CD</th>\n",
       "      <th>RELEASE_DATE</th>\n",
       "      <th>PURCHASE_DOCUMENT_ITEM_ID</th>\n",
       "      <th>MATERIAL_ID</th>\n",
       "      <th>SUB_COMMODITY_DESC</th>\n",
       "      <th>MRP_TYPE_ID</th>\n",
       "      <th>...</th>\n",
       "      <th>POR_DELIVERY_DATE</th>\n",
       "      <th>FIRST_GR_POSTING_DATE</th>\n",
       "      <th>DELIVERY_DATE</th>\n",
       "      <th>REQUESTED_DELIVERY_DATE</th>\n",
       "      <th>INBOUND_DELIVERY_ID</th>\n",
       "      <th>INBOUND_DELIVERY_ITEM_ID</th>\n",
       "      <th>PLANNED_DELIVERY_DAYS</th>\n",
       "      <th>BI_LAST_UPDATED_PURCHASE_DOCUMENT_ITEM</th>\n",
       "      <th>Time_Difference</th>\n",
       "      <th>Arrival_Status</th>\n",
       "    </tr>\n",
       "  </thead>\n",
       "  <tbody>\n",
       "    <tr>\n",
       "      <th>0</th>\n",
       "      <td>2000008134</td>\n",
       "      <td>20210726</td>\n",
       "      <td>CA10</td>\n",
       "      <td>8010005836</td>\n",
       "      <td>N2C 0B7</td>\n",
       "      <td>NaN</td>\n",
       "      <td>30.0</td>\n",
       "      <td>NaN</td>\n",
       "      <td>Machinery &amp; Equipment</td>\n",
       "      <td>NaN</td>\n",
       "      <td>...</td>\n",
       "      <td>NaT</td>\n",
       "      <td>2021-08-12</td>\n",
       "      <td>2021-08-06</td>\n",
       "      <td>2021-08-06</td>\n",
       "      <td>NaN</td>\n",
       "      <td>0.0</td>\n",
       "      <td>0.0</td>\n",
       "      <td>2023-05-30 23:07:43.640</td>\n",
       "      <td>6.0</td>\n",
       "      <td>Late</td>\n",
       "    </tr>\n",
       "    <tr>\n",
       "      <th>1</th>\n",
       "      <td>5100146560</td>\n",
       "      <td>20210726</td>\n",
       "      <td>US10</td>\n",
       "      <td>None</td>\n",
       "      <td>None</td>\n",
       "      <td>NaN</td>\n",
       "      <td>130.0</td>\n",
       "      <td>2.100008e+09</td>\n",
       "      <td>Custom Manufacturing</td>\n",
       "      <td>1.0</td>\n",
       "      <td>...</td>\n",
       "      <td>2021-09-14</td>\n",
       "      <td>2021-09-14</td>\n",
       "      <td>2021-09-10</td>\n",
       "      <td>2021-09-10</td>\n",
       "      <td>185979544.0</td>\n",
       "      <td>10.0</td>\n",
       "      <td>3.0</td>\n",
       "      <td>2021-11-08 03:52:05.270</td>\n",
       "      <td>4.0</td>\n",
       "      <td>Late</td>\n",
       "    </tr>\n",
       "    <tr>\n",
       "      <th>2</th>\n",
       "      <td>5501410919</td>\n",
       "      <td>20210726</td>\n",
       "      <td>CA10</td>\n",
       "      <td>8010003139</td>\n",
       "      <td>L6H 5T5</td>\n",
       "      <td>NaN</td>\n",
       "      <td>10.0</td>\n",
       "      <td>NaN</td>\n",
       "      <td>Infrastructure Services</td>\n",
       "      <td>NaN</td>\n",
       "      <td>...</td>\n",
       "      <td>NaT</td>\n",
       "      <td>NaT</td>\n",
       "      <td>2021-08-02</td>\n",
       "      <td>2021-08-02</td>\n",
       "      <td>NaN</td>\n",
       "      <td>0.0</td>\n",
       "      <td>0.0</td>\n",
       "      <td>2023-09-07 10:07:29.323</td>\n",
       "      <td>NaN</td>\n",
       "      <td>Late</td>\n",
       "    </tr>\n",
       "    <tr>\n",
       "      <th>3</th>\n",
       "      <td>2000008138</td>\n",
       "      <td>20210726</td>\n",
       "      <td>CA10</td>\n",
       "      <td>8010005836</td>\n",
       "      <td>N2C 0B7</td>\n",
       "      <td>NaN</td>\n",
       "      <td>20.0</td>\n",
       "      <td>NaN</td>\n",
       "      <td>Piping &amp; Tubing</td>\n",
       "      <td>NaN</td>\n",
       "      <td>...</td>\n",
       "      <td>NaT</td>\n",
       "      <td>2021-08-03</td>\n",
       "      <td>2021-08-27</td>\n",
       "      <td>2021-08-27</td>\n",
       "      <td>NaN</td>\n",
       "      <td>0.0</td>\n",
       "      <td>0.0</td>\n",
       "      <td>2023-05-30 23:07:43.640</td>\n",
       "      <td>-24.0</td>\n",
       "      <td>Early</td>\n",
       "    </tr>\n",
       "    <tr>\n",
       "      <th>4</th>\n",
       "      <td>2000008136</td>\n",
       "      <td>20210726</td>\n",
       "      <td>CA10</td>\n",
       "      <td>8010005836</td>\n",
       "      <td>N2C 0B7</td>\n",
       "      <td>NaN</td>\n",
       "      <td>40.0</td>\n",
       "      <td>NaN</td>\n",
       "      <td>Material Handling</td>\n",
       "      <td>NaN</td>\n",
       "      <td>...</td>\n",
       "      <td>NaT</td>\n",
       "      <td>2021-07-30</td>\n",
       "      <td>2021-08-05</td>\n",
       "      <td>2021-08-05</td>\n",
       "      <td>NaN</td>\n",
       "      <td>0.0</td>\n",
       "      <td>0.0</td>\n",
       "      <td>2023-05-30 23:07:43.640</td>\n",
       "      <td>-6.0</td>\n",
       "      <td>Early</td>\n",
       "    </tr>\n",
       "  </tbody>\n",
       "</table>\n",
       "<p>5 rows × 23 columns</p>\n",
       "</div>"
      ],
      "text/plain": [
       "   PURCHASE_DOCUMENT_ID  CREATE_DATE COMPANY_CODE_ID   VENDOR_ID POSTAL_CD  \\\n",
       "0            2000008134     20210726            CA10  8010005836   N2C 0B7   \n",
       "1            5100146560     20210726            US10        None      None   \n",
       "2            5501410919     20210726            CA10  8010003139   L6H 5T5   \n",
       "3            2000008138     20210726            CA10  8010005836   N2C 0B7   \n",
       "4            2000008136     20210726            CA10  8010005836   N2C 0B7   \n",
       "\n",
       "   RELEASE_DATE  PURCHASE_DOCUMENT_ITEM_ID   MATERIAL_ID  \\\n",
       "0           NaN                       30.0           NaN   \n",
       "1           NaN                      130.0  2.100008e+09   \n",
       "2           NaN                       10.0           NaN   \n",
       "3           NaN                       20.0           NaN   \n",
       "4           NaN                       40.0           NaN   \n",
       "\n",
       "        SUB_COMMODITY_DESC  MRP_TYPE_ID  ...  POR_DELIVERY_DATE  \\\n",
       "0    Machinery & Equipment          NaN  ...                NaT   \n",
       "1     Custom Manufacturing          1.0  ...         2021-09-14   \n",
       "2  Infrastructure Services          NaN  ...                NaT   \n",
       "3          Piping & Tubing          NaN  ...                NaT   \n",
       "4        Material Handling          NaN  ...                NaT   \n",
       "\n",
       "  FIRST_GR_POSTING_DATE  DELIVERY_DATE REQUESTED_DELIVERY_DATE  \\\n",
       "0            2021-08-12     2021-08-06              2021-08-06   \n",
       "1            2021-09-14     2021-09-10              2021-09-10   \n",
       "2                   NaT     2021-08-02              2021-08-02   \n",
       "3            2021-08-03     2021-08-27              2021-08-27   \n",
       "4            2021-07-30     2021-08-05              2021-08-05   \n",
       "\n",
       "  INBOUND_DELIVERY_ID INBOUND_DELIVERY_ITEM_ID PLANNED_DELIVERY_DAYS  \\\n",
       "0                 NaN                      0.0                   0.0   \n",
       "1         185979544.0                     10.0                   3.0   \n",
       "2                 NaN                      0.0                   0.0   \n",
       "3                 NaN                      0.0                   0.0   \n",
       "4                 NaN                      0.0                   0.0   \n",
       "\n",
       "   BI_LAST_UPDATED_PURCHASE_DOCUMENT_ITEM  Time_Difference Arrival_Status  \n",
       "0                 2023-05-30 23:07:43.640              6.0           Late  \n",
       "1                 2021-11-08 03:52:05.270              4.0           Late  \n",
       "2                 2023-09-07 10:07:29.323              NaN           Late  \n",
       "3                 2023-05-30 23:07:43.640            -24.0          Early  \n",
       "4                 2023-05-30 23:07:43.640             -6.0          Early  \n",
       "\n",
       "[5 rows x 23 columns]"
      ]
     },
     "execution_count": 50,
     "metadata": {},
     "output_type": "execute_result"
    }
   ],
   "source": [
    "koch.head()"
   ]
  },
  {
   "cell_type": "code",
   "execution_count": 51,
   "metadata": {},
   "outputs": [],
   "source": [
    "# Count occurrences of each category in 'SUB_COMMODITY_DESC'\n",
    "category_counts = koch['SUB_COMMODITY_DESC'].value_counts()\n",
    "\n",
    "# Create a new column 'Category_total_counts' by mapping counts based on 'SUB_COMMODITY_DESC'\n",
    "koch['Category_total_counts'] = koch['SUB_COMMODITY_DESC'].map(category_counts)\n",
    "\n",
    "# Create a DataFrame with unique 'SUB_COMMODITY_DESC' and corresponding counts\n",
    "selected_columns = koch[['SUB_COMMODITY_DESC', 'Category_total_counts']].drop_duplicates()\n",
    "\n",
    "# Create a new column 'Ranking' based on the order of 'Category_total_counts'\n",
    "selected_columns['Ranking'] = selected_columns['Category_total_counts'].rank(ascending=False, method='min')\n",
    "\n",
    "# Sort the DataFrame by 'Category_total_counts' in descending order and then by 'Ranking' in ascending order\n",
    "selected_columns = selected_columns.sort_values(by=['Ranking','Category_total_counts'], ascending=[False, True])\n",
    "\n",
    "# Drop rows with missing values\n",
    "selected_columns = selected_columns.dropna()\n",
    "\n",
    "selected_columns = selected_columns[['Ranking', 'SUB_COMMODITY_DESC']]\n",
    "\n"
   ]
  },
  {
   "cell_type": "code",
   "execution_count": 52,
   "metadata": {},
   "outputs": [
    {
     "data": {
      "text/html": [
       "<div>\n",
       "<style scoped>\n",
       "    .dataframe tbody tr th:only-of-type {\n",
       "        vertical-align: middle;\n",
       "    }\n",
       "\n",
       "    .dataframe tbody tr th {\n",
       "        vertical-align: top;\n",
       "    }\n",
       "\n",
       "    .dataframe thead th {\n",
       "        text-align: right;\n",
       "    }\n",
       "</style>\n",
       "<table border=\"1\" class=\"dataframe\">\n",
       "  <thead>\n",
       "    <tr style=\"text-align: right;\">\n",
       "      <th></th>\n",
       "      <th>Ranking</th>\n",
       "      <th>SUB_COMMODITY_DESC</th>\n",
       "    </tr>\n",
       "  </thead>\n",
       "  <tbody>\n",
       "    <tr>\n",
       "      <th>5538</th>\n",
       "      <td>72.0</td>\n",
       "      <td>Admin Services</td>\n",
       "    </tr>\n",
       "    <tr>\n",
       "      <th>133903</th>\n",
       "      <td>71.0</td>\n",
       "      <td>Marketing Consulting Services</td>\n",
       "    </tr>\n",
       "    <tr>\n",
       "      <th>2555</th>\n",
       "      <td>70.0</td>\n",
       "      <td>Pads, Trays &amp; Locators</td>\n",
       "    </tr>\n",
       "    <tr>\n",
       "      <th>5421</th>\n",
       "      <td>69.0</td>\n",
       "      <td>Security Services</td>\n",
       "    </tr>\n",
       "    <tr>\n",
       "      <th>11737</th>\n",
       "      <td>68.0</td>\n",
       "      <td>Health Services</td>\n",
       "    </tr>\n",
       "    <tr>\n",
       "      <th>...</th>\n",
       "      <td>...</td>\n",
       "      <td>...</td>\n",
       "    </tr>\n",
       "    <tr>\n",
       "      <th>3</th>\n",
       "      <td>5.0</td>\n",
       "      <td>Piping &amp; Tubing</td>\n",
       "    </tr>\n",
       "    <tr>\n",
       "      <th>35</th>\n",
       "      <td>4.0</td>\n",
       "      <td>Resins &amp; Polymers</td>\n",
       "    </tr>\n",
       "    <tr>\n",
       "      <th>5</th>\n",
       "      <td>3.0</td>\n",
       "      <td>Tolling</td>\n",
       "    </tr>\n",
       "    <tr>\n",
       "      <th>1</th>\n",
       "      <td>2.0</td>\n",
       "      <td>Custom Manufacturing</td>\n",
       "    </tr>\n",
       "    <tr>\n",
       "      <th>11</th>\n",
       "      <td>1.0</td>\n",
       "      <td>Additives, Colorants &amp; Catalysts</td>\n",
       "    </tr>\n",
       "  </tbody>\n",
       "</table>\n",
       "<p>72 rows × 2 columns</p>\n",
       "</div>"
      ],
      "text/plain": [
       "        Ranking                SUB_COMMODITY_DESC\n",
       "5538       72.0                    Admin Services\n",
       "133903     71.0     Marketing Consulting Services\n",
       "2555       70.0            Pads, Trays & Locators\n",
       "5421       69.0                 Security Services\n",
       "11737      68.0                   Health Services\n",
       "...         ...                               ...\n",
       "3           5.0                   Piping & Tubing\n",
       "35          4.0                 Resins & Polymers\n",
       "5           3.0                           Tolling\n",
       "1           2.0              Custom Manufacturing\n",
       "11          1.0  Additives, Colorants & Catalysts\n",
       "\n",
       "[72 rows x 2 columns]"
      ]
     },
     "execution_count": 52,
     "metadata": {},
     "output_type": "execute_result"
    }
   ],
   "source": [
    "selected_columns"
   ]
  },
  {
   "cell_type": "code",
   "execution_count": 53,
   "metadata": {},
   "outputs": [],
   "source": [
    "koch = koch.merge(selected_columns, on='SUB_COMMODITY_DESC', how='left')"
   ]
  },
  {
   "cell_type": "code",
   "execution_count": 54,
   "metadata": {},
   "outputs": [
    {
     "data": {
      "text/html": [
       "<div>\n",
       "<style scoped>\n",
       "    .dataframe tbody tr th:only-of-type {\n",
       "        vertical-align: middle;\n",
       "    }\n",
       "\n",
       "    .dataframe tbody tr th {\n",
       "        vertical-align: top;\n",
       "    }\n",
       "\n",
       "    .dataframe thead th {\n",
       "        text-align: right;\n",
       "    }\n",
       "</style>\n",
       "<table border=\"1\" class=\"dataframe\">\n",
       "  <thead>\n",
       "    <tr style=\"text-align: right;\">\n",
       "      <th></th>\n",
       "      <th>PURCHASE_DOCUMENT_ID</th>\n",
       "      <th>CREATE_DATE</th>\n",
       "      <th>COMPANY_CODE_ID</th>\n",
       "      <th>VENDOR_ID</th>\n",
       "      <th>POSTAL_CD</th>\n",
       "      <th>RELEASE_DATE</th>\n",
       "      <th>PURCHASE_DOCUMENT_ITEM_ID</th>\n",
       "      <th>MATERIAL_ID</th>\n",
       "      <th>SUB_COMMODITY_DESC</th>\n",
       "      <th>MRP_TYPE_ID</th>\n",
       "      <th>...</th>\n",
       "      <th>DELIVERY_DATE</th>\n",
       "      <th>REQUESTED_DELIVERY_DATE</th>\n",
       "      <th>INBOUND_DELIVERY_ID</th>\n",
       "      <th>INBOUND_DELIVERY_ITEM_ID</th>\n",
       "      <th>PLANNED_DELIVERY_DAYS</th>\n",
       "      <th>BI_LAST_UPDATED_PURCHASE_DOCUMENT_ITEM</th>\n",
       "      <th>Time_Difference</th>\n",
       "      <th>Arrival_Status</th>\n",
       "      <th>Category_total_counts</th>\n",
       "      <th>Ranking</th>\n",
       "    </tr>\n",
       "  </thead>\n",
       "  <tbody>\n",
       "    <tr>\n",
       "      <th>0</th>\n",
       "      <td>2000008134</td>\n",
       "      <td>20210726</td>\n",
       "      <td>CA10</td>\n",
       "      <td>8010005836</td>\n",
       "      <td>N2C 0B7</td>\n",
       "      <td>NaN</td>\n",
       "      <td>30.0</td>\n",
       "      <td>NaN</td>\n",
       "      <td>Machinery &amp; Equipment</td>\n",
       "      <td>NaN</td>\n",
       "      <td>...</td>\n",
       "      <td>2021-08-06</td>\n",
       "      <td>2021-08-06</td>\n",
       "      <td>NaN</td>\n",
       "      <td>0.0</td>\n",
       "      <td>0.0</td>\n",
       "      <td>2023-05-30 23:07:43.640</td>\n",
       "      <td>6.0</td>\n",
       "      <td>Late</td>\n",
       "      <td>38309.0</td>\n",
       "      <td>10.0</td>\n",
       "    </tr>\n",
       "    <tr>\n",
       "      <th>1</th>\n",
       "      <td>5100146560</td>\n",
       "      <td>20210726</td>\n",
       "      <td>US10</td>\n",
       "      <td>None</td>\n",
       "      <td>None</td>\n",
       "      <td>NaN</td>\n",
       "      <td>130.0</td>\n",
       "      <td>2.100008e+09</td>\n",
       "      <td>Custom Manufacturing</td>\n",
       "      <td>1.0</td>\n",
       "      <td>...</td>\n",
       "      <td>2021-09-10</td>\n",
       "      <td>2021-09-10</td>\n",
       "      <td>185979544.0</td>\n",
       "      <td>10.0</td>\n",
       "      <td>3.0</td>\n",
       "      <td>2021-11-08 03:52:05.270</td>\n",
       "      <td>4.0</td>\n",
       "      <td>Late</td>\n",
       "      <td>106973.0</td>\n",
       "      <td>2.0</td>\n",
       "    </tr>\n",
       "    <tr>\n",
       "      <th>2</th>\n",
       "      <td>5501410919</td>\n",
       "      <td>20210726</td>\n",
       "      <td>CA10</td>\n",
       "      <td>8010003139</td>\n",
       "      <td>L6H 5T5</td>\n",
       "      <td>NaN</td>\n",
       "      <td>10.0</td>\n",
       "      <td>NaN</td>\n",
       "      <td>Infrastructure Services</td>\n",
       "      <td>NaN</td>\n",
       "      <td>...</td>\n",
       "      <td>2021-08-02</td>\n",
       "      <td>2021-08-02</td>\n",
       "      <td>NaN</td>\n",
       "      <td>0.0</td>\n",
       "      <td>0.0</td>\n",
       "      <td>2023-09-07 10:07:29.323</td>\n",
       "      <td>NaN</td>\n",
       "      <td>Late</td>\n",
       "      <td>11952.0</td>\n",
       "      <td>22.0</td>\n",
       "    </tr>\n",
       "    <tr>\n",
       "      <th>3</th>\n",
       "      <td>2000008138</td>\n",
       "      <td>20210726</td>\n",
       "      <td>CA10</td>\n",
       "      <td>8010005836</td>\n",
       "      <td>N2C 0B7</td>\n",
       "      <td>NaN</td>\n",
       "      <td>20.0</td>\n",
       "      <td>NaN</td>\n",
       "      <td>Piping &amp; Tubing</td>\n",
       "      <td>NaN</td>\n",
       "      <td>...</td>\n",
       "      <td>2021-08-27</td>\n",
       "      <td>2021-08-27</td>\n",
       "      <td>NaN</td>\n",
       "      <td>0.0</td>\n",
       "      <td>0.0</td>\n",
       "      <td>2023-05-30 23:07:43.640</td>\n",
       "      <td>-24.0</td>\n",
       "      <td>Early</td>\n",
       "      <td>77387.0</td>\n",
       "      <td>5.0</td>\n",
       "    </tr>\n",
       "    <tr>\n",
       "      <th>4</th>\n",
       "      <td>2000008136</td>\n",
       "      <td>20210726</td>\n",
       "      <td>CA10</td>\n",
       "      <td>8010005836</td>\n",
       "      <td>N2C 0B7</td>\n",
       "      <td>NaN</td>\n",
       "      <td>40.0</td>\n",
       "      <td>NaN</td>\n",
       "      <td>Material Handling</td>\n",
       "      <td>NaN</td>\n",
       "      <td>...</td>\n",
       "      <td>2021-08-05</td>\n",
       "      <td>2021-08-05</td>\n",
       "      <td>NaN</td>\n",
       "      <td>0.0</td>\n",
       "      <td>0.0</td>\n",
       "      <td>2023-05-30 23:07:43.640</td>\n",
       "      <td>-6.0</td>\n",
       "      <td>Early</td>\n",
       "      <td>57662.0</td>\n",
       "      <td>7.0</td>\n",
       "    </tr>\n",
       "  </tbody>\n",
       "</table>\n",
       "<p>5 rows × 25 columns</p>\n",
       "</div>"
      ],
      "text/plain": [
       "   PURCHASE_DOCUMENT_ID  CREATE_DATE COMPANY_CODE_ID   VENDOR_ID POSTAL_CD  \\\n",
       "0            2000008134     20210726            CA10  8010005836   N2C 0B7   \n",
       "1            5100146560     20210726            US10        None      None   \n",
       "2            5501410919     20210726            CA10  8010003139   L6H 5T5   \n",
       "3            2000008138     20210726            CA10  8010005836   N2C 0B7   \n",
       "4            2000008136     20210726            CA10  8010005836   N2C 0B7   \n",
       "\n",
       "   RELEASE_DATE  PURCHASE_DOCUMENT_ITEM_ID   MATERIAL_ID  \\\n",
       "0           NaN                       30.0           NaN   \n",
       "1           NaN                      130.0  2.100008e+09   \n",
       "2           NaN                       10.0           NaN   \n",
       "3           NaN                       20.0           NaN   \n",
       "4           NaN                       40.0           NaN   \n",
       "\n",
       "        SUB_COMMODITY_DESC  MRP_TYPE_ID  ...  DELIVERY_DATE  \\\n",
       "0    Machinery & Equipment          NaN  ...     2021-08-06   \n",
       "1     Custom Manufacturing          1.0  ...     2021-09-10   \n",
       "2  Infrastructure Services          NaN  ...     2021-08-02   \n",
       "3          Piping & Tubing          NaN  ...     2021-08-27   \n",
       "4        Material Handling          NaN  ...     2021-08-05   \n",
       "\n",
       "  REQUESTED_DELIVERY_DATE  INBOUND_DELIVERY_ID INBOUND_DELIVERY_ITEM_ID  \\\n",
       "0              2021-08-06                  NaN                      0.0   \n",
       "1              2021-09-10          185979544.0                     10.0   \n",
       "2              2021-08-02                  NaN                      0.0   \n",
       "3              2021-08-27                  NaN                      0.0   \n",
       "4              2021-08-05                  NaN                      0.0   \n",
       "\n",
       "  PLANNED_DELIVERY_DAYS BI_LAST_UPDATED_PURCHASE_DOCUMENT_ITEM  \\\n",
       "0                   0.0                2023-05-30 23:07:43.640   \n",
       "1                   3.0                2021-11-08 03:52:05.270   \n",
       "2                   0.0                2023-09-07 10:07:29.323   \n",
       "3                   0.0                2023-05-30 23:07:43.640   \n",
       "4                   0.0                2023-05-30 23:07:43.640   \n",
       "\n",
       "  Time_Difference  Arrival_Status  Category_total_counts Ranking  \n",
       "0             6.0            Late                38309.0    10.0  \n",
       "1             4.0            Late               106973.0     2.0  \n",
       "2             NaN            Late                11952.0    22.0  \n",
       "3           -24.0           Early                77387.0     5.0  \n",
       "4            -6.0           Early                57662.0     7.0  \n",
       "\n",
       "[5 rows x 25 columns]"
      ]
     },
     "execution_count": 54,
     "metadata": {},
     "output_type": "execute_result"
    }
   ],
   "source": [
    "koch.head()"
   ]
  },
  {
   "cell_type": "code",
   "execution_count": 55,
   "metadata": {},
   "outputs": [],
   "source": [
    "# Count occurrences of each category in 'MATERIAL_ID'\n",
    "material_counts = koch['MATERIAL_ID'].value_counts()\n",
    "\n",
    "# Create a new column 'Material_total_counts' by mapping counts based on 'MATERIAL_ID'\n",
    "koch['Material_total_counts'] = koch['MATERIAL_ID'].map(material_counts)\n",
    "\n",
    "# Create a DataFrame with unique 'MATERIAL_ID' and corresponding counts\n",
    "selected_columns1 = koch[['MATERIAL_ID', 'Material_total_counts']].drop_duplicates()\n",
    "\n",
    "# Create a new column 'Ranking' based on the order of 'Material_total_counts'\n",
    "selected_columns1['Ranking_M'] = selected_columns1['Material_total_counts'].rank(ascending=False, method='min')\n",
    "\n",
    "# Sort the DataFrame by 'Material_total_counts' in descending order and then by 'Ranking' in ascending order\n",
    "selected_columns1 = selected_columns1.sort_values(by=['Material_total_counts', 'Ranking_M'], ascending=[False, True])\n",
    "selected_columns1 = selected_columns1[['Ranking_M', 'Material_total_counts', 'MATERIAL_ID']].drop_duplicates()\n",
    "\n",
    "# Drop rows with missing values\n",
    "selected_columns1 = selected_columns1.dropna()\n",
    "selected_columns1 = selected_columns1[['Ranking_M', 'MATERIAL_ID']]\n"
   ]
  },
  {
   "cell_type": "code",
   "execution_count": 56,
   "metadata": {},
   "outputs": [
    {
     "data": {
      "text/html": [
       "<div>\n",
       "<style scoped>\n",
       "    .dataframe tbody tr th:only-of-type {\n",
       "        vertical-align: middle;\n",
       "    }\n",
       "\n",
       "    .dataframe tbody tr th {\n",
       "        vertical-align: top;\n",
       "    }\n",
       "\n",
       "    .dataframe thead th {\n",
       "        text-align: right;\n",
       "    }\n",
       "</style>\n",
       "<table border=\"1\" class=\"dataframe\">\n",
       "  <thead>\n",
       "    <tr style=\"text-align: right;\">\n",
       "      <th></th>\n",
       "      <th>Ranking_M</th>\n",
       "      <th>MATERIAL_ID</th>\n",
       "    </tr>\n",
       "  </thead>\n",
       "  <tbody>\n",
       "    <tr>\n",
       "      <th>51</th>\n",
       "      <td>1.0</td>\n",
       "      <td>2.100018e+09</td>\n",
       "    </tr>\n",
       "    <tr>\n",
       "      <th>866</th>\n",
       "      <td>2.0</td>\n",
       "      <td>2.100013e+09</td>\n",
       "    </tr>\n",
       "    <tr>\n",
       "      <th>473</th>\n",
       "      <td>3.0</td>\n",
       "      <td>2.100013e+09</td>\n",
       "    </tr>\n",
       "    <tr>\n",
       "      <th>4523</th>\n",
       "      <td>4.0</td>\n",
       "      <td>2.100013e+09</td>\n",
       "    </tr>\n",
       "    <tr>\n",
       "      <th>867</th>\n",
       "      <td>5.0</td>\n",
       "      <td>2.100027e+09</td>\n",
       "    </tr>\n",
       "    <tr>\n",
       "      <th>...</th>\n",
       "      <td>...</td>\n",
       "      <td>...</td>\n",
       "    </tr>\n",
       "    <tr>\n",
       "      <th>1138513</th>\n",
       "      <td>28127.0</td>\n",
       "      <td>1.100123e+09</td>\n",
       "    </tr>\n",
       "    <tr>\n",
       "      <th>1138650</th>\n",
       "      <td>28127.0</td>\n",
       "      <td>1.100226e+09</td>\n",
       "    </tr>\n",
       "    <tr>\n",
       "      <th>1138849</th>\n",
       "      <td>28127.0</td>\n",
       "      <td>1.100093e+09</td>\n",
       "    </tr>\n",
       "    <tr>\n",
       "      <th>1138939</th>\n",
       "      <td>28127.0</td>\n",
       "      <td>1.100257e+09</td>\n",
       "    </tr>\n",
       "    <tr>\n",
       "      <th>1139122</th>\n",
       "      <td>28127.0</td>\n",
       "      <td>1.100277e+09</td>\n",
       "    </tr>\n",
       "  </tbody>\n",
       "</table>\n",
       "<p>41719 rows × 2 columns</p>\n",
       "</div>"
      ],
      "text/plain": [
       "         Ranking_M   MATERIAL_ID\n",
       "51             1.0  2.100018e+09\n",
       "866            2.0  2.100013e+09\n",
       "473            3.0  2.100013e+09\n",
       "4523           4.0  2.100013e+09\n",
       "867            5.0  2.100027e+09\n",
       "...            ...           ...\n",
       "1138513    28127.0  1.100123e+09\n",
       "1138650    28127.0  1.100226e+09\n",
       "1138849    28127.0  1.100093e+09\n",
       "1138939    28127.0  1.100257e+09\n",
       "1139122    28127.0  1.100277e+09\n",
       "\n",
       "[41719 rows x 2 columns]"
      ]
     },
     "execution_count": 56,
     "metadata": {},
     "output_type": "execute_result"
    }
   ],
   "source": [
    "selected_columns1"
   ]
  },
  {
   "cell_type": "code",
   "execution_count": 57,
   "metadata": {},
   "outputs": [],
   "source": [
    "koch = koch.merge(selected_columns1, on='MATERIAL_ID', how='left')"
   ]
  },
  {
   "cell_type": "code",
   "execution_count": 58,
   "metadata": {},
   "outputs": [
    {
     "data": {
      "text/html": [
       "<div>\n",
       "<style scoped>\n",
       "    .dataframe tbody tr th:only-of-type {\n",
       "        vertical-align: middle;\n",
       "    }\n",
       "\n",
       "    .dataframe tbody tr th {\n",
       "        vertical-align: top;\n",
       "    }\n",
       "\n",
       "    .dataframe thead th {\n",
       "        text-align: right;\n",
       "    }\n",
       "</style>\n",
       "<table border=\"1\" class=\"dataframe\">\n",
       "  <thead>\n",
       "    <tr style=\"text-align: right;\">\n",
       "      <th></th>\n",
       "      <th>PURCHASE_DOCUMENT_ID</th>\n",
       "      <th>CREATE_DATE</th>\n",
       "      <th>COMPANY_CODE_ID</th>\n",
       "      <th>VENDOR_ID</th>\n",
       "      <th>POSTAL_CD</th>\n",
       "      <th>RELEASE_DATE</th>\n",
       "      <th>PURCHASE_DOCUMENT_ITEM_ID</th>\n",
       "      <th>MATERIAL_ID</th>\n",
       "      <th>SUB_COMMODITY_DESC</th>\n",
       "      <th>MRP_TYPE_ID</th>\n",
       "      <th>...</th>\n",
       "      <th>INBOUND_DELIVERY_ID</th>\n",
       "      <th>INBOUND_DELIVERY_ITEM_ID</th>\n",
       "      <th>PLANNED_DELIVERY_DAYS</th>\n",
       "      <th>BI_LAST_UPDATED_PURCHASE_DOCUMENT_ITEM</th>\n",
       "      <th>Time_Difference</th>\n",
       "      <th>Arrival_Status</th>\n",
       "      <th>Category_total_counts</th>\n",
       "      <th>Ranking</th>\n",
       "      <th>Material_total_counts</th>\n",
       "      <th>Ranking_M</th>\n",
       "    </tr>\n",
       "  </thead>\n",
       "  <tbody>\n",
       "    <tr>\n",
       "      <th>0</th>\n",
       "      <td>2000008134</td>\n",
       "      <td>20210726</td>\n",
       "      <td>CA10</td>\n",
       "      <td>8010005836</td>\n",
       "      <td>N2C 0B7</td>\n",
       "      <td>NaN</td>\n",
       "      <td>30.0</td>\n",
       "      <td>NaN</td>\n",
       "      <td>Machinery &amp; Equipment</td>\n",
       "      <td>NaN</td>\n",
       "      <td>...</td>\n",
       "      <td>NaN</td>\n",
       "      <td>0.0</td>\n",
       "      <td>0.0</td>\n",
       "      <td>2023-05-30 23:07:43.640</td>\n",
       "      <td>6.0</td>\n",
       "      <td>Late</td>\n",
       "      <td>38309.0</td>\n",
       "      <td>10.0</td>\n",
       "      <td>NaN</td>\n",
       "      <td>NaN</td>\n",
       "    </tr>\n",
       "    <tr>\n",
       "      <th>1</th>\n",
       "      <td>5100146560</td>\n",
       "      <td>20210726</td>\n",
       "      <td>US10</td>\n",
       "      <td>None</td>\n",
       "      <td>None</td>\n",
       "      <td>NaN</td>\n",
       "      <td>130.0</td>\n",
       "      <td>2.100008e+09</td>\n",
       "      <td>Custom Manufacturing</td>\n",
       "      <td>1.0</td>\n",
       "      <td>...</td>\n",
       "      <td>185979544.0</td>\n",
       "      <td>10.0</td>\n",
       "      <td>3.0</td>\n",
       "      <td>2021-11-08 03:52:05.270</td>\n",
       "      <td>4.0</td>\n",
       "      <td>Late</td>\n",
       "      <td>106973.0</td>\n",
       "      <td>2.0</td>\n",
       "      <td>82.0</td>\n",
       "      <td>713.0</td>\n",
       "    </tr>\n",
       "    <tr>\n",
       "      <th>2</th>\n",
       "      <td>5501410919</td>\n",
       "      <td>20210726</td>\n",
       "      <td>CA10</td>\n",
       "      <td>8010003139</td>\n",
       "      <td>L6H 5T5</td>\n",
       "      <td>NaN</td>\n",
       "      <td>10.0</td>\n",
       "      <td>NaN</td>\n",
       "      <td>Infrastructure Services</td>\n",
       "      <td>NaN</td>\n",
       "      <td>...</td>\n",
       "      <td>NaN</td>\n",
       "      <td>0.0</td>\n",
       "      <td>0.0</td>\n",
       "      <td>2023-09-07 10:07:29.323</td>\n",
       "      <td>NaN</td>\n",
       "      <td>Late</td>\n",
       "      <td>11952.0</td>\n",
       "      <td>22.0</td>\n",
       "      <td>NaN</td>\n",
       "      <td>NaN</td>\n",
       "    </tr>\n",
       "    <tr>\n",
       "      <th>3</th>\n",
       "      <td>2000008138</td>\n",
       "      <td>20210726</td>\n",
       "      <td>CA10</td>\n",
       "      <td>8010005836</td>\n",
       "      <td>N2C 0B7</td>\n",
       "      <td>NaN</td>\n",
       "      <td>20.0</td>\n",
       "      <td>NaN</td>\n",
       "      <td>Piping &amp; Tubing</td>\n",
       "      <td>NaN</td>\n",
       "      <td>...</td>\n",
       "      <td>NaN</td>\n",
       "      <td>0.0</td>\n",
       "      <td>0.0</td>\n",
       "      <td>2023-05-30 23:07:43.640</td>\n",
       "      <td>-24.0</td>\n",
       "      <td>Early</td>\n",
       "      <td>77387.0</td>\n",
       "      <td>5.0</td>\n",
       "      <td>NaN</td>\n",
       "      <td>NaN</td>\n",
       "    </tr>\n",
       "    <tr>\n",
       "      <th>4</th>\n",
       "      <td>2000008136</td>\n",
       "      <td>20210726</td>\n",
       "      <td>CA10</td>\n",
       "      <td>8010005836</td>\n",
       "      <td>N2C 0B7</td>\n",
       "      <td>NaN</td>\n",
       "      <td>40.0</td>\n",
       "      <td>NaN</td>\n",
       "      <td>Material Handling</td>\n",
       "      <td>NaN</td>\n",
       "      <td>...</td>\n",
       "      <td>NaN</td>\n",
       "      <td>0.0</td>\n",
       "      <td>0.0</td>\n",
       "      <td>2023-05-30 23:07:43.640</td>\n",
       "      <td>-6.0</td>\n",
       "      <td>Early</td>\n",
       "      <td>57662.0</td>\n",
       "      <td>7.0</td>\n",
       "      <td>NaN</td>\n",
       "      <td>NaN</td>\n",
       "    </tr>\n",
       "  </tbody>\n",
       "</table>\n",
       "<p>5 rows × 27 columns</p>\n",
       "</div>"
      ],
      "text/plain": [
       "   PURCHASE_DOCUMENT_ID  CREATE_DATE COMPANY_CODE_ID   VENDOR_ID POSTAL_CD  \\\n",
       "0            2000008134     20210726            CA10  8010005836   N2C 0B7   \n",
       "1            5100146560     20210726            US10        None      None   \n",
       "2            5501410919     20210726            CA10  8010003139   L6H 5T5   \n",
       "3            2000008138     20210726            CA10  8010005836   N2C 0B7   \n",
       "4            2000008136     20210726            CA10  8010005836   N2C 0B7   \n",
       "\n",
       "   RELEASE_DATE  PURCHASE_DOCUMENT_ITEM_ID   MATERIAL_ID  \\\n",
       "0           NaN                       30.0           NaN   \n",
       "1           NaN                      130.0  2.100008e+09   \n",
       "2           NaN                       10.0           NaN   \n",
       "3           NaN                       20.0           NaN   \n",
       "4           NaN                       40.0           NaN   \n",
       "\n",
       "        SUB_COMMODITY_DESC  MRP_TYPE_ID  ...  INBOUND_DELIVERY_ID  \\\n",
       "0    Machinery & Equipment          NaN  ...                  NaN   \n",
       "1     Custom Manufacturing          1.0  ...          185979544.0   \n",
       "2  Infrastructure Services          NaN  ...                  NaN   \n",
       "3          Piping & Tubing          NaN  ...                  NaN   \n",
       "4        Material Handling          NaN  ...                  NaN   \n",
       "\n",
       "  INBOUND_DELIVERY_ITEM_ID  PLANNED_DELIVERY_DAYS  \\\n",
       "0                      0.0                    0.0   \n",
       "1                     10.0                    3.0   \n",
       "2                      0.0                    0.0   \n",
       "3                      0.0                    0.0   \n",
       "4                      0.0                    0.0   \n",
       "\n",
       "  BI_LAST_UPDATED_PURCHASE_DOCUMENT_ITEM Time_Difference Arrival_Status  \\\n",
       "0                2023-05-30 23:07:43.640             6.0           Late   \n",
       "1                2021-11-08 03:52:05.270             4.0           Late   \n",
       "2                2023-09-07 10:07:29.323             NaN           Late   \n",
       "3                2023-05-30 23:07:43.640           -24.0          Early   \n",
       "4                2023-05-30 23:07:43.640            -6.0          Early   \n",
       "\n",
       "  Category_total_counts  Ranking  Material_total_counts Ranking_M  \n",
       "0               38309.0     10.0                    NaN       NaN  \n",
       "1              106973.0      2.0                   82.0     713.0  \n",
       "2               11952.0     22.0                    NaN       NaN  \n",
       "3               77387.0      5.0                    NaN       NaN  \n",
       "4               57662.0      7.0                    NaN       NaN  \n",
       "\n",
       "[5 rows x 27 columns]"
      ]
     },
     "execution_count": 58,
     "metadata": {},
     "output_type": "execute_result"
    }
   ],
   "source": [
    "koch.head()"
   ]
  },
  {
   "cell_type": "code",
   "execution_count": 59,
   "metadata": {},
   "outputs": [],
   "source": [
    "koch = pl.from_pandas(koch)\n",
    "koch = koch.with_columns(pl.col('CREATE_DATE').cast(pl.Utf8))\n",
    "koch = koch.with_columns(\n",
    "    pl.col(\"CREATE_DATE\").str.strptime(pl.Date, \"%Y%m%d\").alias(\"CREATE_DATE\")\n",
    ")\n",
    "koch = koch.with_columns([\n",
    "    pl.col('CREATE_DATE').dt.weekday().alias('day_of_week'),  # Monday=0, Sunday=6\n",
    "    pl.col('CREATE_DATE').dt.month().alias('month'),\n",
    "    pl.col('CREATE_DATE').dt.quarter().alias('quarter')\n",
    "])"
   ]
  },
  {
   "cell_type": "code",
   "execution_count": 60,
   "metadata": {},
   "outputs": [
    {
     "data": {
      "text/html": [
       "<div><style>\n",
       ".dataframe > thead > tr,\n",
       ".dataframe > tbody > tr {\n",
       "  text-align: right;\n",
       "  white-space: pre-wrap;\n",
       "}\n",
       "</style>\n",
       "<small>shape: (5, 30)</small><table border=\"1\" class=\"dataframe\"><thead><tr><th>PURCHASE_DOCUMENT_ID</th><th>CREATE_DATE</th><th>COMPANY_CODE_ID</th><th>VENDOR_ID</th><th>POSTAL_CD</th><th>RELEASE_DATE</th><th>PURCHASE_DOCUMENT_ITEM_ID</th><th>MATERIAL_ID</th><th>SUB_COMMODITY_DESC</th><th>MRP_TYPE_ID</th><th>MRP_TYPE_DESC_E</th><th>SHORT_TEXT</th><th>PLANT_ID</th><th>POR_DELIVERY_DATE</th><th>FIRST_GR_POSTING_DATE</th><th>DELIVERY_DATE</th><th>REQUESTED_DELIVERY_DATE</th><th>INBOUND_DELIVERY_ID</th><th>INBOUND_DELIVERY_ITEM_ID</th><th>PLANNED_DELIVERY_DAYS</th><th>BI_LAST_UPDATED_PURCHASE_DOCUMENT_ITEM</th><th>Time_Difference</th><th>Arrival_Status</th><th>Category_total_counts</th><th>Ranking</th><th>Material_total_counts</th><th>Ranking_M</th><th>day_of_week</th><th>month</th><th>quarter</th></tr><tr><td>i64</td><td>date</td><td>str</td><td>str</td><td>str</td><td>f64</td><td>f64</td><td>f64</td><td>str</td><td>f64</td><td>f64</td><td>str</td><td>f64</td><td>datetime[ns]</td><td>datetime[ns]</td><td>datetime[ns]</td><td>datetime[ns]</td><td>f64</td><td>f64</td><td>str</td><td>datetime[ns]</td><td>f64</td><td>str</td><td>f64</td><td>f64</td><td>f64</td><td>f64</td><td>u32</td><td>u32</td><td>u32</td></tr></thead><tbody><tr><td>2000008134</td><td>2021-07-26</td><td>&quot;CA10&quot;</td><td>&quot;8010005836&quot;</td><td>&quot;N2C 0B7&quot;</td><td>null</td><td>30.0</td><td>null</td><td>&quot;Machinery &amp; Eq…</td><td>null</td><td>null</td><td>&quot;1/2&quot; OD x 0.06…</td><td>4036.0</td><td>null</td><td>2021-08-12 00:00:00</td><td>2021-08-06 00:00:00</td><td>2021-08-06 00:00:00</td><td>null</td><td>0.0</td><td>&quot;0.0&quot;</td><td>2023-05-30 23:07:43.640</td><td>6.0</td><td>&quot;Late&quot;</td><td>38309.0</td><td>10.0</td><td>null</td><td>null</td><td>1</td><td>7</td><td>3</td></tr><tr><td>5100146560</td><td>2021-07-26</td><td>&quot;US10&quot;</td><td>null</td><td>null</td><td>null</td><td>130.0</td><td>2.1000e9</td><td>&quot;Custom Manufac…</td><td>1.0</td><td>1.0</td><td>&quot;994 45 9951A T…</td><td>4016.0</td><td>2021-09-14 00:00:00</td><td>2021-09-14 00:00:00</td><td>2021-09-10 00:00:00</td><td>2021-09-10 00:00:00</td><td>1.85979544e8</td><td>10.0</td><td>&quot;3.0&quot;</td><td>2021-11-08 03:52:05.270</td><td>4.0</td><td>&quot;Late&quot;</td><td>106973.0</td><td>2.0</td><td>82.0</td><td>713.0</td><td>1</td><td>7</td><td>3</td></tr><tr><td>5501410919</td><td>2021-07-26</td><td>&quot;CA10&quot;</td><td>&quot;8010003139&quot;</td><td>&quot;L6H 5T5&quot;</td><td>null</td><td>10.0</td><td>null</td><td>&quot;Infrastructure…</td><td>null</td><td>null</td><td>&quot;B66 RECHARGE P…</td><td>4036.0</td><td>null</td><td>null</td><td>2021-08-02 00:00:00</td><td>2021-08-02 00:00:00</td><td>null</td><td>0.0</td><td>&quot;0.0&quot;</td><td>2023-09-07 10:07:29.323</td><td>null</td><td>&quot;Late&quot;</td><td>11952.0</td><td>22.0</td><td>null</td><td>null</td><td>1</td><td>7</td><td>3</td></tr><tr><td>2000008138</td><td>2021-07-26</td><td>&quot;CA10&quot;</td><td>&quot;8010005836&quot;</td><td>&quot;N2C 0B7&quot;</td><td>null</td><td>20.0</td><td>null</td><td>&quot;Piping &amp; Tubin…</td><td>null</td><td>null</td><td>&quot;5/8&quot; x 50 ft B…</td><td>4036.0</td><td>null</td><td>2021-08-03 00:00:00</td><td>2021-08-27 00:00:00</td><td>2021-08-27 00:00:00</td><td>null</td><td>0.0</td><td>&quot;0.0&quot;</td><td>2023-05-30 23:07:43.640</td><td>-24.0</td><td>&quot;Early&quot;</td><td>77387.0</td><td>5.0</td><td>null</td><td>null</td><td>1</td><td>7</td><td>3</td></tr><tr><td>2000008136</td><td>2021-07-26</td><td>&quot;CA10&quot;</td><td>&quot;8010005836&quot;</td><td>&quot;N2C 0B7&quot;</td><td>null</td><td>40.0</td><td>null</td><td>&quot;Material Handl…</td><td>null</td><td>null</td><td>&quot;4XL - HI-VIZ S…</td><td>4036.0</td><td>null</td><td>2021-07-30 00:00:00</td><td>2021-08-05 00:00:00</td><td>2021-08-05 00:00:00</td><td>null</td><td>0.0</td><td>&quot;0.0&quot;</td><td>2023-05-30 23:07:43.640</td><td>-6.0</td><td>&quot;Early&quot;</td><td>57662.0</td><td>7.0</td><td>null</td><td>null</td><td>1</td><td>7</td><td>3</td></tr></tbody></table></div>"
      ],
      "text/plain": [
       "shape: (5, 30)\n",
       "┌────────────┬────────────┬────────────┬────────────┬───┬───────────┬────────────┬───────┬─────────┐\n",
       "│ PURCHASE_D ┆ CREATE_DAT ┆ COMPANY_CO ┆ VENDOR_ID  ┆ … ┆ Ranking_M ┆ day_of_wee ┆ month ┆ quarter │\n",
       "│ OCUMENT_ID ┆ E          ┆ DE_ID      ┆ ---        ┆   ┆ ---       ┆ k          ┆ ---   ┆ ---     │\n",
       "│ ---        ┆ ---        ┆ ---        ┆ str        ┆   ┆ f64       ┆ ---        ┆ u32   ┆ u32     │\n",
       "│ i64        ┆ date       ┆ str        ┆            ┆   ┆           ┆ u32        ┆       ┆         │\n",
       "╞════════════╪════════════╪════════════╪════════════╪═══╪═══════════╪════════════╪═══════╪═════════╡\n",
       "│ 2000008134 ┆ 2021-07-26 ┆ CA10       ┆ 8010005836 ┆ … ┆ null      ┆ 1          ┆ 7     ┆ 3       │\n",
       "│ 5100146560 ┆ 2021-07-26 ┆ US10       ┆ null       ┆ … ┆ 713.0     ┆ 1          ┆ 7     ┆ 3       │\n",
       "│ 5501410919 ┆ 2021-07-26 ┆ CA10       ┆ 8010003139 ┆ … ┆ null      ┆ 1          ┆ 7     ┆ 3       │\n",
       "│ 2000008138 ┆ 2021-07-26 ┆ CA10       ┆ 8010005836 ┆ … ┆ null      ┆ 1          ┆ 7     ┆ 3       │\n",
       "│ 2000008136 ┆ 2021-07-26 ┆ CA10       ┆ 8010005836 ┆ … ┆ null      ┆ 1          ┆ 7     ┆ 3       │\n",
       "└────────────┴────────────┴────────────┴────────────┴───┴───────────┴────────────┴───────┴─────────┘"
      ]
     },
     "execution_count": 60,
     "metadata": {},
     "output_type": "execute_result"
    }
   ],
   "source": [
    "koch.head()"
   ]
  },
  {
   "cell_type": "code",
   "execution_count": 61,
   "metadata": {},
   "outputs": [],
   "source": [
    "koch = koch.with_columns(pl.col('DELIVERY_DATE').cast(pl.Utf8))\n",
    "koch = koch.with_columns(\n",
    "    pl.col(\"DELIVERY_DATE\").str.strptime(pl.Datetime, \"%Y-%m-%d %H:%M:%S.%f\")\n",
    ")\n",
    "\n",
    "koch = koch.with_columns([\n",
    "    pl.col('DELIVERY_DATE').dt.weekday().alias('D_day_of_week'),  # Monday=0, Sunday=6\n",
    "])"
   ]
  },
  {
   "cell_type": "code",
   "execution_count": 424,
   "metadata": {},
   "outputs": [
    {
     "data": {
      "text/html": [
       "<div><style>\n",
       ".dataframe > thead > tr,\n",
       ".dataframe > tbody > tr {\n",
       "  text-align: right;\n",
       "  white-space: pre-wrap;\n",
       "}\n",
       "</style>\n",
       "<small>shape: (5, 31)</small><table border=\"1\" class=\"dataframe\"><thead><tr><th>PURCHASE_DOCUMENT_ID</th><th>CREATE_DATE</th><th>COMPANY_CODE_ID</th><th>VENDOR_ID</th><th>POSTAL_CD</th><th>RELEASE_DATE</th><th>PURCHASE_DOCUMENT_ITEM_ID</th><th>MATERIAL_ID</th><th>SUB_COMMODITY_DESC</th><th>MRP_TYPE_ID</th><th>MRP_TYPE_DESC_E</th><th>SHORT_TEXT</th><th>PLANT_ID</th><th>POR_DELIVERY_DATE</th><th>FIRST_GR_POSTING_DATE</th><th>DELIVERY_DATE</th><th>REQUESTED_DELIVERY_DATE</th><th>INBOUND_DELIVERY_ID</th><th>INBOUND_DELIVERY_ITEM_ID</th><th>PLANNED_DELIVERY_DAYS</th><th>BI_LAST_UPDATED_PURCHASE_DOCUMENT_ITEM</th><th>Time_Difference</th><th>Arrival_Status</th><th>Category_total_counts</th><th>Ranking</th><th>Material_total_counts</th><th>Ranking_M</th><th>day_of_week</th><th>month</th><th>quarter</th><th>D_day_of_week</th></tr><tr><td>i64</td><td>date</td><td>str</td><td>str</td><td>str</td><td>f64</td><td>f64</td><td>f64</td><td>str</td><td>f64</td><td>f64</td><td>str</td><td>f64</td><td>datetime[ns]</td><td>datetime[ns]</td><td>datetime[ns]</td><td>datetime[ns]</td><td>f64</td><td>f64</td><td>str</td><td>datetime[ns]</td><td>f64</td><td>str</td><td>f64</td><td>f64</td><td>f64</td><td>f64</td><td>u32</td><td>u32</td><td>u32</td><td>u32</td></tr></thead><tbody><tr><td>2000008134</td><td>2021-07-26</td><td>&quot;CA10&quot;</td><td>&quot;8010005836&quot;</td><td>&quot;N2C 0B7&quot;</td><td>null</td><td>30.0</td><td>null</td><td>&quot;Machinery &amp; Eq…</td><td>null</td><td>null</td><td>&quot;1/2&quot; OD x 0.06…</td><td>4036.0</td><td>null</td><td>2021-08-12 00:00:00</td><td>2021-08-06 00:00:00</td><td>2021-08-06 00:00:00</td><td>null</td><td>0.0</td><td>&quot;0.0&quot;</td><td>2023-05-30 23:07:43.640</td><td>6.0</td><td>&quot;Late&quot;</td><td>38309.0</td><td>10.0</td><td>null</td><td>null</td><td>1</td><td>7</td><td>3</td><td>5</td></tr><tr><td>5100146560</td><td>2021-07-26</td><td>&quot;US10&quot;</td><td>null</td><td>null</td><td>null</td><td>130.0</td><td>2.1000e9</td><td>&quot;Custom Manufac…</td><td>1.0</td><td>1.0</td><td>&quot;994 45 9951A T…</td><td>4016.0</td><td>2021-09-14 00:00:00</td><td>2021-09-14 00:00:00</td><td>2021-09-10 00:00:00</td><td>2021-09-10 00:00:00</td><td>1.85979544e8</td><td>10.0</td><td>&quot;3.0&quot;</td><td>2021-11-08 03:52:05.270</td><td>4.0</td><td>&quot;Late&quot;</td><td>106973.0</td><td>2.0</td><td>82.0</td><td>713.0</td><td>1</td><td>7</td><td>3</td><td>5</td></tr><tr><td>5501410919</td><td>2021-07-26</td><td>&quot;CA10&quot;</td><td>&quot;8010003139&quot;</td><td>&quot;L6H 5T5&quot;</td><td>null</td><td>10.0</td><td>null</td><td>&quot;Infrastructure…</td><td>null</td><td>null</td><td>&quot;B66 RECHARGE P…</td><td>4036.0</td><td>null</td><td>null</td><td>2021-08-02 00:00:00</td><td>2021-08-02 00:00:00</td><td>null</td><td>0.0</td><td>&quot;0.0&quot;</td><td>2023-09-07 10:07:29.323</td><td>null</td><td>&quot;Late&quot;</td><td>11952.0</td><td>22.0</td><td>null</td><td>null</td><td>1</td><td>7</td><td>3</td><td>1</td></tr><tr><td>2000008138</td><td>2021-07-26</td><td>&quot;CA10&quot;</td><td>&quot;8010005836&quot;</td><td>&quot;N2C 0B7&quot;</td><td>null</td><td>20.0</td><td>null</td><td>&quot;Piping &amp; Tubin…</td><td>null</td><td>null</td><td>&quot;5/8&quot; x 50 ft B…</td><td>4036.0</td><td>null</td><td>2021-08-03 00:00:00</td><td>2021-08-27 00:00:00</td><td>2021-08-27 00:00:00</td><td>null</td><td>0.0</td><td>&quot;0.0&quot;</td><td>2023-05-30 23:07:43.640</td><td>-24.0</td><td>&quot;Early&quot;</td><td>77387.0</td><td>5.0</td><td>null</td><td>null</td><td>1</td><td>7</td><td>3</td><td>5</td></tr><tr><td>2000008136</td><td>2021-07-26</td><td>&quot;CA10&quot;</td><td>&quot;8010005836&quot;</td><td>&quot;N2C 0B7&quot;</td><td>null</td><td>40.0</td><td>null</td><td>&quot;Material Handl…</td><td>null</td><td>null</td><td>&quot;4XL - HI-VIZ S…</td><td>4036.0</td><td>null</td><td>2021-07-30 00:00:00</td><td>2021-08-05 00:00:00</td><td>2021-08-05 00:00:00</td><td>null</td><td>0.0</td><td>&quot;0.0&quot;</td><td>2023-05-30 23:07:43.640</td><td>-6.0</td><td>&quot;Early&quot;</td><td>57662.0</td><td>7.0</td><td>null</td><td>null</td><td>1</td><td>7</td><td>3</td><td>4</td></tr></tbody></table></div>"
      ],
      "text/plain": [
       "shape: (5, 31)\n",
       "┌────────────┬────────────┬────────────┬────────────┬───┬────────────┬───────┬─────────┬───────────┐\n",
       "│ PURCHASE_D ┆ CREATE_DAT ┆ COMPANY_CO ┆ VENDOR_ID  ┆ … ┆ day_of_wee ┆ month ┆ quarter ┆ D_day_of_ │\n",
       "│ OCUMENT_ID ┆ E          ┆ DE_ID      ┆ ---        ┆   ┆ k          ┆ ---   ┆ ---     ┆ week      │\n",
       "│ ---        ┆ ---        ┆ ---        ┆ str        ┆   ┆ ---        ┆ u32   ┆ u32     ┆ ---       │\n",
       "│ i64        ┆ date       ┆ str        ┆            ┆   ┆ u32        ┆       ┆         ┆ u32       │\n",
       "╞════════════╪════════════╪════════════╪════════════╪═══╪════════════╪═══════╪═════════╪═══════════╡\n",
       "│ 2000008134 ┆ 2021-07-26 ┆ CA10       ┆ 8010005836 ┆ … ┆ 1          ┆ 7     ┆ 3       ┆ 5         │\n",
       "│ 5100146560 ┆ 2021-07-26 ┆ US10       ┆ null       ┆ … ┆ 1          ┆ 7     ┆ 3       ┆ 5         │\n",
       "│ 5501410919 ┆ 2021-07-26 ┆ CA10       ┆ 8010003139 ┆ … ┆ 1          ┆ 7     ┆ 3       ┆ 1         │\n",
       "│ 2000008138 ┆ 2021-07-26 ┆ CA10       ┆ 8010005836 ┆ … ┆ 1          ┆ 7     ┆ 3       ┆ 5         │\n",
       "│ 2000008136 ┆ 2021-07-26 ┆ CA10       ┆ 8010005836 ┆ … ┆ 1          ┆ 7     ┆ 3       ┆ 4         │\n",
       "└────────────┴────────────┴────────────┴────────────┴───┴────────────┴───────┴─────────┴───────────┘"
      ]
     },
     "execution_count": 424,
     "metadata": {},
     "output_type": "execute_result"
    }
   ],
   "source": [
    "koch.head()"
   ]
  },
  {
   "cell_type": "code",
   "execution_count": 64,
   "metadata": {},
   "outputs": [
    {
     "data": {
      "text/plain": [
       "PURCHASE_DOCUMENT_ID                           0\n",
       "CREATE_DATE                                    0\n",
       "COMPANY_CODE_ID                                0\n",
       "VENDOR_ID                                 182957\n",
       "POSTAL_CD                                 183927\n",
       "RELEASE_DATE                              945562\n",
       "PURCHASE_DOCUMENT_ITEM_ID                      0\n",
       "MATERIAL_ID                               437382\n",
       "SUB_COMMODITY_DESC                           190\n",
       "MRP_TYPE_ID                               437382\n",
       "MRP_TYPE_DESC_E                           437382\n",
       "SHORT_TEXT                                     2\n",
       "PLANT_ID                                       4\n",
       "POR_DELIVERY_DATE                         636604\n",
       "FIRST_GR_POSTING_DATE                          0\n",
       "DELIVERY_DATE                                  0\n",
       "REQUESTED_DELIVERY_DATE                       31\n",
       "INBOUND_DELIVERY_ID                       501397\n",
       "INBOUND_DELIVERY_ITEM_ID                       0\n",
       "PLANNED_DELIVERY_DAYS                          0\n",
       "BI_LAST_UPDATED_PURCHASE_DOCUMENT_ITEM         4\n",
       "Time_Difference                                0\n",
       "Arrival_Status                                 0\n",
       "Category_total_counts                        190\n",
       "Ranking                                      190\n",
       "Material_total_counts                     437382\n",
       "Ranking_M                                 437382\n",
       "day_of_week                                    0\n",
       "month                                          0\n",
       "quarter                                        0\n",
       "D_day_of_week                                  0\n",
       "dtype: int64"
      ]
     },
     "execution_count": 64,
     "metadata": {},
     "output_type": "execute_result"
    }
   ],
   "source": [
    "koch = koch.to_pandas()\n",
    "koch = koch.dropna(subset=['Time_Difference'])\n",
    "koch.isna().sum()"
   ]
  },
  {
   "cell_type": "code",
   "execution_count": 65,
   "metadata": {},
   "outputs": [
    {
     "data": {
      "text/html": [
       "<div>\n",
       "<style scoped>\n",
       "    .dataframe tbody tr th:only-of-type {\n",
       "        vertical-align: middle;\n",
       "    }\n",
       "\n",
       "    .dataframe tbody tr th {\n",
       "        vertical-align: top;\n",
       "    }\n",
       "\n",
       "    .dataframe thead th {\n",
       "        text-align: right;\n",
       "    }\n",
       "</style>\n",
       "<table border=\"1\" class=\"dataframe\">\n",
       "  <thead>\n",
       "    <tr style=\"text-align: right;\">\n",
       "      <th></th>\n",
       "      <th>PURCHASE_DOCUMENT_ID</th>\n",
       "      <th>CREATE_DATE</th>\n",
       "      <th>COMPANY_CODE_ID</th>\n",
       "      <th>VENDOR_ID</th>\n",
       "      <th>POSTAL_CD</th>\n",
       "      <th>RELEASE_DATE</th>\n",
       "      <th>PURCHASE_DOCUMENT_ITEM_ID</th>\n",
       "      <th>MATERIAL_ID</th>\n",
       "      <th>SUB_COMMODITY_DESC</th>\n",
       "      <th>MRP_TYPE_ID</th>\n",
       "      <th>...</th>\n",
       "      <th>Time_Difference</th>\n",
       "      <th>Arrival_Status</th>\n",
       "      <th>Category_total_counts</th>\n",
       "      <th>Ranking</th>\n",
       "      <th>Material_total_counts</th>\n",
       "      <th>Ranking_M</th>\n",
       "      <th>day_of_week</th>\n",
       "      <th>month</th>\n",
       "      <th>quarter</th>\n",
       "      <th>D_day_of_week</th>\n",
       "    </tr>\n",
       "  </thead>\n",
       "  <tbody>\n",
       "    <tr>\n",
       "      <th>0</th>\n",
       "      <td>2000008134</td>\n",
       "      <td>2021-07-26</td>\n",
       "      <td>CA10</td>\n",
       "      <td>8010005836</td>\n",
       "      <td>N2C 0B7</td>\n",
       "      <td>NaN</td>\n",
       "      <td>30.0</td>\n",
       "      <td>NaN</td>\n",
       "      <td>Machinery &amp; Equipment</td>\n",
       "      <td>NaN</td>\n",
       "      <td>...</td>\n",
       "      <td>6.0</td>\n",
       "      <td>Late</td>\n",
       "      <td>38309.0</td>\n",
       "      <td>10.0</td>\n",
       "      <td>NaN</td>\n",
       "      <td>NaN</td>\n",
       "      <td>1</td>\n",
       "      <td>7</td>\n",
       "      <td>3</td>\n",
       "      <td>5.0</td>\n",
       "    </tr>\n",
       "    <tr>\n",
       "      <th>1</th>\n",
       "      <td>5100146560</td>\n",
       "      <td>2021-07-26</td>\n",
       "      <td>US10</td>\n",
       "      <td>None</td>\n",
       "      <td>None</td>\n",
       "      <td>NaN</td>\n",
       "      <td>130.0</td>\n",
       "      <td>2.100008e+09</td>\n",
       "      <td>Custom Manufacturing</td>\n",
       "      <td>1.0</td>\n",
       "      <td>...</td>\n",
       "      <td>4.0</td>\n",
       "      <td>Late</td>\n",
       "      <td>106973.0</td>\n",
       "      <td>2.0</td>\n",
       "      <td>82.0</td>\n",
       "      <td>713.0</td>\n",
       "      <td>1</td>\n",
       "      <td>7</td>\n",
       "      <td>3</td>\n",
       "      <td>5.0</td>\n",
       "    </tr>\n",
       "    <tr>\n",
       "      <th>3</th>\n",
       "      <td>2000008138</td>\n",
       "      <td>2021-07-26</td>\n",
       "      <td>CA10</td>\n",
       "      <td>8010005836</td>\n",
       "      <td>N2C 0B7</td>\n",
       "      <td>NaN</td>\n",
       "      <td>20.0</td>\n",
       "      <td>NaN</td>\n",
       "      <td>Piping &amp; Tubing</td>\n",
       "      <td>NaN</td>\n",
       "      <td>...</td>\n",
       "      <td>-24.0</td>\n",
       "      <td>Early</td>\n",
       "      <td>77387.0</td>\n",
       "      <td>5.0</td>\n",
       "      <td>NaN</td>\n",
       "      <td>NaN</td>\n",
       "      <td>1</td>\n",
       "      <td>7</td>\n",
       "      <td>3</td>\n",
       "      <td>5.0</td>\n",
       "    </tr>\n",
       "    <tr>\n",
       "      <th>4</th>\n",
       "      <td>2000008136</td>\n",
       "      <td>2021-07-26</td>\n",
       "      <td>CA10</td>\n",
       "      <td>8010005836</td>\n",
       "      <td>N2C 0B7</td>\n",
       "      <td>NaN</td>\n",
       "      <td>40.0</td>\n",
       "      <td>NaN</td>\n",
       "      <td>Material Handling</td>\n",
       "      <td>NaN</td>\n",
       "      <td>...</td>\n",
       "      <td>-6.0</td>\n",
       "      <td>Early</td>\n",
       "      <td>57662.0</td>\n",
       "      <td>7.0</td>\n",
       "      <td>NaN</td>\n",
       "      <td>NaN</td>\n",
       "      <td>1</td>\n",
       "      <td>7</td>\n",
       "      <td>3</td>\n",
       "      <td>4.0</td>\n",
       "    </tr>\n",
       "    <tr>\n",
       "      <th>5</th>\n",
       "      <td>5100146528</td>\n",
       "      <td>2021-07-26</td>\n",
       "      <td>CA10</td>\n",
       "      <td>None</td>\n",
       "      <td>None</td>\n",
       "      <td>NaN</td>\n",
       "      <td>10.0</td>\n",
       "      <td>2.100022e+09</td>\n",
       "      <td>Tolling</td>\n",
       "      <td>1.0</td>\n",
       "      <td>...</td>\n",
       "      <td>7.0</td>\n",
       "      <td>Late</td>\n",
       "      <td>96024.0</td>\n",
       "      <td>3.0</td>\n",
       "      <td>910.0</td>\n",
       "      <td>70.0</td>\n",
       "      <td>1</td>\n",
       "      <td>7</td>\n",
       "      <td>3</td>\n",
       "      <td>2.0</td>\n",
       "    </tr>\n",
       "  </tbody>\n",
       "</table>\n",
       "<p>5 rows × 31 columns</p>\n",
       "</div>"
      ],
      "text/plain": [
       "   PURCHASE_DOCUMENT_ID CREATE_DATE COMPANY_CODE_ID   VENDOR_ID POSTAL_CD  \\\n",
       "0            2000008134  2021-07-26            CA10  8010005836   N2C 0B7   \n",
       "1            5100146560  2021-07-26            US10        None      None   \n",
       "3            2000008138  2021-07-26            CA10  8010005836   N2C 0B7   \n",
       "4            2000008136  2021-07-26            CA10  8010005836   N2C 0B7   \n",
       "5            5100146528  2021-07-26            CA10        None      None   \n",
       "\n",
       "   RELEASE_DATE  PURCHASE_DOCUMENT_ITEM_ID   MATERIAL_ID  \\\n",
       "0           NaN                       30.0           NaN   \n",
       "1           NaN                      130.0  2.100008e+09   \n",
       "3           NaN                       20.0           NaN   \n",
       "4           NaN                       40.0           NaN   \n",
       "5           NaN                       10.0  2.100022e+09   \n",
       "\n",
       "      SUB_COMMODITY_DESC  MRP_TYPE_ID  ...  Time_Difference Arrival_Status  \\\n",
       "0  Machinery & Equipment          NaN  ...              6.0           Late   \n",
       "1   Custom Manufacturing          1.0  ...              4.0           Late   \n",
       "3        Piping & Tubing          NaN  ...            -24.0          Early   \n",
       "4      Material Handling          NaN  ...             -6.0          Early   \n",
       "5                Tolling          1.0  ...              7.0           Late   \n",
       "\n",
       "   Category_total_counts Ranking Material_total_counts Ranking_M day_of_week  \\\n",
       "0                38309.0    10.0                   NaN       NaN           1   \n",
       "1               106973.0     2.0                  82.0     713.0           1   \n",
       "3                77387.0     5.0                   NaN       NaN           1   \n",
       "4                57662.0     7.0                   NaN       NaN           1   \n",
       "5                96024.0     3.0                 910.0      70.0           1   \n",
       "\n",
       "   month  quarter D_day_of_week  \n",
       "0      7        3           5.0  \n",
       "1      7        3           5.0  \n",
       "3      7        3           5.0  \n",
       "4      7        3           4.0  \n",
       "5      7        3           2.0  \n",
       "\n",
       "[5 rows x 31 columns]"
      ]
     },
     "execution_count": 65,
     "metadata": {},
     "output_type": "execute_result"
    }
   ],
   "source": [
    "koch.head()"
   ]
  },
  {
   "cell_type": "markdown",
   "metadata": {},
   "source": [
    "## Feature Engineering\n",
    "** David P"
   ]
  },
  {
   "cell_type": "code",
   "execution_count": 66,
   "metadata": {},
   "outputs": [],
   "source": [
    "\n",
    "\n",
    "koch['PLANNED_DELIVERY_DAYS'] = pd.to_numeric(koch['PLANNED_DELIVERY_DAYS'], errors='coerce')\n",
    "\n",
    "material_stats = koch.groupby('MATERIAL_ID')['PLANNED_DELIVERY_DAYS'].agg(['mean', 'median']).reset_index()\n",
    "\n",
    "material_stats.columns = ['MATERIAL_ID', 'Mean_Delay_Material', 'Mean_Delay_Material']\n"
   ]
  },
  {
   "cell_type": "code",
   "execution_count": 67,
   "metadata": {},
   "outputs": [
    {
     "data": {
      "text/html": [
       "<div>\n",
       "<style scoped>\n",
       "    .dataframe tbody tr th:only-of-type {\n",
       "        vertical-align: middle;\n",
       "    }\n",
       "\n",
       "    .dataframe tbody tr th {\n",
       "        vertical-align: top;\n",
       "    }\n",
       "\n",
       "    .dataframe thead th {\n",
       "        text-align: right;\n",
       "    }\n",
       "</style>\n",
       "<table border=\"1\" class=\"dataframe\">\n",
       "  <thead>\n",
       "    <tr style=\"text-align: right;\">\n",
       "      <th></th>\n",
       "      <th>MATERIAL_ID</th>\n",
       "      <th>Mean_Delay_Material</th>\n",
       "      <th>Mean_Delay_Material</th>\n",
       "    </tr>\n",
       "  </thead>\n",
       "  <tbody>\n",
       "    <tr>\n",
       "      <th>0</th>\n",
       "      <td>1.100000e+09</td>\n",
       "      <td>39.000000</td>\n",
       "      <td>39.0</td>\n",
       "    </tr>\n",
       "    <tr>\n",
       "      <th>1</th>\n",
       "      <td>1.100000e+09</td>\n",
       "      <td>6.913043</td>\n",
       "      <td>7.0</td>\n",
       "    </tr>\n",
       "    <tr>\n",
       "      <th>2</th>\n",
       "      <td>1.100000e+09</td>\n",
       "      <td>5.259259</td>\n",
       "      <td>6.0</td>\n",
       "    </tr>\n",
       "    <tr>\n",
       "      <th>3</th>\n",
       "      <td>1.100000e+09</td>\n",
       "      <td>3.000000</td>\n",
       "      <td>3.0</td>\n",
       "    </tr>\n",
       "    <tr>\n",
       "      <th>4</th>\n",
       "      <td>1.100000e+09</td>\n",
       "      <td>3.000000</td>\n",
       "      <td>3.0</td>\n",
       "    </tr>\n",
       "    <tr>\n",
       "      <th>...</th>\n",
       "      <td>...</td>\n",
       "      <td>...</td>\n",
       "      <td>...</td>\n",
       "    </tr>\n",
       "    <tr>\n",
       "      <th>32411</th>\n",
       "      <td>4.100007e+09</td>\n",
       "      <td>42.000000</td>\n",
       "      <td>42.0</td>\n",
       "    </tr>\n",
       "    <tr>\n",
       "      <th>32412</th>\n",
       "      <td>4.100007e+09</td>\n",
       "      <td>56.000000</td>\n",
       "      <td>56.0</td>\n",
       "    </tr>\n",
       "    <tr>\n",
       "      <th>32413</th>\n",
       "      <td>4.100007e+09</td>\n",
       "      <td>42.000000</td>\n",
       "      <td>42.0</td>\n",
       "    </tr>\n",
       "    <tr>\n",
       "      <th>32414</th>\n",
       "      <td>4.100007e+09</td>\n",
       "      <td>42.000000</td>\n",
       "      <td>42.0</td>\n",
       "    </tr>\n",
       "    <tr>\n",
       "      <th>32415</th>\n",
       "      <td>4.100007e+09</td>\n",
       "      <td>10.000000</td>\n",
       "      <td>10.0</td>\n",
       "    </tr>\n",
       "  </tbody>\n",
       "</table>\n",
       "<p>32416 rows × 3 columns</p>\n",
       "</div>"
      ],
      "text/plain": [
       "        MATERIAL_ID  Mean_Delay_Material  Mean_Delay_Material\n",
       "0      1.100000e+09            39.000000                 39.0\n",
       "1      1.100000e+09             6.913043                  7.0\n",
       "2      1.100000e+09             5.259259                  6.0\n",
       "3      1.100000e+09             3.000000                  3.0\n",
       "4      1.100000e+09             3.000000                  3.0\n",
       "...             ...                  ...                  ...\n",
       "32411  4.100007e+09            42.000000                 42.0\n",
       "32412  4.100007e+09            56.000000                 56.0\n",
       "32413  4.100007e+09            42.000000                 42.0\n",
       "32414  4.100007e+09            42.000000                 42.0\n",
       "32415  4.100007e+09            10.000000                 10.0\n",
       "\n",
       "[32416 rows x 3 columns]"
      ]
     },
     "execution_count": 67,
     "metadata": {},
     "output_type": "execute_result"
    }
   ],
   "source": [
    "material_stats"
   ]
  },
  {
   "cell_type": "code",
   "execution_count": 68,
   "metadata": {},
   "outputs": [],
   "source": [
    "material_stats.columns = ['MATERIAL_ID', 'Mean_Delay_Material', 'Median_Delay_Material']"
   ]
  },
  {
   "cell_type": "code",
   "execution_count": 69,
   "metadata": {},
   "outputs": [],
   "source": [
    "koch = pd.merge(koch, material_stats, on='MATERIAL_ID', how='left')"
   ]
  },
  {
   "cell_type": "code",
   "execution_count": 70,
   "metadata": {},
   "outputs": [
    {
     "data": {
      "text/html": [
       "<div>\n",
       "<style scoped>\n",
       "    .dataframe tbody tr th:only-of-type {\n",
       "        vertical-align: middle;\n",
       "    }\n",
       "\n",
       "    .dataframe tbody tr th {\n",
       "        vertical-align: top;\n",
       "    }\n",
       "\n",
       "    .dataframe thead th {\n",
       "        text-align: right;\n",
       "    }\n",
       "</style>\n",
       "<table border=\"1\" class=\"dataframe\">\n",
       "  <thead>\n",
       "    <tr style=\"text-align: right;\">\n",
       "      <th></th>\n",
       "      <th>PURCHASE_DOCUMENT_ID</th>\n",
       "      <th>CREATE_DATE</th>\n",
       "      <th>COMPANY_CODE_ID</th>\n",
       "      <th>VENDOR_ID</th>\n",
       "      <th>POSTAL_CD</th>\n",
       "      <th>RELEASE_DATE</th>\n",
       "      <th>PURCHASE_DOCUMENT_ITEM_ID</th>\n",
       "      <th>MATERIAL_ID</th>\n",
       "      <th>SUB_COMMODITY_DESC</th>\n",
       "      <th>MRP_TYPE_ID</th>\n",
       "      <th>...</th>\n",
       "      <th>Category_total_counts</th>\n",
       "      <th>Ranking</th>\n",
       "      <th>Material_total_counts</th>\n",
       "      <th>Ranking_M</th>\n",
       "      <th>day_of_week</th>\n",
       "      <th>month</th>\n",
       "      <th>quarter</th>\n",
       "      <th>D_day_of_week</th>\n",
       "      <th>Mean_Delay_Material</th>\n",
       "      <th>Median_Delay_Material</th>\n",
       "    </tr>\n",
       "  </thead>\n",
       "  <tbody>\n",
       "    <tr>\n",
       "      <th>0</th>\n",
       "      <td>2000008134</td>\n",
       "      <td>2021-07-26</td>\n",
       "      <td>CA10</td>\n",
       "      <td>8010005836</td>\n",
       "      <td>N2C 0B7</td>\n",
       "      <td>NaN</td>\n",
       "      <td>30.0</td>\n",
       "      <td>NaN</td>\n",
       "      <td>Machinery &amp; Equipment</td>\n",
       "      <td>NaN</td>\n",
       "      <td>...</td>\n",
       "      <td>38309.0</td>\n",
       "      <td>10.0</td>\n",
       "      <td>NaN</td>\n",
       "      <td>NaN</td>\n",
       "      <td>1</td>\n",
       "      <td>7</td>\n",
       "      <td>3</td>\n",
       "      <td>5.0</td>\n",
       "      <td>NaN</td>\n",
       "      <td>NaN</td>\n",
       "    </tr>\n",
       "    <tr>\n",
       "      <th>1</th>\n",
       "      <td>5100146560</td>\n",
       "      <td>2021-07-26</td>\n",
       "      <td>US10</td>\n",
       "      <td>None</td>\n",
       "      <td>None</td>\n",
       "      <td>NaN</td>\n",
       "      <td>130.0</td>\n",
       "      <td>2.100008e+09</td>\n",
       "      <td>Custom Manufacturing</td>\n",
       "      <td>1.0</td>\n",
       "      <td>...</td>\n",
       "      <td>106973.0</td>\n",
       "      <td>2.0</td>\n",
       "      <td>82.0</td>\n",
       "      <td>713.0</td>\n",
       "      <td>1</td>\n",
       "      <td>7</td>\n",
       "      <td>3</td>\n",
       "      <td>5.0</td>\n",
       "      <td>18.307692</td>\n",
       "      <td>3.0</td>\n",
       "    </tr>\n",
       "    <tr>\n",
       "      <th>2</th>\n",
       "      <td>2000008138</td>\n",
       "      <td>2021-07-26</td>\n",
       "      <td>CA10</td>\n",
       "      <td>8010005836</td>\n",
       "      <td>N2C 0B7</td>\n",
       "      <td>NaN</td>\n",
       "      <td>20.0</td>\n",
       "      <td>NaN</td>\n",
       "      <td>Piping &amp; Tubing</td>\n",
       "      <td>NaN</td>\n",
       "      <td>...</td>\n",
       "      <td>77387.0</td>\n",
       "      <td>5.0</td>\n",
       "      <td>NaN</td>\n",
       "      <td>NaN</td>\n",
       "      <td>1</td>\n",
       "      <td>7</td>\n",
       "      <td>3</td>\n",
       "      <td>5.0</td>\n",
       "      <td>NaN</td>\n",
       "      <td>NaN</td>\n",
       "    </tr>\n",
       "    <tr>\n",
       "      <th>3</th>\n",
       "      <td>2000008136</td>\n",
       "      <td>2021-07-26</td>\n",
       "      <td>CA10</td>\n",
       "      <td>8010005836</td>\n",
       "      <td>N2C 0B7</td>\n",
       "      <td>NaN</td>\n",
       "      <td>40.0</td>\n",
       "      <td>NaN</td>\n",
       "      <td>Material Handling</td>\n",
       "      <td>NaN</td>\n",
       "      <td>...</td>\n",
       "      <td>57662.0</td>\n",
       "      <td>7.0</td>\n",
       "      <td>NaN</td>\n",
       "      <td>NaN</td>\n",
       "      <td>1</td>\n",
       "      <td>7</td>\n",
       "      <td>3</td>\n",
       "      <td>4.0</td>\n",
       "      <td>NaN</td>\n",
       "      <td>NaN</td>\n",
       "    </tr>\n",
       "    <tr>\n",
       "      <th>4</th>\n",
       "      <td>5100146528</td>\n",
       "      <td>2021-07-26</td>\n",
       "      <td>CA10</td>\n",
       "      <td>None</td>\n",
       "      <td>None</td>\n",
       "      <td>NaN</td>\n",
       "      <td>10.0</td>\n",
       "      <td>2.100022e+09</td>\n",
       "      <td>Tolling</td>\n",
       "      <td>1.0</td>\n",
       "      <td>...</td>\n",
       "      <td>96024.0</td>\n",
       "      <td>3.0</td>\n",
       "      <td>910.0</td>\n",
       "      <td>70.0</td>\n",
       "      <td>1</td>\n",
       "      <td>7</td>\n",
       "      <td>3</td>\n",
       "      <td>2.0</td>\n",
       "      <td>0.000000</td>\n",
       "      <td>0.0</td>\n",
       "    </tr>\n",
       "  </tbody>\n",
       "</table>\n",
       "<p>5 rows × 33 columns</p>\n",
       "</div>"
      ],
      "text/plain": [
       "   PURCHASE_DOCUMENT_ID CREATE_DATE COMPANY_CODE_ID   VENDOR_ID POSTAL_CD  \\\n",
       "0            2000008134  2021-07-26            CA10  8010005836   N2C 0B7   \n",
       "1            5100146560  2021-07-26            US10        None      None   \n",
       "2            2000008138  2021-07-26            CA10  8010005836   N2C 0B7   \n",
       "3            2000008136  2021-07-26            CA10  8010005836   N2C 0B7   \n",
       "4            5100146528  2021-07-26            CA10        None      None   \n",
       "\n",
       "   RELEASE_DATE  PURCHASE_DOCUMENT_ITEM_ID   MATERIAL_ID  \\\n",
       "0           NaN                       30.0           NaN   \n",
       "1           NaN                      130.0  2.100008e+09   \n",
       "2           NaN                       20.0           NaN   \n",
       "3           NaN                       40.0           NaN   \n",
       "4           NaN                       10.0  2.100022e+09   \n",
       "\n",
       "      SUB_COMMODITY_DESC  MRP_TYPE_ID  ...  Category_total_counts Ranking  \\\n",
       "0  Machinery & Equipment          NaN  ...                38309.0    10.0   \n",
       "1   Custom Manufacturing          1.0  ...               106973.0     2.0   \n",
       "2        Piping & Tubing          NaN  ...                77387.0     5.0   \n",
       "3      Material Handling          NaN  ...                57662.0     7.0   \n",
       "4                Tolling          1.0  ...                96024.0     3.0   \n",
       "\n",
       "   Material_total_counts Ranking_M day_of_week month quarter  D_day_of_week  \\\n",
       "0                    NaN       NaN           1     7       3            5.0   \n",
       "1                   82.0     713.0           1     7       3            5.0   \n",
       "2                    NaN       NaN           1     7       3            5.0   \n",
       "3                    NaN       NaN           1     7       3            4.0   \n",
       "4                  910.0      70.0           1     7       3            2.0   \n",
       "\n",
       "   Mean_Delay_Material  Median_Delay_Material  \n",
       "0                  NaN                    NaN  \n",
       "1            18.307692                    3.0  \n",
       "2                  NaN                    NaN  \n",
       "3                  NaN                    NaN  \n",
       "4             0.000000                    0.0  \n",
       "\n",
       "[5 rows x 33 columns]"
      ]
     },
     "execution_count": 70,
     "metadata": {},
     "output_type": "execute_result"
    }
   ],
   "source": [
    "koch.head()"
   ]
  },
  {
   "cell_type": "code",
   "execution_count": 71,
   "metadata": {},
   "outputs": [
    {
     "name": "stdout",
     "output_type": "stream",
     "text": [
      "0.9191710700357338\n",
      "0.9191710700357338\n"
     ]
    }
   ],
   "source": [
    "mean_delay_corr_material = koch['Mean_Delay_Material'].corr(koch['PLANNED_DELIVERY_DAYS'])\n",
    "# Check correlation between Median_Delay and Time_Difference\n",
    "median_delay_corr_mateial = koch['Mean_Delay_Material'].corr(koch['PLANNED_DELIVERY_DAYS'])\n",
    "\n",
    "\n",
    "print(mean_delay_corr_material)\n",
    "print(median_delay_corr_mateial)"
   ]
  },
  {
   "cell_type": "code",
   "execution_count": null,
   "metadata": {},
   "outputs": [],
   "source": [
    "\n"
   ]
  },
  {
   "cell_type": "code",
   "execution_count": 432,
   "metadata": {},
   "outputs": [
    {
     "data": {
      "text/plain": [
       "Index(['PURCHASE_DOCUMENT_ID', 'CREATE_DATE', 'COMPANY_CODE_ID', 'VENDOR_ID',\n",
       "       'POSTAL_CD', 'RELEASE_DATE', 'PURCHASE_DOCUMENT_ITEM_ID', 'MATERIAL_ID',\n",
       "       'SUB_COMMODITY_DESC', 'MRP_TYPE_ID', 'MRP_TYPE_DESC_E', 'SHORT_TEXT',\n",
       "       'PLANT_ID', 'POR_DELIVERY_DATE', 'FIRST_GR_POSTING_DATE',\n",
       "       'DELIVERY_DATE', 'REQUESTED_DELIVERY_DATE', 'INBOUND_DELIVERY_ID',\n",
       "       'INBOUND_DELIVERY_ITEM_ID', 'PLANNED_DELIVERY_DAYS',\n",
       "       'BI_LAST_UPDATED_PURCHASE_DOCUMENT_ITEM', 'Time_Difference',\n",
       "       'Arrival_Status', 'Category_total_counts', 'Ranking',\n",
       "       'Material_total_counts', 'Ranking_M', 'day_of_week', 'month', 'quarter',\n",
       "       'D_day_of_week', 'Mean_Delay_Material', 'Median_Delay_Material'],\n",
       "      dtype='object')"
      ]
     },
     "execution_count": 432,
     "metadata": {},
     "output_type": "execute_result"
    }
   ],
   "source": [
    "koch.columns"
   ]
  },
  {
   "cell_type": "code",
   "execution_count": 72,
   "metadata": {},
   "outputs": [],
   "source": [
    "koch['COUNTRY'] = koch['COMPANY_CODE_ID'].str.slice(0, 2)\n",
    "\n",
    "koch['CREATE_DATE'] = koch['CREATE_DATE'].astype(str)\n"
   ]
  },
  {
   "cell_type": "code",
   "execution_count": 73,
   "metadata": {},
   "outputs": [],
   "source": [
    "from datetime import date\n",
    "import holidays\n",
    "import pandas as pd\n",
    "\n",
    "# Define the countries and years\n",
    "countries = {\n",
    "    'US': 'United States',\n",
    "    'CA': 'Canada',\n",
    "    'GB': 'United Kingdom',\n",
    "    'CN': 'China',\n",
    "    'JP': 'Japan',\n",
    "    'NL': 'Netherlands',\n",
    "    'KR': 'South Korea',\n",
    "    'SG': 'Singapore',\n",
    "    'DE': 'Germany',\n",
    "    'FR': 'France'\n",
    "}\n",
    "\n",
    "years = [2018, 2019, 2020, 2021, 2022]\n",
    "\n",
    "# Initialize a dictionary to store holidays for each country and year\n",
    "federal_holidays = {}\n",
    "\n",
    "# Loop through each country and each year to retrieve holidays\n",
    "for country_code, country_name in countries.items():\n",
    "    country_holidays = {}\n",
    "    for year in years:\n",
    "        # Retrieve holidays for the current country and year\n",
    "        holidays_obj = holidays.CountryHoliday(country_code, years=year)\n",
    "        country_holidays[year] = [date.strftime('%m-%d') for date in holidays_obj]\n",
    "    # Store holidays for the current country in the dictionary\n",
    "    federal_holidays[country_code] = country_holidays\n",
    "\n",
    "\n",
    "# Function to check if a date is a holiday for a given country\n",
    "def is_holiday(row):\n",
    "    country = row['COUNTRY']\n",
    "    create_date = row['CREATE_DATE']\n",
    "    year = int(create_date[:4])  # Extract the year from the Formatted_Date\n",
    "    return 1 if create_date[5:] in federal_holidays.get(country, {}).get(year, []) else 0\n"
   ]
  },
  {
   "cell_type": "code",
   "execution_count": 74,
   "metadata": {},
   "outputs": [],
   "source": [
    "\n",
    "koch['IS_HOLIDAY'] = koch.apply(is_holiday, axis=1)"
   ]
  },
  {
   "cell_type": "code",
   "execution_count": null,
   "metadata": {},
   "outputs": [],
   "source": []
  },
  {
   "cell_type": "code",
   "execution_count": 75,
   "metadata": {},
   "outputs": [],
   "source": [
    "columns = ['DELIVERY_DATE','SHORT_TEXT','D_day_of_week', 'COUNTRY', 'MATERIAL_ID', 'IS_HOLIDAY', 'Mean_Delay_Material', 'Median_Delay_Material', 'quarter', 'month', 'day_of_week', 'Ranking','Category_total_counts', 'PLANNED_DELIVERY_DAYS', 'INBOUND_DELIVERY_ITEM_ID', 'REQUESTED_DELIVERY_DATE', 'PLANT_ID', 'SUB_COMMODITY_DESC', 'COMPANY_CODE_ID', 'CREATE_DATE', 'Time_Difference']\n",
    "koch = koch[columns]"
   ]
  },
  {
   "cell_type": "code",
   "execution_count": null,
   "metadata": {},
   "outputs": [],
   "source": []
  },
  {
   "cell_type": "code",
   "execution_count": 437,
   "metadata": {},
   "outputs": [
    {
     "ename": "AttributeError",
     "evalue": "Can only use .dt accessor with datetimelike values",
     "output_type": "error",
     "traceback": [
      "\u001b[0;31m---------------------------------------------------------------------------\u001b[0m",
      "\u001b[0;31mAttributeError\u001b[0m                            Traceback (most recent call last)",
      "\u001b[1;32m/Users/addisonjpratt/sfguide-intro-to-machine-learning-with-snowpark-ml-for-python/database.ipynb Cell 55\u001b[0m line \u001b[0;36m1\n\u001b[1;32m     <a href='vscode-notebook-cell:/Users/addisonjpratt/sfguide-intro-to-machine-learning-with-snowpark-ml-for-python/database.ipynb#Y122sZmlsZQ%3D%3D?line=16'>17</a>\u001b[0m datetime_columns \u001b[39m=\u001b[39m [\u001b[39m'\u001b[39m\u001b[39mREQUESTED_DELIVERY_DATE\u001b[39m\u001b[39m'\u001b[39m, \u001b[39m'\u001b[39m\u001b[39mCREATE_DATE\u001b[39m\u001b[39m'\u001b[39m]\n\u001b[1;32m     <a href='vscode-notebook-cell:/Users/addisonjpratt/sfguide-intro-to-machine-learning-with-snowpark-ml-for-python/database.ipynb#Y122sZmlsZQ%3D%3D?line=17'>18</a>\u001b[0m \u001b[39mfor\u001b[39;00m col \u001b[39min\u001b[39;00m datetime_columns:\n\u001b[0;32m---> <a href='vscode-notebook-cell:/Users/addisonjpratt/sfguide-intro-to-machine-learning-with-snowpark-ml-for-python/database.ipynb#Y122sZmlsZQ%3D%3D?line=18'>19</a>\u001b[0m     df[col \u001b[39m+\u001b[39m \u001b[39m'\u001b[39m\u001b[39m_year\u001b[39m\u001b[39m'\u001b[39m] \u001b[39m=\u001b[39m df[col]\u001b[39m.\u001b[39;49mdt\u001b[39m.\u001b[39myear\n\u001b[1;32m     <a href='vscode-notebook-cell:/Users/addisonjpratt/sfguide-intro-to-machine-learning-with-snowpark-ml-for-python/database.ipynb#Y122sZmlsZQ%3D%3D?line=19'>20</a>\u001b[0m     df[col \u001b[39m+\u001b[39m \u001b[39m'\u001b[39m\u001b[39m_month\u001b[39m\u001b[39m'\u001b[39m] \u001b[39m=\u001b[39m df[col]\u001b[39m.\u001b[39mdt\u001b[39m.\u001b[39mmonth\n\u001b[1;32m     <a href='vscode-notebook-cell:/Users/addisonjpratt/sfguide-intro-to-machine-learning-with-snowpark-ml-for-python/database.ipynb#Y122sZmlsZQ%3D%3D?line=20'>21</a>\u001b[0m     df[col \u001b[39m+\u001b[39m \u001b[39m'\u001b[39m\u001b[39m_day\u001b[39m\u001b[39m'\u001b[39m] \u001b[39m=\u001b[39m df[col]\u001b[39m.\u001b[39mdt\u001b[39m.\u001b[39mday\n",
      "File \u001b[0;32m/Library/Frameworks/Python.framework/Versions/3.11/lib/python3.11/site-packages/pandas/core/generic.py:6204\u001b[0m, in \u001b[0;36mNDFrame.__getattr__\u001b[0;34m(self, name)\u001b[0m\n\u001b[1;32m   6197\u001b[0m \u001b[39mif\u001b[39;00m (\n\u001b[1;32m   6198\u001b[0m     name \u001b[39mnot\u001b[39;00m \u001b[39min\u001b[39;00m \u001b[39mself\u001b[39m\u001b[39m.\u001b[39m_internal_names_set\n\u001b[1;32m   6199\u001b[0m     \u001b[39mand\u001b[39;00m name \u001b[39mnot\u001b[39;00m \u001b[39min\u001b[39;00m \u001b[39mself\u001b[39m\u001b[39m.\u001b[39m_metadata\n\u001b[1;32m   6200\u001b[0m     \u001b[39mand\u001b[39;00m name \u001b[39mnot\u001b[39;00m \u001b[39min\u001b[39;00m \u001b[39mself\u001b[39m\u001b[39m.\u001b[39m_accessors\n\u001b[1;32m   6201\u001b[0m     \u001b[39mand\u001b[39;00m \u001b[39mself\u001b[39m\u001b[39m.\u001b[39m_info_axis\u001b[39m.\u001b[39m_can_hold_identifiers_and_holds_name(name)\n\u001b[1;32m   6202\u001b[0m ):\n\u001b[1;32m   6203\u001b[0m     \u001b[39mreturn\u001b[39;00m \u001b[39mself\u001b[39m[name]\n\u001b[0;32m-> 6204\u001b[0m \u001b[39mreturn\u001b[39;00m \u001b[39mobject\u001b[39;49m\u001b[39m.\u001b[39;49m\u001b[39m__getattribute__\u001b[39;49m(\u001b[39mself\u001b[39;49m, name)\n",
      "File \u001b[0;32m/Library/Frameworks/Python.framework/Versions/3.11/lib/python3.11/site-packages/pandas/core/accessor.py:224\u001b[0m, in \u001b[0;36mCachedAccessor.__get__\u001b[0;34m(self, obj, cls)\u001b[0m\n\u001b[1;32m    221\u001b[0m \u001b[39mif\u001b[39;00m obj \u001b[39mis\u001b[39;00m \u001b[39mNone\u001b[39;00m:\n\u001b[1;32m    222\u001b[0m     \u001b[39m# we're accessing the attribute of the class, i.e., Dataset.geo\u001b[39;00m\n\u001b[1;32m    223\u001b[0m     \u001b[39mreturn\u001b[39;00m \u001b[39mself\u001b[39m\u001b[39m.\u001b[39m_accessor\n\u001b[0;32m--> 224\u001b[0m accessor_obj \u001b[39m=\u001b[39m \u001b[39mself\u001b[39;49m\u001b[39m.\u001b[39;49m_accessor(obj)\n\u001b[1;32m    225\u001b[0m \u001b[39m# Replace the property with the accessor object. Inspired by:\u001b[39;00m\n\u001b[1;32m    226\u001b[0m \u001b[39m# https://www.pydanny.com/cached-property.html\u001b[39;00m\n\u001b[1;32m    227\u001b[0m \u001b[39m# We need to use object.__setattr__ because we overwrite __setattr__ on\u001b[39;00m\n\u001b[1;32m    228\u001b[0m \u001b[39m# NDFrame\u001b[39;00m\n\u001b[1;32m    229\u001b[0m \u001b[39mobject\u001b[39m\u001b[39m.\u001b[39m\u001b[39m__setattr__\u001b[39m(obj, \u001b[39mself\u001b[39m\u001b[39m.\u001b[39m_name, accessor_obj)\n",
      "File \u001b[0;32m/Library/Frameworks/Python.framework/Versions/3.11/lib/python3.11/site-packages/pandas/core/indexes/accessors.py:608\u001b[0m, in \u001b[0;36mCombinedDatetimelikeProperties.__new__\u001b[0;34m(cls, data)\u001b[0m\n\u001b[1;32m    605\u001b[0m \u001b[39melif\u001b[39;00m \u001b[39misinstance\u001b[39m(data\u001b[39m.\u001b[39mdtype, PeriodDtype):\n\u001b[1;32m    606\u001b[0m     \u001b[39mreturn\u001b[39;00m PeriodProperties(data, orig)\n\u001b[0;32m--> 608\u001b[0m \u001b[39mraise\u001b[39;00m \u001b[39mAttributeError\u001b[39;00m(\u001b[39m\"\u001b[39m\u001b[39mCan only use .dt accessor with datetimelike values\u001b[39m\u001b[39m\"\u001b[39m)\n",
      "\u001b[0;31mAttributeError\u001b[0m: Can only use .dt accessor with datetimelike values"
     ]
    }
   ],
   "source": [
    "from sklearn.preprocessing import LabelEncoder, OneHotEncoder\n",
    "from xgboost import XGBClassifier, DMatrix, train\n",
    "import xgboost as xgb\n",
    "from sklearn.model_selection import train_test_split\n",
    "from sklearn.metrics import mean_squared_error\n",
    "import pandas as pd\n",
    "\n",
    "df = koch\n",
    "# Summoning the dataset\n",
    "\n",
    "label_encoder = LabelEncoder()\n",
    "categorical_columns = ['PLANNED_DELIVERY_DAYS', 'SUB_COMMODITY_DESC', 'COMPANY_CODE_ID']\n",
    "for col in categorical_columns:\n",
    "    df[col] = label_encoder.fit_transform(df[col])\n",
    "\n",
    "# Convert datetime columns to separate year, month, day columns\n",
    "datetime_columns = ['REQUESTED_DELIVERY_DATE', 'CREATE_DATE']\n",
    "for col in datetime_columns:\n",
    "    df[col + '_year'] = df[col].dt.year\n",
    "    df[col + '_month'] = df[col].dt.month\n",
    "    df[col + '_day'] = df[col].dt.day\n",
    "\n",
    "# Drop the original datetime columns\n",
    "df.drop(columns=datetime_columns, inplace=True)\n",
    "\n",
    "X = koch.drop('Time_Difference', axis=1)  # Replace 'target_column' with your target column name\n",
    "y = koch['Time_Difference']"
   ]
  },
  {
   "cell_type": "code",
   "execution_count": null,
   "metadata": {},
   "outputs": [],
   "source": [
    "X_train, X_test, y_train, y_test = train_test_split(X, y, test_size=0.2, random_state=42)"
   ]
  },
  {
   "cell_type": "code",
   "execution_count": null,
   "metadata": {},
   "outputs": [],
   "source": [
    "# For a regression quest\n",
    "model = xgb.XGBRegressor(objective='reg:squarederror', n_estimators=100, learning_rate=0.1, max_depth=3, enable_categorical=True)\n",
    "\n",
    "# For a classification quest, comment out the above and uncomment below\n",
    "# model = xgb.XGBClassifier(objective='binary:logistic', n_estimators=100, learning_rate=0.1, max_depth=3)\n"
   ]
  },
  {
   "cell_type": "code",
   "execution_count": null,
   "metadata": {},
   "outputs": [],
   "source": [
    "# Training the model\n",
    "model.fit(X_train, y_train)\n",
    "\n",
    "# Making predictions\n",
    "predictions = model.predict(X_test)\n"
   ]
  },
  {
   "cell_type": "code",
   "execution_count": null,
   "metadata": {},
   "outputs": [
    {
     "name": "stdout",
     "output_type": "stream",
     "text": [
      "RMSE: 39.038769419682204\n"
     ]
    },
    {
     "name": "stderr",
     "output_type": "stream",
     "text": [
      "/Library/Frameworks/Python.framework/Versions/3.11/lib/python3.11/site-packages/sklearn/metrics/_regression.py:483: FutureWarning: 'squared' is deprecated in version 1.4 and will be removed in 1.6. To calculate the root mean squared error, use the function'root_mean_squared_error'.\n",
      "  warnings.warn(\n"
     ]
    }
   ],
   "source": [
    "# For a regression quest\n",
    "rmse = mean_squared_error(y_test, predictions, squared=False)\n",
    "print(f\"RMSE: {rmse}\")\n",
    "\n",
    "# For a classification quest, comment out the above and uncomment below\n",
    "# from sklearn.metrics import accuracy_score\n",
    "# accuracy = accuracy_score(y_test, predictions)\n",
    "# print(f\"Accuracy: {accuracy}\")\n"
   ]
  },
  {
   "cell_type": "code",
   "execution_count": null,
   "metadata": {},
   "outputs": [
    {
     "ename": "ValueError",
     "evalue": "Classification metrics can't handle a mix of multiclass and continuous targets",
     "output_type": "error",
     "traceback": [
      "\u001b[0;31m---------------------------------------------------------------------------\u001b[0m",
      "\u001b[0;31mValueError\u001b[0m                                Traceback (most recent call last)",
      "\u001b[1;32m/Users/addisonjpratt/sfguide-intro-to-machine-learning-with-snowpark-ml-for-python/database.ipynb Cell 54\u001b[0m line \u001b[0;36m2\n\u001b[1;32m      <a href='vscode-notebook-cell:/Users/addisonjpratt/sfguide-intro-to-machine-learning-with-snowpark-ml-for-python/database.ipynb#Y123sZmlsZQ%3D%3D?line=0'>1</a>\u001b[0m \u001b[39mfrom\u001b[39;00m \u001b[39msklearn\u001b[39;00m\u001b[39m.\u001b[39;00m\u001b[39mmetrics\u001b[39;00m \u001b[39mimport\u001b[39;00m confusion_matrix\n\u001b[0;32m----> <a href='vscode-notebook-cell:/Users/addisonjpratt/sfguide-intro-to-machine-learning-with-snowpark-ml-for-python/database.ipynb#Y123sZmlsZQ%3D%3D?line=1'>2</a>\u001b[0m conf_matrix \u001b[39m=\u001b[39m confusion_matrix(y_test, predictions)\n\u001b[1;32m      <a href='vscode-notebook-cell:/Users/addisonjpratt/sfguide-intro-to-machine-learning-with-snowpark-ml-for-python/database.ipynb#Y123sZmlsZQ%3D%3D?line=2'>3</a>\u001b[0m \u001b[39mprint\u001b[39m(\u001b[39m\"\u001b[39m\u001b[39mConfusion Matrix:\u001b[39m\u001b[39m\"\u001b[39m)\n\u001b[1;32m      <a href='vscode-notebook-cell:/Users/addisonjpratt/sfguide-intro-to-machine-learning-with-snowpark-ml-for-python/database.ipynb#Y123sZmlsZQ%3D%3D?line=3'>4</a>\u001b[0m \u001b[39mprint\u001b[39m(conf_matrix)\n",
      "File \u001b[0;32m/Library/Frameworks/Python.framework/Versions/3.11/lib/python3.11/site-packages/sklearn/utils/_param_validation.py:213\u001b[0m, in \u001b[0;36mvalidate_params.<locals>.decorator.<locals>.wrapper\u001b[0;34m(*args, **kwargs)\u001b[0m\n\u001b[1;32m    207\u001b[0m \u001b[39mtry\u001b[39;00m:\n\u001b[1;32m    208\u001b[0m     \u001b[39mwith\u001b[39;00m config_context(\n\u001b[1;32m    209\u001b[0m         skip_parameter_validation\u001b[39m=\u001b[39m(\n\u001b[1;32m    210\u001b[0m             prefer_skip_nested_validation \u001b[39mor\u001b[39;00m global_skip_validation\n\u001b[1;32m    211\u001b[0m         )\n\u001b[1;32m    212\u001b[0m     ):\n\u001b[0;32m--> 213\u001b[0m         \u001b[39mreturn\u001b[39;00m func(\u001b[39m*\u001b[39;49margs, \u001b[39m*\u001b[39;49m\u001b[39m*\u001b[39;49mkwargs)\n\u001b[1;32m    214\u001b[0m \u001b[39mexcept\u001b[39;00m InvalidParameterError \u001b[39mas\u001b[39;00m e:\n\u001b[1;32m    215\u001b[0m     \u001b[39m# When the function is just a wrapper around an estimator, we allow\u001b[39;00m\n\u001b[1;32m    216\u001b[0m     \u001b[39m# the function to delegate validation to the estimator, but we replace\u001b[39;00m\n\u001b[1;32m    217\u001b[0m     \u001b[39m# the name of the estimator by the name of the function in the error\u001b[39;00m\n\u001b[1;32m    218\u001b[0m     \u001b[39m# message to avoid confusion.\u001b[39;00m\n\u001b[1;32m    219\u001b[0m     msg \u001b[39m=\u001b[39m re\u001b[39m.\u001b[39msub(\n\u001b[1;32m    220\u001b[0m         \u001b[39mr\u001b[39m\u001b[39m\"\u001b[39m\u001b[39mparameter of \u001b[39m\u001b[39m\\\u001b[39m\u001b[39mw+ must be\u001b[39m\u001b[39m\"\u001b[39m,\n\u001b[1;32m    221\u001b[0m         \u001b[39mf\u001b[39m\u001b[39m\"\u001b[39m\u001b[39mparameter of \u001b[39m\u001b[39m{\u001b[39;00mfunc\u001b[39m.\u001b[39m\u001b[39m__qualname__\u001b[39m\u001b[39m}\u001b[39;00m\u001b[39m must be\u001b[39m\u001b[39m\"\u001b[39m,\n\u001b[1;32m    222\u001b[0m         \u001b[39mstr\u001b[39m(e),\n\u001b[1;32m    223\u001b[0m     )\n",
      "File \u001b[0;32m/Library/Frameworks/Python.framework/Versions/3.11/lib/python3.11/site-packages/sklearn/metrics/_classification.py:319\u001b[0m, in \u001b[0;36mconfusion_matrix\u001b[0;34m(y_true, y_pred, labels, sample_weight, normalize)\u001b[0m\n\u001b[1;32m    224\u001b[0m \u001b[39m@validate_params\u001b[39m(\n\u001b[1;32m    225\u001b[0m     {\n\u001b[1;32m    226\u001b[0m         \u001b[39m\"\u001b[39m\u001b[39my_true\u001b[39m\u001b[39m\"\u001b[39m: [\u001b[39m\"\u001b[39m\u001b[39marray-like\u001b[39m\u001b[39m\"\u001b[39m],\n\u001b[0;32m   (...)\u001b[0m\n\u001b[1;32m    235\u001b[0m     y_true, y_pred, \u001b[39m*\u001b[39m, labels\u001b[39m=\u001b[39m\u001b[39mNone\u001b[39;00m, sample_weight\u001b[39m=\u001b[39m\u001b[39mNone\u001b[39;00m, normalize\u001b[39m=\u001b[39m\u001b[39mNone\u001b[39;00m\n\u001b[1;32m    236\u001b[0m ):\n\u001b[1;32m    237\u001b[0m \u001b[39m    \u001b[39m\u001b[39m\"\"\"Compute confusion matrix to evaluate the accuracy of a classification.\u001b[39;00m\n\u001b[1;32m    238\u001b[0m \n\u001b[1;32m    239\u001b[0m \u001b[39m    By definition a confusion matrix :math:`C` is such that :math:`C_{i, j}`\u001b[39;00m\n\u001b[0;32m   (...)\u001b[0m\n\u001b[1;32m    317\u001b[0m \u001b[39m    (0, 2, 1, 1)\u001b[39;00m\n\u001b[1;32m    318\u001b[0m \u001b[39m    \"\"\"\u001b[39;00m\n\u001b[0;32m--> 319\u001b[0m     y_type, y_true, y_pred \u001b[39m=\u001b[39m _check_targets(y_true, y_pred)\n\u001b[1;32m    320\u001b[0m     \u001b[39mif\u001b[39;00m y_type \u001b[39mnot\u001b[39;00m \u001b[39min\u001b[39;00m (\u001b[39m\"\u001b[39m\u001b[39mbinary\u001b[39m\u001b[39m\"\u001b[39m, \u001b[39m\"\u001b[39m\u001b[39mmulticlass\u001b[39m\u001b[39m\"\u001b[39m):\n\u001b[1;32m    321\u001b[0m         \u001b[39mraise\u001b[39;00m \u001b[39mValueError\u001b[39;00m(\u001b[39m\"\u001b[39m\u001b[39m%s\u001b[39;00m\u001b[39m is not supported\u001b[39m\u001b[39m\"\u001b[39m \u001b[39m%\u001b[39m y_type)\n",
      "File \u001b[0;32m/Library/Frameworks/Python.framework/Versions/3.11/lib/python3.11/site-packages/sklearn/metrics/_classification.py:94\u001b[0m, in \u001b[0;36m_check_targets\u001b[0;34m(y_true, y_pred)\u001b[0m\n\u001b[1;32m     91\u001b[0m     y_type \u001b[39m=\u001b[39m {\u001b[39m\"\u001b[39m\u001b[39mmulticlass\u001b[39m\u001b[39m\"\u001b[39m}\n\u001b[1;32m     93\u001b[0m \u001b[39mif\u001b[39;00m \u001b[39mlen\u001b[39m(y_type) \u001b[39m>\u001b[39m \u001b[39m1\u001b[39m:\n\u001b[0;32m---> 94\u001b[0m     \u001b[39mraise\u001b[39;00m \u001b[39mValueError\u001b[39;00m(\n\u001b[1;32m     95\u001b[0m         \u001b[39m\"\u001b[39m\u001b[39mClassification metrics can\u001b[39m\u001b[39m'\u001b[39m\u001b[39mt handle a mix of \u001b[39m\u001b[39m{0}\u001b[39;00m\u001b[39m and \u001b[39m\u001b[39m{1}\u001b[39;00m\u001b[39m targets\u001b[39m\u001b[39m\"\u001b[39m\u001b[39m.\u001b[39mformat(\n\u001b[1;32m     96\u001b[0m             type_true, type_pred\n\u001b[1;32m     97\u001b[0m         )\n\u001b[1;32m     98\u001b[0m     )\n\u001b[1;32m    100\u001b[0m \u001b[39m# We can't have more than one value on y_type => The set is no more needed\u001b[39;00m\n\u001b[1;32m    101\u001b[0m y_type \u001b[39m=\u001b[39m y_type\u001b[39m.\u001b[39mpop()\n",
      "\u001b[0;31mValueError\u001b[0m: Classification metrics can't handle a mix of multiclass and continuous targets"
     ]
    }
   ],
   "source": [
    "from sklearn.metrics import confusion_matrix\n",
    "conf_matrix = confusion_matrix(y_test, predictions)\n",
    "print(\"Confusion Matrix:\")\n",
    "print(conf_matrix)"
   ]
  },
  {
   "cell_type": "code",
   "execution_count": null,
   "metadata": {},
   "outputs": [
    {
     "name": "stdout",
     "output_type": "stream",
     "text": [
      "[LightGBM] [Warning] There are no meaningful features which satisfy the provided configuration. Decreasing Dataset parameters min_data_in_bin or min_data_in_leaf and re-constructing Dataset might resolve this warning.\n",
      "[LightGBM] [Warning] There are no meaningful features which satisfy the provided configuration. Decreasing Dataset parameters min_data_in_bin or min_data_in_leaf and re-constructing Dataset might resolve this warning.\n",
      "[LightGBM] [Warning] Using sparse features with CUDA is currently not supported.\n"
     ]
    },
    {
     "name": "stderr",
     "output_type": "stream",
     "text": [
      "[LightGBM] [Fatal] GPU Tree Learner was not enabled in this build.\n",
      "Please recompile with CMake option -DUSE_GPU=1\n",
      "[LightGBM] [Fatal] CUDA Tree Learner was not enabled in this build.\n",
      "Please recompile with CMake option -DUSE_CUDA=1\n"
     ]
    },
    {
     "name": "stdout",
     "output_type": "stream",
     "text": [
      "[LightGBM] [Warning] There are no meaningful features which satisfy the provided configuration. Decreasing Dataset parameters min_data_in_bin or min_data_in_leaf and re-constructing Dataset might resolve this warning.\n",
      "[LightGBM] [Warning] There are no meaningful features which satisfy the provided configuration. Decreasing Dataset parameters min_data_in_bin or min_data_in_leaf and re-constructing Dataset might resolve this warning.\n",
      "[LightGBM] [Warning] Using sparse features with CUDA is currently not supported.\n"
     ]
    },
    {
     "name": "stderr",
     "output_type": "stream",
     "text": [
      "[LightGBM] [Fatal] GPU Tree Learner was not enabled in this build.\n",
      "Please recompile with CMake option -DUSE_GPU=1\n",
      "[LightGBM] [Fatal] CUDA Tree Learner was not enabled in this build.\n",
      "Please recompile with CMake option -DUSE_CUDA=1\n"
     ]
    },
    {
     "name": "stdout",
     "output_type": "stream",
     "text": [
      "[LightGBM] [Warning] There are no meaningful features which satisfy the provided configuration. Decreasing Dataset parameters min_data_in_bin or min_data_in_leaf and re-constructing Dataset might resolve this warning.\n",
      "[LightGBM] [Warning] There are no meaningful features which satisfy the provided configuration. Decreasing Dataset parameters min_data_in_bin or min_data_in_leaf and re-constructing Dataset might resolve this warning.\n",
      "[LightGBM] [Warning] Using sparse features with CUDA is currently not supported.\n"
     ]
    },
    {
     "name": "stderr",
     "output_type": "stream",
     "text": [
      "[LightGBM] [Fatal] GPU Tree Learner was not enabled in this build.\n",
      "Please recompile with CMake option -DUSE_GPU=1\n",
      "[LightGBM] [Fatal] CUDA Tree Learner was not enabled in this build.\n",
      "Please recompile with CMake option -DUSE_CUDA=1\n"
     ]
    },
    {
     "name": "stdout",
     "output_type": "stream",
     "text": [
      "[LightGBM] [Warning] There are no meaningful features which satisfy the provided configuration. Decreasing Dataset parameters min_data_in_bin or min_data_in_leaf and re-constructing Dataset might resolve this warning.\n",
      "[LightGBM] [Warning] There are no meaningful features which satisfy the provided configuration. Decreasing Dataset parameters min_data_in_bin or min_data_in_leaf and re-constructing Dataset might resolve this warning.\n",
      "[LightGBM] [Warning] Using sparse features with CUDA is currently not supported.\n"
     ]
    },
    {
     "name": "stderr",
     "output_type": "stream",
     "text": [
      "[LightGBM] [Fatal] GPU Tree Learner was not enabled in this build.\n",
      "Please recompile with CMake option -DUSE_GPU=1\n",
      "[LightGBM] [Fatal] CUDA Tree Learner was not enabled in this build.\n",
      "Please recompile with CMake option -DUSE_CUDA=1\n"
     ]
    },
    {
     "name": "stdout",
     "output_type": "stream",
     "text": [
      "[LightGBM] [Warning] There are no meaningful features which satisfy the provided configuration. Decreasing Dataset parameters min_data_in_bin or min_data_in_leaf and re-constructing Dataset might resolve this warning.\n",
      "[LightGBM] [Warning] There are no meaningful features which satisfy the provided configuration. Decreasing Dataset parameters min_data_in_bin or min_data_in_leaf and re-constructing Dataset might resolve this warning.\n",
      "[LightGBM] [Warning] Using sparse features with CUDA is currently not supported.\n"
     ]
    },
    {
     "name": "stderr",
     "output_type": "stream",
     "text": [
      "[LightGBM] [Fatal] GPU Tree Learner was not enabled in this build.\n",
      "Please recompile with CMake option -DUSE_GPU=1\n",
      "[LightGBM] [Fatal] CUDA Tree Learner was not enabled in this build.\n",
      "Please recompile with CMake option -DUSE_CUDA=1\n"
     ]
    },
    {
     "name": "stdout",
     "output_type": "stream",
     "text": [
      "[LightGBM] [Warning] There are no meaningful features which satisfy the provided configuration. Decreasing Dataset parameters min_data_in_bin or min_data_in_leaf and re-constructing Dataset might resolve this warning.\n",
      "[LightGBM] [Warning] There are no meaningful features which satisfy the provided configuration. Decreasing Dataset parameters min_data_in_bin or min_data_in_leaf and re-constructing Dataset might resolve this warning.\n",
      "[LightGBM] [Warning] Using sparse features with CUDA is currently not supported.\n"
     ]
    },
    {
     "name": "stderr",
     "output_type": "stream",
     "text": [
      "[LightGBM] [Fatal] GPU Tree Learner was not enabled in this build.\n",
      "Please recompile with CMake option -DUSE_GPU=1\n",
      "[LightGBM] [Fatal] CUDA Tree Learner was not enabled in this build.\n",
      "Please recompile with CMake option -DUSE_CUDA=1\n"
     ]
    },
    {
     "name": "stdout",
     "output_type": "stream",
     "text": [
      "[LightGBM] [Warning] There are no meaningful features which satisfy the provided configuration. Decreasing Dataset parameters min_data_in_bin or min_data_in_leaf and re-constructing Dataset might resolve this warning.\n",
      "[LightGBM] [Warning] There are no meaningful features which satisfy the provided configuration. Decreasing Dataset parameters min_data_in_bin or min_data_in_leaf and re-constructing Dataset might resolve this warning.\n",
      "[LightGBM] [Warning] Using sparse features with CUDA is currently not supported.\n"
     ]
    },
    {
     "name": "stderr",
     "output_type": "stream",
     "text": [
      "[LightGBM] [Fatal] GPU Tree Learner was not enabled in this build.\n",
      "Please recompile with CMake option -DUSE_GPU=1\n",
      "[LightGBM] [Fatal] CUDA Tree Learner was not enabled in this build.\n",
      "Please recompile with CMake option -DUSE_CUDA=1\n"
     ]
    },
    {
     "name": "stdout",
     "output_type": "stream",
     "text": [
      "[LightGBM] [Warning] There are no meaningful features which satisfy the provided configuration. Decreasing Dataset parameters min_data_in_bin or min_data_in_leaf and re-constructing Dataset might resolve this warning.\n",
      "[LightGBM] [Warning] There are no meaningful features which satisfy the provided configuration. Decreasing Dataset parameters min_data_in_bin or min_data_in_leaf and re-constructing Dataset might resolve this warning.\n",
      "[LightGBM] [Warning] Using sparse features with CUDA is currently not supported.\n"
     ]
    },
    {
     "name": "stderr",
     "output_type": "stream",
     "text": [
      "[LightGBM] [Fatal] GPU Tree Learner was not enabled in this build.\n",
      "Please recompile with CMake option -DUSE_GPU=1\n",
      "[LightGBM] [Fatal] CUDA Tree Learner was not enabled in this build.\n",
      "Please recompile with CMake option -DUSE_CUDA=1\n"
     ]
    },
    {
     "name": "stdout",
     "output_type": "stream",
     "text": [
      "[LightGBM] [Warning] There are no meaningful features which satisfy the provided configuration. Decreasing Dataset parameters min_data_in_bin or min_data_in_leaf and re-constructing Dataset might resolve this warning.\n",
      "[LightGBM] [Warning] There are no meaningful features which satisfy the provided configuration. Decreasing Dataset parameters min_data_in_bin or min_data_in_leaf and re-constructing Dataset might resolve this warning.\n",
      "[LightGBM] [Warning] Using sparse features with CUDA is currently not supported.\n"
     ]
    },
    {
     "name": "stderr",
     "output_type": "stream",
     "text": [
      "[LightGBM] [Fatal] GPU Tree Learner was not enabled in this build.\n",
      "Please recompile with CMake option -DUSE_GPU=1\n",
      "[LightGBM] [Fatal] CUDA Tree Learner was not enabled in this build.\n",
      "Please recompile with CMake option -DUSE_CUDA=1\n"
     ]
    },
    {
     "name": "stdout",
     "output_type": "stream",
     "text": [
      "[LightGBM] [Warning] There are no meaningful features which satisfy the provided configuration. Decreasing Dataset parameters min_data_in_bin or min_data_in_leaf and re-constructing Dataset might resolve this warning.\n",
      "[LightGBM] [Warning] There are no meaningful features which satisfy the provided configuration. Decreasing Dataset parameters min_data_in_bin or min_data_in_leaf and re-constructing Dataset might resolve this warning.\n",
      "[LightGBM] [Warning] Using sparse features with CUDA is currently not supported.\n"
     ]
    },
    {
     "name": "stderr",
     "output_type": "stream",
     "text": [
      "[LightGBM] [Fatal] GPU Tree Learner was not enabled in this build.\n",
      "Please recompile with CMake option -DUSE_GPU=1\n",
      "[LightGBM] [Fatal] CUDA Tree Learner was not enabled in this build.\n",
      "Please recompile with CMake option -DUSE_CUDA=1\n"
     ]
    },
    {
     "name": "stdout",
     "output_type": "stream",
     "text": [
      "[LightGBM] [Warning] There are no meaningful features which satisfy the provided configuration. Decreasing Dataset parameters min_data_in_bin or min_data_in_leaf and re-constructing Dataset might resolve this warning.\n",
      "[LightGBM] [Warning] There are no meaningful features which satisfy the provided configuration. Decreasing Dataset parameters min_data_in_bin or min_data_in_leaf and re-constructing Dataset might resolve this warning.\n",
      "[LightGBM] [Warning] Using sparse features with CUDA is currently not supported.\n"
     ]
    },
    {
     "name": "stderr",
     "output_type": "stream",
     "text": [
      "[LightGBM] [Fatal] GPU Tree Learner was not enabled in this build.\n",
      "Please recompile with CMake option -DUSE_GPU=1\n",
      "[LightGBM] [Fatal] CUDA Tree Learner was not enabled in this build.\n",
      "Please recompile with CMake option -DUSE_CUDA=1\n"
     ]
    },
    {
     "name": "stdout",
     "output_type": "stream",
     "text": [
      "[LightGBM] [Warning] There are no meaningful features which satisfy the provided configuration. Decreasing Dataset parameters min_data_in_bin or min_data_in_leaf and re-constructing Dataset might resolve this warning.\n",
      "[LightGBM] [Warning] There are no meaningful features which satisfy the provided configuration. Decreasing Dataset parameters min_data_in_bin or min_data_in_leaf and re-constructing Dataset might resolve this warning.\n",
      "[LightGBM] [Warning] Using sparse features with CUDA is currently not supported.\n"
     ]
    },
    {
     "name": "stderr",
     "output_type": "stream",
     "text": [
      "[LightGBM] [Fatal] GPU Tree Learner was not enabled in this build.\n",
      "Please recompile with CMake option -DUSE_GPU=1\n",
      "[LightGBM] [Fatal] CUDA Tree Learner was not enabled in this build.\n",
      "Please recompile with CMake option -DUSE_CUDA=1\n"
     ]
    },
    {
     "data": {
      "text/html": [
       "<style type=\"text/css\">\n",
       "#T_bba69_row9_col1, #T_bba69_row16_col1 {\n",
       "  background-color: lightgreen;\n",
       "}\n",
       "</style>\n",
       "<table id=\"T_bba69\">\n",
       "  <thead>\n",
       "    <tr>\n",
       "      <th class=\"blank level0\" >&nbsp;</th>\n",
       "      <th id=\"T_bba69_level0_col0\" class=\"col_heading level0 col0\" >Description</th>\n",
       "      <th id=\"T_bba69_level0_col1\" class=\"col_heading level0 col1\" >Value</th>\n",
       "    </tr>\n",
       "  </thead>\n",
       "  <tbody>\n",
       "    <tr>\n",
       "      <th id=\"T_bba69_level0_row0\" class=\"row_heading level0 row0\" >0</th>\n",
       "      <td id=\"T_bba69_row0_col0\" class=\"data row0 col0\" >Session id</td>\n",
       "      <td id=\"T_bba69_row0_col1\" class=\"data row0 col1\" >123</td>\n",
       "    </tr>\n",
       "    <tr>\n",
       "      <th id=\"T_bba69_level0_row1\" class=\"row_heading level0 row1\" >1</th>\n",
       "      <td id=\"T_bba69_row1_col0\" class=\"data row1 col0\" >Target</td>\n",
       "      <td id=\"T_bba69_row1_col1\" class=\"data row1 col1\" >Time_Difference</td>\n",
       "    </tr>\n",
       "    <tr>\n",
       "      <th id=\"T_bba69_level0_row2\" class=\"row_heading level0 row2\" >2</th>\n",
       "      <td id=\"T_bba69_row2_col0\" class=\"data row2 col0\" >Target type</td>\n",
       "      <td id=\"T_bba69_row2_col1\" class=\"data row2 col1\" >Regression</td>\n",
       "    </tr>\n",
       "    <tr>\n",
       "      <th id=\"T_bba69_level0_row3\" class=\"row_heading level0 row3\" >3</th>\n",
       "      <td id=\"T_bba69_row3_col0\" class=\"data row3 col0\" >Original data shape</td>\n",
       "      <td id=\"T_bba69_row3_col1\" class=\"data row3 col1\" >(959086, 18)</td>\n",
       "    </tr>\n",
       "    <tr>\n",
       "      <th id=\"T_bba69_level0_row4\" class=\"row_heading level0 row4\" >4</th>\n",
       "      <td id=\"T_bba69_row4_col0\" class=\"data row4 col0\" >Transformed data shape</td>\n",
       "      <td id=\"T_bba69_row4_col1\" class=\"data row4 col1\" >(959086, 18)</td>\n",
       "    </tr>\n",
       "    <tr>\n",
       "      <th id=\"T_bba69_level0_row5\" class=\"row_heading level0 row5\" >5</th>\n",
       "      <td id=\"T_bba69_row5_col0\" class=\"data row5 col0\" >Transformed train set shape</td>\n",
       "      <td id=\"T_bba69_row5_col1\" class=\"data row5 col1\" >(671360, 18)</td>\n",
       "    </tr>\n",
       "    <tr>\n",
       "      <th id=\"T_bba69_level0_row6\" class=\"row_heading level0 row6\" >6</th>\n",
       "      <td id=\"T_bba69_row6_col0\" class=\"data row6 col0\" >Transformed test set shape</td>\n",
       "      <td id=\"T_bba69_row6_col1\" class=\"data row6 col1\" >(287726, 18)</td>\n",
       "    </tr>\n",
       "    <tr>\n",
       "      <th id=\"T_bba69_level0_row7\" class=\"row_heading level0 row7\" >7</th>\n",
       "      <td id=\"T_bba69_row7_col0\" class=\"data row7 col0\" >Numeric features</td>\n",
       "      <td id=\"T_bba69_row7_col1\" class=\"data row7 col1\" >17</td>\n",
       "    </tr>\n",
       "    <tr>\n",
       "      <th id=\"T_bba69_level0_row8\" class=\"row_heading level0 row8\" >8</th>\n",
       "      <td id=\"T_bba69_row8_col0\" class=\"data row8 col0\" >Rows with missing values</td>\n",
       "      <td id=\"T_bba69_row8_col1\" class=\"data row8 col1\" >0.0%</td>\n",
       "    </tr>\n",
       "    <tr>\n",
       "      <th id=\"T_bba69_level0_row9\" class=\"row_heading level0 row9\" >9</th>\n",
       "      <td id=\"T_bba69_row9_col0\" class=\"data row9 col0\" >Preprocess</td>\n",
       "      <td id=\"T_bba69_row9_col1\" class=\"data row9 col1\" >True</td>\n",
       "    </tr>\n",
       "    <tr>\n",
       "      <th id=\"T_bba69_level0_row10\" class=\"row_heading level0 row10\" >10</th>\n",
       "      <td id=\"T_bba69_row10_col0\" class=\"data row10 col0\" >Imputation type</td>\n",
       "      <td id=\"T_bba69_row10_col1\" class=\"data row10 col1\" >simple</td>\n",
       "    </tr>\n",
       "    <tr>\n",
       "      <th id=\"T_bba69_level0_row11\" class=\"row_heading level0 row11\" >11</th>\n",
       "      <td id=\"T_bba69_row11_col0\" class=\"data row11 col0\" >Numeric imputation</td>\n",
       "      <td id=\"T_bba69_row11_col1\" class=\"data row11 col1\" >mean</td>\n",
       "    </tr>\n",
       "    <tr>\n",
       "      <th id=\"T_bba69_level0_row12\" class=\"row_heading level0 row12\" >12</th>\n",
       "      <td id=\"T_bba69_row12_col0\" class=\"data row12 col0\" >Categorical imputation</td>\n",
       "      <td id=\"T_bba69_row12_col1\" class=\"data row12 col1\" >mode</td>\n",
       "    </tr>\n",
       "    <tr>\n",
       "      <th id=\"T_bba69_level0_row13\" class=\"row_heading level0 row13\" >13</th>\n",
       "      <td id=\"T_bba69_row13_col0\" class=\"data row13 col0\" >Fold Generator</td>\n",
       "      <td id=\"T_bba69_row13_col1\" class=\"data row13 col1\" >KFold</td>\n",
       "    </tr>\n",
       "    <tr>\n",
       "      <th id=\"T_bba69_level0_row14\" class=\"row_heading level0 row14\" >14</th>\n",
       "      <td id=\"T_bba69_row14_col0\" class=\"data row14 col0\" >Fold Number</td>\n",
       "      <td id=\"T_bba69_row14_col1\" class=\"data row14 col1\" >10</td>\n",
       "    </tr>\n",
       "    <tr>\n",
       "      <th id=\"T_bba69_level0_row15\" class=\"row_heading level0 row15\" >15</th>\n",
       "      <td id=\"T_bba69_row15_col0\" class=\"data row15 col0\" >CPU Jobs</td>\n",
       "      <td id=\"T_bba69_row15_col1\" class=\"data row15 col1\" >-1</td>\n",
       "    </tr>\n",
       "    <tr>\n",
       "      <th id=\"T_bba69_level0_row16\" class=\"row_heading level0 row16\" >16</th>\n",
       "      <td id=\"T_bba69_row16_col0\" class=\"data row16 col0\" >Use GPU</td>\n",
       "      <td id=\"T_bba69_row16_col1\" class=\"data row16 col1\" >True</td>\n",
       "    </tr>\n",
       "    <tr>\n",
       "      <th id=\"T_bba69_level0_row17\" class=\"row_heading level0 row17\" >17</th>\n",
       "      <td id=\"T_bba69_row17_col0\" class=\"data row17 col0\" >Log Experiment</td>\n",
       "      <td id=\"T_bba69_row17_col1\" class=\"data row17 col1\" >False</td>\n",
       "    </tr>\n",
       "    <tr>\n",
       "      <th id=\"T_bba69_level0_row18\" class=\"row_heading level0 row18\" >18</th>\n",
       "      <td id=\"T_bba69_row18_col0\" class=\"data row18 col0\" >Experiment Name</td>\n",
       "      <td id=\"T_bba69_row18_col1\" class=\"data row18 col1\" >base</td>\n",
       "    </tr>\n",
       "    <tr>\n",
       "      <th id=\"T_bba69_level0_row19\" class=\"row_heading level0 row19\" >19</th>\n",
       "      <td id=\"T_bba69_row19_col0\" class=\"data row19 col0\" >USI</td>\n",
       "      <td id=\"T_bba69_row19_col1\" class=\"data row19 col1\" >425b</td>\n",
       "    </tr>\n",
       "  </tbody>\n",
       "</table>\n"
      ],
      "text/plain": [
       "<pandas.io.formats.style.Styler at 0x2ad100290>"
      ]
     },
     "metadata": {},
     "output_type": "display_data"
    },
    {
     "name": "stdout",
     "output_type": "stream",
     "text": [
      "[LightGBM] [Warning] There are no meaningful features which satisfy the provided configuration. Decreasing Dataset parameters min_data_in_bin or min_data_in_leaf and re-constructing Dataset might resolve this warning.\n",
      "[LightGBM] [Warning] There are no meaningful features which satisfy the provided configuration. Decreasing Dataset parameters min_data_in_bin or min_data_in_leaf and re-constructing Dataset might resolve this warning.\n",
      "[LightGBM] [Warning] Using sparse features with CUDA is currently not supported.\n"
     ]
    },
    {
     "name": "stderr",
     "output_type": "stream",
     "text": [
      "[LightGBM] [Fatal] GPU Tree Learner was not enabled in this build.\n",
      "Please recompile with CMake option -DUSE_GPU=1\n",
      "[LightGBM] [Fatal] CUDA Tree Learner was not enabled in this build.\n",
      "Please recompile with CMake option -DUSE_CUDA=1\n"
     ]
    },
    {
     "name": "stdout",
     "output_type": "stream",
     "text": [
      "[LightGBM] [Warning] There are no meaningful features which satisfy the provided configuration. Decreasing Dataset parameters min_data_in_bin or min_data_in_leaf and re-constructing Dataset might resolve this warning.\n",
      "[LightGBM] [Warning] There are no meaningful features which satisfy the provided configuration. Decreasing Dataset parameters min_data_in_bin or min_data_in_leaf and re-constructing Dataset might resolve this warning.\n",
      "[LightGBM] [Warning] Using sparse features with CUDA is currently not supported.\n"
     ]
    },
    {
     "name": "stderr",
     "output_type": "stream",
     "text": [
      "[LightGBM] [Fatal] GPU Tree Learner was not enabled in this build.\n",
      "Please recompile with CMake option -DUSE_GPU=1\n",
      "[LightGBM] [Fatal] CUDA Tree Learner was not enabled in this build.\n",
      "Please recompile with CMake option -DUSE_CUDA=1\n"
     ]
    }
   ],
   "source": [
    "from pycaret.regression import *\n",
    "s = setup(data=koch, target='Time_Difference', session_id=123, use_gpu=True, experiment_name=\"base\")"
   ]
  },
  {
   "cell_type": "code",
   "execution_count": null,
   "metadata": {},
   "outputs": [
    {
     "data": {
      "text/html": [
       "<div>\n",
       "<style scoped>\n",
       "    .dataframe tbody tr th:only-of-type {\n",
       "        vertical-align: middle;\n",
       "    }\n",
       "\n",
       "    .dataframe tbody tr th {\n",
       "        vertical-align: top;\n",
       "    }\n",
       "\n",
       "    .dataframe thead th {\n",
       "        text-align: right;\n",
       "    }\n",
       "</style>\n",
       "<table border=\"1\" class=\"dataframe\">\n",
       "  <thead>\n",
       "    <tr style=\"text-align: right;\">\n",
       "      <th></th>\n",
       "      <th></th>\n",
       "      <th></th>\n",
       "    </tr>\n",
       "    <tr>\n",
       "      <th></th>\n",
       "      <th></th>\n",
       "      <th></th>\n",
       "    </tr>\n",
       "  </thead>\n",
       "  <tbody>\n",
       "    <tr>\n",
       "      <th>Initiated</th>\n",
       "      <td>. . . . . . . . . . . . . . . . . .</td>\n",
       "      <td>05:02:24</td>\n",
       "    </tr>\n",
       "    <tr>\n",
       "      <th>Status</th>\n",
       "      <td>. . . . . . . . . . . . . . . . . .</td>\n",
       "      <td>Fitting 10 Folds</td>\n",
       "    </tr>\n",
       "    <tr>\n",
       "      <th>Estimator</th>\n",
       "      <td>. . . . . . . . . . . . . . . . . .</td>\n",
       "      <td>Random Forest Regressor</td>\n",
       "    </tr>\n",
       "  </tbody>\n",
       "</table>\n",
       "</div>"
      ],
      "text/plain": [
       "                                                                       \n",
       "                                                                       \n",
       "Initiated  . . . . . . . . . . . . . . . . . .                 05:02:24\n",
       "Status     . . . . . . . . . . . . . . . . . .         Fitting 10 Folds\n",
       "Estimator  . . . . . . . . . . . . . . . . . .  Random Forest Regressor"
      ]
     },
     "metadata": {},
     "output_type": "display_data"
    },
    {
     "data": {
      "text/html": [
       "<style type=\"text/css\">\n",
       "#T_d6783 th {\n",
       "  text-align: left;\n",
       "}\n",
       "#T_d6783_row0_col0, #T_d6783_row0_col1, #T_d6783_row0_col2, #T_d6783_row0_col3, #T_d6783_row0_col4, #T_d6783_row0_col5, #T_d6783_row0_col6, #T_d6783_row0_col7, #T_d6783_row1_col0, #T_d6783_row1_col1, #T_d6783_row1_col2, #T_d6783_row1_col3, #T_d6783_row1_col4, #T_d6783_row1_col5, #T_d6783_row1_col6, #T_d6783_row1_col7, #T_d6783_row2_col0, #T_d6783_row2_col1, #T_d6783_row2_col2, #T_d6783_row2_col3, #T_d6783_row2_col4, #T_d6783_row2_col5, #T_d6783_row2_col6, #T_d6783_row2_col7, #T_d6783_row3_col0, #T_d6783_row3_col1, #T_d6783_row3_col2, #T_d6783_row3_col3, #T_d6783_row3_col4, #T_d6783_row3_col5, #T_d6783_row3_col6, #T_d6783_row3_col7, #T_d6783_row4_col0, #T_d6783_row4_col1, #T_d6783_row4_col2, #T_d6783_row4_col3, #T_d6783_row4_col4, #T_d6783_row4_col5, #T_d6783_row4_col6, #T_d6783_row4_col7, #T_d6783_row5_col0, #T_d6783_row5_col1, #T_d6783_row5_col2, #T_d6783_row5_col3, #T_d6783_row5_col4, #T_d6783_row5_col5, #T_d6783_row5_col6, #T_d6783_row5_col7, #T_d6783_row6_col0, #T_d6783_row6_col1, #T_d6783_row6_col2, #T_d6783_row6_col3, #T_d6783_row6_col4, #T_d6783_row6_col5, #T_d6783_row6_col6, #T_d6783_row6_col7, #T_d6783_row7_col0, #T_d6783_row7_col1, #T_d6783_row7_col2, #T_d6783_row7_col3, #T_d6783_row7_col4, #T_d6783_row7_col5, #T_d6783_row7_col6, #T_d6783_row7_col7, #T_d6783_row8_col0, #T_d6783_row8_col1, #T_d6783_row8_col2, #T_d6783_row8_col3, #T_d6783_row8_col4, #T_d6783_row8_col5, #T_d6783_row8_col6, #T_d6783_row8_col7, #T_d6783_row9_col0, #T_d6783_row9_col1, #T_d6783_row9_col2, #T_d6783_row9_col3, #T_d6783_row9_col4, #T_d6783_row9_col5, #T_d6783_row9_col6, #T_d6783_row9_col7, #T_d6783_row10_col0, #T_d6783_row10_col1, #T_d6783_row10_col2, #T_d6783_row10_col3, #T_d6783_row10_col4, #T_d6783_row10_col5, #T_d6783_row10_col6, #T_d6783_row10_col7, #T_d6783_row11_col0, #T_d6783_row11_col1, #T_d6783_row11_col2, #T_d6783_row11_col3, #T_d6783_row11_col4, #T_d6783_row11_col5, #T_d6783_row11_col6, #T_d6783_row11_col7 {\n",
       "  text-align: left;\n",
       "}\n",
       "</style>\n",
       "<table id=\"T_d6783\">\n",
       "  <thead>\n",
       "    <tr>\n",
       "      <th class=\"blank level0\" >&nbsp;</th>\n",
       "      <th id=\"T_d6783_level0_col0\" class=\"col_heading level0 col0\" >Model</th>\n",
       "      <th id=\"T_d6783_level0_col1\" class=\"col_heading level0 col1\" >MAE</th>\n",
       "      <th id=\"T_d6783_level0_col2\" class=\"col_heading level0 col2\" >MSE</th>\n",
       "      <th id=\"T_d6783_level0_col3\" class=\"col_heading level0 col3\" >RMSE</th>\n",
       "      <th id=\"T_d6783_level0_col4\" class=\"col_heading level0 col4\" >R2</th>\n",
       "      <th id=\"T_d6783_level0_col5\" class=\"col_heading level0 col5\" >RMSLE</th>\n",
       "      <th id=\"T_d6783_level0_col6\" class=\"col_heading level0 col6\" >MAPE</th>\n",
       "      <th id=\"T_d6783_level0_col7\" class=\"col_heading level0 col7\" >TT (Sec)</th>\n",
       "    </tr>\n",
       "  </thead>\n",
       "  <tbody>\n",
       "    <tr>\n",
       "      <th id=\"T_d6783_level0_row0\" class=\"row_heading level0 row0\" >knn</th>\n",
       "      <td id=\"T_d6783_row0_col0\" class=\"data row0 col0\" >K Neighbors Regressor</td>\n",
       "      <td id=\"T_d6783_row0_col1\" class=\"data row0 col1\" >11.7069</td>\n",
       "      <td id=\"T_d6783_row0_col2\" class=\"data row0 col2\" >1395.7173</td>\n",
       "      <td id=\"T_d6783_row0_col3\" class=\"data row0 col3\" >37.1825</td>\n",
       "      <td id=\"T_d6783_row0_col4\" class=\"data row0 col4\" >0.2333</td>\n",
       "      <td id=\"T_d6783_row0_col5\" class=\"data row0 col5\" >1.0438</td>\n",
       "      <td id=\"T_d6783_row0_col6\" class=\"data row0 col6\" >1.8798</td>\n",
       "      <td id=\"T_d6783_row0_col7\" class=\"data row0 col7\" >13.3830</td>\n",
       "    </tr>\n",
       "    <tr>\n",
       "      <th id=\"T_d6783_level0_row1\" class=\"row_heading level0 row1\" >dt</th>\n",
       "      <td id=\"T_d6783_row1_col0\" class=\"data row1 col0\" >Decision Tree Regressor</td>\n",
       "      <td id=\"T_d6783_row1_col1\" class=\"data row1 col1\" >10.4479</td>\n",
       "      <td id=\"T_d6783_row1_col2\" class=\"data row1 col2\" >1465.4311</td>\n",
       "      <td id=\"T_d6783_row1_col3\" class=\"data row1 col3\" >38.1460</td>\n",
       "      <td id=\"T_d6783_row1_col4\" class=\"data row1 col4\" >0.1869</td>\n",
       "      <td id=\"T_d6783_row1_col5\" class=\"data row1 col5\" >0.9701</td>\n",
       "      <td id=\"T_d6783_row1_col6\" class=\"data row1 col6\" >1.8359</td>\n",
       "      <td id=\"T_d6783_row1_col7\" class=\"data row1 col7\" >4.7140</td>\n",
       "    </tr>\n",
       "    <tr>\n",
       "      <th id=\"T_d6783_level0_row2\" class=\"row_heading level0 row2\" >lr</th>\n",
       "      <td id=\"T_d6783_row2_col0\" class=\"data row2 col0\" >Linear Regression</td>\n",
       "      <td id=\"T_d6783_row2_col1\" class=\"data row2 col1\" >15.1463</td>\n",
       "      <td id=\"T_d6783_row2_col2\" class=\"data row2 col2\" >1617.7146</td>\n",
       "      <td id=\"T_d6783_row2_col3\" class=\"data row2 col3\" >40.1515</td>\n",
       "      <td id=\"T_d6783_row2_col4\" class=\"data row2 col4\" >0.0990</td>\n",
       "      <td id=\"T_d6783_row2_col5\" class=\"data row2 col5\" >1.4096</td>\n",
       "      <td id=\"T_d6783_row2_col6\" class=\"data row2 col6\" >2.4451</td>\n",
       "      <td id=\"T_d6783_row2_col7\" class=\"data row2 col7\" >0.4040</td>\n",
       "    </tr>\n",
       "    <tr>\n",
       "      <th id=\"T_d6783_level0_row3\" class=\"row_heading level0 row3\" >ridge</th>\n",
       "      <td id=\"T_d6783_row3_col0\" class=\"data row3 col0\" >Ridge Regression</td>\n",
       "      <td id=\"T_d6783_row3_col1\" class=\"data row3 col1\" >15.1460</td>\n",
       "      <td id=\"T_d6783_row3_col2\" class=\"data row3 col2\" >1617.7084</td>\n",
       "      <td id=\"T_d6783_row3_col3\" class=\"data row3 col3\" >40.1515</td>\n",
       "      <td id=\"T_d6783_row3_col4\" class=\"data row3 col4\" >0.0990</td>\n",
       "      <td id=\"T_d6783_row3_col5\" class=\"data row3 col5\" >1.4096</td>\n",
       "      <td id=\"T_d6783_row3_col6\" class=\"data row3 col6\" >2.4449</td>\n",
       "      <td id=\"T_d6783_row3_col7\" class=\"data row3 col7\" >0.2520</td>\n",
       "    </tr>\n",
       "    <tr>\n",
       "      <th id=\"T_d6783_level0_row4\" class=\"row_heading level0 row4\" >br</th>\n",
       "      <td id=\"T_d6783_row4_col0\" class=\"data row4 col0\" >Bayesian Ridge</td>\n",
       "      <td id=\"T_d6783_row4_col1\" class=\"data row4 col1\" >15.1460</td>\n",
       "      <td id=\"T_d6783_row4_col2\" class=\"data row4 col2\" >1617.7150</td>\n",
       "      <td id=\"T_d6783_row4_col3\" class=\"data row4 col3\" >40.1515</td>\n",
       "      <td id=\"T_d6783_row4_col4\" class=\"data row4 col4\" >0.0990</td>\n",
       "      <td id=\"T_d6783_row4_col5\" class=\"data row4 col5\" >1.4096</td>\n",
       "      <td id=\"T_d6783_row4_col6\" class=\"data row4 col6\" >2.4449</td>\n",
       "      <td id=\"T_d6783_row4_col7\" class=\"data row4 col7\" >0.6800</td>\n",
       "    </tr>\n",
       "    <tr>\n",
       "      <th id=\"T_d6783_level0_row5\" class=\"row_heading level0 row5\" >en</th>\n",
       "      <td id=\"T_d6783_row5_col0\" class=\"data row5 col0\" >Elastic Net</td>\n",
       "      <td id=\"T_d6783_row5_col1\" class=\"data row5 col1\" >14.3539</td>\n",
       "      <td id=\"T_d6783_row5_col2\" class=\"data row5 col2\" >1793.8621</td>\n",
       "      <td id=\"T_d6783_row5_col3\" class=\"data row5 col3\" >42.2202</td>\n",
       "      <td id=\"T_d6783_row5_col4\" class=\"data row5 col4\" >0.0102</td>\n",
       "      <td id=\"T_d6783_row5_col5\" class=\"data row5 col5\" >1.3722</td>\n",
       "      <td id=\"T_d6783_row5_col6\" class=\"data row5 col6\" >1.8295</td>\n",
       "      <td id=\"T_d6783_row5_col7\" class=\"data row5 col7\" >2.5630</td>\n",
       "    </tr>\n",
       "    <tr>\n",
       "      <th id=\"T_d6783_level0_row6\" class=\"row_heading level0 row6\" >lasso</th>\n",
       "      <td id=\"T_d6783_row6_col0\" class=\"data row6 col0\" >Lasso Regression</td>\n",
       "      <td id=\"T_d6783_row6_col1\" class=\"data row6 col1\" >14.3354</td>\n",
       "      <td id=\"T_d6783_row6_col2\" class=\"data row6 col2\" >1796.0095</td>\n",
       "      <td id=\"T_d6783_row6_col3\" class=\"data row6 col3\" >42.2453</td>\n",
       "      <td id=\"T_d6783_row6_col4\" class=\"data row6 col4\" >0.0090</td>\n",
       "      <td id=\"T_d6783_row6_col5\" class=\"data row6 col5\" >1.3659</td>\n",
       "      <td id=\"T_d6783_row6_col6\" class=\"data row6 col6\" >1.8201</td>\n",
       "      <td id=\"T_d6783_row6_col7\" class=\"data row6 col7\" >0.7430</td>\n",
       "    </tr>\n",
       "    <tr>\n",
       "      <th id=\"T_d6783_level0_row7\" class=\"row_heading level0 row7\" >llar</th>\n",
       "      <td id=\"T_d6783_row7_col0\" class=\"data row7 col0\" >Lasso Least Angle Regression</td>\n",
       "      <td id=\"T_d6783_row7_col1\" class=\"data row7 col1\" >14.3354</td>\n",
       "      <td id=\"T_d6783_row7_col2\" class=\"data row7 col2\" >1796.0093</td>\n",
       "      <td id=\"T_d6783_row7_col3\" class=\"data row7 col3\" >42.2453</td>\n",
       "      <td id=\"T_d6783_row7_col4\" class=\"data row7 col4\" >0.0090</td>\n",
       "      <td id=\"T_d6783_row7_col5\" class=\"data row7 col5\" >1.3659</td>\n",
       "      <td id=\"T_d6783_row7_col6\" class=\"data row7 col6\" >1.8201</td>\n",
       "      <td id=\"T_d6783_row7_col7\" class=\"data row7 col7\" >0.2680</td>\n",
       "    </tr>\n",
       "    <tr>\n",
       "      <th id=\"T_d6783_level0_row8\" class=\"row_heading level0 row8\" >omp</th>\n",
       "      <td id=\"T_d6783_row8_col0\" class=\"data row8 col0\" >Orthogonal Matching Pursuit</td>\n",
       "      <td id=\"T_d6783_row8_col1\" class=\"data row8 col1\" >14.4683</td>\n",
       "      <td id=\"T_d6783_row8_col2\" class=\"data row8 col2\" >1810.2394</td>\n",
       "      <td id=\"T_d6783_row8_col3\" class=\"data row8 col3\" >42.4146</td>\n",
       "      <td id=\"T_d6783_row8_col4\" class=\"data row8 col4\" >0.0010</td>\n",
       "      <td id=\"T_d6783_row8_col5\" class=\"data row8 col5\" >1.2923</td>\n",
       "      <td id=\"T_d6783_row8_col6\" class=\"data row8 col6\" >1.8399</td>\n",
       "      <td id=\"T_d6783_row8_col7\" class=\"data row8 col7\" >0.2830</td>\n",
       "    </tr>\n",
       "    <tr>\n",
       "      <th id=\"T_d6783_level0_row9\" class=\"row_heading level0 row9\" >huber</th>\n",
       "      <td id=\"T_d6783_row9_col0\" class=\"data row9 col0\" >Huber Regressor</td>\n",
       "      <td id=\"T_d6783_row9_col1\" class=\"data row9 col1\" >13.1655</td>\n",
       "      <td id=\"T_d6783_row9_col2\" class=\"data row9 col2\" >1823.6065</td>\n",
       "      <td id=\"T_d6783_row9_col3\" class=\"data row9 col3\" >42.5724</td>\n",
       "      <td id=\"T_d6783_row9_col4\" class=\"data row9 col4\" >-0.0065</td>\n",
       "      <td id=\"T_d6783_row9_col5\" class=\"data row9 col5\" >1.7460</td>\n",
       "      <td id=\"T_d6783_row9_col6\" class=\"data row9 col6\" >1.0068</td>\n",
       "      <td id=\"T_d6783_row9_col7\" class=\"data row9 col7\" >4.0140</td>\n",
       "    </tr>\n",
       "    <tr>\n",
       "      <th id=\"T_d6783_level0_row10\" class=\"row_heading level0 row10\" >par</th>\n",
       "      <td id=\"T_d6783_row10_col0\" class=\"data row10 col0\" >Passive Aggressive Regressor</td>\n",
       "      <td id=\"T_d6783_row10_col1\" class=\"data row10 col1\" >23.1192</td>\n",
       "      <td id=\"T_d6783_row10_col2\" class=\"data row10 col2\" >2474.1195</td>\n",
       "      <td id=\"T_d6783_row10_col3\" class=\"data row10 col3\" >48.7034</td>\n",
       "      <td id=\"T_d6783_row10_col4\" class=\"data row10 col4\" >-0.3493</td>\n",
       "      <td id=\"T_d6783_row10_col5\" class=\"data row10 col5\" >1.7080</td>\n",
       "      <td id=\"T_d6783_row10_col6\" class=\"data row10 col6\" >5.1572</td>\n",
       "      <td id=\"T_d6783_row10_col7\" class=\"data row10 col7\" >1.0560</td>\n",
       "    </tr>\n",
       "    <tr>\n",
       "      <th id=\"T_d6783_level0_row11\" class=\"row_heading level0 row11\" >lar</th>\n",
       "      <td id=\"T_d6783_row11_col0\" class=\"data row11 col0\" >Least Angle Regression</td>\n",
       "      <td id=\"T_d6783_row11_col1\" class=\"data row11 col1\" >156.0241</td>\n",
       "      <td id=\"T_d6783_row11_col2\" class=\"data row11 col2\" >431827.0028</td>\n",
       "      <td id=\"T_d6783_row11_col3\" class=\"data row11 col3\" >346.8339</td>\n",
       "      <td id=\"T_d6783_row11_col4\" class=\"data row11 col4\" >-254.1176</td>\n",
       "      <td id=\"T_d6783_row11_col5\" class=\"data row11 col5\" >2.2130</td>\n",
       "      <td id=\"T_d6783_row11_col6\" class=\"data row11 col6\" >39.2606</td>\n",
       "      <td id=\"T_d6783_row11_col7\" class=\"data row11 col7\" >0.2820</td>\n",
       "    </tr>\n",
       "  </tbody>\n",
       "</table>\n"
      ],
      "text/plain": [
       "<pandas.io.formats.style.Styler at 0x2af68c2d0>"
      ]
     },
     "metadata": {},
     "output_type": "display_data"
    },
    {
     "data": {
      "text/html": [],
      "text/plain": [
       "<IPython.core.display.HTML object>"
      ]
     },
     "metadata": {},
     "output_type": "display_data"
    },
    {
     "ename": "KeyboardInterrupt",
     "evalue": "",
     "output_type": "error",
     "traceback": [
      "\u001b[0;31m---------------------------------------------------------------------------\u001b[0m",
      "\u001b[0;31mKeyboardInterrupt\u001b[0m                         Traceback (most recent call last)",
      "\u001b[1;32m/Users/addisonjpratt/sfguide-intro-to-machine-learning-with-snowpark-ml-for-python/database.ipynb Cell 56\u001b[0m line \u001b[0;36m1\n\u001b[0;32m----> <a href='vscode-notebook-cell:/Users/addisonjpratt/sfguide-intro-to-machine-learning-with-snowpark-ml-for-python/database.ipynb#Y125sZmlsZQ%3D%3D?line=0'>1</a>\u001b[0m best \u001b[39m=\u001b[39m compare_models()\n",
      "File \u001b[0;32m/Library/Frameworks/Python.framework/Versions/3.11/lib/python3.11/site-packages/pycaret/utils/generic.py:964\u001b[0m, in \u001b[0;36mcheck_if_global_is_not_none.<locals>.decorator.<locals>.wrapper\u001b[0;34m(*args, **kwargs)\u001b[0m\n\u001b[1;32m    962\u001b[0m     \u001b[39mif\u001b[39;00m globals_d[name] \u001b[39mis\u001b[39;00m \u001b[39mNone\u001b[39;00m:\n\u001b[1;32m    963\u001b[0m         \u001b[39mraise\u001b[39;00m \u001b[39mValueError\u001b[39;00m(message)\n\u001b[0;32m--> 964\u001b[0m \u001b[39mreturn\u001b[39;00m func(\u001b[39m*\u001b[39;49margs, \u001b[39m*\u001b[39;49m\u001b[39m*\u001b[39;49mkwargs)\n",
      "File \u001b[0;32m/Library/Frameworks/Python.framework/Versions/3.11/lib/python3.11/site-packages/pycaret/regression/functional.py:805\u001b[0m, in \u001b[0;36mcompare_models\u001b[0;34m(include, exclude, fold, round, cross_validation, sort, n_select, budget_time, turbo, errors, fit_kwargs, groups, experiment_custom_tags, engine, verbose, parallel)\u001b[0m\n\u001b[1;32m    670\u001b[0m \u001b[39m@check_if_global_is_not_none\u001b[39m(\u001b[39mglobals\u001b[39m(), _CURRENT_EXPERIMENT_DECORATOR_DICT)\n\u001b[1;32m    671\u001b[0m \u001b[39mdef\u001b[39;00m \u001b[39mcompare_models\u001b[39m(\n\u001b[1;32m    672\u001b[0m     include: Optional[List[Union[\u001b[39mstr\u001b[39m, Any]]] \u001b[39m=\u001b[39m \u001b[39mNone\u001b[39;00m,\n\u001b[0;32m   (...)\u001b[0m\n\u001b[1;32m    687\u001b[0m     parallel: Optional[ParallelBackend] \u001b[39m=\u001b[39m \u001b[39mNone\u001b[39;00m,\n\u001b[1;32m    688\u001b[0m ):\n\u001b[1;32m    689\u001b[0m \u001b[39m    \u001b[39m\u001b[39m\"\"\"\u001b[39;00m\n\u001b[1;32m    690\u001b[0m \u001b[39m    This function trains and evaluates performance of all estimators available in the\u001b[39;00m\n\u001b[1;32m    691\u001b[0m \u001b[39m    model library using cross validation. The output of this function is a score grid\u001b[39;00m\n\u001b[0;32m   (...)\u001b[0m\n\u001b[1;32m    803\u001b[0m \n\u001b[1;32m    804\u001b[0m \u001b[39m    \"\"\"\u001b[39;00m\n\u001b[0;32m--> 805\u001b[0m     \u001b[39mreturn\u001b[39;00m _CURRENT_EXPERIMENT\u001b[39m.\u001b[39;49mcompare_models(\n\u001b[1;32m    806\u001b[0m         include\u001b[39m=\u001b[39;49minclude,\n\u001b[1;32m    807\u001b[0m         exclude\u001b[39m=\u001b[39;49mexclude,\n\u001b[1;32m    808\u001b[0m         fold\u001b[39m=\u001b[39;49mfold,\n\u001b[1;32m    809\u001b[0m         \u001b[39mround\u001b[39;49m\u001b[39m=\u001b[39;49m\u001b[39mround\u001b[39;49m,\n\u001b[1;32m    810\u001b[0m         cross_validation\u001b[39m=\u001b[39;49mcross_validation,\n\u001b[1;32m    811\u001b[0m         sort\u001b[39m=\u001b[39;49msort,\n\u001b[1;32m    812\u001b[0m         n_select\u001b[39m=\u001b[39;49mn_select,\n\u001b[1;32m    813\u001b[0m         budget_time\u001b[39m=\u001b[39;49mbudget_time,\n\u001b[1;32m    814\u001b[0m         turbo\u001b[39m=\u001b[39;49mturbo,\n\u001b[1;32m    815\u001b[0m         errors\u001b[39m=\u001b[39;49merrors,\n\u001b[1;32m    816\u001b[0m         fit_kwargs\u001b[39m=\u001b[39;49mfit_kwargs,\n\u001b[1;32m    817\u001b[0m         groups\u001b[39m=\u001b[39;49mgroups,\n\u001b[1;32m    818\u001b[0m         experiment_custom_tags\u001b[39m=\u001b[39;49mexperiment_custom_tags,\n\u001b[1;32m    819\u001b[0m         engine\u001b[39m=\u001b[39;49mengine,\n\u001b[1;32m    820\u001b[0m         verbose\u001b[39m=\u001b[39;49mverbose,\n\u001b[1;32m    821\u001b[0m         parallel\u001b[39m=\u001b[39;49mparallel,\n\u001b[1;32m    822\u001b[0m     )\n",
      "File \u001b[0;32m/Library/Frameworks/Python.framework/Versions/3.11/lib/python3.11/site-packages/pycaret/regression/oop.py:1122\u001b[0m, in \u001b[0;36mRegressionExperiment.compare_models\u001b[0;34m(self, include, exclude, fold, round, cross_validation, sort, n_select, budget_time, turbo, errors, fit_kwargs, groups, experiment_custom_tags, engine, verbose, parallel)\u001b[0m\n\u001b[1;32m   1119\u001b[0m         \u001b[39mself\u001b[39m\u001b[39m.\u001b[39m_set_engine(estimator\u001b[39m=\u001b[39mestimator, engine\u001b[39m=\u001b[39meng, severity\u001b[39m=\u001b[39m\u001b[39m\"\u001b[39m\u001b[39merror\u001b[39m\u001b[39m\"\u001b[39m)\n\u001b[1;32m   1121\u001b[0m \u001b[39mtry\u001b[39;00m:\n\u001b[0;32m-> 1122\u001b[0m     return_values \u001b[39m=\u001b[39m \u001b[39msuper\u001b[39;49m()\u001b[39m.\u001b[39;49mcompare_models(\n\u001b[1;32m   1123\u001b[0m         include\u001b[39m=\u001b[39;49minclude,\n\u001b[1;32m   1124\u001b[0m         exclude\u001b[39m=\u001b[39;49mexclude,\n\u001b[1;32m   1125\u001b[0m         fold\u001b[39m=\u001b[39;49mfold,\n\u001b[1;32m   1126\u001b[0m         \u001b[39mround\u001b[39;49m\u001b[39m=\u001b[39;49m\u001b[39mround\u001b[39;49m,\n\u001b[1;32m   1127\u001b[0m         cross_validation\u001b[39m=\u001b[39;49mcross_validation,\n\u001b[1;32m   1128\u001b[0m         sort\u001b[39m=\u001b[39;49msort,\n\u001b[1;32m   1129\u001b[0m         n_select\u001b[39m=\u001b[39;49mn_select,\n\u001b[1;32m   1130\u001b[0m         budget_time\u001b[39m=\u001b[39;49mbudget_time,\n\u001b[1;32m   1131\u001b[0m         turbo\u001b[39m=\u001b[39;49mturbo,\n\u001b[1;32m   1132\u001b[0m         errors\u001b[39m=\u001b[39;49merrors,\n\u001b[1;32m   1133\u001b[0m         fit_kwargs\u001b[39m=\u001b[39;49mfit_kwargs,\n\u001b[1;32m   1134\u001b[0m         groups\u001b[39m=\u001b[39;49mgroups,\n\u001b[1;32m   1135\u001b[0m         experiment_custom_tags\u001b[39m=\u001b[39;49mexperiment_custom_tags,\n\u001b[1;32m   1136\u001b[0m         verbose\u001b[39m=\u001b[39;49mverbose,\n\u001b[1;32m   1137\u001b[0m         parallel\u001b[39m=\u001b[39;49mparallel,\n\u001b[1;32m   1138\u001b[0m         caller_params\u001b[39m=\u001b[39;49mcaller_params,\n\u001b[1;32m   1139\u001b[0m     )\n\u001b[1;32m   1141\u001b[0m \u001b[39mfinally\u001b[39;00m:\n\u001b[1;32m   1142\u001b[0m     \u001b[39mif\u001b[39;00m engine \u001b[39mis\u001b[39;00m \u001b[39mnot\u001b[39;00m \u001b[39mNone\u001b[39;00m:\n\u001b[1;32m   1143\u001b[0m         \u001b[39m# Reset the models back to the default engines\u001b[39;00m\n",
      "File \u001b[0;32m/Library/Frameworks/Python.framework/Versions/3.11/lib/python3.11/site-packages/pycaret/internal/pycaret_experiment/supervised_experiment.py:794\u001b[0m, in \u001b[0;36m_SupervisedExperiment.compare_models\u001b[0;34m(self, include, exclude, fold, round, cross_validation, sort, n_select, budget_time, turbo, errors, fit_kwargs, groups, experiment_custom_tags, probability_threshold, verbose, parallel, caller_params)\u001b[0m\n\u001b[1;32m    791\u001b[0m results_columns_to_ignore \u001b[39m=\u001b[39m [\u001b[39m\"\u001b[39m\u001b[39mObject\u001b[39m\u001b[39m\"\u001b[39m, \u001b[39m\"\u001b[39m\u001b[39mruntime\u001b[39m\u001b[39m\"\u001b[39m, \u001b[39m\"\u001b[39m\u001b[39mcutoff\u001b[39m\u001b[39m\"\u001b[39m]\n\u001b[1;32m    793\u001b[0m \u001b[39mtry\u001b[39;00m:\n\u001b[0;32m--> 794\u001b[0m     model, model_fit_time \u001b[39m=\u001b[39m \u001b[39mself\u001b[39;49m\u001b[39m.\u001b[39;49m_create_model(\u001b[39m*\u001b[39;49m\u001b[39m*\u001b[39;49mcreate_model_args)\n\u001b[1;32m    795\u001b[0m     model_results \u001b[39m=\u001b[39m \u001b[39mself\u001b[39m\u001b[39m.\u001b[39mpull(pop\u001b[39m=\u001b[39m\u001b[39mTrue\u001b[39;00m)\n\u001b[1;32m    796\u001b[0m     \u001b[39massert\u001b[39;00m (\n\u001b[1;32m    797\u001b[0m         np\u001b[39m.\u001b[39msum(\n\u001b[1;32m    798\u001b[0m             model_results\u001b[39m.\u001b[39mdrop(\n\u001b[0;32m   (...)\u001b[0m\n\u001b[1;32m    802\u001b[0m         \u001b[39m!=\u001b[39m \u001b[39m0.0\u001b[39m\n\u001b[1;32m    803\u001b[0m     )\n",
      "File \u001b[0;32m/Library/Frameworks/Python.framework/Versions/3.11/lib/python3.11/site-packages/pycaret/internal/pycaret_experiment/supervised_experiment.py:1533\u001b[0m, in \u001b[0;36m_SupervisedExperiment._create_model\u001b[0;34m(self, estimator, fold, round, cross_validation, predict, fit_kwargs, groups, refit, probability_threshold, experiment_custom_tags, verbose, system, add_to_model_list, X_train_data, y_train_data, metrics, display, model_only, return_train_score, error_score, **kwargs)\u001b[0m\n\u001b[1;32m   1530\u001b[0m         \u001b[39mreturn\u001b[39;00m model, model_fit_time\n\u001b[1;32m   1531\u001b[0m     \u001b[39mreturn\u001b[39;00m model\n\u001b[0;32m-> 1533\u001b[0m model, model_fit_time, model_results, _ \u001b[39m=\u001b[39m \u001b[39mself\u001b[39;49m\u001b[39m.\u001b[39;49m_create_model_with_cv(\n\u001b[1;32m   1534\u001b[0m     model\u001b[39m=\u001b[39;49mmodel,\n\u001b[1;32m   1535\u001b[0m     data_X\u001b[39m=\u001b[39;49mdata_X,\n\u001b[1;32m   1536\u001b[0m     data_y\u001b[39m=\u001b[39;49mdata_y,\n\u001b[1;32m   1537\u001b[0m     fit_kwargs\u001b[39m=\u001b[39;49mfit_kwargs,\n\u001b[1;32m   1538\u001b[0m     \u001b[39mround\u001b[39;49m\u001b[39m=\u001b[39;49m\u001b[39mround\u001b[39;49m,\n\u001b[1;32m   1539\u001b[0m     cv\u001b[39m=\u001b[39;49mcv,\n\u001b[1;32m   1540\u001b[0m     groups\u001b[39m=\u001b[39;49mgroups,\n\u001b[1;32m   1541\u001b[0m     metrics\u001b[39m=\u001b[39;49mmetrics,\n\u001b[1;32m   1542\u001b[0m     refit\u001b[39m=\u001b[39;49mrefit,\n\u001b[1;32m   1543\u001b[0m     system\u001b[39m=\u001b[39;49msystem,\n\u001b[1;32m   1544\u001b[0m     display\u001b[39m=\u001b[39;49mdisplay,\n\u001b[1;32m   1545\u001b[0m     error_score\u001b[39m=\u001b[39;49merror_score,\n\u001b[1;32m   1546\u001b[0m     return_train_score\u001b[39m=\u001b[39;49mreturn_train_score,\n\u001b[1;32m   1547\u001b[0m )\n\u001b[1;32m   1549\u001b[0m \u001b[39m# end runtime\u001b[39;00m\n\u001b[1;32m   1550\u001b[0m runtime_end \u001b[39m=\u001b[39m time\u001b[39m.\u001b[39mtime()\n",
      "File \u001b[0;32m/Library/Frameworks/Python.framework/Versions/3.11/lib/python3.11/site-packages/pycaret/internal/pycaret_experiment/supervised_experiment.py:1126\u001b[0m, in \u001b[0;36m_SupervisedExperiment._create_model_with_cv\u001b[0;34m(self, model, data_X, data_y, fit_kwargs, round, cv, groups, metrics, refit, system, display, error_score, return_train_score)\u001b[0m\n\u001b[1;32m   1124\u001b[0m     model_fit_start \u001b[39m=\u001b[39m time\u001b[39m.\u001b[39mtime()\n\u001b[1;32m   1125\u001b[0m     \u001b[39mwith\u001b[39;00m redirect_output(\u001b[39mself\u001b[39m\u001b[39m.\u001b[39mlogger):\n\u001b[0;32m-> 1126\u001b[0m         scores \u001b[39m=\u001b[39m cross_validate(\n\u001b[1;32m   1127\u001b[0m             pipeline_with_model,\n\u001b[1;32m   1128\u001b[0m             data_X,\n\u001b[1;32m   1129\u001b[0m             data_y,\n\u001b[1;32m   1130\u001b[0m             cv\u001b[39m=\u001b[39;49mcv,\n\u001b[1;32m   1131\u001b[0m             groups\u001b[39m=\u001b[39;49mgroups,\n\u001b[1;32m   1132\u001b[0m             scoring\u001b[39m=\u001b[39;49mmetrics_dict,\n\u001b[1;32m   1133\u001b[0m             params\u001b[39m=\u001b[39;49mfit_kwargs,\n\u001b[1;32m   1134\u001b[0m             n_jobs\u001b[39m=\u001b[39;49mn_jobs,\n\u001b[1;32m   1135\u001b[0m             return_train_score\u001b[39m=\u001b[39;49mreturn_train_score,\n\u001b[1;32m   1136\u001b[0m             error_score\u001b[39m=\u001b[39;49merror_score,\n\u001b[1;32m   1137\u001b[0m         )\n\u001b[1;32m   1139\u001b[0m model_fit_end \u001b[39m=\u001b[39m time\u001b[39m.\u001b[39mtime()\n\u001b[1;32m   1140\u001b[0m model_fit_time \u001b[39m=\u001b[39m np\u001b[39m.\u001b[39marray(model_fit_end \u001b[39m-\u001b[39m model_fit_start)\u001b[39m.\u001b[39mround(\u001b[39m2\u001b[39m)\n",
      "File \u001b[0;32m/Library/Frameworks/Python.framework/Versions/3.11/lib/python3.11/site-packages/sklearn/utils/_param_validation.py:213\u001b[0m, in \u001b[0;36mvalidate_params.<locals>.decorator.<locals>.wrapper\u001b[0;34m(*args, **kwargs)\u001b[0m\n\u001b[1;32m    207\u001b[0m \u001b[39mtry\u001b[39;00m:\n\u001b[1;32m    208\u001b[0m     \u001b[39mwith\u001b[39;00m config_context(\n\u001b[1;32m    209\u001b[0m         skip_parameter_validation\u001b[39m=\u001b[39m(\n\u001b[1;32m    210\u001b[0m             prefer_skip_nested_validation \u001b[39mor\u001b[39;00m global_skip_validation\n\u001b[1;32m    211\u001b[0m         )\n\u001b[1;32m    212\u001b[0m     ):\n\u001b[0;32m--> 213\u001b[0m         \u001b[39mreturn\u001b[39;00m func(\u001b[39m*\u001b[39;49margs, \u001b[39m*\u001b[39;49m\u001b[39m*\u001b[39;49mkwargs)\n\u001b[1;32m    214\u001b[0m \u001b[39mexcept\u001b[39;00m InvalidParameterError \u001b[39mas\u001b[39;00m e:\n\u001b[1;32m    215\u001b[0m     \u001b[39m# When the function is just a wrapper around an estimator, we allow\u001b[39;00m\n\u001b[1;32m    216\u001b[0m     \u001b[39m# the function to delegate validation to the estimator, but we replace\u001b[39;00m\n\u001b[1;32m    217\u001b[0m     \u001b[39m# the name of the estimator by the name of the function in the error\u001b[39;00m\n\u001b[1;32m    218\u001b[0m     \u001b[39m# message to avoid confusion.\u001b[39;00m\n\u001b[1;32m    219\u001b[0m     msg \u001b[39m=\u001b[39m re\u001b[39m.\u001b[39msub(\n\u001b[1;32m    220\u001b[0m         \u001b[39mr\u001b[39m\u001b[39m\"\u001b[39m\u001b[39mparameter of \u001b[39m\u001b[39m\\\u001b[39m\u001b[39mw+ must be\u001b[39m\u001b[39m\"\u001b[39m,\n\u001b[1;32m    221\u001b[0m         \u001b[39mf\u001b[39m\u001b[39m\"\u001b[39m\u001b[39mparameter of \u001b[39m\u001b[39m{\u001b[39;00mfunc\u001b[39m.\u001b[39m\u001b[39m__qualname__\u001b[39m\u001b[39m}\u001b[39;00m\u001b[39m must be\u001b[39m\u001b[39m\"\u001b[39m,\n\u001b[1;32m    222\u001b[0m         \u001b[39mstr\u001b[39m(e),\n\u001b[1;32m    223\u001b[0m     )\n",
      "File \u001b[0;32m/Library/Frameworks/Python.framework/Versions/3.11/lib/python3.11/site-packages/sklearn/model_selection/_validation.py:430\u001b[0m, in \u001b[0;36mcross_validate\u001b[0;34m(estimator, X, y, groups, scoring, cv, n_jobs, verbose, fit_params, params, pre_dispatch, return_train_score, return_estimator, return_indices, error_score)\u001b[0m\n\u001b[1;32m    427\u001b[0m \u001b[39m# We clone the estimator to make sure that all the folds are\u001b[39;00m\n\u001b[1;32m    428\u001b[0m \u001b[39m# independent, and that it is pickle-able.\u001b[39;00m\n\u001b[1;32m    429\u001b[0m parallel \u001b[39m=\u001b[39m Parallel(n_jobs\u001b[39m=\u001b[39mn_jobs, verbose\u001b[39m=\u001b[39mverbose, pre_dispatch\u001b[39m=\u001b[39mpre_dispatch)\n\u001b[0;32m--> 430\u001b[0m results \u001b[39m=\u001b[39m parallel(\n\u001b[1;32m    431\u001b[0m     delayed(_fit_and_score)(\n\u001b[1;32m    432\u001b[0m         clone(estimator),\n\u001b[1;32m    433\u001b[0m         X,\n\u001b[1;32m    434\u001b[0m         y,\n\u001b[1;32m    435\u001b[0m         scorer\u001b[39m=\u001b[39;49mscorers,\n\u001b[1;32m    436\u001b[0m         train\u001b[39m=\u001b[39;49mtrain,\n\u001b[1;32m    437\u001b[0m         test\u001b[39m=\u001b[39;49mtest,\n\u001b[1;32m    438\u001b[0m         verbose\u001b[39m=\u001b[39;49mverbose,\n\u001b[1;32m    439\u001b[0m         parameters\u001b[39m=\u001b[39;49m\u001b[39mNone\u001b[39;49;00m,\n\u001b[1;32m    440\u001b[0m         fit_params\u001b[39m=\u001b[39;49mrouted_params\u001b[39m.\u001b[39;49mestimator\u001b[39m.\u001b[39;49mfit,\n\u001b[1;32m    441\u001b[0m         score_params\u001b[39m=\u001b[39;49mrouted_params\u001b[39m.\u001b[39;49mscorer\u001b[39m.\u001b[39;49mscore,\n\u001b[1;32m    442\u001b[0m         return_train_score\u001b[39m=\u001b[39;49mreturn_train_score,\n\u001b[1;32m    443\u001b[0m         return_times\u001b[39m=\u001b[39;49m\u001b[39mTrue\u001b[39;49;00m,\n\u001b[1;32m    444\u001b[0m         return_estimator\u001b[39m=\u001b[39;49mreturn_estimator,\n\u001b[1;32m    445\u001b[0m         error_score\u001b[39m=\u001b[39;49merror_score,\n\u001b[1;32m    446\u001b[0m     )\n\u001b[1;32m    447\u001b[0m     \u001b[39mfor\u001b[39;49;00m train, test \u001b[39min\u001b[39;49;00m indices\n\u001b[1;32m    448\u001b[0m )\n\u001b[1;32m    450\u001b[0m _warn_or_raise_about_fit_failures(results, error_score)\n\u001b[1;32m    452\u001b[0m \u001b[39m# For callable scoring, the return type is only know after calling. If the\u001b[39;00m\n\u001b[1;32m    453\u001b[0m \u001b[39m# return type is a dictionary, the error scores can now be inserted with\u001b[39;00m\n\u001b[1;32m    454\u001b[0m \u001b[39m# the correct key.\u001b[39;00m\n",
      "File \u001b[0;32m/Library/Frameworks/Python.framework/Versions/3.11/lib/python3.11/site-packages/sklearn/utils/parallel.py:67\u001b[0m, in \u001b[0;36mParallel.__call__\u001b[0;34m(self, iterable)\u001b[0m\n\u001b[1;32m     62\u001b[0m config \u001b[39m=\u001b[39m get_config()\n\u001b[1;32m     63\u001b[0m iterable_with_config \u001b[39m=\u001b[39m (\n\u001b[1;32m     64\u001b[0m     (_with_config(delayed_func, config), args, kwargs)\n\u001b[1;32m     65\u001b[0m     \u001b[39mfor\u001b[39;00m delayed_func, args, kwargs \u001b[39min\u001b[39;00m iterable\n\u001b[1;32m     66\u001b[0m )\n\u001b[0;32m---> 67\u001b[0m \u001b[39mreturn\u001b[39;00m \u001b[39msuper\u001b[39;49m()\u001b[39m.\u001b[39;49m\u001b[39m__call__\u001b[39;49m(iterable_with_config)\n",
      "File \u001b[0;32m/Library/Frameworks/Python.framework/Versions/3.11/lib/python3.11/site-packages/joblib/parallel.py:1863\u001b[0m, in \u001b[0;36mParallel.__call__\u001b[0;34m(self, iterable)\u001b[0m\n\u001b[1;32m   1861\u001b[0m     output \u001b[39m=\u001b[39m \u001b[39mself\u001b[39m\u001b[39m.\u001b[39m_get_sequential_output(iterable)\n\u001b[1;32m   1862\u001b[0m     \u001b[39mnext\u001b[39m(output)\n\u001b[0;32m-> 1863\u001b[0m     \u001b[39mreturn\u001b[39;00m output \u001b[39mif\u001b[39;00m \u001b[39mself\u001b[39m\u001b[39m.\u001b[39mreturn_generator \u001b[39melse\u001b[39;00m \u001b[39mlist\u001b[39m(output)\n\u001b[1;32m   1865\u001b[0m \u001b[39m# Let's create an ID that uniquely identifies the current call. If the\u001b[39;00m\n\u001b[1;32m   1866\u001b[0m \u001b[39m# call is interrupted early and that the same instance is immediately\u001b[39;00m\n\u001b[1;32m   1867\u001b[0m \u001b[39m# re-used, this id will be used to prevent workers that were\u001b[39;00m\n\u001b[1;32m   1868\u001b[0m \u001b[39m# concurrently finalizing a task from the previous call to run the\u001b[39;00m\n\u001b[1;32m   1869\u001b[0m \u001b[39m# callback.\u001b[39;00m\n\u001b[1;32m   1870\u001b[0m \u001b[39mwith\u001b[39;00m \u001b[39mself\u001b[39m\u001b[39m.\u001b[39m_lock:\n",
      "File \u001b[0;32m/Library/Frameworks/Python.framework/Versions/3.11/lib/python3.11/site-packages/joblib/parallel.py:1792\u001b[0m, in \u001b[0;36mParallel._get_sequential_output\u001b[0;34m(self, iterable)\u001b[0m\n\u001b[1;32m   1790\u001b[0m \u001b[39mself\u001b[39m\u001b[39m.\u001b[39mn_dispatched_batches \u001b[39m+\u001b[39m\u001b[39m=\u001b[39m \u001b[39m1\u001b[39m\n\u001b[1;32m   1791\u001b[0m \u001b[39mself\u001b[39m\u001b[39m.\u001b[39mn_dispatched_tasks \u001b[39m+\u001b[39m\u001b[39m=\u001b[39m \u001b[39m1\u001b[39m\n\u001b[0;32m-> 1792\u001b[0m res \u001b[39m=\u001b[39m func(\u001b[39m*\u001b[39;49margs, \u001b[39m*\u001b[39;49m\u001b[39m*\u001b[39;49mkwargs)\n\u001b[1;32m   1793\u001b[0m \u001b[39mself\u001b[39m\u001b[39m.\u001b[39mn_completed_tasks \u001b[39m+\u001b[39m\u001b[39m=\u001b[39m \u001b[39m1\u001b[39m\n\u001b[1;32m   1794\u001b[0m \u001b[39mself\u001b[39m\u001b[39m.\u001b[39mprint_progress()\n",
      "File \u001b[0;32m/Library/Frameworks/Python.framework/Versions/3.11/lib/python3.11/site-packages/sklearn/utils/parallel.py:129\u001b[0m, in \u001b[0;36m_FuncWrapper.__call__\u001b[0;34m(self, *args, **kwargs)\u001b[0m\n\u001b[1;32m    127\u001b[0m     config \u001b[39m=\u001b[39m {}\n\u001b[1;32m    128\u001b[0m \u001b[39mwith\u001b[39;00m config_context(\u001b[39m*\u001b[39m\u001b[39m*\u001b[39mconfig):\n\u001b[0;32m--> 129\u001b[0m     \u001b[39mreturn\u001b[39;00m \u001b[39mself\u001b[39;49m\u001b[39m.\u001b[39;49mfunction(\u001b[39m*\u001b[39;49margs, \u001b[39m*\u001b[39;49m\u001b[39m*\u001b[39;49mkwargs)\n",
      "File \u001b[0;32m/Library/Frameworks/Python.framework/Versions/3.11/lib/python3.11/site-packages/pycaret/internal/patches/sklearn.py:140\u001b[0m, in \u001b[0;36mfit_and_score\u001b[0;34m(*args, **kwargs)\u001b[0m\n\u001b[1;32m    134\u001b[0m     \u001b[39mwith\u001b[39;00m patch(\n\u001b[1;32m    135\u001b[0m         \u001b[39m\"\u001b[39m\u001b[39msklearn.model_selection._validation._MultimetricScorer\u001b[39m\u001b[39m\"\u001b[39m,\n\u001b[1;32m    136\u001b[0m         MultimetricScorerPatched,\n\u001b[1;32m    137\u001b[0m     ), patch(\u001b[39m\"\u001b[39m\u001b[39msklearn.model_selection._validation._score\u001b[39m\u001b[39m\"\u001b[39m, score(_score)):\n\u001b[1;32m    138\u001b[0m         \u001b[39mreturn\u001b[39;00m _fit_and_score(\u001b[39m*\u001b[39margs, \u001b[39m*\u001b[39m\u001b[39m*\u001b[39mkwargs)\n\u001b[0;32m--> 140\u001b[0m \u001b[39mreturn\u001b[39;00m wrapper(\u001b[39m*\u001b[39;49margs, \u001b[39m*\u001b[39;49m\u001b[39m*\u001b[39;49mkwargs)\n",
      "File \u001b[0;32m/Library/Frameworks/Python.framework/Versions/3.11/lib/python3.11/site-packages/pycaret/internal/patches/sklearn.py:138\u001b[0m, in \u001b[0;36mfit_and_score.<locals>.wrapper\u001b[0;34m(*args, **kwargs)\u001b[0m\n\u001b[1;32m    133\u001b[0m \u001b[39mdef\u001b[39;00m \u001b[39mwrapper\u001b[39m(\u001b[39m*\u001b[39margs, \u001b[39m*\u001b[39m\u001b[39m*\u001b[39mkwargs) \u001b[39m-\u001b[39m\u001b[39m>\u001b[39m \u001b[39mdict\u001b[39m:\n\u001b[1;32m    134\u001b[0m     \u001b[39mwith\u001b[39;00m patch(\n\u001b[1;32m    135\u001b[0m         \u001b[39m\"\u001b[39m\u001b[39msklearn.model_selection._validation._MultimetricScorer\u001b[39m\u001b[39m\"\u001b[39m,\n\u001b[1;32m    136\u001b[0m         MultimetricScorerPatched,\n\u001b[1;32m    137\u001b[0m     ), patch(\u001b[39m\"\u001b[39m\u001b[39msklearn.model_selection._validation._score\u001b[39m\u001b[39m\"\u001b[39m, score(_score)):\n\u001b[0;32m--> 138\u001b[0m         \u001b[39mreturn\u001b[39;00m _fit_and_score(\u001b[39m*\u001b[39;49margs, \u001b[39m*\u001b[39;49m\u001b[39m*\u001b[39;49mkwargs)\n",
      "File \u001b[0;32m/Library/Frameworks/Python.framework/Versions/3.11/lib/python3.11/site-packages/sklearn/model_selection/_validation.py:895\u001b[0m, in \u001b[0;36m_fit_and_score\u001b[0;34m(estimator, X, y, scorer, train, test, verbose, parameters, fit_params, score_params, return_train_score, return_parameters, return_n_test_samples, return_times, return_estimator, split_progress, candidate_progress, error_score)\u001b[0m\n\u001b[1;32m    893\u001b[0m         estimator\u001b[39m.\u001b[39mfit(X_train, \u001b[39m*\u001b[39m\u001b[39m*\u001b[39mfit_params)\n\u001b[1;32m    894\u001b[0m     \u001b[39melse\u001b[39;00m:\n\u001b[0;32m--> 895\u001b[0m         estimator\u001b[39m.\u001b[39;49mfit(X_train, y_train, \u001b[39m*\u001b[39;49m\u001b[39m*\u001b[39;49mfit_params)\n\u001b[1;32m    897\u001b[0m \u001b[39mexcept\u001b[39;00m \u001b[39mException\u001b[39;00m:\n\u001b[1;32m    898\u001b[0m     \u001b[39m# Note fit time as time until error\u001b[39;00m\n\u001b[1;32m    899\u001b[0m     fit_time \u001b[39m=\u001b[39m time\u001b[39m.\u001b[39mtime() \u001b[39m-\u001b[39m start_time\n",
      "File \u001b[0;32m/Library/Frameworks/Python.framework/Versions/3.11/lib/python3.11/site-packages/pycaret/internal/pipeline.py:276\u001b[0m, in \u001b[0;36mPipeline.fit\u001b[0;34m(self, X, y, **params)\u001b[0m\n\u001b[1;32m    274\u001b[0m \u001b[39mif\u001b[39;00m \u001b[39mself\u001b[39m\u001b[39m.\u001b[39m_final_estimator \u001b[39m!=\u001b[39m \u001b[39m\"\u001b[39m\u001b[39mpassthrough\u001b[39m\u001b[39m\"\u001b[39m:\n\u001b[1;32m    275\u001b[0m     last_step_params \u001b[39m=\u001b[39m routed_params[\u001b[39mself\u001b[39m\u001b[39m.\u001b[39msteps[\u001b[39m-\u001b[39m\u001b[39m1\u001b[39m][\u001b[39m0\u001b[39m]]\n\u001b[0;32m--> 276\u001b[0m     fitted_estimator \u001b[39m=\u001b[39m \u001b[39mself\u001b[39;49m\u001b[39m.\u001b[39;49m_memory_fit(\n\u001b[1;32m    277\u001b[0m         clone(\u001b[39mself\u001b[39;49m\u001b[39m.\u001b[39;49msteps[\u001b[39m-\u001b[39;49m\u001b[39m1\u001b[39;49m][\u001b[39m1\u001b[39;49m]), X, y, \u001b[39m*\u001b[39;49m\u001b[39m*\u001b[39;49mlast_step_params[\u001b[39m\"\u001b[39;49m\u001b[39mfit\u001b[39;49m\u001b[39m\"\u001b[39;49m]\n\u001b[1;32m    278\u001b[0m     )\n\u001b[1;32m    279\u001b[0m     \u001b[39m# Hacky way to make sure that the state of the estimator\u001b[39;00m\n\u001b[1;32m    280\u001b[0m     \u001b[39m# loaded from cache is carried over to the estimator\u001b[39;00m\n\u001b[1;32m    281\u001b[0m     \u001b[39m# in steps\u001b[39;00m\n\u001b[1;32m    282\u001b[0m     _copy_estimator_state(fitted_estimator, \u001b[39mself\u001b[39m\u001b[39m.\u001b[39msteps[\u001b[39m-\u001b[39m\u001b[39m1\u001b[39m][\u001b[39m1\u001b[39m])\n",
      "File \u001b[0;32m/Library/Frameworks/Python.framework/Versions/3.11/lib/python3.11/site-packages/joblib/memory.py:353\u001b[0m, in \u001b[0;36mNotMemorizedFunc.__call__\u001b[0;34m(self, *args, **kwargs)\u001b[0m\n\u001b[1;32m    352\u001b[0m \u001b[39mdef\u001b[39;00m \u001b[39m__call__\u001b[39m(\u001b[39mself\u001b[39m, \u001b[39m*\u001b[39margs, \u001b[39m*\u001b[39m\u001b[39m*\u001b[39mkwargs):\n\u001b[0;32m--> 353\u001b[0m     \u001b[39mreturn\u001b[39;00m \u001b[39mself\u001b[39;49m\u001b[39m.\u001b[39;49mfunc(\u001b[39m*\u001b[39;49margs, \u001b[39m*\u001b[39;49m\u001b[39m*\u001b[39;49mkwargs)\n",
      "File \u001b[0;32m/Library/Frameworks/Python.framework/Versions/3.11/lib/python3.11/site-packages/pycaret/internal/pipeline.py:69\u001b[0m, in \u001b[0;36m_fit_one\u001b[0;34m(transformer, X, y, message, params)\u001b[0m\n\u001b[1;32m     67\u001b[0m         \u001b[39mif\u001b[39;00m \u001b[39m\"\u001b[39m\u001b[39my\u001b[39m\u001b[39m\"\u001b[39m \u001b[39min\u001b[39;00m signature(transformer\u001b[39m.\u001b[39mfit)\u001b[39m.\u001b[39mparameters:\n\u001b[1;32m     68\u001b[0m             args\u001b[39m.\u001b[39mappend(y)\n\u001b[0;32m---> 69\u001b[0m         transformer\u001b[39m.\u001b[39;49mfit(\u001b[39m*\u001b[39;49margs)\n\u001b[1;32m     70\u001b[0m \u001b[39mreturn\u001b[39;00m transformer\n",
      "File \u001b[0;32m/Library/Frameworks/Python.framework/Versions/3.11/lib/python3.11/site-packages/sklearn/base.py:1474\u001b[0m, in \u001b[0;36m_fit_context.<locals>.decorator.<locals>.wrapper\u001b[0;34m(estimator, *args, **kwargs)\u001b[0m\n\u001b[1;32m   1467\u001b[0m     estimator\u001b[39m.\u001b[39m_validate_params()\n\u001b[1;32m   1469\u001b[0m \u001b[39mwith\u001b[39;00m config_context(\n\u001b[1;32m   1470\u001b[0m     skip_parameter_validation\u001b[39m=\u001b[39m(\n\u001b[1;32m   1471\u001b[0m         prefer_skip_nested_validation \u001b[39mor\u001b[39;00m global_skip_validation\n\u001b[1;32m   1472\u001b[0m     )\n\u001b[1;32m   1473\u001b[0m ):\n\u001b[0;32m-> 1474\u001b[0m     \u001b[39mreturn\u001b[39;00m fit_method(estimator, \u001b[39m*\u001b[39;49margs, \u001b[39m*\u001b[39;49m\u001b[39m*\u001b[39;49mkwargs)\n",
      "File \u001b[0;32m/Library/Frameworks/Python.framework/Versions/3.11/lib/python3.11/site-packages/sklearn/ensemble/_forest.py:489\u001b[0m, in \u001b[0;36mBaseForest.fit\u001b[0;34m(self, X, y, sample_weight)\u001b[0m\n\u001b[1;32m    478\u001b[0m trees \u001b[39m=\u001b[39m [\n\u001b[1;32m    479\u001b[0m     \u001b[39mself\u001b[39m\u001b[39m.\u001b[39m_make_estimator(append\u001b[39m=\u001b[39m\u001b[39mFalse\u001b[39;00m, random_state\u001b[39m=\u001b[39mrandom_state)\n\u001b[1;32m    480\u001b[0m     \u001b[39mfor\u001b[39;00m i \u001b[39min\u001b[39;00m \u001b[39mrange\u001b[39m(n_more_estimators)\n\u001b[1;32m    481\u001b[0m ]\n\u001b[1;32m    483\u001b[0m \u001b[39m# Parallel loop: we prefer the threading backend as the Cython code\u001b[39;00m\n\u001b[1;32m    484\u001b[0m \u001b[39m# for fitting the trees is internally releasing the Python GIL\u001b[39;00m\n\u001b[1;32m    485\u001b[0m \u001b[39m# making threading more efficient than multiprocessing in\u001b[39;00m\n\u001b[1;32m    486\u001b[0m \u001b[39m# that case. However, for joblib 0.12+ we respect any\u001b[39;00m\n\u001b[1;32m    487\u001b[0m \u001b[39m# parallel_backend contexts set at a higher level,\u001b[39;00m\n\u001b[1;32m    488\u001b[0m \u001b[39m# since correctness does not rely on using threads.\u001b[39;00m\n\u001b[0;32m--> 489\u001b[0m trees \u001b[39m=\u001b[39m Parallel(\n\u001b[1;32m    490\u001b[0m     n_jobs\u001b[39m=\u001b[39;49m\u001b[39mself\u001b[39;49m\u001b[39m.\u001b[39;49mn_jobs,\n\u001b[1;32m    491\u001b[0m     verbose\u001b[39m=\u001b[39;49m\u001b[39mself\u001b[39;49m\u001b[39m.\u001b[39;49mverbose,\n\u001b[1;32m    492\u001b[0m     prefer\u001b[39m=\u001b[39;49m\u001b[39m\"\u001b[39;49m\u001b[39mthreads\u001b[39;49m\u001b[39m\"\u001b[39;49m,\n\u001b[1;32m    493\u001b[0m )(\n\u001b[1;32m    494\u001b[0m     delayed(_parallel_build_trees)(\n\u001b[1;32m    495\u001b[0m         t,\n\u001b[1;32m    496\u001b[0m         \u001b[39mself\u001b[39;49m\u001b[39m.\u001b[39;49mbootstrap,\n\u001b[1;32m    497\u001b[0m         X,\n\u001b[1;32m    498\u001b[0m         y,\n\u001b[1;32m    499\u001b[0m         sample_weight,\n\u001b[1;32m    500\u001b[0m         i,\n\u001b[1;32m    501\u001b[0m         \u001b[39mlen\u001b[39;49m(trees),\n\u001b[1;32m    502\u001b[0m         verbose\u001b[39m=\u001b[39;49m\u001b[39mself\u001b[39;49m\u001b[39m.\u001b[39;49mverbose,\n\u001b[1;32m    503\u001b[0m         class_weight\u001b[39m=\u001b[39;49m\u001b[39mself\u001b[39;49m\u001b[39m.\u001b[39;49mclass_weight,\n\u001b[1;32m    504\u001b[0m         n_samples_bootstrap\u001b[39m=\u001b[39;49mn_samples_bootstrap,\n\u001b[1;32m    505\u001b[0m         missing_values_in_feature_mask\u001b[39m=\u001b[39;49mmissing_values_in_feature_mask,\n\u001b[1;32m    506\u001b[0m     )\n\u001b[1;32m    507\u001b[0m     \u001b[39mfor\u001b[39;49;00m i, t \u001b[39min\u001b[39;49;00m \u001b[39menumerate\u001b[39;49m(trees)\n\u001b[1;32m    508\u001b[0m )\n\u001b[1;32m    510\u001b[0m \u001b[39m# Collect newly grown trees\u001b[39;00m\n\u001b[1;32m    511\u001b[0m \u001b[39mself\u001b[39m\u001b[39m.\u001b[39mestimators_\u001b[39m.\u001b[39mextend(trees)\n",
      "File \u001b[0;32m/Library/Frameworks/Python.framework/Versions/3.11/lib/python3.11/site-packages/sklearn/utils/parallel.py:67\u001b[0m, in \u001b[0;36mParallel.__call__\u001b[0;34m(self, iterable)\u001b[0m\n\u001b[1;32m     62\u001b[0m config \u001b[39m=\u001b[39m get_config()\n\u001b[1;32m     63\u001b[0m iterable_with_config \u001b[39m=\u001b[39m (\n\u001b[1;32m     64\u001b[0m     (_with_config(delayed_func, config), args, kwargs)\n\u001b[1;32m     65\u001b[0m     \u001b[39mfor\u001b[39;00m delayed_func, args, kwargs \u001b[39min\u001b[39;00m iterable\n\u001b[1;32m     66\u001b[0m )\n\u001b[0;32m---> 67\u001b[0m \u001b[39mreturn\u001b[39;00m \u001b[39msuper\u001b[39;49m()\u001b[39m.\u001b[39;49m\u001b[39m__call__\u001b[39;49m(iterable_with_config)\n",
      "File \u001b[0;32m/Library/Frameworks/Python.framework/Versions/3.11/lib/python3.11/site-packages/joblib/parallel.py:1952\u001b[0m, in \u001b[0;36mParallel.__call__\u001b[0;34m(self, iterable)\u001b[0m\n\u001b[1;32m   1946\u001b[0m \u001b[39m# The first item from the output is blank, but it makes the interpreter\u001b[39;00m\n\u001b[1;32m   1947\u001b[0m \u001b[39m# progress until it enters the Try/Except block of the generator and\u001b[39;00m\n\u001b[1;32m   1948\u001b[0m \u001b[39m# reach the first `yield` statement. This starts the aynchronous\u001b[39;00m\n\u001b[1;32m   1949\u001b[0m \u001b[39m# dispatch of the tasks to the workers.\u001b[39;00m\n\u001b[1;32m   1950\u001b[0m \u001b[39mnext\u001b[39m(output)\n\u001b[0;32m-> 1952\u001b[0m \u001b[39mreturn\u001b[39;00m output \u001b[39mif\u001b[39;00m \u001b[39mself\u001b[39m\u001b[39m.\u001b[39mreturn_generator \u001b[39melse\u001b[39;00m \u001b[39mlist\u001b[39m(output)\n",
      "File \u001b[0;32m/Library/Frameworks/Python.framework/Versions/3.11/lib/python3.11/site-packages/joblib/parallel.py:1595\u001b[0m, in \u001b[0;36mParallel._get_outputs\u001b[0;34m(self, iterator, pre_dispatch)\u001b[0m\n\u001b[1;32m   1592\u001b[0m     \u001b[39myield\u001b[39;00m\n\u001b[1;32m   1594\u001b[0m     \u001b[39mwith\u001b[39;00m \u001b[39mself\u001b[39m\u001b[39m.\u001b[39m_backend\u001b[39m.\u001b[39mretrieval_context():\n\u001b[0;32m-> 1595\u001b[0m         \u001b[39myield from\u001b[39;00m \u001b[39mself\u001b[39m\u001b[39m.\u001b[39m_retrieve()\n\u001b[1;32m   1597\u001b[0m \u001b[39mexcept\u001b[39;00m \u001b[39mGeneratorExit\u001b[39;00m:\n\u001b[1;32m   1598\u001b[0m     \u001b[39m# The generator has been garbage collected before being fully\u001b[39;00m\n\u001b[1;32m   1599\u001b[0m     \u001b[39m# consumed. This aborts the remaining tasks if possible and warn\u001b[39;00m\n\u001b[1;32m   1600\u001b[0m     \u001b[39m# the user if necessary.\u001b[39;00m\n\u001b[1;32m   1601\u001b[0m     \u001b[39mself\u001b[39m\u001b[39m.\u001b[39m_exception \u001b[39m=\u001b[39m \u001b[39mTrue\u001b[39;00m\n",
      "File \u001b[0;32m/Library/Frameworks/Python.framework/Versions/3.11/lib/python3.11/site-packages/joblib/parallel.py:1707\u001b[0m, in \u001b[0;36mParallel._retrieve\u001b[0;34m(self)\u001b[0m\n\u001b[1;32m   1702\u001b[0m \u001b[39m# If the next job is not ready for retrieval yet, we just wait for\u001b[39;00m\n\u001b[1;32m   1703\u001b[0m \u001b[39m# async callbacks to progress.\u001b[39;00m\n\u001b[1;32m   1704\u001b[0m \u001b[39mif\u001b[39;00m ((\u001b[39mlen\u001b[39m(\u001b[39mself\u001b[39m\u001b[39m.\u001b[39m_jobs) \u001b[39m==\u001b[39m \u001b[39m0\u001b[39m) \u001b[39mor\u001b[39;00m\n\u001b[1;32m   1705\u001b[0m     (\u001b[39mself\u001b[39m\u001b[39m.\u001b[39m_jobs[\u001b[39m0\u001b[39m]\u001b[39m.\u001b[39mget_status(\n\u001b[1;32m   1706\u001b[0m         timeout\u001b[39m=\u001b[39m\u001b[39mself\u001b[39m\u001b[39m.\u001b[39mtimeout) \u001b[39m==\u001b[39m TASK_PENDING)):\n\u001b[0;32m-> 1707\u001b[0m     time\u001b[39m.\u001b[39msleep(\u001b[39m0.01\u001b[39m)\n\u001b[1;32m   1708\u001b[0m     \u001b[39mcontinue\u001b[39;00m\n\u001b[1;32m   1710\u001b[0m \u001b[39m# We need to be careful: the job list can be filling up as\u001b[39;00m\n\u001b[1;32m   1711\u001b[0m \u001b[39m# we empty it and Python list are not thread-safe by\u001b[39;00m\n\u001b[1;32m   1712\u001b[0m \u001b[39m# default hence the use of the lock\u001b[39;00m\n",
      "\u001b[0;31mKeyboardInterrupt\u001b[0m: "
     ]
    }
   ],
   "source": [
    "best = compare_models()"
   ]
  },
  {
   "cell_type": "code",
   "execution_count": null,
   "metadata": {},
   "outputs": [],
   "source": [
    "koch.head(10000).to_csv('koch.csv')"
   ]
  },
  {
   "cell_type": "code",
   "execution_count": null,
   "metadata": {},
   "outputs": [
    {
     "data": {
      "text/html": [
       "<div>\n",
       "<style scoped>\n",
       "    .dataframe tbody tr th:only-of-type {\n",
       "        vertical-align: middle;\n",
       "    }\n",
       "\n",
       "    .dataframe tbody tr th {\n",
       "        vertical-align: top;\n",
       "    }\n",
       "\n",
       "    .dataframe thead th {\n",
       "        text-align: right;\n",
       "    }\n",
       "</style>\n",
       "<table border=\"1\" class=\"dataframe\">\n",
       "  <thead>\n",
       "    <tr style=\"text-align: right;\">\n",
       "      <th></th>\n",
       "      <th>D_day_of_week</th>\n",
       "      <th>quarter</th>\n",
       "      <th>month</th>\n",
       "      <th>day_of_week</th>\n",
       "      <th>Ranking</th>\n",
       "      <th>Category_total_counts</th>\n",
       "      <th>PLANNED_DELIVERY_DAYS</th>\n",
       "      <th>INBOUND_DELIVERY_ITEM_ID</th>\n",
       "      <th>PLANT_ID</th>\n",
       "      <th>SUB_COMMODITY_DESC</th>\n",
       "      <th>COMPANY_CODE_ID</th>\n",
       "      <th>Time_Difference</th>\n",
       "      <th>REQUESTED_DELIVERY_DATE_year</th>\n",
       "      <th>REQUESTED_DELIVERY_DATE_month</th>\n",
       "      <th>REQUESTED_DELIVERY_DATE_day</th>\n",
       "      <th>CREATE_DATE_year</th>\n",
       "      <th>CREATE_DATE_month</th>\n",
       "      <th>CREATE_DATE_day</th>\n",
       "    </tr>\n",
       "  </thead>\n",
       "  <tbody>\n",
       "    <tr>\n",
       "      <th>0</th>\n",
       "      <td>5.0</td>\n",
       "      <td>3</td>\n",
       "      <td>7</td>\n",
       "      <td>1</td>\n",
       "      <td>10.0</td>\n",
       "      <td>38309.0</td>\n",
       "      <td>0</td>\n",
       "      <td>0.0</td>\n",
       "      <td>4036.0</td>\n",
       "      <td>29</td>\n",
       "      <td>0</td>\n",
       "      <td>6.0</td>\n",
       "      <td>2021.0</td>\n",
       "      <td>8.0</td>\n",
       "      <td>6.0</td>\n",
       "      <td>2021</td>\n",
       "      <td>7</td>\n",
       "      <td>26</td>\n",
       "    </tr>\n",
       "    <tr>\n",
       "      <th>1</th>\n",
       "      <td>5.0</td>\n",
       "      <td>3</td>\n",
       "      <td>7</td>\n",
       "      <td>1</td>\n",
       "      <td>2.0</td>\n",
       "      <td>106973.0</td>\n",
       "      <td>154</td>\n",
       "      <td>10.0</td>\n",
       "      <td>4016.0</td>\n",
       "      <td>12</td>\n",
       "      <td>20</td>\n",
       "      <td>4.0</td>\n",
       "      <td>2021.0</td>\n",
       "      <td>9.0</td>\n",
       "      <td>10.0</td>\n",
       "      <td>2021</td>\n",
       "      <td>7</td>\n",
       "      <td>26</td>\n",
       "    </tr>\n",
       "    <tr>\n",
       "      <th>3</th>\n",
       "      <td>5.0</td>\n",
       "      <td>3</td>\n",
       "      <td>7</td>\n",
       "      <td>1</td>\n",
       "      <td>5.0</td>\n",
       "      <td>77387.0</td>\n",
       "      <td>0</td>\n",
       "      <td>0.0</td>\n",
       "      <td>4036.0</td>\n",
       "      <td>41</td>\n",
       "      <td>0</td>\n",
       "      <td>-24.0</td>\n",
       "      <td>2021.0</td>\n",
       "      <td>8.0</td>\n",
       "      <td>27.0</td>\n",
       "      <td>2021</td>\n",
       "      <td>7</td>\n",
       "      <td>26</td>\n",
       "    </tr>\n",
       "    <tr>\n",
       "      <th>4</th>\n",
       "      <td>4.0</td>\n",
       "      <td>3</td>\n",
       "      <td>7</td>\n",
       "      <td>1</td>\n",
       "      <td>7.0</td>\n",
       "      <td>57662.0</td>\n",
       "      <td>0</td>\n",
       "      <td>0.0</td>\n",
       "      <td>4036.0</td>\n",
       "      <td>35</td>\n",
       "      <td>0</td>\n",
       "      <td>-6.0</td>\n",
       "      <td>2021.0</td>\n",
       "      <td>8.0</td>\n",
       "      <td>5.0</td>\n",
       "      <td>2021</td>\n",
       "      <td>7</td>\n",
       "      <td>26</td>\n",
       "    </tr>\n",
       "    <tr>\n",
       "      <th>5</th>\n",
       "      <td>2.0</td>\n",
       "      <td>3</td>\n",
       "      <td>7</td>\n",
       "      <td>1</td>\n",
       "      <td>3.0</td>\n",
       "      <td>96024.0</td>\n",
       "      <td>0</td>\n",
       "      <td>10.0</td>\n",
       "      <td>4007.0</td>\n",
       "      <td>62</td>\n",
       "      <td>0</td>\n",
       "      <td>7.0</td>\n",
       "      <td>2021.0</td>\n",
       "      <td>7.0</td>\n",
       "      <td>27.0</td>\n",
       "      <td>2021</td>\n",
       "      <td>7</td>\n",
       "      <td>26</td>\n",
       "    </tr>\n",
       "  </tbody>\n",
       "</table>\n",
       "</div>"
      ],
      "text/plain": [
       "   D_day_of_week  quarter  month  day_of_week  Ranking  Category_total_counts  \\\n",
       "0            5.0        3      7            1     10.0                38309.0   \n",
       "1            5.0        3      7            1      2.0               106973.0   \n",
       "3            5.0        3      7            1      5.0                77387.0   \n",
       "4            4.0        3      7            1      7.0                57662.0   \n",
       "5            2.0        3      7            1      3.0                96024.0   \n",
       "\n",
       "   PLANNED_DELIVERY_DAYS  INBOUND_DELIVERY_ITEM_ID  PLANT_ID  \\\n",
       "0                      0                       0.0    4036.0   \n",
       "1                    154                      10.0    4016.0   \n",
       "3                      0                       0.0    4036.0   \n",
       "4                      0                       0.0    4036.0   \n",
       "5                      0                      10.0    4007.0   \n",
       "\n",
       "   SUB_COMMODITY_DESC  COMPANY_CODE_ID  Time_Difference  \\\n",
       "0                  29                0              6.0   \n",
       "1                  12               20              4.0   \n",
       "3                  41                0            -24.0   \n",
       "4                  35                0             -6.0   \n",
       "5                  62                0              7.0   \n",
       "\n",
       "   REQUESTED_DELIVERY_DATE_year  REQUESTED_DELIVERY_DATE_month  \\\n",
       "0                        2021.0                            8.0   \n",
       "1                        2021.0                            9.0   \n",
       "3                        2021.0                            8.0   \n",
       "4                        2021.0                            8.0   \n",
       "5                        2021.0                            7.0   \n",
       "\n",
       "   REQUESTED_DELIVERY_DATE_day  CREATE_DATE_year  CREATE_DATE_month  \\\n",
       "0                          6.0              2021                  7   \n",
       "1                         10.0              2021                  7   \n",
       "3                         27.0              2021                  7   \n",
       "4                          5.0              2021                  7   \n",
       "5                         27.0              2021                  7   \n",
       "\n",
       "   CREATE_DATE_day  \n",
       "0               26  \n",
       "1               26  \n",
       "3               26  \n",
       "4               26  \n",
       "5               26  "
      ]
     },
     "execution_count": 82,
     "metadata": {},
     "output_type": "execute_result"
    }
   ],
   "source": [
    "koch.head()"
   ]
  },
  {
   "cell_type": "code",
   "execution_count": null,
   "metadata": {},
   "outputs": [],
   "source": [
    "import pandas as pd\n",
    "from sklearn.model_selection import train_test_split\n",
    "from sklearn.preprocessing import StandardScaler, OneHotEncoder\n",
    "from sklearn.compose import ColumnTransformer\n",
    "from sklearn.pipeline import Pipeline\n",
    "\n",
    "# Drop rows with missing values (or you can impute them as well)\n",
    "df = koch.dropna()\n",
    "\n",
    "# Assuming 'SHORT_TEXT', 'REQUESTED_DELIVERY_DATE', 'COMPANY_CODE_ID', 'CREATE_DATE', and 'SUB_COMMODITY_DESC' are categorical\n",
    "categorical_features = ['SHORT_TEXT', 'REQUESTED_DELIVERY_DATE', 'COMPANY_CODE_ID', 'CREATE_DATE', 'SUB_COMMODITY_DESC']\n",
    "numerical_features = df.select_dtypes(include=['int64', 'float64']).columns.drop(['Time_Difference']).tolist()\n",
    "\n",
    "# Define preprocessing for numerical and categorical data\n",
    "preprocessor = ColumnTransformer(\n",
    "    transformers=[\n",
    "        ('num', StandardScaler(), numerical_features),\n",
    "        ('cat', OneHotEncoder(handle_unknown='ignore'), categorical_features)\n",
    "    ])\n",
    "\n",
    "# Split the dataset into features and target variable\n",
    "X = df.drop(['Time_Difference'], axis=1)\n",
    "y = df['Time_Difference']\n",
    "\n",
    "# Split data into training and test sets\n",
    "X_train, X_test, y_train, y_test = train_test_split(X, y, test_size=0.2, random_state=42)\n"
   ]
  },
  {
   "cell_type": "code",
   "execution_count": null,
   "metadata": {},
   "outputs": [],
   "source": [
    "import tensorflow as tf\n",
    "\n",
    "\n",
    "def build_model(input_shape):\n",
    "    model = tf.keras.Sequential([\n",
    "        tf.keras.layers.Dense(64, activation='relu', input_shape=[input_shape]),\n",
    "        tf.keras.layers.Dense(64, activation='relu'),\n",
    "        tf.keras.layers.Dense(1)\n",
    "    ])\n",
    "\n",
    "    model.compile(optimizer='adam',\n",
    "                  loss='mean_squared_error',\n",
    "                  metrics=['mean_absolute_error', 'mean_squared_error'])\n",
    "    return model\n"
   ]
  },
  {
   "cell_type": "code",
   "execution_count": null,
   "metadata": {},
   "outputs": [
    {
     "ename": "ValueError",
     "evalue": "Failed to convert a NumPy array to a Tensor (Unsupported object type float).",
     "output_type": "error",
     "traceback": [
      "\u001b[0;31m---------------------------------------------------------------------------\u001b[0m",
      "\u001b[0;31mValueError\u001b[0m                                Traceback (most recent call last)",
      "\u001b[1;32m/Users/addisonjpratt/sfguide-intro-to-machine-learning-with-snowpark-ml-for-python/database.ipynb Cell 61\u001b[0m line \u001b[0;36m4\n\u001b[1;32m      <a href='vscode-notebook-cell:/Users/addisonjpratt/sfguide-intro-to-machine-learning-with-snowpark-ml-for-python/database.ipynb#Y142sZmlsZQ%3D%3D?line=0'>1</a>\u001b[0m \u001b[39m# Assuming X and y are your features and label\u001b[39;00m\n\u001b[1;32m      <a href='vscode-notebook-cell:/Users/addisonjpratt/sfguide-intro-to-machine-learning-with-snowpark-ml-for-python/database.ipynb#Y142sZmlsZQ%3D%3D?line=1'>2</a>\u001b[0m \u001b[39m# Now, you can use X_train and X_val in model training and validation\u001b[39;00m\n\u001b[1;32m      <a href='vscode-notebook-cell:/Users/addisonjpratt/sfguide-intro-to-machine-learning-with-snowpark-ml-for-python/database.ipynb#Y142sZmlsZQ%3D%3D?line=2'>3</a>\u001b[0m \u001b[39m# Make sure to convert them to arrays if your model cannot handle sparse matrices directly\u001b[39;00m\n\u001b[0;32m----> <a href='vscode-notebook-cell:/Users/addisonjpratt/sfguide-intro-to-machine-learning-with-snowpark-ml-for-python/database.ipynb#Y142sZmlsZQ%3D%3D?line=3'>4</a>\u001b[0m model\u001b[39m.\u001b[39;49mfit(X_train, y_train, validation_data\u001b[39m=\u001b[39;49m(X_test, y_test), epochs\u001b[39m=\u001b[39;49m\u001b[39m10\u001b[39;49m, batch_size\u001b[39m=\u001b[39;49m\u001b[39m32\u001b[39;49m)\n",
      "File \u001b[0;32m/Library/Frameworks/Python.framework/Versions/3.11/lib/python3.11/site-packages/keras/src/utils/traceback_utils.py:70\u001b[0m, in \u001b[0;36mfilter_traceback.<locals>.error_handler\u001b[0;34m(*args, **kwargs)\u001b[0m\n\u001b[1;32m     67\u001b[0m     filtered_tb \u001b[39m=\u001b[39m _process_traceback_frames(e\u001b[39m.\u001b[39m__traceback__)\n\u001b[1;32m     68\u001b[0m     \u001b[39m# To get the full stack trace, call:\u001b[39;00m\n\u001b[1;32m     69\u001b[0m     \u001b[39m# `tf.debugging.disable_traceback_filtering()`\u001b[39;00m\n\u001b[0;32m---> 70\u001b[0m     \u001b[39mraise\u001b[39;00m e\u001b[39m.\u001b[39mwith_traceback(filtered_tb) \u001b[39mfrom\u001b[39;00m \u001b[39mNone\u001b[39;00m\n\u001b[1;32m     71\u001b[0m \u001b[39mfinally\u001b[39;00m:\n\u001b[1;32m     72\u001b[0m     \u001b[39mdel\u001b[39;00m filtered_tb\n",
      "File \u001b[0;32m/Library/Frameworks/Python.framework/Versions/3.11/lib/python3.11/site-packages/tensorflow/python/framework/constant_op.py:103\u001b[0m, in \u001b[0;36mconvert_to_eager_tensor\u001b[0;34m(value, ctx, dtype)\u001b[0m\n\u001b[1;32m    101\u001b[0m     dtype \u001b[39m=\u001b[39m dtypes\u001b[39m.\u001b[39mas_dtype(dtype)\u001b[39m.\u001b[39mas_datatype_enum\n\u001b[1;32m    102\u001b[0m ctx\u001b[39m.\u001b[39mensure_initialized()\n\u001b[0;32m--> 103\u001b[0m \u001b[39mreturn\u001b[39;00m ops\u001b[39m.\u001b[39;49mEagerTensor(value, ctx\u001b[39m.\u001b[39;49mdevice_name, dtype)\n",
      "\u001b[0;31mValueError\u001b[0m: Failed to convert a NumPy array to a Tensor (Unsupported object type float)."
     ]
    }
   ],
   "source": [
    "\n",
    "# Assuming X and y are your features and label\n",
    "# Now, you can use X_train and X_val in model training and validation\n",
    "# Make sure to convert them to arrays if your model cannot handle sparse matrices directly\n",
    "model.fit(X_train, y_train, validation_data=(X_test, y_test), epochs=10, batch_size=32)\n"
   ]
  },
  {
   "cell_type": "code",
   "execution_count": null,
   "metadata": {},
   "outputs": [
    {
     "ename": "ValueError",
     "evalue": "could not convert string to float: 'Hi-Power® II Belts Hi-Power® II Belts /'",
     "output_type": "error",
     "traceback": [
      "\u001b[0;31m---------------------------------------------------------------------------\u001b[0m",
      "\u001b[0;31mValueError\u001b[0m                                Traceback (most recent call last)",
      "\u001b[0;32m/var/folders/jf/5crtmt7n2rl3tww1rbt55bd80000gn/T/ipykernel_4280/283607712.py\u001b[0m in \u001b[0;36m?\u001b[0;34m()\u001b[0m\n\u001b[1;32m     32\u001b[0m \u001b[0mX_train\u001b[0m\u001b[0;34m,\u001b[0m \u001b[0mX_test\u001b[0m\u001b[0;34m,\u001b[0m \u001b[0my_train\u001b[0m\u001b[0;34m,\u001b[0m \u001b[0my_test\u001b[0m \u001b[0;34m=\u001b[0m \u001b[0mtrain_test_split\u001b[0m\u001b[0;34m(\u001b[0m\u001b[0mX\u001b[0m\u001b[0;34m,\u001b[0m \u001b[0my\u001b[0m\u001b[0;34m,\u001b[0m \u001b[0mtest_size\u001b[0m\u001b[0;34m=\u001b[0m\u001b[0;36m0.2\u001b[0m\u001b[0;34m,\u001b[0m \u001b[0mrandom_state\u001b[0m\u001b[0;34m=\u001b[0m\u001b[0;36m42\u001b[0m\u001b[0;34m)\u001b[0m\u001b[0;34m\u001b[0m\u001b[0;34m\u001b[0m\u001b[0m\n\u001b[1;32m     33\u001b[0m \u001b[0;34m\u001b[0m\u001b[0m\n\u001b[1;32m     34\u001b[0m \u001b[0;31m# Standardize the input features (optional but recommended)\u001b[0m\u001b[0;34m\u001b[0m\u001b[0;34m\u001b[0m\u001b[0m\n\u001b[1;32m     35\u001b[0m \u001b[0mscaler\u001b[0m \u001b[0;34m=\u001b[0m \u001b[0mStandardScaler\u001b[0m\u001b[0;34m(\u001b[0m\u001b[0;34m)\u001b[0m\u001b[0;34m\u001b[0m\u001b[0;34m\u001b[0m\u001b[0m\n\u001b[0;32m---> 36\u001b[0;31m \u001b[0mX_train\u001b[0m \u001b[0;34m=\u001b[0m \u001b[0mscaler\u001b[0m\u001b[0;34m.\u001b[0m\u001b[0mfit_transform\u001b[0m\u001b[0;34m(\u001b[0m\u001b[0mX_train\u001b[0m\u001b[0;34m)\u001b[0m\u001b[0;34m\u001b[0m\u001b[0;34m\u001b[0m\u001b[0m\n\u001b[0m\u001b[1;32m     37\u001b[0m \u001b[0mX_test\u001b[0m \u001b[0;34m=\u001b[0m \u001b[0mscaler\u001b[0m\u001b[0;34m.\u001b[0m\u001b[0mtransform\u001b[0m\u001b[0;34m(\u001b[0m\u001b[0mX_test\u001b[0m\u001b[0;34m)\u001b[0m\u001b[0;34m\u001b[0m\u001b[0;34m\u001b[0m\u001b[0m\n\u001b[1;32m     38\u001b[0m \u001b[0;34m\u001b[0m\u001b[0m\n\u001b[1;32m     39\u001b[0m \u001b[0;31m# Define the neural network model\u001b[0m\u001b[0;34m\u001b[0m\u001b[0;34m\u001b[0m\u001b[0m\n",
      "\u001b[0;32m/Library/Frameworks/Python.framework/Versions/3.11/lib/python3.11/site-packages/sklearn/utils/_set_output.py\u001b[0m in \u001b[0;36m?\u001b[0;34m(self, X, *args, **kwargs)\u001b[0m\n\u001b[1;32m    293\u001b[0m     \u001b[0;34m@\u001b[0m\u001b[0mwraps\u001b[0m\u001b[0;34m(\u001b[0m\u001b[0mf\u001b[0m\u001b[0;34m)\u001b[0m\u001b[0;34m\u001b[0m\u001b[0;34m\u001b[0m\u001b[0m\n\u001b[1;32m    294\u001b[0m     \u001b[0;32mdef\u001b[0m \u001b[0mwrapped\u001b[0m\u001b[0;34m(\u001b[0m\u001b[0mself\u001b[0m\u001b[0;34m,\u001b[0m \u001b[0mX\u001b[0m\u001b[0;34m,\u001b[0m \u001b[0;34m*\u001b[0m\u001b[0margs\u001b[0m\u001b[0;34m,\u001b[0m \u001b[0;34m**\u001b[0m\u001b[0mkwargs\u001b[0m\u001b[0;34m)\u001b[0m\u001b[0;34m:\u001b[0m\u001b[0;34m\u001b[0m\u001b[0;34m\u001b[0m\u001b[0m\n\u001b[0;32m--> 295\u001b[0;31m         \u001b[0mdata_to_wrap\u001b[0m \u001b[0;34m=\u001b[0m \u001b[0mf\u001b[0m\u001b[0;34m(\u001b[0m\u001b[0mself\u001b[0m\u001b[0;34m,\u001b[0m \u001b[0mX\u001b[0m\u001b[0;34m,\u001b[0m \u001b[0;34m*\u001b[0m\u001b[0margs\u001b[0m\u001b[0;34m,\u001b[0m \u001b[0;34m**\u001b[0m\u001b[0mkwargs\u001b[0m\u001b[0;34m)\u001b[0m\u001b[0;34m\u001b[0m\u001b[0;34m\u001b[0m\u001b[0m\n\u001b[0m\u001b[1;32m    296\u001b[0m         \u001b[0;32mif\u001b[0m \u001b[0misinstance\u001b[0m\u001b[0;34m(\u001b[0m\u001b[0mdata_to_wrap\u001b[0m\u001b[0;34m,\u001b[0m \u001b[0mtuple\u001b[0m\u001b[0;34m)\u001b[0m\u001b[0;34m:\u001b[0m\u001b[0;34m\u001b[0m\u001b[0;34m\u001b[0m\u001b[0m\n\u001b[1;32m    297\u001b[0m             \u001b[0;31m# only wrap the first output for cross decomposition\u001b[0m\u001b[0;34m\u001b[0m\u001b[0;34m\u001b[0m\u001b[0m\n\u001b[1;32m    298\u001b[0m             return_tuple = (\n",
      "\u001b[0;32m/Library/Frameworks/Python.framework/Versions/3.11/lib/python3.11/site-packages/sklearn/base.py\u001b[0m in \u001b[0;36m?\u001b[0;34m(self, X, y, **fit_params)\u001b[0m\n\u001b[1;32m   1094\u001b[0m                 )\n\u001b[1;32m   1095\u001b[0m \u001b[0;34m\u001b[0m\u001b[0m\n\u001b[1;32m   1096\u001b[0m         \u001b[0;32mif\u001b[0m \u001b[0my\u001b[0m \u001b[0;32mis\u001b[0m \u001b[0;32mNone\u001b[0m\u001b[0;34m:\u001b[0m\u001b[0;34m\u001b[0m\u001b[0;34m\u001b[0m\u001b[0m\n\u001b[1;32m   1097\u001b[0m             \u001b[0;31m# fit method of arity 1 (unsupervised transformation)\u001b[0m\u001b[0;34m\u001b[0m\u001b[0;34m\u001b[0m\u001b[0m\n\u001b[0;32m-> 1098\u001b[0;31m             \u001b[0;32mreturn\u001b[0m \u001b[0mself\u001b[0m\u001b[0;34m.\u001b[0m\u001b[0mfit\u001b[0m\u001b[0;34m(\u001b[0m\u001b[0mX\u001b[0m\u001b[0;34m,\u001b[0m \u001b[0;34m**\u001b[0m\u001b[0mfit_params\u001b[0m\u001b[0;34m)\u001b[0m\u001b[0;34m.\u001b[0m\u001b[0mtransform\u001b[0m\u001b[0;34m(\u001b[0m\u001b[0mX\u001b[0m\u001b[0;34m)\u001b[0m\u001b[0;34m\u001b[0m\u001b[0;34m\u001b[0m\u001b[0m\n\u001b[0m\u001b[1;32m   1099\u001b[0m         \u001b[0;32melse\u001b[0m\u001b[0;34m:\u001b[0m\u001b[0;34m\u001b[0m\u001b[0;34m\u001b[0m\u001b[0m\n\u001b[1;32m   1100\u001b[0m             \u001b[0;31m# fit method of arity 2 (supervised transformation)\u001b[0m\u001b[0;34m\u001b[0m\u001b[0;34m\u001b[0m\u001b[0m\n\u001b[1;32m   1101\u001b[0m             \u001b[0;32mreturn\u001b[0m \u001b[0mself\u001b[0m\u001b[0;34m.\u001b[0m\u001b[0mfit\u001b[0m\u001b[0;34m(\u001b[0m\u001b[0mX\u001b[0m\u001b[0;34m,\u001b[0m \u001b[0my\u001b[0m\u001b[0;34m,\u001b[0m \u001b[0;34m**\u001b[0m\u001b[0mfit_params\u001b[0m\u001b[0;34m)\u001b[0m\u001b[0;34m.\u001b[0m\u001b[0mtransform\u001b[0m\u001b[0;34m(\u001b[0m\u001b[0mX\u001b[0m\u001b[0;34m)\u001b[0m\u001b[0;34m\u001b[0m\u001b[0;34m\u001b[0m\u001b[0m\n",
      "\u001b[0;32m/Library/Frameworks/Python.framework/Versions/3.11/lib/python3.11/site-packages/sklearn/preprocessing/_data.py\u001b[0m in \u001b[0;36m?\u001b[0;34m(self, X, y, sample_weight)\u001b[0m\n\u001b[1;32m    872\u001b[0m             \u001b[0mFitted\u001b[0m \u001b[0mscaler\u001b[0m\u001b[0;34m.\u001b[0m\u001b[0;34m\u001b[0m\u001b[0;34m\u001b[0m\u001b[0m\n\u001b[1;32m    873\u001b[0m         \"\"\"\n\u001b[1;32m    874\u001b[0m         \u001b[0;31m# Reset internal state before fitting\u001b[0m\u001b[0;34m\u001b[0m\u001b[0;34m\u001b[0m\u001b[0m\n\u001b[1;32m    875\u001b[0m         \u001b[0mself\u001b[0m\u001b[0;34m.\u001b[0m\u001b[0m_reset\u001b[0m\u001b[0;34m(\u001b[0m\u001b[0;34m)\u001b[0m\u001b[0;34m\u001b[0m\u001b[0;34m\u001b[0m\u001b[0m\n\u001b[0;32m--> 876\u001b[0;31m         \u001b[0;32mreturn\u001b[0m \u001b[0mself\u001b[0m\u001b[0;34m.\u001b[0m\u001b[0mpartial_fit\u001b[0m\u001b[0;34m(\u001b[0m\u001b[0mX\u001b[0m\u001b[0;34m,\u001b[0m \u001b[0my\u001b[0m\u001b[0;34m,\u001b[0m \u001b[0msample_weight\u001b[0m\u001b[0;34m)\u001b[0m\u001b[0;34m\u001b[0m\u001b[0;34m\u001b[0m\u001b[0m\n\u001b[0m",
      "\u001b[0;32m/Library/Frameworks/Python.framework/Versions/3.11/lib/python3.11/site-packages/sklearn/base.py\u001b[0m in \u001b[0;36m?\u001b[0;34m(estimator, *args, **kwargs)\u001b[0m\n\u001b[1;32m   1470\u001b[0m                 skip_parameter_validation=(\n\u001b[1;32m   1471\u001b[0m                     \u001b[0mprefer_skip_nested_validation\u001b[0m \u001b[0;32mor\u001b[0m \u001b[0mglobal_skip_validation\u001b[0m\u001b[0;34m\u001b[0m\u001b[0;34m\u001b[0m\u001b[0m\n\u001b[1;32m   1472\u001b[0m                 )\n\u001b[1;32m   1473\u001b[0m             ):\n\u001b[0;32m-> 1474\u001b[0;31m                 \u001b[0;32mreturn\u001b[0m \u001b[0mfit_method\u001b[0m\u001b[0;34m(\u001b[0m\u001b[0mestimator\u001b[0m\u001b[0;34m,\u001b[0m \u001b[0;34m*\u001b[0m\u001b[0margs\u001b[0m\u001b[0;34m,\u001b[0m \u001b[0;34m**\u001b[0m\u001b[0mkwargs\u001b[0m\u001b[0;34m)\u001b[0m\u001b[0;34m\u001b[0m\u001b[0;34m\u001b[0m\u001b[0m\n\u001b[0m",
      "\u001b[0;32m/Library/Frameworks/Python.framework/Versions/3.11/lib/python3.11/site-packages/sklearn/preprocessing/_data.py\u001b[0m in \u001b[0;36m?\u001b[0;34m(self, X, y, sample_weight)\u001b[0m\n\u001b[1;32m    908\u001b[0m         \u001b[0mself\u001b[0m \u001b[0;34m:\u001b[0m \u001b[0mobject\u001b[0m\u001b[0;34m\u001b[0m\u001b[0;34m\u001b[0m\u001b[0m\n\u001b[1;32m    909\u001b[0m             \u001b[0mFitted\u001b[0m \u001b[0mscaler\u001b[0m\u001b[0;34m.\u001b[0m\u001b[0;34m\u001b[0m\u001b[0;34m\u001b[0m\u001b[0m\n\u001b[1;32m    910\u001b[0m         \"\"\"\n\u001b[1;32m    911\u001b[0m         \u001b[0mfirst_call\u001b[0m \u001b[0;34m=\u001b[0m \u001b[0;32mnot\u001b[0m \u001b[0mhasattr\u001b[0m\u001b[0;34m(\u001b[0m\u001b[0mself\u001b[0m\u001b[0;34m,\u001b[0m \u001b[0;34m\"n_samples_seen_\"\u001b[0m\u001b[0;34m)\u001b[0m\u001b[0;34m\u001b[0m\u001b[0;34m\u001b[0m\u001b[0m\n\u001b[0;32m--> 912\u001b[0;31m         X = self._validate_data(\n\u001b[0m\u001b[1;32m    913\u001b[0m             \u001b[0mX\u001b[0m\u001b[0;34m,\u001b[0m\u001b[0;34m\u001b[0m\u001b[0;34m\u001b[0m\u001b[0m\n\u001b[1;32m    914\u001b[0m             \u001b[0maccept_sparse\u001b[0m\u001b[0;34m=\u001b[0m\u001b[0;34m(\u001b[0m\u001b[0;34m\"csr\"\u001b[0m\u001b[0;34m,\u001b[0m \u001b[0;34m\"csc\"\u001b[0m\u001b[0;34m)\u001b[0m\u001b[0;34m,\u001b[0m\u001b[0;34m\u001b[0m\u001b[0;34m\u001b[0m\u001b[0m\n\u001b[1;32m    915\u001b[0m             \u001b[0mdtype\u001b[0m\u001b[0;34m=\u001b[0m\u001b[0mFLOAT_DTYPES\u001b[0m\u001b[0;34m,\u001b[0m\u001b[0;34m\u001b[0m\u001b[0;34m\u001b[0m\u001b[0m\n",
      "\u001b[0;32m/Library/Frameworks/Python.framework/Versions/3.11/lib/python3.11/site-packages/sklearn/base.py\u001b[0m in \u001b[0;36m?\u001b[0;34m(self, X, y, reset, validate_separately, cast_to_ndarray, **check_params)\u001b[0m\n\u001b[1;32m    629\u001b[0m                 \u001b[0mout\u001b[0m \u001b[0;34m=\u001b[0m \u001b[0my\u001b[0m\u001b[0;34m\u001b[0m\u001b[0;34m\u001b[0m\u001b[0m\n\u001b[1;32m    630\u001b[0m             \u001b[0;32melse\u001b[0m\u001b[0;34m:\u001b[0m\u001b[0;34m\u001b[0m\u001b[0;34m\u001b[0m\u001b[0m\n\u001b[1;32m    631\u001b[0m                 \u001b[0mout\u001b[0m \u001b[0;34m=\u001b[0m \u001b[0mX\u001b[0m\u001b[0;34m,\u001b[0m \u001b[0my\u001b[0m\u001b[0;34m\u001b[0m\u001b[0;34m\u001b[0m\u001b[0m\n\u001b[1;32m    632\u001b[0m         \u001b[0;32melif\u001b[0m \u001b[0;32mnot\u001b[0m \u001b[0mno_val_X\u001b[0m \u001b[0;32mand\u001b[0m \u001b[0mno_val_y\u001b[0m\u001b[0;34m:\u001b[0m\u001b[0;34m\u001b[0m\u001b[0;34m\u001b[0m\u001b[0m\n\u001b[0;32m--> 633\u001b[0;31m             \u001b[0mout\u001b[0m \u001b[0;34m=\u001b[0m \u001b[0mcheck_array\u001b[0m\u001b[0;34m(\u001b[0m\u001b[0mX\u001b[0m\u001b[0;34m,\u001b[0m \u001b[0minput_name\u001b[0m\u001b[0;34m=\u001b[0m\u001b[0;34m\"X\"\u001b[0m\u001b[0;34m,\u001b[0m \u001b[0;34m**\u001b[0m\u001b[0mcheck_params\u001b[0m\u001b[0;34m)\u001b[0m\u001b[0;34m\u001b[0m\u001b[0;34m\u001b[0m\u001b[0m\n\u001b[0m\u001b[1;32m    634\u001b[0m         \u001b[0;32melif\u001b[0m \u001b[0mno_val_X\u001b[0m \u001b[0;32mand\u001b[0m \u001b[0;32mnot\u001b[0m \u001b[0mno_val_y\u001b[0m\u001b[0;34m:\u001b[0m\u001b[0;34m\u001b[0m\u001b[0;34m\u001b[0m\u001b[0m\n\u001b[1;32m    635\u001b[0m             \u001b[0mout\u001b[0m \u001b[0;34m=\u001b[0m \u001b[0m_check_y\u001b[0m\u001b[0;34m(\u001b[0m\u001b[0my\u001b[0m\u001b[0;34m,\u001b[0m \u001b[0;34m**\u001b[0m\u001b[0mcheck_params\u001b[0m\u001b[0;34m)\u001b[0m\u001b[0;34m\u001b[0m\u001b[0;34m\u001b[0m\u001b[0m\n\u001b[1;32m    636\u001b[0m         \u001b[0;32melse\u001b[0m\u001b[0;34m:\u001b[0m\u001b[0;34m\u001b[0m\u001b[0;34m\u001b[0m\u001b[0m\n",
      "\u001b[0;32m/Library/Frameworks/Python.framework/Versions/3.11/lib/python3.11/site-packages/sklearn/utils/validation.py\u001b[0m in \u001b[0;36m?\u001b[0;34m(array, accept_sparse, accept_large_sparse, dtype, order, copy, force_all_finite, ensure_2d, allow_nd, ensure_min_samples, ensure_min_features, estimator, input_name)\u001b[0m\n\u001b[1;32m    994\u001b[0m                         )\n\u001b[1;32m    995\u001b[0m                     \u001b[0marray\u001b[0m \u001b[0;34m=\u001b[0m \u001b[0mxp\u001b[0m\u001b[0;34m.\u001b[0m\u001b[0mastype\u001b[0m\u001b[0;34m(\u001b[0m\u001b[0marray\u001b[0m\u001b[0;34m,\u001b[0m \u001b[0mdtype\u001b[0m\u001b[0;34m,\u001b[0m \u001b[0mcopy\u001b[0m\u001b[0;34m=\u001b[0m\u001b[0;32mFalse\u001b[0m\u001b[0;34m)\u001b[0m\u001b[0;34m\u001b[0m\u001b[0;34m\u001b[0m\u001b[0m\n\u001b[1;32m    996\u001b[0m                 \u001b[0;32melse\u001b[0m\u001b[0;34m:\u001b[0m\u001b[0;34m\u001b[0m\u001b[0;34m\u001b[0m\u001b[0m\n\u001b[1;32m    997\u001b[0m                     \u001b[0marray\u001b[0m \u001b[0;34m=\u001b[0m \u001b[0m_asarray_with_order\u001b[0m\u001b[0;34m(\u001b[0m\u001b[0marray\u001b[0m\u001b[0;34m,\u001b[0m \u001b[0morder\u001b[0m\u001b[0;34m=\u001b[0m\u001b[0morder\u001b[0m\u001b[0;34m,\u001b[0m \u001b[0mdtype\u001b[0m\u001b[0;34m=\u001b[0m\u001b[0mdtype\u001b[0m\u001b[0;34m,\u001b[0m \u001b[0mxp\u001b[0m\u001b[0;34m=\u001b[0m\u001b[0mxp\u001b[0m\u001b[0;34m)\u001b[0m\u001b[0;34m\u001b[0m\u001b[0;34m\u001b[0m\u001b[0m\n\u001b[0;32m--> 998\u001b[0;31m             \u001b[0;32mexcept\u001b[0m \u001b[0mComplexWarning\u001b[0m \u001b[0;32mas\u001b[0m \u001b[0mcomplex_warning\u001b[0m\u001b[0;34m:\u001b[0m\u001b[0;34m\u001b[0m\u001b[0;34m\u001b[0m\u001b[0m\n\u001b[0m\u001b[1;32m    999\u001b[0m                 raise ValueError(\n\u001b[1;32m   1000\u001b[0m                     \u001b[0;34m\"Complex data not supported\\n{}\\n\"\u001b[0m\u001b[0;34m.\u001b[0m\u001b[0mformat\u001b[0m\u001b[0;34m(\u001b[0m\u001b[0marray\u001b[0m\u001b[0;34m)\u001b[0m\u001b[0;34m\u001b[0m\u001b[0;34m\u001b[0m\u001b[0m\n\u001b[1;32m   1001\u001b[0m                 ) from complex_warning\n",
      "\u001b[0;32m/Library/Frameworks/Python.framework/Versions/3.11/lib/python3.11/site-packages/sklearn/utils/_array_api.py\u001b[0m in \u001b[0;36m?\u001b[0;34m(array, dtype, order, copy, xp)\u001b[0m\n\u001b[1;32m    517\u001b[0m         \u001b[0;31m# Use NumPy API to support order\u001b[0m\u001b[0;34m\u001b[0m\u001b[0;34m\u001b[0m\u001b[0m\n\u001b[1;32m    518\u001b[0m         \u001b[0;32mif\u001b[0m \u001b[0mcopy\u001b[0m \u001b[0;32mis\u001b[0m \u001b[0;32mTrue\u001b[0m\u001b[0;34m:\u001b[0m\u001b[0;34m\u001b[0m\u001b[0;34m\u001b[0m\u001b[0m\n\u001b[1;32m    519\u001b[0m             \u001b[0marray\u001b[0m \u001b[0;34m=\u001b[0m \u001b[0mnumpy\u001b[0m\u001b[0;34m.\u001b[0m\u001b[0marray\u001b[0m\u001b[0;34m(\u001b[0m\u001b[0marray\u001b[0m\u001b[0;34m,\u001b[0m \u001b[0morder\u001b[0m\u001b[0;34m=\u001b[0m\u001b[0morder\u001b[0m\u001b[0;34m,\u001b[0m \u001b[0mdtype\u001b[0m\u001b[0;34m=\u001b[0m\u001b[0mdtype\u001b[0m\u001b[0;34m)\u001b[0m\u001b[0;34m\u001b[0m\u001b[0;34m\u001b[0m\u001b[0m\n\u001b[1;32m    520\u001b[0m         \u001b[0;32melse\u001b[0m\u001b[0;34m:\u001b[0m\u001b[0;34m\u001b[0m\u001b[0;34m\u001b[0m\u001b[0m\n\u001b[0;32m--> 521\u001b[0;31m             \u001b[0marray\u001b[0m \u001b[0;34m=\u001b[0m \u001b[0mnumpy\u001b[0m\u001b[0;34m.\u001b[0m\u001b[0masarray\u001b[0m\u001b[0;34m(\u001b[0m\u001b[0marray\u001b[0m\u001b[0;34m,\u001b[0m \u001b[0morder\u001b[0m\u001b[0;34m=\u001b[0m\u001b[0morder\u001b[0m\u001b[0;34m,\u001b[0m \u001b[0mdtype\u001b[0m\u001b[0;34m=\u001b[0m\u001b[0mdtype\u001b[0m\u001b[0;34m)\u001b[0m\u001b[0;34m\u001b[0m\u001b[0;34m\u001b[0m\u001b[0m\n\u001b[0m\u001b[1;32m    522\u001b[0m \u001b[0;34m\u001b[0m\u001b[0m\n\u001b[1;32m    523\u001b[0m         \u001b[0;31m# At this point array is a NumPy ndarray. We convert it to an array\u001b[0m\u001b[0;34m\u001b[0m\u001b[0;34m\u001b[0m\u001b[0m\n\u001b[1;32m    524\u001b[0m         \u001b[0;31m# container that is consistent with the input's namespace.\u001b[0m\u001b[0;34m\u001b[0m\u001b[0;34m\u001b[0m\u001b[0m\n",
      "\u001b[0;32m/Library/Frameworks/Python.framework/Versions/3.11/lib/python3.11/site-packages/pandas/core/generic.py\u001b[0m in \u001b[0;36m?\u001b[0;34m(self, dtype)\u001b[0m\n\u001b[1;32m   2082\u001b[0m     \u001b[0;32mdef\u001b[0m \u001b[0m__array__\u001b[0m\u001b[0;34m(\u001b[0m\u001b[0mself\u001b[0m\u001b[0;34m,\u001b[0m \u001b[0mdtype\u001b[0m\u001b[0;34m:\u001b[0m \u001b[0mnpt\u001b[0m\u001b[0;34m.\u001b[0m\u001b[0mDTypeLike\u001b[0m \u001b[0;34m|\u001b[0m \u001b[0;32mNone\u001b[0m \u001b[0;34m=\u001b[0m \u001b[0;32mNone\u001b[0m\u001b[0;34m)\u001b[0m \u001b[0;34m->\u001b[0m \u001b[0mnp\u001b[0m\u001b[0;34m.\u001b[0m\u001b[0mndarray\u001b[0m\u001b[0;34m:\u001b[0m\u001b[0;34m\u001b[0m\u001b[0;34m\u001b[0m\u001b[0m\n\u001b[1;32m   2083\u001b[0m         \u001b[0mvalues\u001b[0m \u001b[0;34m=\u001b[0m \u001b[0mself\u001b[0m\u001b[0;34m.\u001b[0m\u001b[0m_values\u001b[0m\u001b[0;34m\u001b[0m\u001b[0;34m\u001b[0m\u001b[0m\n\u001b[0;32m-> 2084\u001b[0;31m         \u001b[0marr\u001b[0m \u001b[0;34m=\u001b[0m \u001b[0mnp\u001b[0m\u001b[0;34m.\u001b[0m\u001b[0masarray\u001b[0m\u001b[0;34m(\u001b[0m\u001b[0mvalues\u001b[0m\u001b[0;34m,\u001b[0m \u001b[0mdtype\u001b[0m\u001b[0;34m=\u001b[0m\u001b[0mdtype\u001b[0m\u001b[0;34m)\u001b[0m\u001b[0;34m\u001b[0m\u001b[0;34m\u001b[0m\u001b[0m\n\u001b[0m\u001b[1;32m   2085\u001b[0m         if (\n\u001b[1;32m   2086\u001b[0m             \u001b[0mastype_is_view\u001b[0m\u001b[0;34m(\u001b[0m\u001b[0mvalues\u001b[0m\u001b[0;34m.\u001b[0m\u001b[0mdtype\u001b[0m\u001b[0;34m,\u001b[0m \u001b[0marr\u001b[0m\u001b[0;34m.\u001b[0m\u001b[0mdtype\u001b[0m\u001b[0;34m)\u001b[0m\u001b[0;34m\u001b[0m\u001b[0;34m\u001b[0m\u001b[0m\n\u001b[1;32m   2087\u001b[0m             \u001b[0;32mand\u001b[0m \u001b[0musing_copy_on_write\u001b[0m\u001b[0;34m(\u001b[0m\u001b[0;34m)\u001b[0m\u001b[0;34m\u001b[0m\u001b[0;34m\u001b[0m\u001b[0m\n",
      "\u001b[0;31mValueError\u001b[0m: could not convert string to float: 'Hi-Power® II Belts Hi-Power® II Belts /'"
     ]
    }
   ],
   "source": [
    "# Import necessary libraries\n",
    "import tensorflow as tf\n",
    "from keras.models import Sequential\n",
    "from keras.layers import Dense\n",
    "from sklearn.model_selection import train_test_split\n",
    "from sklearn.preprocessing import StandardScaler\n",
    "import pandas as pd\n",
    "from sklearn.model_selection import train_test_split\n",
    "from sklearn.preprocessing import StandardScaler, OneHotEncoder\n",
    "from sklearn.compose import ColumnTransformer\n",
    "from sklearn.pipeline import Pipeline\n",
    "\n",
    "# Drop rows with missing values (or you can impute them as well)\n",
    "df = koch.dropna()\n",
    "\n",
    "# Assuming 'SHORT_TEXT', 'REQUESTED_DELIVERY_DATE', 'COMPANY_CODE_ID', 'CREATE_DATE', and 'SUB_COMMODITY_DESC' are categorical\n",
    "categorical_features = ['SHORT_TEXT', 'REQUESTED_DELIVERY_DATE', 'COMPANY_CODE_ID', 'CREATE_DATE', 'SUB_COMMODITY_DESC']\n",
    "numerical_features = df.select_dtypes(include=['int64', 'float64']).columns.drop(['Time_Difference']).tolist()\n",
    "\n",
    "# Define preprocessing for numerical and categorical data\n",
    "preprocessor = ColumnTransformer(\n",
    "    transformers=[\n",
    "        ('num', StandardScaler(), numerical_features),\n",
    "        ('cat', OneHotEncoder(handle_unknown='ignore'), categorical_features)\n",
    "    ])\n",
    "\n",
    "# Split the dataset into features and target variable\n",
    "X = df.drop(['Time_Difference'], axis=1)\n",
    "y = df['Time_Difference']\n",
    "\n",
    "# Split the dataset into training and testing sets\n",
    "X_train, X_test, y_train, y_test = train_test_split(X, y, test_size=0.2, random_state=42)\n",
    "\n",
    "# Standardize the input features (optional but recommended)\n",
    "scaler = StandardScaler()\n",
    "X_train = scaler.fit_transform(X_train)\n",
    "X_test = scaler.transform(X_test)\n",
    "\n",
    "# Define the neural network model\n",
    "model = Sequential()\n",
    "\n",
    "# Add input layer with ReLU activation\n",
    "model.add(Dense(units=64, activation='relu', input_dim=X_train.shape[1]))\n",
    "\n",
    "# Add hidden layers with ReLU activation\n",
    "model.add(Dense(units=128, activation='relu'))\n",
    "model.add(Dense(units=64, activation='relu'))\n",
    "\n",
    "# Add output layer with sigmoid activation (for binary classification)\n",
    "model.add(Dense(units=1, activation='sigmoid'))\n",
    "\n",
    "# Compile the model\n",
    "model.compile(optimizer='adam', loss='binary_crossentropy', metrics=['accuracy'])\n",
    "\n",
    "# Train the model\n",
    "model.fit(X_train, y_train, epochs=10, batch_size=32, validation_data=(X_test, y_test))\n",
    "\n",
    "# Evaluate the model on test data\n",
    "loss, accuracy = model.evaluate(X_test, y_test)\n",
    "print(f'Test Loss: {loss}, Test Accuracy: {accuracy}')"
   ]
  },
  {
   "cell_type": "code",
   "execution_count": null,
   "metadata": {},
   "outputs": [],
   "source": []
  },
  {
   "cell_type": "code",
   "execution_count": null,
   "metadata": {},
   "outputs": [
    {
     "name": "stdout",
     "output_type": "stream",
     "text": [
      "WARNING:tensorflow:Keras is training/fitting/evaluating on array-like data. Keras may not be optimized for this format, so if your input data format is supported by TensorFlow I/O (https://github.com/tensorflow/io) we recommend using that to load a Dataset instead.\n",
      "Epoch 1/10\n"
     ]
    },
    {
     "name": "stderr",
     "output_type": "stream",
     "text": [
      "2024-03-02 05:39:53.496996: W tensorflow/core/framework/op_kernel.cc:1827] INVALID_ARGUMENT: TypeError: 'SparseTensor' object is not subscriptable\n",
      "Traceback (most recent call last):\n",
      "\n",
      "  File \"/Library/Frameworks/Python.framework/Versions/3.11/lib/python3.11/site-packages/tensorflow/python/ops/script_ops.py\", line 268, in __call__\n",
      "    return func(device, token, args)\n",
      "           ^^^^^^^^^^^^^^^^^^^^^^^^^\n",
      "\n",
      "  File \"/Library/Frameworks/Python.framework/Versions/3.11/lib/python3.11/site-packages/tensorflow/python/ops/script_ops.py\", line 146, in __call__\n",
      "    outputs = self._call(device, args)\n",
      "              ^^^^^^^^^^^^^^^^^^^^^^^^\n",
      "\n",
      "  File \"/Library/Frameworks/Python.framework/Versions/3.11/lib/python3.11/site-packages/tensorflow/python/ops/script_ops.py\", line 153, in _call\n",
      "    ret = self._func(*args)\n",
      "          ^^^^^^^^^^^^^^^^^\n",
      "\n",
      "  File \"/Library/Frameworks/Python.framework/Versions/3.11/lib/python3.11/site-packages/tensorflow/python/autograph/impl/api.py\", line 643, in wrapper\n",
      "    return func(*args, **kwargs)\n",
      "           ^^^^^^^^^^^^^^^^^^^^^\n",
      "\n",
      "  File \"/Library/Frameworks/Python.framework/Versions/3.11/lib/python3.11/site-packages/keras/src/engine/data_adapter.py\", line 519, in py_method\n",
      "    return [slice_array(inp) for inp in flat_inputs]\n",
      "           ^^^^^^^^^^^^^^^^^^^^^^^^^^^^^^^^^^^^^^^^^\n",
      "\n",
      "  File \"/Library/Frameworks/Python.framework/Versions/3.11/lib/python3.11/site-packages/keras/src/engine/data_adapter.py\", line 519, in <listcomp>\n",
      "    return [slice_array(inp) for inp in flat_inputs]\n",
      "            ^^^^^^^^^^^^^^^^\n",
      "\n",
      "  File \"/Library/Frameworks/Python.framework/Versions/3.11/lib/python3.11/site-packages/keras/src/engine/data_adapter.py\", line 515, in slice_array\n",
      "    return training_utils.slice_arrays(\n",
      "           ^^^^^^^^^^^^^^^^^^^^^^^^^^^^\n",
      "\n",
      "  File \"/Library/Frameworks/Python.framework/Versions/3.11/lib/python3.11/site-packages/keras/src/engine/training_utils.py\", line 47, in slice_arrays\n",
      "    entries = [[x[i : i + 1] for i in indices] for x in arrays]\n",
      "              ^^^^^^^^^^^^^^^^^^^^^^^^^^^^^^^^^^^^^^^^^^^^^^^^^\n",
      "\n",
      "  File \"/Library/Frameworks/Python.framework/Versions/3.11/lib/python3.11/site-packages/keras/src/engine/training_utils.py\", line 47, in <listcomp>\n",
      "    entries = [[x[i : i + 1] for i in indices] for x in arrays]\n",
      "               ^^^^^^^^^^^^^^^^^^^^^^^^^^^^^^^\n",
      "\n",
      "  File \"/Library/Frameworks/Python.framework/Versions/3.11/lib/python3.11/site-packages/keras/src/engine/training_utils.py\", line 47, in <listcomp>\n",
      "    entries = [[x[i : i + 1] for i in indices] for x in arrays]\n",
      "                ~^^^^^^^^^^^\n",
      "\n",
      "TypeError: 'SparseTensor' object is not subscriptable\n",
      "\n",
      "\n",
      "2024-03-02 05:39:53.497183: W tensorflow/core/framework/op_kernel.cc:1827] INVALID_ARGUMENT: TypeError: 'SparseTensor' object is not subscriptable\n",
      "Traceback (most recent call last):\n",
      "\n",
      "  File \"/Library/Frameworks/Python.framework/Versions/3.11/lib/python3.11/site-packages/tensorflow/python/ops/script_ops.py\", line 268, in __call__\n",
      "    return func(device, token, args)\n",
      "           ^^^^^^^^^^^^^^^^^^^^^^^^^\n",
      "\n",
      "  File \"/Library/Frameworks/Python.framework/Versions/3.11/lib/python3.11/site-packages/tensorflow/python/ops/script_ops.py\", line 146, in __call__\n",
      "    outputs = self._call(device, args)\n",
      "              ^^^^^^^^^^^^^^^^^^^^^^^^\n",
      "\n",
      "  File \"/Library/Frameworks/Python.framework/Versions/3.11/lib/python3.11/site-packages/tensorflow/python/ops/script_ops.py\", line 153, in _call\n",
      "    ret = self._func(*args)\n",
      "          ^^^^^^^^^^^^^^^^^\n",
      "\n",
      "  File \"/Library/Frameworks/Python.framework/Versions/3.11/lib/python3.11/site-packages/tensorflow/python/autograph/impl/api.py\", line 643, in wrapper\n",
      "    return func(*args, **kwargs)\n",
      "           ^^^^^^^^^^^^^^^^^^^^^\n",
      "\n",
      "  File \"/Library/Frameworks/Python.framework/Versions/3.11/lib/python3.11/site-packages/keras/src/engine/data_adapter.py\", line 519, in py_method\n",
      "    return [slice_array(inp) for inp in flat_inputs]\n",
      "           ^^^^^^^^^^^^^^^^^^^^^^^^^^^^^^^^^^^^^^^^^\n",
      "\n",
      "  File \"/Library/Frameworks/Python.framework/Versions/3.11/lib/python3.11/site-packages/keras/src/engine/data_adapter.py\", line 519, in <listcomp>\n",
      "    return [slice_array(inp) for inp in flat_inputs]\n",
      "            ^^^^^^^^^^^^^^^^\n",
      "\n",
      "  File \"/Library/Frameworks/Python.framework/Versions/3.11/lib/python3.11/site-packages/keras/src/engine/data_adapter.py\", line 515, in slice_array\n",
      "    return training_utils.slice_arrays(\n",
      "           ^^^^^^^^^^^^^^^^^^^^^^^^^^^^\n",
      "\n",
      "  File \"/Library/Frameworks/Python.framework/Versions/3.11/lib/python3.11/site-packages/keras/src/engine/training_utils.py\", line 47, in slice_arrays\n",
      "    entries = [[x[i : i + 1] for i in indices] for x in arrays]\n",
      "              ^^^^^^^^^^^^^^^^^^^^^^^^^^^^^^^^^^^^^^^^^^^^^^^^^\n",
      "\n",
      "  File \"/Library/Frameworks/Python.framework/Versions/3.11/lib/python3.11/site-packages/keras/src/engine/training_utils.py\", line 47, in <listcomp>\n",
      "    entries = [[x[i : i + 1] for i in indices] for x in arrays]\n",
      "               ^^^^^^^^^^^^^^^^^^^^^^^^^^^^^^^\n",
      "\n",
      "  File \"/Library/Frameworks/Python.framework/Versions/3.11/lib/python3.11/site-packages/keras/src/engine/training_utils.py\", line 47, in <listcomp>\n",
      "    entries = [[x[i : i + 1] for i in indices] for x in arrays]\n",
      "                ~^^^^^^^^^^^\n",
      "\n",
      "TypeError: 'SparseTensor' object is not subscriptable\n",
      "\n",
      "\n",
      "2024-03-02 05:39:53.497545: W tensorflow/core/framework/op_kernel.cc:1827] INVALID_ARGUMENT: TypeError: 'SparseTensor' object is not subscriptable\n",
      "Traceback (most recent call last):\n",
      "\n",
      "  File \"/Library/Frameworks/Python.framework/Versions/3.11/lib/python3.11/site-packages/tensorflow/python/ops/script_ops.py\", line 268, in __call__\n",
      "    return func(device, token, args)\n",
      "           ^^^^^^^^^^^^^^^^^^^^^^^^^\n",
      "\n",
      "  File \"/Library/Frameworks/Python.framework/Versions/3.11/lib/python3.11/site-packages/tensorflow/python/ops/script_ops.py\", line 146, in __call__\n",
      "    outputs = self._call(device, args)\n",
      "              ^^^^^^^^^^^^^^^^^^^^^^^^\n",
      "\n",
      "  File \"/Library/Frameworks/Python.framework/Versions/3.11/lib/python3.11/site-packages/tensorflow/python/ops/script_ops.py\", line 153, in _call\n",
      "    ret = self._func(*args)\n",
      "          ^^^^^^^^^^^^^^^^^\n",
      "\n",
      "  File \"/Library/Frameworks/Python.framework/Versions/3.11/lib/python3.11/site-packages/tensorflow/python/autograph/impl/api.py\", line 643, in wrapper\n",
      "    return func(*args, **kwargs)\n",
      "           ^^^^^^^^^^^^^^^^^^^^^\n",
      "\n",
      "  File \"/Library/Frameworks/Python.framework/Versions/3.11/lib/python3.11/site-packages/keras/src/engine/data_adapter.py\", line 519, in py_method\n",
      "    return [slice_array(inp) for inp in flat_inputs]\n",
      "           ^^^^^^^^^^^^^^^^^^^^^^^^^^^^^^^^^^^^^^^^^\n",
      "\n",
      "  File \"/Library/Frameworks/Python.framework/Versions/3.11/lib/python3.11/site-packages/keras/src/engine/data_adapter.py\", line 519, in <listcomp>\n",
      "    return [slice_array(inp) for inp in flat_inputs]\n",
      "            ^^^^^^^^^^^^^^^^\n",
      "\n",
      "  File \"/Library/Frameworks/Python.framework/Versions/3.11/lib/python3.11/site-packages/keras/src/engine/data_adapter.py\", line 515, in slice_array\n",
      "    return training_utils.slice_arrays(\n",
      "           ^^^^^^^^^^^^^^^^^^^^^^^^^^^^\n",
      "\n",
      "  File \"/Library/Frameworks/Python.framework/Versions/3.11/lib/python3.11/site-packages/keras/src/engine/training_utils.py\", line 47, in slice_arrays\n",
      "    entries = [[x[i : i + 1] for i in indices] for x in arrays]\n",
      "              ^^^^^^^^^^^^^^^^^^^^^^^^^^^^^^^^^^^^^^^^^^^^^^^^^\n",
      "\n",
      "  File \"/Library/Frameworks/Python.framework/Versions/3.11/lib/python3.11/site-packages/keras/src/engine/training_utils.py\", line 47, in <listcomp>\n",
      "    entries = [[x[i : i + 1] for i in indices] for x in arrays]\n",
      "               ^^^^^^^^^^^^^^^^^^^^^^^^^^^^^^^\n",
      "\n",
      "  File \"/Library/Frameworks/Python.framework/Versions/3.11/lib/python3.11/site-packages/keras/src/engine/training_utils.py\", line 47, in <listcomp>\n",
      "    entries = [[x[i : i + 1] for i in indices] for x in arrays]\n",
      "                ~^^^^^^^^^^^\n",
      "\n",
      "TypeError: 'SparseTensor' object is not subscriptable\n",
      "\n",
      "\n",
      "2024-03-02 05:39:53.497739: W tensorflow/core/framework/op_kernel.cc:1827] INVALID_ARGUMENT: TypeError: 'SparseTensor' object is not subscriptable\n",
      "Traceback (most recent call last):\n",
      "\n",
      "  File \"/Library/Frameworks/Python.framework/Versions/3.11/lib/python3.11/site-packages/tensorflow/python/ops/script_ops.py\", line 268, in __call__\n",
      "    return func(device, token, args)\n",
      "           ^^^^^^^^^^^^^^^^^^^^^^^^^\n",
      "\n",
      "  File \"/Library/Frameworks/Python.framework/Versions/3.11/lib/python3.11/site-packages/tensorflow/python/ops/script_ops.py\", line 146, in __call__\n",
      "    outputs = self._call(device, args)\n",
      "              ^^^^^^^^^^^^^^^^^^^^^^^^\n",
      "\n",
      "  File \"/Library/Frameworks/Python.framework/Versions/3.11/lib/python3.11/site-packages/tensorflow/python/ops/script_ops.py\", line 153, in _call\n",
      "    ret = self._func(*args)\n",
      "          ^^^^^^^^^^^^^^^^^\n",
      "\n",
      "  File \"/Library/Frameworks/Python.framework/Versions/3.11/lib/python3.11/site-packages/tensorflow/python/autograph/impl/api.py\", line 643, in wrapper\n",
      "    return func(*args, **kwargs)\n",
      "           ^^^^^^^^^^^^^^^^^^^^^\n",
      "\n",
      "  File \"/Library/Frameworks/Python.framework/Versions/3.11/lib/python3.11/site-packages/keras/src/engine/data_adapter.py\", line 519, in py_method\n",
      "    return [slice_array(inp) for inp in flat_inputs]\n",
      "           ^^^^^^^^^^^^^^^^^^^^^^^^^^^^^^^^^^^^^^^^^\n",
      "\n",
      "  File \"/Library/Frameworks/Python.framework/Versions/3.11/lib/python3.11/site-packages/keras/src/engine/data_adapter.py\", line 519, in <listcomp>\n",
      "    return [slice_array(inp) for inp in flat_inputs]\n",
      "            ^^^^^^^^^^^^^^^^\n",
      "\n",
      "  File \"/Library/Frameworks/Python.framework/Versions/3.11/lib/python3.11/site-packages/keras/src/engine/data_adapter.py\", line 515, in slice_array\n",
      "    return training_utils.slice_arrays(\n",
      "           ^^^^^^^^^^^^^^^^^^^^^^^^^^^^\n",
      "\n",
      "  File \"/Library/Frameworks/Python.framework/Versions/3.11/lib/python3.11/site-packages/keras/src/engine/training_utils.py\", line 47, in slice_arrays\n",
      "    entries = [[x[i : i + 1] for i in indices] for x in arrays]\n",
      "              ^^^^^^^^^^^^^^^^^^^^^^^^^^^^^^^^^^^^^^^^^^^^^^^^^\n",
      "\n",
      "  File \"/Library/Frameworks/Python.framework/Versions/3.11/lib/python3.11/site-packages/keras/src/engine/training_utils.py\", line 47, in <listcomp>\n",
      "    entries = [[x[i : i + 1] for i in indices] for x in arrays]\n",
      "               ^^^^^^^^^^^^^^^^^^^^^^^^^^^^^^^\n",
      "\n",
      "  File \"/Library/Frameworks/Python.framework/Versions/3.11/lib/python3.11/site-packages/keras/src/engine/training_utils.py\", line 47, in <listcomp>\n",
      "    entries = [[x[i : i + 1] for i in indices] for x in arrays]\n",
      "                ~^^^^^^^^^^^\n",
      "\n",
      "TypeError: 'SparseTensor' object is not subscriptable\n",
      "\n",
      "\n",
      "2024-03-02 05:39:53.497893: W tensorflow/core/framework/op_kernel.cc:1827] INVALID_ARGUMENT: TypeError: 'SparseTensor' object is not subscriptable\n",
      "Traceback (most recent call last):\n",
      "\n",
      "  File \"/Library/Frameworks/Python.framework/Versions/3.11/lib/python3.11/site-packages/tensorflow/python/ops/script_ops.py\", line 268, in __call__\n",
      "    return func(device, token, args)\n",
      "           ^^^^^^^^^^^^^^^^^^^^^^^^^\n",
      "\n",
      "  File \"/Library/Frameworks/Python.framework/Versions/3.11/lib/python3.11/site-packages/tensorflow/python/ops/script_ops.py\", line 146, in __call__\n",
      "    outputs = self._call(device, args)\n",
      "              ^^^^^^^^^^^^^^^^^^^^^^^^\n",
      "\n",
      "  File \"/Library/Frameworks/Python.framework/Versions/3.11/lib/python3.11/site-packages/tensorflow/python/ops/script_ops.py\", line 153, in _call\n",
      "    ret = self._func(*args)\n",
      "          ^^^^^^^^^^^^^^^^^\n",
      "\n",
      "  File \"/Library/Frameworks/Python.framework/Versions/3.11/lib/python3.11/site-packages/tensorflow/python/autograph/impl/api.py\", line 643, in wrapper\n",
      "    return func(*args, **kwargs)\n",
      "           ^^^^^^^^^^^^^^^^^^^^^\n",
      "\n",
      "  File \"/Library/Frameworks/Python.framework/Versions/3.11/lib/python3.11/site-packages/keras/src/engine/data_adapter.py\", line 519, in py_method\n",
      "    return [slice_array(inp) for inp in flat_inputs]\n",
      "           ^^^^^^^^^^^^^^^^^^^^^^^^^^^^^^^^^^^^^^^^^\n",
      "\n",
      "  File \"/Library/Frameworks/Python.framework/Versions/3.11/lib/python3.11/site-packages/keras/src/engine/data_adapter.py\", line 519, in <listcomp>\n",
      "    return [slice_array(inp) for inp in flat_inputs]\n",
      "            ^^^^^^^^^^^^^^^^\n",
      "\n",
      "  File \"/Library/Frameworks/Python.framework/Versions/3.11/lib/python3.11/site-packages/keras/src/engine/data_adapter.py\", line 515, in slice_array\n",
      "    return training_utils.slice_arrays(\n",
      "           ^^^^^^^^^^^^^^^^^^^^^^^^^^^^\n",
      "\n",
      "  File \"/Library/Frameworks/Python.framework/Versions/3.11/lib/python3.11/site-packages/keras/src/engine/training_utils.py\", line 47, in slice_arrays\n",
      "    entries = [[x[i : i + 1] for i in indices] for x in arrays]\n",
      "              ^^^^^^^^^^^^^^^^^^^^^^^^^^^^^^^^^^^^^^^^^^^^^^^^^\n",
      "\n",
      "  File \"/Library/Frameworks/Python.framework/Versions/3.11/lib/python3.11/site-packages/keras/src/engine/training_utils.py\", line 47, in <listcomp>\n",
      "    entries = [[x[i : i + 1] for i in indices] for x in arrays]\n",
      "               ^^^^^^^^^^^^^^^^^^^^^^^^^^^^^^^\n",
      "\n",
      "  File \"/Library/Frameworks/Python.framework/Versions/3.11/lib/python3.11/site-packages/keras/src/engine/training_utils.py\", line 47, in <listcomp>\n",
      "    entries = [[x[i : i + 1] for i in indices] for x in arrays]\n",
      "                ~^^^^^^^^^^^\n",
      "\n",
      "TypeError: 'SparseTensor' object is not subscriptable\n",
      "\n",
      "\n",
      "2024-03-02 05:39:53.498088: W tensorflow/core/framework/op_kernel.cc:1827] INVALID_ARGUMENT: TypeError: 'SparseTensor' object is not subscriptable\n",
      "Traceback (most recent call last):\n",
      "\n",
      "  File \"/Library/Frameworks/Python.framework/Versions/3.11/lib/python3.11/site-packages/tensorflow/python/ops/script_ops.py\", line 268, in __call__\n",
      "    return func(device, token, args)\n",
      "           ^^^^^^^^^^^^^^^^^^^^^^^^^\n",
      "\n",
      "  File \"/Library/Frameworks/Python.framework/Versions/3.11/lib/python3.11/site-packages/tensorflow/python/ops/script_ops.py\", line 146, in __call__\n",
      "    outputs = self._call(device, args)\n",
      "              ^^^^^^^^^^^^^^^^^^^^^^^^\n",
      "\n",
      "  File \"/Library/Frameworks/Python.framework/Versions/3.11/lib/python3.11/site-packages/tensorflow/python/ops/script_ops.py\", line 153, in _call\n",
      "    ret = self._func(*args)\n",
      "          ^^^^^^^^^^^^^^^^^\n",
      "\n",
      "  File \"/Library/Frameworks/Python.framework/Versions/3.11/lib/python3.11/site-packages/tensorflow/python/autograph/impl/api.py\", line 643, in wrapper\n",
      "    return func(*args, **kwargs)\n",
      "           ^^^^^^^^^^^^^^^^^^^^^\n",
      "\n",
      "  File \"/Library/Frameworks/Python.framework/Versions/3.11/lib/python3.11/site-packages/keras/src/engine/data_adapter.py\", line 519, in py_method\n",
      "    return [slice_array(inp) for inp in flat_inputs]\n",
      "           ^^^^^^^^^^^^^^^^^^^^^^^^^^^^^^^^^^^^^^^^^\n",
      "\n",
      "  File \"/Library/Frameworks/Python.framework/Versions/3.11/lib/python3.11/site-packages/keras/src/engine/data_adapter.py\", line 519, in <listcomp>\n",
      "    return [slice_array(inp) for inp in flat_inputs]\n",
      "            ^^^^^^^^^^^^^^^^\n",
      "\n",
      "  File \"/Library/Frameworks/Python.framework/Versions/3.11/lib/python3.11/site-packages/keras/src/engine/data_adapter.py\", line 515, in slice_array\n",
      "    return training_utils.slice_arrays(\n",
      "           ^^^^^^^^^^^^^^^^^^^^^^^^^^^^\n",
      "\n",
      "  File \"/Library/Frameworks/Python.framework/Versions/3.11/lib/python3.11/site-packages/keras/src/engine/training_utils.py\", line 47, in slice_arrays\n",
      "    entries = [[x[i : i + 1] for i in indices] for x in arrays]\n",
      "              ^^^^^^^^^^^^^^^^^^^^^^^^^^^^^^^^^^^^^^^^^^^^^^^^^\n",
      "\n",
      "  File \"/Library/Frameworks/Python.framework/Versions/3.11/lib/python3.11/site-packages/keras/src/engine/training_utils.py\", line 47, in <listcomp>\n",
      "    entries = [[x[i : i + 1] for i in indices] for x in arrays]\n",
      "               ^^^^^^^^^^^^^^^^^^^^^^^^^^^^^^^\n",
      "\n",
      "  File \"/Library/Frameworks/Python.framework/Versions/3.11/lib/python3.11/site-packages/keras/src/engine/training_utils.py\", line 47, in <listcomp>\n",
      "    entries = [[x[i : i + 1] for i in indices] for x in arrays]\n",
      "                ~^^^^^^^^^^^\n",
      "\n",
      "TypeError: 'SparseTensor' object is not subscriptable\n",
      "\n",
      "\n",
      "2024-03-02 05:39:53.498262: W tensorflow/core/framework/op_kernel.cc:1827] INVALID_ARGUMENT: TypeError: 'SparseTensor' object is not subscriptable\n",
      "Traceback (most recent call last):\n",
      "\n",
      "  File \"/Library/Frameworks/Python.framework/Versions/3.11/lib/python3.11/site-packages/tensorflow/python/ops/script_ops.py\", line 268, in __call__\n",
      "    return func(device, token, args)\n",
      "           ^^^^^^^^^^^^^^^^^^^^^^^^^\n",
      "\n",
      "  File \"/Library/Frameworks/Python.framework/Versions/3.11/lib/python3.11/site-packages/tensorflow/python/ops/script_ops.py\", line 146, in __call__\n",
      "    outputs = self._call(device, args)\n",
      "              ^^^^^^^^^^^^^^^^^^^^^^^^\n",
      "\n",
      "  File \"/Library/Frameworks/Python.framework/Versions/3.11/lib/python3.11/site-packages/tensorflow/python/ops/script_ops.py\", line 153, in _call\n",
      "    ret = self._func(*args)\n",
      "          ^^^^^^^^^^^^^^^^^\n",
      "\n",
      "  File \"/Library/Frameworks/Python.framework/Versions/3.11/lib/python3.11/site-packages/tensorflow/python/autograph/impl/api.py\", line 643, in wrapper\n",
      "    return func(*args, **kwargs)\n",
      "           ^^^^^^^^^^^^^^^^^^^^^\n",
      "\n",
      "  File \"/Library/Frameworks/Python.framework/Versions/3.11/lib/python3.11/site-packages/keras/src/engine/data_adapter.py\", line 519, in py_method\n",
      "    return [slice_array(inp) for inp in flat_inputs]\n",
      "           ^^^^^^^^^^^^^^^^^^^^^^^^^^^^^^^^^^^^^^^^^\n",
      "\n",
      "  File \"/Library/Frameworks/Python.framework/Versions/3.11/lib/python3.11/site-packages/keras/src/engine/data_adapter.py\", line 519, in <listcomp>\n",
      "    return [slice_array(inp) for inp in flat_inputs]\n",
      "            ^^^^^^^^^^^^^^^^\n",
      "\n",
      "  File \"/Library/Frameworks/Python.framework/Versions/3.11/lib/python3.11/site-packages/keras/src/engine/data_adapter.py\", line 515, in slice_array\n",
      "    return training_utils.slice_arrays(\n",
      "           ^^^^^^^^^^^^^^^^^^^^^^^^^^^^\n",
      "\n",
      "  File \"/Library/Frameworks/Python.framework/Versions/3.11/lib/python3.11/site-packages/keras/src/engine/training_utils.py\", line 47, in slice_arrays\n",
      "    entries = [[x[i : i + 1] for i in indices] for x in arrays]\n",
      "              ^^^^^^^^^^^^^^^^^^^^^^^^^^^^^^^^^^^^^^^^^^^^^^^^^\n",
      "\n",
      "  File \"/Library/Frameworks/Python.framework/Versions/3.11/lib/python3.11/site-packages/keras/src/engine/training_utils.py\", line 47, in <listcomp>\n",
      "    entries = [[x[i : i + 1] for i in indices] for x in arrays]\n",
      "               ^^^^^^^^^^^^^^^^^^^^^^^^^^^^^^^\n",
      "\n",
      "  File \"/Library/Frameworks/Python.framework/Versions/3.11/lib/python3.11/site-packages/keras/src/engine/training_utils.py\", line 47, in <listcomp>\n",
      "    entries = [[x[i : i + 1] for i in indices] for x in arrays]\n",
      "                ~^^^^^^^^^^^\n",
      "\n",
      "TypeError: 'SparseTensor' object is not subscriptable\n",
      "\n",
      "\n",
      "2024-03-02 05:39:53.498844: W tensorflow/core/framework/op_kernel.cc:1827] INVALID_ARGUMENT: TypeError: 'SparseTensor' object is not subscriptable\n",
      "Traceback (most recent call last):\n",
      "\n",
      "  File \"/Library/Frameworks/Python.framework/Versions/3.11/lib/python3.11/site-packages/tensorflow/python/ops/script_ops.py\", line 268, in __call__\n",
      "    return func(device, token, args)\n",
      "           ^^^^^^^^^^^^^^^^^^^^^^^^^\n",
      "\n",
      "  File \"/Library/Frameworks/Python.framework/Versions/3.11/lib/python3.11/site-packages/tensorflow/python/ops/script_ops.py\", line 146, in __call__\n",
      "    outputs = self._call(device, args)\n",
      "              ^^^^^^^^^^^^^^^^^^^^^^^^\n",
      "\n",
      "  File \"/Library/Frameworks/Python.framework/Versions/3.11/lib/python3.11/site-packages/tensorflow/python/ops/script_ops.py\", line 153, in _call\n",
      "    ret = self._func(*args)\n",
      "          ^^^^^^^^^^^^^^^^^\n",
      "\n",
      "  File \"/Library/Frameworks/Python.framework/Versions/3.11/lib/python3.11/site-packages/tensorflow/python/autograph/impl/api.py\", line 643, in wrapper\n",
      "    return func(*args, **kwargs)\n",
      "           ^^^^^^^^^^^^^^^^^^^^^\n",
      "\n",
      "  File \"/Library/Frameworks/Python.framework/Versions/3.11/lib/python3.11/site-packages/keras/src/engine/data_adapter.py\", line 519, in py_method\n",
      "    return [slice_array(inp) for inp in flat_inputs]\n",
      "           ^^^^^^^^^^^^^^^^^^^^^^^^^^^^^^^^^^^^^^^^^\n",
      "\n",
      "  File \"/Library/Frameworks/Python.framework/Versions/3.11/lib/python3.11/site-packages/keras/src/engine/data_adapter.py\", line 519, in <listcomp>\n",
      "    return [slice_array(inp) for inp in flat_inputs]\n",
      "            ^^^^^^^^^^^^^^^^\n",
      "\n",
      "  File \"/Library/Frameworks/Python.framework/Versions/3.11/lib/python3.11/site-packages/keras/src/engine/data_adapter.py\", line 515, in slice_array\n",
      "    return training_utils.slice_arrays(\n",
      "           ^^^^^^^^^^^^^^^^^^^^^^^^^^^^\n",
      "\n",
      "  File \"/Library/Frameworks/Python.framework/Versions/3.11/lib/python3.11/site-packages/keras/src/engine/training_utils.py\", line 47, in slice_arrays\n",
      "    entries = [[x[i : i + 1] for i in indices] for x in arrays]\n",
      "              ^^^^^^^^^^^^^^^^^^^^^^^^^^^^^^^^^^^^^^^^^^^^^^^^^\n",
      "\n",
      "  File \"/Library/Frameworks/Python.framework/Versions/3.11/lib/python3.11/site-packages/keras/src/engine/training_utils.py\", line 47, in <listcomp>\n",
      "    entries = [[x[i : i + 1] for i in indices] for x in arrays]\n",
      "               ^^^^^^^^^^^^^^^^^^^^^^^^^^^^^^^\n",
      "\n",
      "  File \"/Library/Frameworks/Python.framework/Versions/3.11/lib/python3.11/site-packages/keras/src/engine/training_utils.py\", line 47, in <listcomp>\n",
      "    entries = [[x[i : i + 1] for i in indices] for x in arrays]\n",
      "                ~^^^^^^^^^^^\n",
      "\n",
      "TypeError: 'SparseTensor' object is not subscriptable\n",
      "\n",
      "\n",
      "2024-03-02 05:39:53.499232: W tensorflow/core/framework/op_kernel.cc:1827] INVALID_ARGUMENT: TypeError: 'SparseTensor' object is not subscriptable\n",
      "Traceback (most recent call last):\n",
      "\n",
      "  File \"/Library/Frameworks/Python.framework/Versions/3.11/lib/python3.11/site-packages/tensorflow/python/ops/script_ops.py\", line 268, in __call__\n",
      "    return func(device, token, args)\n",
      "           ^^^^^^^^^^^^^^^^^^^^^^^^^\n",
      "\n",
      "  File \"/Library/Frameworks/Python.framework/Versions/3.11/lib/python3.11/site-packages/tensorflow/python/ops/script_ops.py\", line 146, in __call__\n",
      "    outputs = self._call(device, args)\n",
      "              ^^^^^^^^^^^^^^^^^^^^^^^^\n",
      "\n",
      "  File \"/Library/Frameworks/Python.framework/Versions/3.11/lib/python3.11/site-packages/tensorflow/python/ops/script_ops.py\", line 153, in _call\n",
      "    ret = self._func(*args)\n",
      "          ^^^^^^^^^^^^^^^^^\n",
      "\n",
      "  File \"/Library/Frameworks/Python.framework/Versions/3.11/lib/python3.11/site-packages/tensorflow/python/autograph/impl/api.py\", line 643, in wrapper\n",
      "    return func(*args, **kwargs)\n",
      "           ^^^^^^^^^^^^^^^^^^^^^\n",
      "\n",
      "  File \"/Library/Frameworks/Python.framework/Versions/3.11/lib/python3.11/site-packages/keras/src/engine/data_adapter.py\", line 519, in py_method\n",
      "    return [slice_array(inp) for inp in flat_inputs]\n",
      "           ^^^^^^^^^^^^^^^^^^^^^^^^^^^^^^^^^^^^^^^^^\n",
      "\n",
      "  File \"/Library/Frameworks/Python.framework/Versions/3.11/lib/python3.11/site-packages/keras/src/engine/data_adapter.py\", line 519, in <listcomp>\n",
      "    return [slice_array(inp) for inp in flat_inputs]\n",
      "            ^^^^^^^^^^^^^^^^\n",
      "\n",
      "  File \"/Library/Frameworks/Python.framework/Versions/3.11/lib/python3.11/site-packages/keras/src/engine/data_adapter.py\", line 515, in slice_array\n",
      "    return training_utils.slice_arrays(\n",
      "           ^^^^^^^^^^^^^^^^^^^^^^^^^^^^\n",
      "\n",
      "  File \"/Library/Frameworks/Python.framework/Versions/3.11/lib/python3.11/site-packages/keras/src/engine/training_utils.py\", line 47, in slice_arrays\n",
      "    entries = [[x[i : i + 1] for i in indices] for x in arrays]\n",
      "              ^^^^^^^^^^^^^^^^^^^^^^^^^^^^^^^^^^^^^^^^^^^^^^^^^\n",
      "\n",
      "  File \"/Library/Frameworks/Python.framework/Versions/3.11/lib/python3.11/site-packages/keras/src/engine/training_utils.py\", line 47, in <listcomp>\n",
      "    entries = [[x[i : i + 1] for i in indices] for x in arrays]\n",
      "               ^^^^^^^^^^^^^^^^^^^^^^^^^^^^^^^\n",
      "\n",
      "  File \"/Library/Frameworks/Python.framework/Versions/3.11/lib/python3.11/site-packages/keras/src/engine/training_utils.py\", line 47, in <listcomp>\n",
      "    entries = [[x[i : i + 1] for i in indices] for x in arrays]\n",
      "                ~^^^^^^^^^^^\n",
      "\n",
      "TypeError: 'SparseTensor' object is not subscriptable\n",
      "\n",
      "\n",
      "2024-03-02 05:39:53.499403: W tensorflow/core/framework/op_kernel.cc:1827] INVALID_ARGUMENT: TypeError: 'SparseTensor' object is not subscriptable\n",
      "Traceback (most recent call last):\n",
      "\n",
      "  File \"/Library/Frameworks/Python.framework/Versions/3.11/lib/python3.11/site-packages/tensorflow/python/ops/script_ops.py\", line 268, in __call__\n",
      "    return func(device, token, args)\n",
      "           ^^^^^^^^^^^^^^^^^^^^^^^^^\n",
      "\n",
      "  File \"/Library/Frameworks/Python.framework/Versions/3.11/lib/python3.11/site-packages/tensorflow/python/ops/script_ops.py\", line 146, in __call__\n",
      "    outputs = self._call(device, args)\n",
      "              ^^^^^^^^^^^^^^^^^^^^^^^^\n",
      "\n",
      "  File \"/Library/Frameworks/Python.framework/Versions/3.11/lib/python3.11/site-packages/tensorflow/python/ops/script_ops.py\", line 153, in _call\n",
      "    ret = self._func(*args)\n",
      "          ^^^^^^^^^^^^^^^^^\n",
      "\n",
      "  File \"/Library/Frameworks/Python.framework/Versions/3.11/lib/python3.11/site-packages/tensorflow/python/autograph/impl/api.py\", line 643, in wrapper\n",
      "    return func(*args, **kwargs)\n",
      "           ^^^^^^^^^^^^^^^^^^^^^\n",
      "\n",
      "  File \"/Library/Frameworks/Python.framework/Versions/3.11/lib/python3.11/site-packages/keras/src/engine/data_adapter.py\", line 519, in py_method\n",
      "    return [slice_array(inp) for inp in flat_inputs]\n",
      "           ^^^^^^^^^^^^^^^^^^^^^^^^^^^^^^^^^^^^^^^^^\n",
      "\n",
      "  File \"/Library/Frameworks/Python.framework/Versions/3.11/lib/python3.11/site-packages/keras/src/engine/data_adapter.py\", line 519, in <listcomp>\n",
      "    return [slice_array(inp) for inp in flat_inputs]\n",
      "            ^^^^^^^^^^^^^^^^\n",
      "\n",
      "  File \"/Library/Frameworks/Python.framework/Versions/3.11/lib/python3.11/site-packages/keras/src/engine/data_adapter.py\", line 515, in slice_array\n",
      "    return training_utils.slice_arrays(\n",
      "           ^^^^^^^^^^^^^^^^^^^^^^^^^^^^\n",
      "\n",
      "  File \"/Library/Frameworks/Python.framework/Versions/3.11/lib/python3.11/site-packages/keras/src/engine/training_utils.py\", line 47, in slice_arrays\n",
      "    entries = [[x[i : i + 1] for i in indices] for x in arrays]\n",
      "              ^^^^^^^^^^^^^^^^^^^^^^^^^^^^^^^^^^^^^^^^^^^^^^^^^\n",
      "\n",
      "  File \"/Library/Frameworks/Python.framework/Versions/3.11/lib/python3.11/site-packages/keras/src/engine/training_utils.py\", line 47, in <listcomp>\n",
      "    entries = [[x[i : i + 1] for i in indices] for x in arrays]\n",
      "               ^^^^^^^^^^^^^^^^^^^^^^^^^^^^^^^\n",
      "\n",
      "  File \"/Library/Frameworks/Python.framework/Versions/3.11/lib/python3.11/site-packages/keras/src/engine/training_utils.py\", line 47, in <listcomp>\n",
      "    entries = [[x[i : i + 1] for i in indices] for x in arrays]\n",
      "                ~^^^^^^^^^^^\n",
      "\n",
      "TypeError: 'SparseTensor' object is not subscriptable\n",
      "\n",
      "\n",
      "2024-03-02 05:39:53.499673: W tensorflow/core/framework/op_kernel.cc:1827] INVALID_ARGUMENT: TypeError: 'SparseTensor' object is not subscriptable\n",
      "Traceback (most recent call last):\n",
      "\n",
      "  File \"/Library/Frameworks/Python.framework/Versions/3.11/lib/python3.11/site-packages/tensorflow/python/ops/script_ops.py\", line 268, in __call__\n",
      "    return func(device, token, args)\n",
      "           ^^^^^^^^^^^^^^^^^^^^^^^^^\n",
      "\n",
      "  File \"/Library/Frameworks/Python.framework/Versions/3.11/lib/python3.11/site-packages/tensorflow/python/ops/script_ops.py\", line 146, in __call__\n",
      "    outputs = self._call(device, args)\n",
      "              ^^^^^^^^^^^^^^^^^^^^^^^^\n",
      "\n",
      "  File \"/Library/Frameworks/Python.framework/Versions/3.11/lib/python3.11/site-packages/tensorflow/python/ops/script_ops.py\", line 153, in _call\n",
      "    ret = self._func(*args)\n",
      "          ^^^^^^^^^^^^^^^^^\n",
      "\n",
      "  File \"/Library/Frameworks/Python.framework/Versions/3.11/lib/python3.11/site-packages/tensorflow/python/autograph/impl/api.py\", line 643, in wrapper\n",
      "    return func(*args, **kwargs)\n",
      "           ^^^^^^^^^^^^^^^^^^^^^\n",
      "\n",
      "  File \"/Library/Frameworks/Python.framework/Versions/3.11/lib/python3.11/site-packages/keras/src/engine/data_adapter.py\", line 519, in py_method\n",
      "    return [slice_array(inp) for inp in flat_inputs]\n",
      "           ^^^^^^^^^^^^^^^^^^^^^^^^^^^^^^^^^^^^^^^^^\n",
      "\n",
      "  File \"/Library/Frameworks/Python.framework/Versions/3.11/lib/python3.11/site-packages/keras/src/engine/data_adapter.py\", line 519, in <listcomp>\n",
      "    return [slice_array(inp) for inp in flat_inputs]\n",
      "            ^^^^^^^^^^^^^^^^\n",
      "\n",
      "  File \"/Library/Frameworks/Python.framework/Versions/3.11/lib/python3.11/site-packages/keras/src/engine/data_adapter.py\", line 515, in slice_array\n",
      "    return training_utils.slice_arrays(\n",
      "           ^^^^^^^^^^^^^^^^^^^^^^^^^^^^\n",
      "\n",
      "  File \"/Library/Frameworks/Python.framework/Versions/3.11/lib/python3.11/site-packages/keras/src/engine/training_utils.py\", line 47, in slice_arrays\n",
      "    entries = [[x[i : i + 1] for i in indices] for x in arrays]\n",
      "              ^^^^^^^^^^^^^^^^^^^^^^^^^^^^^^^^^^^^^^^^^^^^^^^^^\n",
      "\n",
      "  File \"/Library/Frameworks/Python.framework/Versions/3.11/lib/python3.11/site-packages/keras/src/engine/training_utils.py\", line 47, in <listcomp>\n",
      "    entries = [[x[i : i + 1] for i in indices] for x in arrays]\n",
      "               ^^^^^^^^^^^^^^^^^^^^^^^^^^^^^^^\n",
      "\n",
      "  File \"/Library/Frameworks/Python.framework/Versions/3.11/lib/python3.11/site-packages/keras/src/engine/training_utils.py\", line 47, in <listcomp>\n",
      "    entries = [[x[i : i + 1] for i in indices] for x in arrays]\n",
      "                ~^^^^^^^^^^^\n",
      "\n",
      "TypeError: 'SparseTensor' object is not subscriptable\n",
      "\n",
      "\n",
      "2024-03-02 05:39:53.499880: W tensorflow/core/framework/op_kernel.cc:1827] INVALID_ARGUMENT: TypeError: 'SparseTensor' object is not subscriptable\n",
      "Traceback (most recent call last):\n",
      "\n",
      "  File \"/Library/Frameworks/Python.framework/Versions/3.11/lib/python3.11/site-packages/tensorflow/python/ops/script_ops.py\", line 268, in __call__\n",
      "    return func(device, token, args)\n",
      "           ^^^^^^^^^^^^^^^^^^^^^^^^^\n",
      "\n",
      "  File \"/Library/Frameworks/Python.framework/Versions/3.11/lib/python3.11/site-packages/tensorflow/python/ops/script_ops.py\", line 146, in __call__\n",
      "    outputs = self._call(device, args)\n",
      "              ^^^^^^^^^^^^^^^^^^^^^^^^\n",
      "\n",
      "  File \"/Library/Frameworks/Python.framework/Versions/3.11/lib/python3.11/site-packages/tensorflow/python/ops/script_ops.py\", line 153, in _call\n",
      "    ret = self._func(*args)\n",
      "          ^^^^^^^^^^^^^^^^^\n",
      "\n",
      "  File \"/Library/Frameworks/Python.framework/Versions/3.11/lib/python3.11/site-packages/tensorflow/python/autograph/impl/api.py\", line 643, in wrapper\n",
      "    return func(*args, **kwargs)\n",
      "           ^^^^^^^^^^^^^^^^^^^^^\n",
      "\n",
      "  File \"/Library/Frameworks/Python.framework/Versions/3.11/lib/python3.11/site-packages/keras/src/engine/data_adapter.py\", line 519, in py_method\n",
      "    return [slice_array(inp) for inp in flat_inputs]\n",
      "           ^^^^^^^^^^^^^^^^^^^^^^^^^^^^^^^^^^^^^^^^^\n",
      "\n",
      "  File \"/Library/Frameworks/Python.framework/Versions/3.11/lib/python3.11/site-packages/keras/src/engine/data_adapter.py\", line 519, in <listcomp>\n",
      "    return [slice_array(inp) for inp in flat_inputs]\n",
      "            ^^^^^^^^^^^^^^^^\n",
      "\n",
      "  File \"/Library/Frameworks/Python.framework/Versions/3.11/lib/python3.11/site-packages/keras/src/engine/data_adapter.py\", line 515, in slice_array\n",
      "    return training_utils.slice_arrays(\n",
      "           ^^^^^^^^^^^^^^^^^^^^^^^^^^^^\n",
      "\n",
      "  File \"/Library/Frameworks/Python.framework/Versions/3.11/lib/python3.11/site-packages/keras/src/engine/training_utils.py\", line 47, in slice_arrays\n",
      "    entries = [[x[i : i + 1] for i in indices] for x in arrays]\n",
      "              ^^^^^^^^^^^^^^^^^^^^^^^^^^^^^^^^^^^^^^^^^^^^^^^^^\n",
      "\n",
      "  File \"/Library/Frameworks/Python.framework/Versions/3.11/lib/python3.11/site-packages/keras/src/engine/training_utils.py\", line 47, in <listcomp>\n",
      "    entries = [[x[i : i + 1] for i in indices] for x in arrays]\n",
      "               ^^^^^^^^^^^^^^^^^^^^^^^^^^^^^^^\n",
      "\n",
      "  File \"/Library/Frameworks/Python.framework/Versions/3.11/lib/python3.11/site-packages/keras/src/engine/training_utils.py\", line 47, in <listcomp>\n",
      "    entries = [[x[i : i + 1] for i in indices] for x in arrays]\n",
      "                ~^^^^^^^^^^^\n",
      "\n",
      "TypeError: 'SparseTensor' object is not subscriptable\n",
      "\n",
      "\n"
     ]
    },
    {
     "ename": "InvalidArgumentError",
     "evalue": "Graph execution error:\n\nDetected at node EagerPyFunc defined at (most recent call last):\n<stack traces unavailable>\nTypeError: 'SparseTensor' object is not subscriptable\nTraceback (most recent call last):\n\n  File \"/Library/Frameworks/Python.framework/Versions/3.11/lib/python3.11/site-packages/tensorflow/python/ops/script_ops.py\", line 268, in __call__\n    return func(device, token, args)\n           ^^^^^^^^^^^^^^^^^^^^^^^^^\n\n  File \"/Library/Frameworks/Python.framework/Versions/3.11/lib/python3.11/site-packages/tensorflow/python/ops/script_ops.py\", line 146, in __call__\n    outputs = self._call(device, args)\n              ^^^^^^^^^^^^^^^^^^^^^^^^\n\n  File \"/Library/Frameworks/Python.framework/Versions/3.11/lib/python3.11/site-packages/tensorflow/python/ops/script_ops.py\", line 153, in _call\n    ret = self._func(*args)\n          ^^^^^^^^^^^^^^^^^\n\n  File \"/Library/Frameworks/Python.framework/Versions/3.11/lib/python3.11/site-packages/tensorflow/python/autograph/impl/api.py\", line 643, in wrapper\n    return func(*args, **kwargs)\n           ^^^^^^^^^^^^^^^^^^^^^\n\n  File \"/Library/Frameworks/Python.framework/Versions/3.11/lib/python3.11/site-packages/keras/src/engine/data_adapter.py\", line 519, in py_method\n    return [slice_array(inp) for inp in flat_inputs]\n           ^^^^^^^^^^^^^^^^^^^^^^^^^^^^^^^^^^^^^^^^^\n\n  File \"/Library/Frameworks/Python.framework/Versions/3.11/lib/python3.11/site-packages/keras/src/engine/data_adapter.py\", line 519, in <listcomp>\n    return [slice_array(inp) for inp in flat_inputs]\n            ^^^^^^^^^^^^^^^^\n\n  File \"/Library/Frameworks/Python.framework/Versions/3.11/lib/python3.11/site-packages/keras/src/engine/data_adapter.py\", line 515, in slice_array\n    return training_utils.slice_arrays(\n           ^^^^^^^^^^^^^^^^^^^^^^^^^^^^\n\n  File \"/Library/Frameworks/Python.framework/Versions/3.11/lib/python3.11/site-packages/keras/src/engine/training_utils.py\", line 47, in slice_arrays\n    entries = [[x[i : i + 1] for i in indices] for x in arrays]\n              ^^^^^^^^^^^^^^^^^^^^^^^^^^^^^^^^^^^^^^^^^^^^^^^^^\n\n  File \"/Library/Frameworks/Python.framework/Versions/3.11/lib/python3.11/site-packages/keras/src/engine/training_utils.py\", line 47, in <listcomp>\n    entries = [[x[i : i + 1] for i in indices] for x in arrays]\n               ^^^^^^^^^^^^^^^^^^^^^^^^^^^^^^^\n\n  File \"/Library/Frameworks/Python.framework/Versions/3.11/lib/python3.11/site-packages/keras/src/engine/training_utils.py\", line 47, in <listcomp>\n    entries = [[x[i : i + 1] for i in indices] for x in arrays]\n                ~^^^^^^^^^^^\n\nTypeError: 'SparseTensor' object is not subscriptable\n\n\n\t [[{{node EagerPyFunc}}]]\n\t [[IteratorGetNext]] [Op:__inference_train_function_1005]",
     "output_type": "error",
     "traceback": [
      "\u001b[0;31m---------------------------------------------------------------------------\u001b[0m",
      "\u001b[0;31mInvalidArgumentError\u001b[0m                      Traceback (most recent call last)",
      "\u001b[1;32m/Users/addisonjpratt/sfguide-intro-to-machine-learning-with-snowpark-ml-for-python/database.ipynb Cell 64\u001b[0m line \u001b[0;36m5\n\u001b[1;32m     <a href='vscode-notebook-cell:/Users/addisonjpratt/sfguide-intro-to-machine-learning-with-snowpark-ml-for-python/database.ipynb#Y146sZmlsZQ%3D%3D?line=52'>53</a>\u001b[0m model\u001b[39m.\u001b[39mcompile(optimizer\u001b[39m=\u001b[39m\u001b[39m'\u001b[39m\u001b[39madam\u001b[39m\u001b[39m'\u001b[39m, loss\u001b[39m=\u001b[39m\u001b[39m'\u001b[39m\u001b[39mmean_squared_error\u001b[39m\u001b[39m'\u001b[39m)\n\u001b[1;32m     <a href='vscode-notebook-cell:/Users/addisonjpratt/sfguide-intro-to-machine-learning-with-snowpark-ml-for-python/database.ipynb#Y146sZmlsZQ%3D%3D?line=54'>55</a>\u001b[0m \u001b[39m# Train the model\u001b[39;00m\n\u001b[0;32m---> <a href='vscode-notebook-cell:/Users/addisonjpratt/sfguide-intro-to-machine-learning-with-snowpark-ml-for-python/database.ipynb#Y146sZmlsZQ%3D%3D?line=55'>56</a>\u001b[0m model\u001b[39m.\u001b[39;49mfit(X_train, y_train, epochs\u001b[39m=\u001b[39;49m\u001b[39m10\u001b[39;49m, batch_size\u001b[39m=\u001b[39;49m\u001b[39m32\u001b[39;49m, validation_data\u001b[39m=\u001b[39;49m(X_test, y_test))\n\u001b[1;32m     <a href='vscode-notebook-cell:/Users/addisonjpratt/sfguide-intro-to-machine-learning-with-snowpark-ml-for-python/database.ipynb#Y146sZmlsZQ%3D%3D?line=57'>58</a>\u001b[0m \u001b[39m# Evaluate the model on test data\u001b[39;00m\n\u001b[1;32m     <a href='vscode-notebook-cell:/Users/addisonjpratt/sfguide-intro-to-machine-learning-with-snowpark-ml-for-python/database.ipynb#Y146sZmlsZQ%3D%3D?line=58'>59</a>\u001b[0m loss \u001b[39m=\u001b[39m model\u001b[39m.\u001b[39mevaluate(X_test, y_test)\n",
      "File \u001b[0;32m/Library/Frameworks/Python.framework/Versions/3.11/lib/python3.11/site-packages/keras/src/utils/traceback_utils.py:70\u001b[0m, in \u001b[0;36mfilter_traceback.<locals>.error_handler\u001b[0;34m(*args, **kwargs)\u001b[0m\n\u001b[1;32m     67\u001b[0m     filtered_tb \u001b[39m=\u001b[39m _process_traceback_frames(e\u001b[39m.\u001b[39m__traceback__)\n\u001b[1;32m     68\u001b[0m     \u001b[39m# To get the full stack trace, call:\u001b[39;00m\n\u001b[1;32m     69\u001b[0m     \u001b[39m# `tf.debugging.disable_traceback_filtering()`\u001b[39;00m\n\u001b[0;32m---> 70\u001b[0m     \u001b[39mraise\u001b[39;00m e\u001b[39m.\u001b[39mwith_traceback(filtered_tb) \u001b[39mfrom\u001b[39;00m \u001b[39mNone\u001b[39;00m\n\u001b[1;32m     71\u001b[0m \u001b[39mfinally\u001b[39;00m:\n\u001b[1;32m     72\u001b[0m     \u001b[39mdel\u001b[39;00m filtered_tb\n",
      "File \u001b[0;32m/Library/Frameworks/Python.framework/Versions/3.11/lib/python3.11/site-packages/tensorflow/python/eager/execute.py:53\u001b[0m, in \u001b[0;36mquick_execute\u001b[0;34m(op_name, num_outputs, inputs, attrs, ctx, name)\u001b[0m\n\u001b[1;32m     51\u001b[0m \u001b[39mtry\u001b[39;00m:\n\u001b[1;32m     52\u001b[0m   ctx\u001b[39m.\u001b[39mensure_initialized()\n\u001b[0;32m---> 53\u001b[0m   tensors \u001b[39m=\u001b[39m pywrap_tfe\u001b[39m.\u001b[39mTFE_Py_Execute(ctx\u001b[39m.\u001b[39m_handle, device_name, op_name,\n\u001b[1;32m     54\u001b[0m                                       inputs, attrs, num_outputs)\n\u001b[1;32m     55\u001b[0m \u001b[39mexcept\u001b[39;00m core\u001b[39m.\u001b[39m_NotOkStatusException \u001b[39mas\u001b[39;00m e:\n\u001b[1;32m     56\u001b[0m   \u001b[39mif\u001b[39;00m name \u001b[39mis\u001b[39;00m \u001b[39mnot\u001b[39;00m \u001b[39mNone\u001b[39;00m:\n",
      "\u001b[0;31mInvalidArgumentError\u001b[0m: Graph execution error:\n\nDetected at node EagerPyFunc defined at (most recent call last):\n<stack traces unavailable>\nTypeError: 'SparseTensor' object is not subscriptable\nTraceback (most recent call last):\n\n  File \"/Library/Frameworks/Python.framework/Versions/3.11/lib/python3.11/site-packages/tensorflow/python/ops/script_ops.py\", line 268, in __call__\n    return func(device, token, args)\n           ^^^^^^^^^^^^^^^^^^^^^^^^^\n\n  File \"/Library/Frameworks/Python.framework/Versions/3.11/lib/python3.11/site-packages/tensorflow/python/ops/script_ops.py\", line 146, in __call__\n    outputs = self._call(device, args)\n              ^^^^^^^^^^^^^^^^^^^^^^^^\n\n  File \"/Library/Frameworks/Python.framework/Versions/3.11/lib/python3.11/site-packages/tensorflow/python/ops/script_ops.py\", line 153, in _call\n    ret = self._func(*args)\n          ^^^^^^^^^^^^^^^^^\n\n  File \"/Library/Frameworks/Python.framework/Versions/3.11/lib/python3.11/site-packages/tensorflow/python/autograph/impl/api.py\", line 643, in wrapper\n    return func(*args, **kwargs)\n           ^^^^^^^^^^^^^^^^^^^^^\n\n  File \"/Library/Frameworks/Python.framework/Versions/3.11/lib/python3.11/site-packages/keras/src/engine/data_adapter.py\", line 519, in py_method\n    return [slice_array(inp) for inp in flat_inputs]\n           ^^^^^^^^^^^^^^^^^^^^^^^^^^^^^^^^^^^^^^^^^\n\n  File \"/Library/Frameworks/Python.framework/Versions/3.11/lib/python3.11/site-packages/keras/src/engine/data_adapter.py\", line 519, in <listcomp>\n    return [slice_array(inp) for inp in flat_inputs]\n            ^^^^^^^^^^^^^^^^\n\n  File \"/Library/Frameworks/Python.framework/Versions/3.11/lib/python3.11/site-packages/keras/src/engine/data_adapter.py\", line 515, in slice_array\n    return training_utils.slice_arrays(\n           ^^^^^^^^^^^^^^^^^^^^^^^^^^^^\n\n  File \"/Library/Frameworks/Python.framework/Versions/3.11/lib/python3.11/site-packages/keras/src/engine/training_utils.py\", line 47, in slice_arrays\n    entries = [[x[i : i + 1] for i in indices] for x in arrays]\n              ^^^^^^^^^^^^^^^^^^^^^^^^^^^^^^^^^^^^^^^^^^^^^^^^^\n\n  File \"/Library/Frameworks/Python.framework/Versions/3.11/lib/python3.11/site-packages/keras/src/engine/training_utils.py\", line 47, in <listcomp>\n    entries = [[x[i : i + 1] for i in indices] for x in arrays]\n               ^^^^^^^^^^^^^^^^^^^^^^^^^^^^^^^\n\n  File \"/Library/Frameworks/Python.framework/Versions/3.11/lib/python3.11/site-packages/keras/src/engine/training_utils.py\", line 47, in <listcomp>\n    entries = [[x[i : i + 1] for i in indices] for x in arrays]\n                ~^^^^^^^^^^^\n\nTypeError: 'SparseTensor' object is not subscriptable\n\n\n\t [[{{node EagerPyFunc}}]]\n\t [[IteratorGetNext]] [Op:__inference_train_function_1005]"
     ]
    }
   ],
   "source": [
    "# Import necessary libraries\n",
    "import tensorflow as tf\n",
    "from tensorflow.keras.models import Sequential\n",
    "from tensorflow.keras.layers import Dense\n",
    "from sklearn.model_selection import train_test_split\n",
    "from sklearn.preprocessing import StandardScaler, OneHotEncoder\n",
    "from sklearn.compose import ColumnTransformer\n",
    "import pandas as pd\n",
    "\n",
    "# Load your dataframe here\n",
    "# Assuming 'df' is your DataFrame name and it has been loaded correctly\n",
    "# df = pd.read_csv('your_dataframe.csv')  # Example for loading data\n",
    "\n",
    "# Drop rows with missing values (or you can impute them as well)\n",
    "df.dropna(inplace=True)\n",
    "\n",
    "# Assuming 'SHORT_TEXT', 'REQUESTED_DELIVERY_DATE', 'COMPANY_CODE_ID', 'CREATE_DATE', and 'SUB_COMMODITY_DESC' are categorical\n",
    "categorical_features = ['SHORT_TEXT', 'REQUESTED_DELIVERY_DATE', 'COMPANY_CODE_ID', 'CREATE_DATE', 'SUB_COMMODITY_DESC']\n",
    "numerical_features = df.select_dtypes(include=['int64', 'float64']).columns.drop(['Time_Difference']).tolist()\n",
    "\n",
    "# Define preprocessing for numerical and categorical data\n",
    "preprocessor = ColumnTransformer(\n",
    "    transformers=[\n",
    "        ('num', StandardScaler(), numerical_features),\n",
    "        ('cat', OneHotEncoder(handle_unknown='ignore'), categorical_features)\n",
    "    ])\n",
    "\n",
    "# Split the dataset into features and target variable\n",
    "X = df.drop(['Time_Difference'], axis=1)\n",
    "y = df['Time_Difference']\n",
    "\n",
    "# Split the dataset into training and testing sets\n",
    "X_train, X_test, y_train, y_test = train_test_split(X, y, test_size=0.2, random_state=42)\n",
    "\n",
    "# Preprocess the input features\n",
    "X_train = preprocessor.fit_transform(X_train)\n",
    "X_test = preprocessor.transform(X_test)\n",
    "\n",
    "# Define the neural network model\n",
    "model = Sequential()\n",
    "\n",
    "# Add input layer with ReLU activation\n",
    "model.add(Dense(units=64, activation='relu', input_dim=X_train.shape[1]))\n",
    "\n",
    "# Add hidden layers with ReLU activation\n",
    "model.add(Dense(units=128, activation='relu'))\n",
    "model.add(Dense(units=64, activation='relu'))\n",
    "\n",
    "# Modify the output layer for regression with no activation function\n",
    "model.add(Dense(units=1, activation='linear'))\n",
    "\n",
    "# Compile the model for a regression problem\n",
    "model.compile(optimizer='adam', loss='mean_squared_error')\n",
    "\n",
    "# Train the model\n",
    "model.fit(X_train, y_train, epochs=10, batch_size=32, validation_data=(X_test, y_test))\n",
    "\n",
    "# Evaluate the model on test data\n",
    "loss = model.evaluate(X_test, y_test)\n",
    "print(f'Test Loss: {loss}')\n"
   ]
  },
  {
   "cell_type": "code",
   "execution_count": null,
   "metadata": {},
   "outputs": [
    {
     "ename": "AttributeError",
     "evalue": "'NoneType' object has no attribute 'select_dtypes'",
     "output_type": "error",
     "traceback": [
      "\u001b[0;31m---------------------------------------------------------------------------\u001b[0m",
      "\u001b[0;31mAttributeError\u001b[0m                            Traceback (most recent call last)",
      "\u001b[1;32m/Users/addisonjpratt/sfguide-intro-to-machine-learning-with-snowpark-ml-for-python/database.ipynb Cell 65\u001b[0m line \u001b[0;36m1\n\u001b[1;32m     <a href='vscode-notebook-cell:/Users/addisonjpratt/sfguide-intro-to-machine-learning-with-snowpark-ml-for-python/database.ipynb#Y150sZmlsZQ%3D%3D?line=15'>16</a>\u001b[0m \u001b[39m# Define categorical and numerical features\u001b[39;00m\n\u001b[1;32m     <a href='vscode-notebook-cell:/Users/addisonjpratt/sfguide-intro-to-machine-learning-with-snowpark-ml-for-python/database.ipynb#Y150sZmlsZQ%3D%3D?line=16'>17</a>\u001b[0m categorical_features \u001b[39m=\u001b[39m [\u001b[39m'\u001b[39m\u001b[39mSHORT_TEXT\u001b[39m\u001b[39m'\u001b[39m, \u001b[39m'\u001b[39m\u001b[39mREQUESTED_DELIVERY_DATE\u001b[39m\u001b[39m'\u001b[39m, \u001b[39m'\u001b[39m\u001b[39mCOMPANY_CODE_ID\u001b[39m\u001b[39m'\u001b[39m, \u001b[39m'\u001b[39m\u001b[39mCREATE_DATE\u001b[39m\u001b[39m'\u001b[39m, \u001b[39m'\u001b[39m\u001b[39mSUB_COMMODITY_DESC\u001b[39m\u001b[39m'\u001b[39m]\n\u001b[0;32m---> <a href='vscode-notebook-cell:/Users/addisonjpratt/sfguide-intro-to-machine-learning-with-snowpark-ml-for-python/database.ipynb#Y150sZmlsZQ%3D%3D?line=17'>18</a>\u001b[0m numerical_features \u001b[39m=\u001b[39m df\u001b[39m.\u001b[39;49mselect_dtypes(include\u001b[39m=\u001b[39m[\u001b[39m'\u001b[39m\u001b[39mint64\u001b[39m\u001b[39m'\u001b[39m, \u001b[39m'\u001b[39m\u001b[39mfloat64\u001b[39m\u001b[39m'\u001b[39m])\u001b[39m.\u001b[39mcolumns\u001b[39m.\u001b[39mdrop([\u001b[39m'\u001b[39m\u001b[39mTime_Difference\u001b[39m\u001b[39m'\u001b[39m])\u001b[39m.\u001b[39mtolist()\n\u001b[1;32m     <a href='vscode-notebook-cell:/Users/addisonjpratt/sfguide-intro-to-machine-learning-with-snowpark-ml-for-python/database.ipynb#Y150sZmlsZQ%3D%3D?line=19'>20</a>\u001b[0m \u001b[39m# Define preprocessing for numerical and categorical data\u001b[39;00m\n\u001b[1;32m     <a href='vscode-notebook-cell:/Users/addisonjpratt/sfguide-intro-to-machine-learning-with-snowpark-ml-for-python/database.ipynb#Y150sZmlsZQ%3D%3D?line=20'>21</a>\u001b[0m preprocessor \u001b[39m=\u001b[39m ColumnTransformer(transformers\u001b[39m=\u001b[39m[\n\u001b[1;32m     <a href='vscode-notebook-cell:/Users/addisonjpratt/sfguide-intro-to-machine-learning-with-snowpark-ml-for-python/database.ipynb#Y150sZmlsZQ%3D%3D?line=21'>22</a>\u001b[0m     (\u001b[39m'\u001b[39m\u001b[39mnum\u001b[39m\u001b[39m'\u001b[39m, StandardScaler(), numerical_features),\n\u001b[1;32m     <a href='vscode-notebook-cell:/Users/addisonjpratt/sfguide-intro-to-machine-learning-with-snowpark-ml-for-python/database.ipynb#Y150sZmlsZQ%3D%3D?line=22'>23</a>\u001b[0m     (\u001b[39m'\u001b[39m\u001b[39mcat\u001b[39m\u001b[39m'\u001b[39m, OneHotEncoder(handle_unknown\u001b[39m=\u001b[39m\u001b[39m'\u001b[39m\u001b[39mignore\u001b[39m\u001b[39m'\u001b[39m), categorical_features)\n\u001b[1;32m     <a href='vscode-notebook-cell:/Users/addisonjpratt/sfguide-intro-to-machine-learning-with-snowpark-ml-for-python/database.ipynb#Y150sZmlsZQ%3D%3D?line=23'>24</a>\u001b[0m ])\n",
      "\u001b[0;31mAttributeError\u001b[0m: 'NoneType' object has no attribute 'select_dtypes'"
     ]
    }
   ],
   "source": [
    "# Import necessary libraries\n",
    "import pandas as pd\n",
    "import numpy as np\n",
    "from sklearn.model_selection import train_test_split\n",
    "from sklearn.preprocessing import StandardScaler, OneHotEncoder\n",
    "from sklearn.compose import ColumnTransformer\n",
    "from tensorflow.keras.models import Sequential\n",
    "from tensorflow.keras.layers import Dense\n",
    "\n",
    "# Assuming your DataFrame is named `df`\n",
    "# df = pd.read_csv('path_to_your_data.csv')  # Load your data here\n",
    "\n",
    "# Drop rows with missing values (or you can impute them as well)\n",
    "df = koch.dropna(inplace=True)\n",
    "\n",
    "# Define categorical and numerical features\n",
    "categorical_features = ['SHORT_TEXT', 'REQUESTED_DELIVERY_DATE', 'COMPANY_CODE_ID', 'CREATE_DATE', 'SUB_COMMODITY_DESC']\n",
    "numerical_features = df.select_dtypes(include=['int64', 'float64']).columns.drop(['Time_Difference']).tolist()\n",
    "\n",
    "# Define preprocessing for numerical and categorical data\n",
    "preprocessor = ColumnTransformer(transformers=[\n",
    "    ('num', StandardScaler(), numerical_features),\n",
    "    ('cat', OneHotEncoder(handle_unknown='ignore'), categorical_features)\n",
    "])\n",
    "\n",
    "# Split the dataset into features and target variable\n",
    "X = df.drop(['Time_Difference'], axis=1)\n",
    "y = df['Time_Difference']\n",
    "\n",
    "# Split the dataset into training and testing sets\n",
    "X_train, X_test, y_train, y_test = train_test_split(X, y, test_size=0.2, random_state=42)\n",
    "\n",
    "# Apply preprocessing and convert sparse matrices to dense arrays\n",
    "X_train = preprocessor.fit_transform(X_train).toarray()\n",
    "X_test = preprocessor.transform(X_test).toarray()\n",
    "\n",
    "# Neural network model definition\n",
    "model = Sequential([\n",
    "    Dense(units=64, activation='relu', input_shape=(X_train.shape[1],)),\n",
    "    Dense(units=128, activation='relu'),\n",
    "    Dense(units=64, activation='relu'),\n",
    "    Dense(units=1, activation='linear')  # Linear activation for regression\n",
    "])\n",
    "\n",
    "# Compile the model for a regression problem\n",
    "model.compile(optimizer='adam', loss='mean_squared_error')\n",
    "\n",
    "# Train the model\n",
    "model.fit(X_train, y_train, epochs=10, batch_size=32, validation_data=(X_test, y_test))\n",
    "\n",
    "# Evaluate the model on test data\n",
    "loss = model.evaluate(X_test, y_test)\n",
    "print(f'Test Loss: {loss}')\n"
   ]
  },
  {
   "cell_type": "code",
   "execution_count": null,
   "metadata": {},
   "outputs": [],
   "source": []
  },
  {
   "cell_type": "code",
   "execution_count": 76,
   "metadata": {},
   "outputs": [
    {
     "data": {
      "text/html": [
       "<div>\n",
       "<style scoped>\n",
       "    .dataframe tbody tr th:only-of-type {\n",
       "        vertical-align: middle;\n",
       "    }\n",
       "\n",
       "    .dataframe tbody tr th {\n",
       "        vertical-align: top;\n",
       "    }\n",
       "\n",
       "    .dataframe thead th {\n",
       "        text-align: right;\n",
       "    }\n",
       "</style>\n",
       "<table border=\"1\" class=\"dataframe\">\n",
       "  <thead>\n",
       "    <tr style=\"text-align: right;\">\n",
       "      <th></th>\n",
       "      <th>DELIVERY_DATE</th>\n",
       "      <th>SHORT_TEXT</th>\n",
       "      <th>D_day_of_week</th>\n",
       "      <th>COUNTRY</th>\n",
       "      <th>MATERIAL_ID</th>\n",
       "      <th>IS_HOLIDAY</th>\n",
       "      <th>Mean_Delay_Material</th>\n",
       "      <th>Median_Delay_Material</th>\n",
       "      <th>quarter</th>\n",
       "      <th>month</th>\n",
       "      <th>...</th>\n",
       "      <th>Ranking</th>\n",
       "      <th>Category_total_counts</th>\n",
       "      <th>PLANNED_DELIVERY_DAYS</th>\n",
       "      <th>INBOUND_DELIVERY_ITEM_ID</th>\n",
       "      <th>REQUESTED_DELIVERY_DATE</th>\n",
       "      <th>PLANT_ID</th>\n",
       "      <th>SUB_COMMODITY_DESC</th>\n",
       "      <th>COMPANY_CODE_ID</th>\n",
       "      <th>CREATE_DATE</th>\n",
       "      <th>Time_Difference</th>\n",
       "    </tr>\n",
       "  </thead>\n",
       "  <tbody>\n",
       "    <tr>\n",
       "      <th>0</th>\n",
       "      <td>2021-08-06</td>\n",
       "      <td>1/2\" OD x 0.063\" Wall 20' Long ASTM A51</td>\n",
       "      <td>5.0</td>\n",
       "      <td>CA</td>\n",
       "      <td>NaN</td>\n",
       "      <td>0</td>\n",
       "      <td>NaN</td>\n",
       "      <td>NaN</td>\n",
       "      <td>3</td>\n",
       "      <td>7</td>\n",
       "      <td>...</td>\n",
       "      <td>10.0</td>\n",
       "      <td>38309.0</td>\n",
       "      <td>0.0</td>\n",
       "      <td>0.0</td>\n",
       "      <td>2021-08-06</td>\n",
       "      <td>4036.0</td>\n",
       "      <td>Machinery &amp; Equipment</td>\n",
       "      <td>CA10</td>\n",
       "      <td>2021-07-26</td>\n",
       "      <td>6.0</td>\n",
       "    </tr>\n",
       "    <tr>\n",
       "      <th>1</th>\n",
       "      <td>2021-09-10</td>\n",
       "      <td>994 45 9951A TU E 4.99-8.62 3X0X 4014</td>\n",
       "      <td>5.0</td>\n",
       "      <td>US</td>\n",
       "      <td>2.100008e+09</td>\n",
       "      <td>0</td>\n",
       "      <td>18.307692</td>\n",
       "      <td>3.0</td>\n",
       "      <td>3</td>\n",
       "      <td>7</td>\n",
       "      <td>...</td>\n",
       "      <td>2.0</td>\n",
       "      <td>106973.0</td>\n",
       "      <td>3.0</td>\n",
       "      <td>10.0</td>\n",
       "      <td>2021-09-10</td>\n",
       "      <td>4016.0</td>\n",
       "      <td>Custom Manufacturing</td>\n",
       "      <td>US10</td>\n",
       "      <td>2021-07-26</td>\n",
       "      <td>4.0</td>\n",
       "    </tr>\n",
       "    <tr>\n",
       "      <th>2</th>\n",
       "      <td>2021-08-27</td>\n",
       "      <td>5/8\" x 50 ft Black Rubber ProFitter[REG]</td>\n",
       "      <td>5.0</td>\n",
       "      <td>CA</td>\n",
       "      <td>NaN</td>\n",
       "      <td>0</td>\n",
       "      <td>NaN</td>\n",
       "      <td>NaN</td>\n",
       "      <td>3</td>\n",
       "      <td>7</td>\n",
       "      <td>...</td>\n",
       "      <td>5.0</td>\n",
       "      <td>77387.0</td>\n",
       "      <td>0.0</td>\n",
       "      <td>0.0</td>\n",
       "      <td>2021-08-27</td>\n",
       "      <td>4036.0</td>\n",
       "      <td>Piping &amp; Tubing</td>\n",
       "      <td>CA10</td>\n",
       "      <td>2021-07-26</td>\n",
       "      <td>-24.0</td>\n",
       "    </tr>\n",
       "    <tr>\n",
       "      <th>3</th>\n",
       "      <td>2021-08-05</td>\n",
       "      <td>4XL - HI-VIZ SAFETY LONG-SLEEVED SHIRT -</td>\n",
       "      <td>4.0</td>\n",
       "      <td>CA</td>\n",
       "      <td>NaN</td>\n",
       "      <td>0</td>\n",
       "      <td>NaN</td>\n",
       "      <td>NaN</td>\n",
       "      <td>3</td>\n",
       "      <td>7</td>\n",
       "      <td>...</td>\n",
       "      <td>7.0</td>\n",
       "      <td>57662.0</td>\n",
       "      <td>0.0</td>\n",
       "      <td>0.0</td>\n",
       "      <td>2021-08-05</td>\n",
       "      <td>4036.0</td>\n",
       "      <td>Material Handling</td>\n",
       "      <td>CA10</td>\n",
       "      <td>2021-07-26</td>\n",
       "      <td>-6.0</td>\n",
       "    </tr>\n",
       "    <tr>\n",
       "      <th>4</th>\n",
       "      <td>2021-07-27</td>\n",
       "      <td>N66 2 BT 00WUD BN PL 65 1.5% 0</td>\n",
       "      <td>2.0</td>\n",
       "      <td>CA</td>\n",
       "      <td>2.100022e+09</td>\n",
       "      <td>0</td>\n",
       "      <td>0.000000</td>\n",
       "      <td>0.0</td>\n",
       "      <td>3</td>\n",
       "      <td>7</td>\n",
       "      <td>...</td>\n",
       "      <td>3.0</td>\n",
       "      <td>96024.0</td>\n",
       "      <td>0.0</td>\n",
       "      <td>10.0</td>\n",
       "      <td>2021-07-27</td>\n",
       "      <td>4007.0</td>\n",
       "      <td>Tolling</td>\n",
       "      <td>CA10</td>\n",
       "      <td>2021-07-26</td>\n",
       "      <td>7.0</td>\n",
       "    </tr>\n",
       "  </tbody>\n",
       "</table>\n",
       "<p>5 rows × 21 columns</p>\n",
       "</div>"
      ],
      "text/plain": [
       "  DELIVERY_DATE                                SHORT_TEXT  D_day_of_week  \\\n",
       "0    2021-08-06   1/2\" OD x 0.063\" Wall 20' Long ASTM A51            5.0   \n",
       "1    2021-09-10     994 45 9951A TU E 4.99-8.62 3X0X 4014            5.0   \n",
       "2    2021-08-27  5/8\" x 50 ft Black Rubber ProFitter[REG]            5.0   \n",
       "3    2021-08-05  4XL - HI-VIZ SAFETY LONG-SLEEVED SHIRT -            4.0   \n",
       "4    2021-07-27            N66 2 BT 00WUD BN PL 65 1.5% 0            2.0   \n",
       "\n",
       "  COUNTRY   MATERIAL_ID  IS_HOLIDAY  Mean_Delay_Material  \\\n",
       "0      CA           NaN           0                  NaN   \n",
       "1      US  2.100008e+09           0            18.307692   \n",
       "2      CA           NaN           0                  NaN   \n",
       "3      CA           NaN           0                  NaN   \n",
       "4      CA  2.100022e+09           0             0.000000   \n",
       "\n",
       "   Median_Delay_Material  quarter  month  ...  Ranking  Category_total_counts  \\\n",
       "0                    NaN        3      7  ...     10.0                38309.0   \n",
       "1                    3.0        3      7  ...      2.0               106973.0   \n",
       "2                    NaN        3      7  ...      5.0                77387.0   \n",
       "3                    NaN        3      7  ...      7.0                57662.0   \n",
       "4                    0.0        3      7  ...      3.0                96024.0   \n",
       "\n",
       "   PLANNED_DELIVERY_DAYS  INBOUND_DELIVERY_ITEM_ID  REQUESTED_DELIVERY_DATE  \\\n",
       "0                    0.0                       0.0               2021-08-06   \n",
       "1                    3.0                      10.0               2021-09-10   \n",
       "2                    0.0                       0.0               2021-08-27   \n",
       "3                    0.0                       0.0               2021-08-05   \n",
       "4                    0.0                      10.0               2021-07-27   \n",
       "\n",
       "  PLANT_ID     SUB_COMMODITY_DESC COMPANY_CODE_ID CREATE_DATE Time_Difference  \n",
       "0   4036.0  Machinery & Equipment            CA10  2021-07-26             6.0  \n",
       "1   4016.0   Custom Manufacturing            US10  2021-07-26             4.0  \n",
       "2   4036.0        Piping & Tubing            CA10  2021-07-26           -24.0  \n",
       "3   4036.0      Material Handling            CA10  2021-07-26            -6.0  \n",
       "4   4007.0                Tolling            CA10  2021-07-26             7.0  \n",
       "\n",
       "[5 rows x 21 columns]"
      ]
     },
     "execution_count": 76,
     "metadata": {},
     "output_type": "execute_result"
    }
   ],
   "source": [
    "koch.head()"
   ]
  },
  {
   "cell_type": "code",
   "execution_count": 77,
   "metadata": {},
   "outputs": [
    {
     "data": {
      "text/plain": [
       "Index(['DELIVERY_DATE', 'SHORT_TEXT', 'D_day_of_week', 'COUNTRY',\n",
       "       'MATERIAL_ID', 'IS_HOLIDAY', 'Mean_Delay_Material',\n",
       "       'Median_Delay_Material', 'quarter', 'month', 'day_of_week', 'Ranking',\n",
       "       'Category_total_counts', 'PLANNED_DELIVERY_DAYS',\n",
       "       'INBOUND_DELIVERY_ITEM_ID', 'REQUESTED_DELIVERY_DATE', 'PLANT_ID',\n",
       "       'SUB_COMMODITY_DESC', 'COMPANY_CODE_ID', 'CREATE_DATE',\n",
       "       'Time_Difference'],\n",
       "      dtype='object')"
      ]
     },
     "execution_count": 77,
     "metadata": {},
     "output_type": "execute_result"
    }
   ],
   "source": [
    "koch.columns"
   ]
  },
  {
   "cell_type": "code",
   "execution_count": null,
   "metadata": {},
   "outputs": [
    {
     "name": "stdout",
     "output_type": "stream",
     "text": [
      "Checking whether there is an H2O instance running at http://localhost:54321. connected.\n"
     ]
    },
    {
     "data": {
      "text/html": [
       "\n",
       "<style>\n",
       "\n",
       "#h2o-table-5.h2o-container {\n",
       "  overflow-x: auto;\n",
       "}\n",
       "#h2o-table-5 .h2o-table {\n",
       "  /* width: 100%; */\n",
       "  margin-top: 1em;\n",
       "  margin-bottom: 1em;\n",
       "}\n",
       "#h2o-table-5 .h2o-table caption {\n",
       "  white-space: nowrap;\n",
       "  caption-side: top;\n",
       "  text-align: left;\n",
       "  /* margin-left: 1em; */\n",
       "  margin: 0;\n",
       "  font-size: larger;\n",
       "}\n",
       "#h2o-table-5 .h2o-table thead {\n",
       "  white-space: nowrap; \n",
       "  position: sticky;\n",
       "  top: 0;\n",
       "  box-shadow: 0 -1px inset;\n",
       "}\n",
       "#h2o-table-5 .h2o-table tbody {\n",
       "  overflow: auto;\n",
       "}\n",
       "#h2o-table-5 .h2o-table th,\n",
       "#h2o-table-5 .h2o-table td {\n",
       "  text-align: right;\n",
       "  /* border: 1px solid; */\n",
       "}\n",
       "#h2o-table-5 .h2o-table tr:nth-child(even) {\n",
       "  /* background: #F5F5F5 */\n",
       "}\n",
       "\n",
       "</style>      \n",
       "<div id=\"h2o-table-5\" class=\"h2o-container\">\n",
       "  <table class=\"h2o-table\">\n",
       "    <caption></caption>\n",
       "    <thead></thead>\n",
       "    <tbody><tr><td>H2O_cluster_uptime:</td>\n",
       "<td>56 mins 24 secs</td></tr>\n",
       "<tr><td>H2O_cluster_timezone:</td>\n",
       "<td>America/Boise</td></tr>\n",
       "<tr><td>H2O_data_parsing_timezone:</td>\n",
       "<td>UTC</td></tr>\n",
       "<tr><td>H2O_cluster_version:</td>\n",
       "<td>3.44.0.3</td></tr>\n",
       "<tr><td>H2O_cluster_version_age:</td>\n",
       "<td>2 months and 10 days</td></tr>\n",
       "<tr><td>H2O_cluster_name:</td>\n",
       "<td>H2O_from_python_addisonjpratt_2dwg9w</td></tr>\n",
       "<tr><td>H2O_cluster_total_nodes:</td>\n",
       "<td>1</td></tr>\n",
       "<tr><td>H2O_cluster_free_memory:</td>\n",
       "<td>5.757 Gb</td></tr>\n",
       "<tr><td>H2O_cluster_total_cores:</td>\n",
       "<td>10</td></tr>\n",
       "<tr><td>H2O_cluster_allowed_cores:</td>\n",
       "<td>10</td></tr>\n",
       "<tr><td>H2O_cluster_status:</td>\n",
       "<td>locked, healthy</td></tr>\n",
       "<tr><td>H2O_connection_url:</td>\n",
       "<td>http://localhost:54321</td></tr>\n",
       "<tr><td>H2O_connection_proxy:</td>\n",
       "<td>{\"http\": null, \"https\": null}</td></tr>\n",
       "<tr><td>H2O_internal_security:</td>\n",
       "<td>False</td></tr>\n",
       "<tr><td>Python_version:</td>\n",
       "<td>3.11.6 final</td></tr></tbody>\n",
       "  </table>\n",
       "</div>\n"
      ],
      "text/plain": [
       "--------------------------  ------------------------------------\n",
       "H2O_cluster_uptime:         56 mins 24 secs\n",
       "H2O_cluster_timezone:       America/Boise\n",
       "H2O_data_parsing_timezone:  UTC\n",
       "H2O_cluster_version:        3.44.0.3\n",
       "H2O_cluster_version_age:    2 months and 10 days\n",
       "H2O_cluster_name:           H2O_from_python_addisonjpratt_2dwg9w\n",
       "H2O_cluster_total_nodes:    1\n",
       "H2O_cluster_free_memory:    5.757 Gb\n",
       "H2O_cluster_total_cores:    10\n",
       "H2O_cluster_allowed_cores:  10\n",
       "H2O_cluster_status:         locked, healthy\n",
       "H2O_connection_url:         http://localhost:54321\n",
       "H2O_connection_proxy:       {\"http\": null, \"https\": null}\n",
       "H2O_internal_security:      False\n",
       "Python_version:             3.11.6 final\n",
       "--------------------------  ------------------------------------"
      ]
     },
     "metadata": {},
     "output_type": "display_data"
    },
    {
     "ename": "ValueError",
     "evalue": "Found input variables with inconsistent numbers of samples: [958863, 15]",
     "output_type": "error",
     "traceback": [
      "\u001b[0;31m---------------------------------------------------------------------------\u001b[0m",
      "\u001b[0;31mValueError\u001b[0m                                Traceback (most recent call last)",
      "\u001b[1;32m/Users/addisonjpratt/sfguide-intro-to-machine-learning-with-snowpark-ml-for-python/database.ipynb Cell 69\u001b[0m line \u001b[0;36m6\n\u001b[1;32m      <a href='vscode-notebook-cell:/Users/addisonjpratt/sfguide-intro-to-machine-learning-with-snowpark-ml-for-python/database.ipynb#Y152sZmlsZQ%3D%3D?line=2'>3</a>\u001b[0m h2o\u001b[39m.\u001b[39minit()\n\u001b[1;32m      <a href='vscode-notebook-cell:/Users/addisonjpratt/sfguide-intro-to-machine-learning-with-snowpark-ml-for-python/database.ipynb#Y152sZmlsZQ%3D%3D?line=4'>5</a>\u001b[0m \u001b[39mfrom\u001b[39;00m \u001b[39msklearn\u001b[39;00m\u001b[39m.\u001b[39;00m\u001b[39mmodel_selection\u001b[39;00m \u001b[39mimport\u001b[39;00m train_test_split\n\u001b[0;32m----> <a href='vscode-notebook-cell:/Users/addisonjpratt/sfguide-intro-to-machine-learning-with-snowpark-ml-for-python/database.ipynb#Y152sZmlsZQ%3D%3D?line=5'>6</a>\u001b[0m X_train, X_test, y_train, y_test \u001b[39m=\u001b[39m train_test_split(X, y, test_size\u001b[39m=\u001b[39;49m\u001b[39m0.2\u001b[39;49m, random_state\u001b[39m=\u001b[39;49m\u001b[39m42\u001b[39;49m)\n",
      "File \u001b[0;32m/Library/Frameworks/Python.framework/Versions/3.11/lib/python3.11/site-packages/sklearn/utils/_param_validation.py:213\u001b[0m, in \u001b[0;36mvalidate_params.<locals>.decorator.<locals>.wrapper\u001b[0;34m(*args, **kwargs)\u001b[0m\n\u001b[1;32m    207\u001b[0m \u001b[39mtry\u001b[39;00m:\n\u001b[1;32m    208\u001b[0m     \u001b[39mwith\u001b[39;00m config_context(\n\u001b[1;32m    209\u001b[0m         skip_parameter_validation\u001b[39m=\u001b[39m(\n\u001b[1;32m    210\u001b[0m             prefer_skip_nested_validation \u001b[39mor\u001b[39;00m global_skip_validation\n\u001b[1;32m    211\u001b[0m         )\n\u001b[1;32m    212\u001b[0m     ):\n\u001b[0;32m--> 213\u001b[0m         \u001b[39mreturn\u001b[39;00m func(\u001b[39m*\u001b[39;49margs, \u001b[39m*\u001b[39;49m\u001b[39m*\u001b[39;49mkwargs)\n\u001b[1;32m    214\u001b[0m \u001b[39mexcept\u001b[39;00m InvalidParameterError \u001b[39mas\u001b[39;00m e:\n\u001b[1;32m    215\u001b[0m     \u001b[39m# When the function is just a wrapper around an estimator, we allow\u001b[39;00m\n\u001b[1;32m    216\u001b[0m     \u001b[39m# the function to delegate validation to the estimator, but we replace\u001b[39;00m\n\u001b[1;32m    217\u001b[0m     \u001b[39m# the name of the estimator by the name of the function in the error\u001b[39;00m\n\u001b[1;32m    218\u001b[0m     \u001b[39m# message to avoid confusion.\u001b[39;00m\n\u001b[1;32m    219\u001b[0m     msg \u001b[39m=\u001b[39m re\u001b[39m.\u001b[39msub(\n\u001b[1;32m    220\u001b[0m         \u001b[39mr\u001b[39m\u001b[39m\"\u001b[39m\u001b[39mparameter of \u001b[39m\u001b[39m\\\u001b[39m\u001b[39mw+ must be\u001b[39m\u001b[39m\"\u001b[39m,\n\u001b[1;32m    221\u001b[0m         \u001b[39mf\u001b[39m\u001b[39m\"\u001b[39m\u001b[39mparameter of \u001b[39m\u001b[39m{\u001b[39;00mfunc\u001b[39m.\u001b[39m\u001b[39m__qualname__\u001b[39m\u001b[39m}\u001b[39;00m\u001b[39m must be\u001b[39m\u001b[39m\"\u001b[39m,\n\u001b[1;32m    222\u001b[0m         \u001b[39mstr\u001b[39m(e),\n\u001b[1;32m    223\u001b[0m     )\n",
      "File \u001b[0;32m/Library/Frameworks/Python.framework/Versions/3.11/lib/python3.11/site-packages/sklearn/model_selection/_split.py:2657\u001b[0m, in \u001b[0;36mtrain_test_split\u001b[0;34m(test_size, train_size, random_state, shuffle, stratify, *arrays)\u001b[0m\n\u001b[1;32m   2654\u001b[0m \u001b[39mif\u001b[39;00m n_arrays \u001b[39m==\u001b[39m \u001b[39m0\u001b[39m:\n\u001b[1;32m   2655\u001b[0m     \u001b[39mraise\u001b[39;00m \u001b[39mValueError\u001b[39;00m(\u001b[39m\"\u001b[39m\u001b[39mAt least one array required as input\u001b[39m\u001b[39m\"\u001b[39m)\n\u001b[0;32m-> 2657\u001b[0m arrays \u001b[39m=\u001b[39m indexable(\u001b[39m*\u001b[39;49marrays)\n\u001b[1;32m   2659\u001b[0m n_samples \u001b[39m=\u001b[39m _num_samples(arrays[\u001b[39m0\u001b[39m])\n\u001b[1;32m   2660\u001b[0m n_train, n_test \u001b[39m=\u001b[39m _validate_shuffle_split(\n\u001b[1;32m   2661\u001b[0m     n_samples, test_size, train_size, default_test_size\u001b[39m=\u001b[39m\u001b[39m0.25\u001b[39m\n\u001b[1;32m   2662\u001b[0m )\n",
      "File \u001b[0;32m/Library/Frameworks/Python.framework/Versions/3.11/lib/python3.11/site-packages/sklearn/utils/validation.py:514\u001b[0m, in \u001b[0;36mindexable\u001b[0;34m(*iterables)\u001b[0m\n\u001b[1;32m    484\u001b[0m \u001b[39m\u001b[39m\u001b[39m\"\"\"Make arrays indexable for cross-validation.\u001b[39;00m\n\u001b[1;32m    485\u001b[0m \n\u001b[1;32m    486\u001b[0m \u001b[39mChecks consistent length, passes through None, and ensures that everything\u001b[39;00m\n\u001b[0;32m   (...)\u001b[0m\n\u001b[1;32m    510\u001b[0m \u001b[39m[[1, 2, 3], array([2, 3, 4]), None, <3x1 sparse matrix ...>]\u001b[39;00m\n\u001b[1;32m    511\u001b[0m \u001b[39m\"\"\"\u001b[39;00m\n\u001b[1;32m    513\u001b[0m result \u001b[39m=\u001b[39m [_make_indexable(X) \u001b[39mfor\u001b[39;00m X \u001b[39min\u001b[39;00m iterables]\n\u001b[0;32m--> 514\u001b[0m check_consistent_length(\u001b[39m*\u001b[39;49mresult)\n\u001b[1;32m    515\u001b[0m \u001b[39mreturn\u001b[39;00m result\n",
      "File \u001b[0;32m/Library/Frameworks/Python.framework/Versions/3.11/lib/python3.11/site-packages/sklearn/utils/validation.py:457\u001b[0m, in \u001b[0;36mcheck_consistent_length\u001b[0;34m(*arrays)\u001b[0m\n\u001b[1;32m    455\u001b[0m uniques \u001b[39m=\u001b[39m np\u001b[39m.\u001b[39munique(lengths)\n\u001b[1;32m    456\u001b[0m \u001b[39mif\u001b[39;00m \u001b[39mlen\u001b[39m(uniques) \u001b[39m>\u001b[39m \u001b[39m1\u001b[39m:\n\u001b[0;32m--> 457\u001b[0m     \u001b[39mraise\u001b[39;00m \u001b[39mValueError\u001b[39;00m(\n\u001b[1;32m    458\u001b[0m         \u001b[39m\"\u001b[39m\u001b[39mFound input variables with inconsistent numbers of samples: \u001b[39m\u001b[39m%r\u001b[39;00m\u001b[39m\"\u001b[39m\n\u001b[1;32m    459\u001b[0m         \u001b[39m%\u001b[39m [\u001b[39mint\u001b[39m(l) \u001b[39mfor\u001b[39;00m l \u001b[39min\u001b[39;00m lengths]\n\u001b[1;32m    460\u001b[0m     )\n",
      "\u001b[0;31mValueError\u001b[0m: Found input variables with inconsistent numbers of samples: [958863, 15]"
     ]
    }
   ],
   "source": [
    "import h2o\n",
    "from h2o.automl import H2OAutoML\n",
    "h2o.init()\n",
    "\n",
    "from sklearn.model_selection import train_test_split\n",
    "X_train, X_test, y_train, y_test = train_test_split(X, y, test_size=0.2, random_state=42)\n"
   ]
  },
  {
   "cell_type": "code",
   "execution_count": null,
   "metadata": {},
   "outputs": [],
   "source": [
    "from sklearn.model_selection import train_test_split\n",
    "\n",
    "# Assuming 'koch' is your DataFrame\n",
    "# Split the DataFrame into train and test sets\n",
    "train_set, test_set = train_test_split(koch, test_size=0.2, random_state=42)\n",
    "\n",
    "\n"
   ]
  },
  {
   "cell_type": "code",
   "execution_count": null,
   "metadata": {},
   "outputs": [
    {
     "name": "stdout",
     "output_type": "stream",
     "text": [
      "Parse progress: |████████████████████████████████████████████████████████████████| (done) 100%\n"
     ]
    }
   ],
   "source": [
    "train_df = h2o.H2OFrame(train_set)\n"
   ]
  },
  {
   "cell_type": "code",
   "execution_count": null,
   "metadata": {},
   "outputs": [
    {
     "name": "stdout",
     "output_type": "stream",
     "text": [
      "Parse progress: |████████████████████████████████████████████████████████████████| (done) 100%\n"
     ]
    }
   ],
   "source": [
    "test = h2o.H2OFrame(test_set)\n",
    "x = test.columns\n",
    "y = 'Time_Difference'\n",
    "# remove label classvariable from feature variable\n",
    "x.remove(y)"
   ]
  },
  {
   "cell_type": "code",
   "execution_count": null,
   "metadata": {},
   "outputs": [
    {
     "data": {
      "text/plain": [
       "['SHORT_TEXT',\n",
       " 'D_day_of_week',\n",
       " 'COUNTRY',\n",
       " 'MATERIAL_ID',\n",
       " 'IS_HOLIDAY',\n",
       " 'Mean_Delay_Material',\n",
       " 'Median_Delay_Material',\n",
       " 'quarter',\n",
       " 'month',\n",
       " 'day_of_week',\n",
       " 'Ranking',\n",
       " 'Category_total_counts',\n",
       " 'PLANNED_DELIVERY_DAYS',\n",
       " 'INBOUND_DELIVERY_ITEM_ID',\n",
       " 'REQUESTED_DELIVERY_DATE',\n",
       " 'PLANT_ID',\n",
       " 'SUB_COMMODITY_DESC',\n",
       " 'COMPANY_CODE_ID',\n",
       " 'CREATE_DATE']"
      ]
     },
     "execution_count": 379,
     "metadata": {},
     "output_type": "execute_result"
    }
   ],
   "source": [
    "x"
   ]
  },
  {
   "cell_type": "code",
   "execution_count": null,
   "metadata": {},
   "outputs": [
    {
     "data": {
      "text/plain": [
       "'Time_Difference'"
      ]
     },
     "execution_count": 380,
     "metadata": {},
     "output_type": "execute_result"
    }
   ],
   "source": [
    "y"
   ]
  },
  {
   "cell_type": "code",
   "execution_count": null,
   "metadata": {},
   "outputs": [
    {
     "name": "stdout",
     "output_type": "stream",
     "text": [
      "AutoML progress: |\n",
      "08:07:20.2: AutoML: XGBoost is not available; skipping it.\n",
      "\n",
      "███████████████████████████████████████████████████████████████| (done) 100%\n"
     ]
    },
    {
     "data": {
      "text/html": [
       "<pre style='margin: 1em 0 1em 0;'>Model Details\n",
       "=============\n",
       "H2OGradientBoostingEstimator : Gradient Boosting Machine\n",
       "Model Key: GBM_grid_1_AutoML_5_20240302_80719_model_8\n",
       "</pre>\n",
       "<div style='margin: 1em 0 1em 0;'>\n",
       "<style>\n",
       "\n",
       "#h2o-table-9.h2o-container {\n",
       "  overflow-x: auto;\n",
       "}\n",
       "#h2o-table-9 .h2o-table {\n",
       "  /* width: 100%; */\n",
       "  margin-top: 1em;\n",
       "  margin-bottom: 1em;\n",
       "}\n",
       "#h2o-table-9 .h2o-table caption {\n",
       "  white-space: nowrap;\n",
       "  caption-side: top;\n",
       "  text-align: left;\n",
       "  /* margin-left: 1em; */\n",
       "  margin: 0;\n",
       "  font-size: larger;\n",
       "}\n",
       "#h2o-table-9 .h2o-table thead {\n",
       "  white-space: nowrap; \n",
       "  position: sticky;\n",
       "  top: 0;\n",
       "  box-shadow: 0 -1px inset;\n",
       "}\n",
       "#h2o-table-9 .h2o-table tbody {\n",
       "  overflow: auto;\n",
       "}\n",
       "#h2o-table-9 .h2o-table th,\n",
       "#h2o-table-9 .h2o-table td {\n",
       "  text-align: right;\n",
       "  /* border: 1px solid; */\n",
       "}\n",
       "#h2o-table-9 .h2o-table tr:nth-child(even) {\n",
       "  /* background: #F5F5F5 */\n",
       "}\n",
       "\n",
       "</style>      \n",
       "<div id=\"h2o-table-9\" class=\"h2o-container\">\n",
       "  <table class=\"h2o-table\">\n",
       "    <caption>Model Summary: </caption>\n",
       "    <thead><tr><th></th>\n",
       "<th>number_of_trees</th>\n",
       "<th>number_of_internal_trees</th>\n",
       "<th>model_size_in_bytes</th>\n",
       "<th>min_depth</th>\n",
       "<th>max_depth</th>\n",
       "<th>mean_depth</th>\n",
       "<th>min_leaves</th>\n",
       "<th>max_leaves</th>\n",
       "<th>mean_leaves</th></tr></thead>\n",
       "    <tbody><tr><td></td>\n",
       "<td>120.0</td>\n",
       "<td>120.0</td>\n",
       "<td>4495946.0</td>\n",
       "<td>0.0</td>\n",
       "<td>15.0</td>\n",
       "<td>9.0</td>\n",
       "<td>1.0</td>\n",
       "<td>9325.0</td>\n",
       "<td>2573.4666</td></tr></tbody>\n",
       "  </table>\n",
       "</div>\n",
       "</div>\n",
       "<div style='margin: 1em 0 1em 0;'><pre style='margin: 1em 0 1em 0;'>ModelMetricsRegression: gbm\n",
       "** Reported on train data. **\n",
       "\n",
       "MSE: 430.15141824964104\n",
       "RMSE: 20.7400920501728\n",
       "MAE: 8.579152748865996\n",
       "RMSLE: NaN\n",
       "Mean Residual Deviance: 430.15141824964104</pre></div>\n",
       "<div style='margin: 1em 0 1em 0;'><pre style='margin: 1em 0 1em 0;'>ModelMetricsRegression: gbm\n",
       "** Reported on validation data. **\n",
       "\n",
       "MSE: 885.6065896425979\n",
       "RMSE: 29.75914295880508\n",
       "MAE: 10.919127849170865\n",
       "RMSLE: NaN\n",
       "Mean Residual Deviance: 885.6065896425979</pre></div>\n",
       "<div style='margin: 1em 0 1em 0;'>\n",
       "<style>\n",
       "\n",
       "#h2o-table-10.h2o-container {\n",
       "  overflow-x: auto;\n",
       "}\n",
       "#h2o-table-10 .h2o-table {\n",
       "  /* width: 100%; */\n",
       "  margin-top: 1em;\n",
       "  margin-bottom: 1em;\n",
       "}\n",
       "#h2o-table-10 .h2o-table caption {\n",
       "  white-space: nowrap;\n",
       "  caption-side: top;\n",
       "  text-align: left;\n",
       "  /* margin-left: 1em; */\n",
       "  margin: 0;\n",
       "  font-size: larger;\n",
       "}\n",
       "#h2o-table-10 .h2o-table thead {\n",
       "  white-space: nowrap; \n",
       "  position: sticky;\n",
       "  top: 0;\n",
       "  box-shadow: 0 -1px inset;\n",
       "}\n",
       "#h2o-table-10 .h2o-table tbody {\n",
       "  overflow: auto;\n",
       "}\n",
       "#h2o-table-10 .h2o-table th,\n",
       "#h2o-table-10 .h2o-table td {\n",
       "  text-align: right;\n",
       "  /* border: 1px solid; */\n",
       "}\n",
       "#h2o-table-10 .h2o-table tr:nth-child(even) {\n",
       "  /* background: #F5F5F5 */\n",
       "}\n",
       "\n",
       "</style>      \n",
       "<div id=\"h2o-table-10\" class=\"h2o-container\">\n",
       "  <table class=\"h2o-table\">\n",
       "    <caption>Scoring History: </caption>\n",
       "    <thead><tr><th></th>\n",
       "<th>timestamp</th>\n",
       "<th>duration</th>\n",
       "<th>number_of_trees</th>\n",
       "<th>training_rmse</th>\n",
       "<th>training_mae</th>\n",
       "<th>training_deviance</th>\n",
       "<th>validation_rmse</th>\n",
       "<th>validation_mae</th>\n",
       "<th>validation_deviance</th></tr></thead>\n",
       "    <tbody><tr><td></td>\n",
       "<td>2024-03-02 08:15:54</td>\n",
       "<td> 1 min 23.934 sec</td>\n",
       "<td>0.0</td>\n",
       "<td>42.7508311</td>\n",
       "<td>14.5408758</td>\n",
       "<td>1827.6335591</td>\n",
       "<td>41.2938937</td>\n",
       "<td>14.4638457</td>\n",
       "<td>1705.1856571</td></tr>\n",
       "<tr><td></td>\n",
       "<td>2024-03-02 08:15:54</td>\n",
       "<td> 1 min 24.625 sec</td>\n",
       "<td>5.0</td>\n",
       "<td>37.8328583</td>\n",
       "<td>13.1808427</td>\n",
       "<td>1431.3251709</td>\n",
       "<td>38.1079497</td>\n",
       "<td>13.3485549</td>\n",
       "<td>1452.2158328</td></tr>\n",
       "<tr><td></td>\n",
       "<td>2024-03-02 08:15:55</td>\n",
       "<td> 1 min 25.337 sec</td>\n",
       "<td>10.0</td>\n",
       "<td>34.2082115</td>\n",
       "<td>12.3051601</td>\n",
       "<td>1170.2017316</td>\n",
       "<td>36.0011401</td>\n",
       "<td>12.7071843</td>\n",
       "<td>1296.0820875</td></tr>\n",
       "<tr><td></td>\n",
       "<td>2024-03-02 08:15:56</td>\n",
       "<td> 1 min 26.000 sec</td>\n",
       "<td>15.0</td>\n",
       "<td>31.7426801</td>\n",
       "<td>11.6965366</td>\n",
       "<td>1007.5977381</td>\n",
       "<td>34.6525625</td>\n",
       "<td>12.3211941</td>\n",
       "<td>1200.8000886</td></tr>\n",
       "<tr><td></td>\n",
       "<td>2024-03-02 08:15:56</td>\n",
       "<td> 1 min 26.614 sec</td>\n",
       "<td>20.0</td>\n",
       "<td>29.8183972</td>\n",
       "<td>11.2522145</td>\n",
       "<td>889.1368099</td>\n",
       "<td>33.6682199</td>\n",
       "<td>12.0698927</td>\n",
       "<td>1133.5490340</td></tr>\n",
       "<tr><td></td>\n",
       "<td>2024-03-02 08:15:57</td>\n",
       "<td> 1 min 27.247 sec</td>\n",
       "<td>25.0</td>\n",
       "<td>28.4202556</td>\n",
       "<td>10.9261617</td>\n",
       "<td>807.7109265</td>\n",
       "<td>32.9332670</td>\n",
       "<td>11.9118964</td>\n",
       "<td>1084.6000738</td></tr>\n",
       "<tr><td></td>\n",
       "<td>2024-03-02 08:15:58</td>\n",
       "<td> 1 min 27.905 sec</td>\n",
       "<td>30.0</td>\n",
       "<td>27.4404474</td>\n",
       "<td>10.6272847</td>\n",
       "<td>752.9781543</td>\n",
       "<td>32.3325426</td>\n",
       "<td>11.7710149</td>\n",
       "<td>1045.3933080</td></tr>\n",
       "<tr><td></td>\n",
       "<td>2024-03-02 08:15:58</td>\n",
       "<td> 1 min 28.621 sec</td>\n",
       "<td>35.0</td>\n",
       "<td>26.2699759</td>\n",
       "<td>10.2876319</td>\n",
       "<td>690.1116364</td>\n",
       "<td>31.8640540</td>\n",
       "<td>11.6245239</td>\n",
       "<td>1015.3179384</td></tr>\n",
       "<tr><td></td>\n",
       "<td>2024-03-02 08:15:59</td>\n",
       "<td> 1 min 29.255 sec</td>\n",
       "<td>40.0</td>\n",
       "<td>25.2242457</td>\n",
       "<td>10.0245747</td>\n",
       "<td>636.2625716</td>\n",
       "<td>31.3149756</td>\n",
       "<td>11.5056500</td>\n",
       "<td>980.6276970</td></tr>\n",
       "<tr><td></td>\n",
       "<td>2024-03-02 08:16:00</td>\n",
       "<td> 1 min 29.901 sec</td>\n",
       "<td>45.0</td>\n",
       "<td>24.4317003</td>\n",
       "<td>9.7671139</td>\n",
       "<td>596.9079788</td>\n",
       "<td>30.9131353</td>\n",
       "<td>11.3872756</td>\n",
       "<td>955.6219347</td></tr>\n",
       "<tr><td>---</td>\n",
       "<td>---</td>\n",
       "<td>---</td>\n",
       "<td>---</td>\n",
       "<td>---</td>\n",
       "<td>---</td>\n",
       "<td>---</td>\n",
       "<td>---</td>\n",
       "<td>---</td>\n",
       "<td>---</td></tr>\n",
       "<tr><td></td>\n",
       "<td>2024-03-02 08:16:03</td>\n",
       "<td> 1 min 32.974 sec</td>\n",
       "<td>75.0</td>\n",
       "<td>21.5404560</td>\n",
       "<td>8.8550747</td>\n",
       "<td>463.9912465</td>\n",
       "<td>29.9960538</td>\n",
       "<td>11.0331077</td>\n",
       "<td>899.7632424</td></tr>\n",
       "<tr><td></td>\n",
       "<td>2024-03-02 08:16:03</td>\n",
       "<td> 1 min 33.065 sec</td>\n",
       "<td>80.0</td>\n",
       "<td>21.5404560</td>\n",
       "<td>8.8550747</td>\n",
       "<td>463.9912465</td>\n",
       "<td>29.9960538</td>\n",
       "<td>11.0331077</td>\n",
       "<td>899.7632424</td></tr>\n",
       "<tr><td></td>\n",
       "<td>2024-03-02 08:16:03</td>\n",
       "<td> 1 min 33.407 sec</td>\n",
       "<td>85.0</td>\n",
       "<td>21.3518414</td>\n",
       "<td>8.7686263</td>\n",
       "<td>455.9011324</td>\n",
       "<td>29.9354922</td>\n",
       "<td>10.9919594</td>\n",
       "<td>896.1336919</td></tr>\n",
       "<tr><td></td>\n",
       "<td>2024-03-02 08:16:04</td>\n",
       "<td> 1 min 33.910 sec</td>\n",
       "<td>90.0</td>\n",
       "<td>20.9206655</td>\n",
       "<td>8.6359906</td>\n",
       "<td>437.6742445</td>\n",
       "<td>29.8166271</td>\n",
       "<td>10.9418640</td>\n",
       "<td>889.0312524</td></tr>\n",
       "<tr><td></td>\n",
       "<td>2024-03-02 08:16:04</td>\n",
       "<td> 1 min 34.219 sec</td>\n",
       "<td>95.0</td>\n",
       "<td>20.7400921</td>\n",
       "<td>8.5791527</td>\n",
       "<td>430.1514182</td>\n",
       "<td>29.7591430</td>\n",
       "<td>10.9191278</td>\n",
       "<td>885.6065896</td></tr>\n",
       "<tr><td></td>\n",
       "<td>2024-03-02 08:16:04</td>\n",
       "<td> 1 min 34.317 sec</td>\n",
       "<td>100.0</td>\n",
       "<td>20.7400921</td>\n",
       "<td>8.5791527</td>\n",
       "<td>430.1514182</td>\n",
       "<td>29.7591430</td>\n",
       "<td>10.9191278</td>\n",
       "<td>885.6065896</td></tr>\n",
       "<tr><td></td>\n",
       "<td>2024-03-02 08:16:04</td>\n",
       "<td> 1 min 34.404 sec</td>\n",
       "<td>105.0</td>\n",
       "<td>20.7400921</td>\n",
       "<td>8.5791527</td>\n",
       "<td>430.1514182</td>\n",
       "<td>29.7591430</td>\n",
       "<td>10.9191278</td>\n",
       "<td>885.6065896</td></tr>\n",
       "<tr><td></td>\n",
       "<td>2024-03-02 08:16:04</td>\n",
       "<td> 1 min 34.491 sec</td>\n",
       "<td>110.0</td>\n",
       "<td>20.7400921</td>\n",
       "<td>8.5791527</td>\n",
       "<td>430.1514182</td>\n",
       "<td>29.7591430</td>\n",
       "<td>10.9191278</td>\n",
       "<td>885.6065896</td></tr>\n",
       "<tr><td></td>\n",
       "<td>2024-03-02 08:16:04</td>\n",
       "<td> 1 min 34.576 sec</td>\n",
       "<td>115.0</td>\n",
       "<td>20.7400921</td>\n",
       "<td>8.5791527</td>\n",
       "<td>430.1514182</td>\n",
       "<td>29.7591430</td>\n",
       "<td>10.9191278</td>\n",
       "<td>885.6065896</td></tr>\n",
       "<tr><td></td>\n",
       "<td>2024-03-02 08:16:04</td>\n",
       "<td> 1 min 34.666 sec</td>\n",
       "<td>120.0</td>\n",
       "<td>20.7400921</td>\n",
       "<td>8.5791527</td>\n",
       "<td>430.1514182</td>\n",
       "<td>29.7591430</td>\n",
       "<td>10.9191278</td>\n",
       "<td>885.6065896</td></tr></tbody>\n",
       "  </table>\n",
       "</div>\n",
       "<pre style='font-size: smaller; margin-bottom: 1em;'>[25 rows x 10 columns]</pre></div>\n",
       "<div style='margin: 1em 0 1em 0;'>\n",
       "<style>\n",
       "\n",
       "#h2o-table-11.h2o-container {\n",
       "  overflow-x: auto;\n",
       "}\n",
       "#h2o-table-11 .h2o-table {\n",
       "  /* width: 100%; */\n",
       "  margin-top: 1em;\n",
       "  margin-bottom: 1em;\n",
       "}\n",
       "#h2o-table-11 .h2o-table caption {\n",
       "  white-space: nowrap;\n",
       "  caption-side: top;\n",
       "  text-align: left;\n",
       "  /* margin-left: 1em; */\n",
       "  margin: 0;\n",
       "  font-size: larger;\n",
       "}\n",
       "#h2o-table-11 .h2o-table thead {\n",
       "  white-space: nowrap; \n",
       "  position: sticky;\n",
       "  top: 0;\n",
       "  box-shadow: 0 -1px inset;\n",
       "}\n",
       "#h2o-table-11 .h2o-table tbody {\n",
       "  overflow: auto;\n",
       "}\n",
       "#h2o-table-11 .h2o-table th,\n",
       "#h2o-table-11 .h2o-table td {\n",
       "  text-align: right;\n",
       "  /* border: 1px solid; */\n",
       "}\n",
       "#h2o-table-11 .h2o-table tr:nth-child(even) {\n",
       "  /* background: #F5F5F5 */\n",
       "}\n",
       "\n",
       "</style>      \n",
       "<div id=\"h2o-table-11\" class=\"h2o-container\">\n",
       "  <table class=\"h2o-table\">\n",
       "    <caption>Variable Importances: </caption>\n",
       "    <thead><tr><th>variable</th>\n",
       "<th>relative_importance</th>\n",
       "<th>scaled_importance</th>\n",
       "<th>percentage</th></tr></thead>\n",
       "    <tbody><tr><td>REQUESTED_DELIVERY_DATE</td>\n",
       "<td>939935232.0000000</td>\n",
       "<td>1.0</td>\n",
       "<td>0.2624165</td></tr>\n",
       "<tr><td>SHORT_TEXT</td>\n",
       "<td>637401856.0000000</td>\n",
       "<td>0.6781338</td>\n",
       "<td>0.1779535</td></tr>\n",
       "<tr><td>CREATE_DATE</td>\n",
       "<td>319171424.0000000</td>\n",
       "<td>0.3395675</td>\n",
       "<td>0.0891081</td></tr>\n",
       "<tr><td>SUB_COMMODITY_DESC</td>\n",
       "<td>244474400.0000000</td>\n",
       "<td>0.2600971</td>\n",
       "<td>0.0682538</td></tr>\n",
       "<tr><td>month</td>\n",
       "<td>209301920.0000000</td>\n",
       "<td>0.2226770</td>\n",
       "<td>0.0584341</td></tr>\n",
       "<tr><td>D_day_of_week</td>\n",
       "<td>174763280.0000000</td>\n",
       "<td>0.1859312</td>\n",
       "<td>0.0487914</td></tr>\n",
       "<tr><td>day_of_week</td>\n",
       "<td>155506448.0000000</td>\n",
       "<td>0.1654438</td>\n",
       "<td>0.0434152</td></tr>\n",
       "<tr><td>COMPANY_CODE_ID</td>\n",
       "<td>141378016.0000000</td>\n",
       "<td>0.1504125</td>\n",
       "<td>0.0394707</td></tr>\n",
       "<tr><td>Mean_Delay_Material</td>\n",
       "<td>120483584.0000000</td>\n",
       "<td>0.1281829</td>\n",
       "<td>0.0336373</td></tr>\n",
       "<tr><td>PLANNED_DELIVERY_DAYS</td>\n",
       "<td>114464272.0000000</td>\n",
       "<td>0.1217789</td>\n",
       "<td>0.0319568</td></tr>\n",
       "<tr><td>Median_Delay_Material</td>\n",
       "<td>94494472.0000000</td>\n",
       "<td>0.1005330</td>\n",
       "<td>0.0263815</td></tr>\n",
       "<tr><td>Ranking</td>\n",
       "<td>78674232.0000000</td>\n",
       "<td>0.0837018</td>\n",
       "<td>0.0219647</td></tr>\n",
       "<tr><td>MATERIAL_ID</td>\n",
       "<td>72333832.0000000</td>\n",
       "<td>0.0769562</td>\n",
       "<td>0.0201946</td></tr>\n",
       "<tr><td>quarter</td>\n",
       "<td>62607944.0000000</td>\n",
       "<td>0.0666088</td>\n",
       "<td>0.0174792</td></tr>\n",
       "<tr><td>PLANT_ID</td>\n",
       "<td>61303328.0000000</td>\n",
       "<td>0.0652208</td>\n",
       "<td>0.0171150</td></tr>\n",
       "<tr><td>COUNTRY</td>\n",
       "<td>58622624.0000000</td>\n",
       "<td>0.0623688</td>\n",
       "<td>0.0163666</td></tr>\n",
       "<tr><td>Category_total_counts</td>\n",
       "<td>48784736.0000000</td>\n",
       "<td>0.0519022</td>\n",
       "<td>0.0136200</td></tr>\n",
       "<tr><td>INBOUND_DELIVERY_ITEM_ID</td>\n",
       "<td>42680952.0000000</td>\n",
       "<td>0.0454084</td>\n",
       "<td>0.0119159</td></tr>\n",
       "<tr><td>IS_HOLIDAY</td>\n",
       "<td>5462956.5</td>\n",
       "<td>0.0058121</td>\n",
       "<td>0.0015252</td></tr></tbody>\n",
       "  </table>\n",
       "</div>\n",
       "</div><pre style=\"font-size: smaller; margin: 1em 0 0 0;\">\n",
       "\n",
       "[tips]\n",
       "Use `model.explain()` to inspect the model.\n",
       "--\n",
       "Use `h2o.display.toggle_user_tips()` to switch on/off this section.</pre>"
      ],
      "text/plain": [
       "Model Details\n",
       "=============\n",
       "H2OGradientBoostingEstimator : Gradient Boosting Machine\n",
       "Model Key: GBM_grid_1_AutoML_5_20240302_80719_model_8\n",
       "\n",
       "\n",
       "Model Summary: \n",
       "    number_of_trees    number_of_internal_trees    model_size_in_bytes    min_depth    max_depth    mean_depth    min_leaves    max_leaves    mean_leaves\n",
       "--  -----------------  --------------------------  ---------------------  -----------  -----------  ------------  ------------  ------------  -------------\n",
       "    120                120                         4.49595e+06            0            15           9             1             9325          2573.47\n",
       "\n",
       "ModelMetricsRegression: gbm\n",
       "** Reported on train data. **\n",
       "\n",
       "MSE: 430.15141824964104\n",
       "RMSE: 20.7400920501728\n",
       "MAE: 8.579152748865996\n",
       "RMSLE: NaN\n",
       "Mean Residual Deviance: 430.15141824964104\n",
       "\n",
       "ModelMetricsRegression: gbm\n",
       "** Reported on validation data. **\n",
       "\n",
       "MSE: 885.6065896425979\n",
       "RMSE: 29.75914295880508\n",
       "MAE: 10.919127849170865\n",
       "RMSLE: NaN\n",
       "Mean Residual Deviance: 885.6065896425979\n",
       "\n",
       "Scoring History: \n",
       "     timestamp            duration          number_of_trees    training_rmse       training_mae        training_deviance    validation_rmse     validation_mae      validation_deviance\n",
       "---  -------------------  ----------------  -----------------  ------------------  ------------------  -------------------  ------------------  ------------------  ---------------------\n",
       "     2024-03-02 08:15:54  1 min 23.934 sec  0.0                42.75083109246781   14.540875778801155  1827.6335590967128   41.29389370203772   14.463845667321065  1705.1856570751904\n",
       "     2024-03-02 08:15:54  1 min 24.625 sec  5.0                37.83285834939175   13.180842724057447  1431.325170885141    38.10794973231694   13.34855490870542   1452.2158328007947\n",
       "     2024-03-02 08:15:55  1 min 25.337 sec  10.0               34.20821146389091   12.305160109368211  1170.2017315582775   36.00114008606737   12.70718429018268   1296.082087496647\n",
       "     2024-03-02 08:15:56  1 min 26.000 sec  15.0               31.742680070776522  11.696536552287428  1007.597738075673    34.65256251089305   12.321194125856511  1200.8000885713504\n",
       "     2024-03-02 08:15:56  1 min 26.614 sec  20.0               29.81839717136515   11.252214493212026  889.1368098692772    33.66821994173745   12.069892716054245  1133.5490340452072\n",
       "     2024-03-02 08:15:57  1 min 27.247 sec  25.0               28.420255567444034  10.926161700782231  807.7109265188336    32.933266977175506  11.911896415355194  1084.6000737899187\n",
       "     2024-03-02 08:15:58  1 min 27.905 sec  30.0               27.440447414703605  10.627284745618867  752.9781543191137    32.33254255416862   11.771014914022778  1045.3933080171244\n",
       "     2024-03-02 08:15:58  1 min 28.621 sec  35.0               26.269975949099145  10.287631886800606  690.1116363662475    31.86405401723496   11.624523909933485  1015.3179384132674\n",
       "     2024-03-02 08:15:59  1 min 29.255 sec  40.0               25.224245708564077  10.024574673219012  636.2625715660133    31.31497560258692   11.505650011227907  980.627696990614\n",
       "     2024-03-02 08:16:00  1 min 29.901 sec  45.0               24.43170028470675   9.76711389879133    596.9079788017399    30.913135310480072  11.387275593242153  955.6219347240499\n",
       "---  ---                  ---               ---                ---                 ---                 ---                  ---                 ---                 ---\n",
       "     2024-03-02 08:16:03  1 min 32.974 sec  75.0               21.540456042085985  8.855074748318835   463.99124650103863   29.996053779749086  11.033107688372311  899.7632423575996\n",
       "     2024-03-02 08:16:03  1 min 33.065 sec  80.0               21.540456042085985  8.855074748318835   463.99124650103863   29.996053779749086  11.033107688372311  899.7632423575996\n",
       "     2024-03-02 08:16:03  1 min 33.407 sec  85.0               21.35184142976715   8.768626336163177   455.9011324419208    29.93549217697252   10.991959382315516  896.133691877583\n",
       "     2024-03-02 08:16:04  1 min 33.910 sec  90.0               20.920665488442253  8.635990619333406   437.67424447929875   29.816627112814505  10.941863964243902  889.031252384625\n",
       "     2024-03-02 08:16:04  1 min 34.219 sec  95.0               20.7400920501728    8.579152748865996   430.15141824964104   29.75914295880508   10.919127849170865  885.6065896425979\n",
       "     2024-03-02 08:16:04  1 min 34.317 sec  100.0              20.7400920501728    8.579152748865996   430.15141824964104   29.75914295880508   10.919127849170865  885.6065896425979\n",
       "     2024-03-02 08:16:04  1 min 34.404 sec  105.0              20.7400920501728    8.579152748865996   430.15141824964104   29.75914295880508   10.919127849170865  885.6065896425979\n",
       "     2024-03-02 08:16:04  1 min 34.491 sec  110.0              20.7400920501728    8.579152748865996   430.15141824964104   29.75914295880508   10.919127849170865  885.6065896425979\n",
       "     2024-03-02 08:16:04  1 min 34.576 sec  115.0              20.7400920501728    8.579152748865996   430.15141824964104   29.75914295880508   10.919127849170865  885.6065896425979\n",
       "     2024-03-02 08:16:04  1 min 34.666 sec  120.0              20.7400920501728    8.579152748865996   430.15141824964104   29.75914295880508   10.919127849170865  885.6065896425979\n",
       "[25 rows x 10 columns]\n",
       "\n",
       "\n",
       "Variable Importances: \n",
       "variable                  relative_importance    scaled_importance    percentage\n",
       "------------------------  ---------------------  -------------------  ------------\n",
       "REQUESTED_DELIVERY_DATE   9.39935e+08            1                    0.262416\n",
       "SHORT_TEXT                6.37402e+08            0.678134             0.177953\n",
       "CREATE_DATE               3.19171e+08            0.339567             0.0891081\n",
       "SUB_COMMODITY_DESC        2.44474e+08            0.260097             0.0682538\n",
       "month                     2.09302e+08            0.222677             0.0584341\n",
       "D_day_of_week             1.74763e+08            0.185931             0.0487914\n",
       "day_of_week               1.55506e+08            0.165444             0.0434152\n",
       "COMPANY_CODE_ID           1.41378e+08            0.150413             0.0394707\n",
       "Mean_Delay_Material       1.20484e+08            0.128183             0.0336373\n",
       "PLANNED_DELIVERY_DAYS     1.14464e+08            0.121779             0.0319568\n",
       "Median_Delay_Material     9.44945e+07            0.100533             0.0263815\n",
       "Ranking                   7.86742e+07            0.0837018            0.0219647\n",
       "MATERIAL_ID               7.23338e+07            0.0769562            0.0201946\n",
       "quarter                   6.26079e+07            0.0666088            0.0174792\n",
       "PLANT_ID                  6.13033e+07            0.0652208            0.017115\n",
       "COUNTRY                   5.86226e+07            0.0623688            0.0163666\n",
       "Category_total_counts     4.87847e+07            0.0519022            0.01362\n",
       "INBOUND_DELIVERY_ITEM_ID  4.2681e+07             0.0454084            0.0119159\n",
       "IS_HOLIDAY                5.46296e+06            0.00581206           0.00152518\n",
       "\n",
       "[tips]\n",
       "Use `model.explain()` to inspect the model.\n",
       "--\n",
       "Use `h2o.display.toggle_user_tips()` to switch on/off this section."
      ]
     },
     "execution_count": 382,
     "metadata": {},
     "output_type": "execute_result"
    }
   ],
   "source": [
    "from h2o.automl import H2OAutoML\n",
    "\n",
    "# call H2OAutoML function \n",
    "aml = H2OAutoML(max_runtime_secs = 600,\n",
    "                # exclude_algos =['DeepLearning'],\n",
    "                seed = 1,\n",
    "                # stopping_metric ='logloss',\n",
    "                # sort_metric ='logloss',\n",
    "                balance_classes = False,\n",
    "                project_name ='Project_3'  # Changed 'Project 1' to 'Project_1'\n",
    ")\n",
    "\n",
    "# train model and record time \n",
    "aml.train(x = x, y = y, training_frame = train_df)\n"
   ]
  },
  {
   "cell_type": "code",
   "execution_count": null,
   "metadata": {},
   "outputs": [
    {
     "data": {
      "text/html": [
       "<table class='dataframe'>\n",
       "<thead>\n",
       "<tr><th>model_id                                              </th><th style=\"text-align: right;\">   rmse</th><th style=\"text-align: right;\">    mse</th><th style=\"text-align: right;\">    mae</th><th style=\"text-align: right;\">  rmsle</th><th style=\"text-align: right;\">  mean_residual_deviance</th></tr>\n",
       "</thead>\n",
       "<tbody>\n",
       "<tr><td>GBM_grid_1_AutoML_3_20240302_70256_model_8            </td><td style=\"text-align: right;\">38.7232</td><td style=\"text-align: right;\">1499.48</td><td style=\"text-align: right;\">10.3391</td><td style=\"text-align: right;\">    nan</td><td style=\"text-align: right;\">                 1499.48</td></tr>\n",
       "<tr><td>GBM_grid_1_AutoML_3_20240302_70256_model_13           </td><td style=\"text-align: right;\">39.1238</td><td style=\"text-align: right;\">1530.68</td><td style=\"text-align: right;\">11.2176</td><td style=\"text-align: right;\">    nan</td><td style=\"text-align: right;\">                 1530.68</td></tr>\n",
       "<tr><td>GBM_grid_1_AutoML_3_20240302_70256_model_4            </td><td style=\"text-align: right;\">39.2168</td><td style=\"text-align: right;\">1537.96</td><td style=\"text-align: right;\">10.8574</td><td style=\"text-align: right;\">    nan</td><td style=\"text-align: right;\">                 1537.96</td></tr>\n",
       "<tr><td>StackedEnsemble_AllModels_2_AutoML_3_20240302_70256   </td><td style=\"text-align: right;\">39.2259</td><td style=\"text-align: right;\">1538.67</td><td style=\"text-align: right;\">11.3949</td><td style=\"text-align: right;\">    nan</td><td style=\"text-align: right;\">                 1538.67</td></tr>\n",
       "<tr><td>StackedEnsemble_BestOfFamily_3_AutoML_3_20240302_70256</td><td style=\"text-align: right;\">39.2409</td><td style=\"text-align: right;\">1539.85</td><td style=\"text-align: right;\">11.4262</td><td style=\"text-align: right;\">    nan</td><td style=\"text-align: right;\">                 1539.85</td></tr>\n",
       "<tr><td>StackedEnsemble_AllModels_1_AutoML_3_20240302_70256   </td><td style=\"text-align: right;\">39.5908</td><td style=\"text-align: right;\">1567.43</td><td style=\"text-align: right;\">11.1336</td><td style=\"text-align: right;\">    nan</td><td style=\"text-align: right;\">                 1567.43</td></tr>\n",
       "<tr><td>StackedEnsemble_BestOfFamily_2_AutoML_3_20240302_70256</td><td style=\"text-align: right;\">39.6294</td><td style=\"text-align: right;\">1570.49</td><td style=\"text-align: right;\">11.1382</td><td style=\"text-align: right;\">    nan</td><td style=\"text-align: right;\">                 1570.49</td></tr>\n",
       "<tr><td>GBM_grid_1_AutoML_3_20240302_70256_model_10           </td><td style=\"text-align: right;\">39.6825</td><td style=\"text-align: right;\">1574.7 </td><td style=\"text-align: right;\">10.9573</td><td style=\"text-align: right;\">    nan</td><td style=\"text-align: right;\">                 1574.7 </td></tr>\n",
       "<tr><td>GBM_grid_1_AutoML_3_20240302_70256_model_5            </td><td style=\"text-align: right;\">39.7465</td><td style=\"text-align: right;\">1579.79</td><td style=\"text-align: right;\">10.8334</td><td style=\"text-align: right;\">    nan</td><td style=\"text-align: right;\">                 1579.79</td></tr>\n",
       "<tr><td>GBM_5_AutoML_3_20240302_70256                         </td><td style=\"text-align: right;\">40.0007</td><td style=\"text-align: right;\">1600.05</td><td style=\"text-align: right;\">11.6865</td><td style=\"text-align: right;\">    nan</td><td style=\"text-align: right;\">                 1600.05</td></tr>\n",
       "<tr><td>GBM_4_AutoML_3_20240302_70256                         </td><td style=\"text-align: right;\">40.4501</td><td style=\"text-align: right;\">1636.21</td><td style=\"text-align: right;\">11.3446</td><td style=\"text-align: right;\">    nan</td><td style=\"text-align: right;\">                 1636.21</td></tr>\n",
       "<tr><td>DRF_1_AutoML_3_20240302_70256                         </td><td style=\"text-align: right;\">40.498 </td><td style=\"text-align: right;\">1640.09</td><td style=\"text-align: right;\">11.0352</td><td style=\"text-align: right;\">    nan</td><td style=\"text-align: right;\">                 1640.09</td></tr>\n",
       "<tr><td>GBM_3_AutoML_3_20240302_70256                         </td><td style=\"text-align: right;\">40.8014</td><td style=\"text-align: right;\">1664.75</td><td style=\"text-align: right;\">11.7629</td><td style=\"text-align: right;\">    nan</td><td style=\"text-align: right;\">                 1664.75</td></tr>\n",
       "<tr><td>XRT_1_AutoML_3_20240302_70256                         </td><td style=\"text-align: right;\">40.9416</td><td style=\"text-align: right;\">1676.22</td><td style=\"text-align: right;\">11.3562</td><td style=\"text-align: right;\">    nan</td><td style=\"text-align: right;\">                 1676.22</td></tr>\n",
       "<tr><td>GBM_grid_1_AutoML_3_20240302_70256_model_1            </td><td style=\"text-align: right;\">41.2554</td><td style=\"text-align: right;\">1702.01</td><td style=\"text-align: right;\">11.3226</td><td style=\"text-align: right;\">    nan</td><td style=\"text-align: right;\">                 1702.01</td></tr>\n",
       "<tr><td>StackedEnsemble_BestOfFamily_1_AutoML_3_20240302_70256</td><td style=\"text-align: right;\">41.4878</td><td style=\"text-align: right;\">1721.24</td><td style=\"text-align: right;\">11.5527</td><td style=\"text-align: right;\">    nan</td><td style=\"text-align: right;\">                 1721.24</td></tr>\n",
       "<tr><td>GBM_1_AutoML_3_20240302_70256                         </td><td style=\"text-align: right;\">41.666 </td><td style=\"text-align: right;\">1736.05</td><td style=\"text-align: right;\">11.3786</td><td style=\"text-align: right;\">    nan</td><td style=\"text-align: right;\">                 1736.05</td></tr>\n",
       "<tr><td>GBM_grid_1_AutoML_3_20240302_70256_model_2            </td><td style=\"text-align: right;\">41.9066</td><td style=\"text-align: right;\">1756.17</td><td style=\"text-align: right;\">12.3596</td><td style=\"text-align: right;\">    nan</td><td style=\"text-align: right;\">                 1756.17</td></tr>\n",
       "<tr><td>GBM_grid_1_AutoML_3_20240302_70256_model_3            </td><td style=\"text-align: right;\">42.004 </td><td style=\"text-align: right;\">1764.34</td><td style=\"text-align: right;\">12.1831</td><td style=\"text-align: right;\">    nan</td><td style=\"text-align: right;\">                 1764.34</td></tr>\n",
       "<tr><td>GBM_2_AutoML_3_20240302_70256                         </td><td style=\"text-align: right;\">42.0783</td><td style=\"text-align: right;\">1770.59</td><td style=\"text-align: right;\">12.1452</td><td style=\"text-align: right;\">    nan</td><td style=\"text-align: right;\">                 1770.59</td></tr>\n",
       "<tr><td>GBM_grid_1_AutoML_3_20240302_70256_model_12           </td><td style=\"text-align: right;\">42.9891</td><td style=\"text-align: right;\">1848.06</td><td style=\"text-align: right;\">12.3676</td><td style=\"text-align: right;\">    nan</td><td style=\"text-align: right;\">                 1848.06</td></tr>\n",
       "<tr><td>GBM_grid_1_AutoML_3_20240302_70256_model_7            </td><td style=\"text-align: right;\">43.407 </td><td style=\"text-align: right;\">1884.17</td><td style=\"text-align: right;\">12.7115</td><td style=\"text-align: right;\">    nan</td><td style=\"text-align: right;\">                 1884.17</td></tr>\n",
       "<tr><td>GBM_grid_1_AutoML_3_20240302_70256_model_9            </td><td style=\"text-align: right;\">43.9241</td><td style=\"text-align: right;\">1929.33</td><td style=\"text-align: right;\">12.6717</td><td style=\"text-align: right;\">    nan</td><td style=\"text-align: right;\">                 1929.33</td></tr>\n",
       "<tr><td>GBM_grid_1_AutoML_3_20240302_70256_model_11           </td><td style=\"text-align: right;\">44.4592</td><td style=\"text-align: right;\">1976.62</td><td style=\"text-align: right;\">12.899 </td><td style=\"text-align: right;\">    nan</td><td style=\"text-align: right;\">                 1976.62</td></tr>\n",
       "<tr><td>GBM_grid_1_AutoML_3_20240302_70256_model_6            </td><td style=\"text-align: right;\">45.1035</td><td style=\"text-align: right;\">2034.32</td><td style=\"text-align: right;\">12.6672</td><td style=\"text-align: right;\">    nan</td><td style=\"text-align: right;\">                 2034.32</td></tr>\n",
       "<tr><td>GBM_grid_1_AutoML_3_20240302_70256_model_14           </td><td style=\"text-align: right;\">46.8679</td><td style=\"text-align: right;\">2196.6 </td><td style=\"text-align: right;\">12.9352</td><td style=\"text-align: right;\">    nan</td><td style=\"text-align: right;\">                 2196.6 </td></tr>\n",
       "<tr><td>GLM_1_AutoML_3_20240302_70256                         </td><td style=\"text-align: right;\">48.3113</td><td style=\"text-align: right;\">2333.98</td><td style=\"text-align: right;\">13.2924</td><td style=\"text-align: right;\">    nan</td><td style=\"text-align: right;\">                 2333.98</td></tr>\n",
       "<tr><td>DeepLearning_1_AutoML_3_20240302_70256                </td><td style=\"text-align: right;\">49.9808</td><td style=\"text-align: right;\">2498.08</td><td style=\"text-align: right;\">14.4432</td><td style=\"text-align: right;\">    nan</td><td style=\"text-align: right;\">                 2498.08</td></tr>\n",
       "<tr><td>DeepLearning_grid_1_AutoML_3_20240302_70256_model_1   </td><td style=\"text-align: right;\">65.8823</td><td style=\"text-align: right;\">4340.48</td><td style=\"text-align: right;\">48.3557</td><td style=\"text-align: right;\">    nan</td><td style=\"text-align: right;\">                 4340.48</td></tr>\n",
       "</tbody>\n",
       "</table><pre style='font-size: smaller; margin-bottom: 1em;'>[29 rows x 6 columns]</pre>"
      ],
      "text/plain": [
       "model_id                                                   rmse      mse      mae    rmsle    mean_residual_deviance\n",
       "------------------------------------------------------  -------  -------  -------  -------  ------------------------\n",
       "GBM_grid_1_AutoML_3_20240302_70256_model_8              38.7232  1499.48  10.3391      nan                   1499.48\n",
       "GBM_grid_1_AutoML_3_20240302_70256_model_13             39.1238  1530.68  11.2176      nan                   1530.68\n",
       "GBM_grid_1_AutoML_3_20240302_70256_model_4              39.2168  1537.96  10.8574      nan                   1537.96\n",
       "StackedEnsemble_AllModels_2_AutoML_3_20240302_70256     39.2259  1538.67  11.3949      nan                   1538.67\n",
       "StackedEnsemble_BestOfFamily_3_AutoML_3_20240302_70256  39.2409  1539.85  11.4262      nan                   1539.85\n",
       "StackedEnsemble_AllModels_1_AutoML_3_20240302_70256     39.5908  1567.43  11.1336      nan                   1567.43\n",
       "StackedEnsemble_BestOfFamily_2_AutoML_3_20240302_70256  39.6294  1570.49  11.1382      nan                   1570.49\n",
       "GBM_grid_1_AutoML_3_20240302_70256_model_10             39.6825  1574.7   10.9573      nan                   1574.7\n",
       "GBM_grid_1_AutoML_3_20240302_70256_model_5              39.7465  1579.79  10.8334      nan                   1579.79\n",
       "GBM_5_AutoML_3_20240302_70256                           40.0007  1600.05  11.6865      nan                   1600.05\n",
       "GBM_4_AutoML_3_20240302_70256                           40.4501  1636.21  11.3446      nan                   1636.21\n",
       "DRF_1_AutoML_3_20240302_70256                           40.498   1640.09  11.0352      nan                   1640.09\n",
       "GBM_3_AutoML_3_20240302_70256                           40.8014  1664.75  11.7629      nan                   1664.75\n",
       "XRT_1_AutoML_3_20240302_70256                           40.9416  1676.22  11.3562      nan                   1676.22\n",
       "GBM_grid_1_AutoML_3_20240302_70256_model_1              41.2554  1702.01  11.3226      nan                   1702.01\n",
       "StackedEnsemble_BestOfFamily_1_AutoML_3_20240302_70256  41.4878  1721.24  11.5527      nan                   1721.24\n",
       "GBM_1_AutoML_3_20240302_70256                           41.666   1736.05  11.3786      nan                   1736.05\n",
       "GBM_grid_1_AutoML_3_20240302_70256_model_2              41.9066  1756.17  12.3596      nan                   1756.17\n",
       "GBM_grid_1_AutoML_3_20240302_70256_model_3              42.004   1764.34  12.1831      nan                   1764.34\n",
       "GBM_2_AutoML_3_20240302_70256                           42.0783  1770.59  12.1452      nan                   1770.59\n",
       "GBM_grid_1_AutoML_3_20240302_70256_model_12             42.9891  1848.06  12.3676      nan                   1848.06\n",
       "GBM_grid_1_AutoML_3_20240302_70256_model_7              43.407   1884.17  12.7115      nan                   1884.17\n",
       "GBM_grid_1_AutoML_3_20240302_70256_model_9              43.9241  1929.33  12.6717      nan                   1929.33\n",
       "GBM_grid_1_AutoML_3_20240302_70256_model_11             44.4592  1976.62  12.899       nan                   1976.62\n",
       "GBM_grid_1_AutoML_3_20240302_70256_model_6              45.1035  2034.32  12.6672      nan                   2034.32\n",
       "GBM_grid_1_AutoML_3_20240302_70256_model_14             46.8679  2196.6   12.9352      nan                   2196.6\n",
       "GLM_1_AutoML_3_20240302_70256                           48.3113  2333.98  13.2924      nan                   2333.98\n",
       "DeepLearning_1_AutoML_3_20240302_70256                  49.9808  2498.08  14.4432      nan                   2498.08\n",
       "DeepLearning_grid_1_AutoML_3_20240302_70256_model_1     65.8823  4340.48  48.3557      nan                   4340.48\n",
       "[29 rows x 6 columns]\n"
      ]
     },
     "execution_count": 309,
     "metadata": {},
     "output_type": "execute_result"
    }
   ],
   "source": [
    "# View the H2O aml leaderboard\n",
    "lb = aml.leaderboard\n",
    "# Print all rows instead of 10 rows\n",
    "lb.head(rows = lb.nrows)"
   ]
  },
  {
   "cell_type": "code",
   "execution_count": null,
   "metadata": {},
   "outputs": [
    {
     "name": "stdout",
     "output_type": "stream",
     "text": [
      "[('REQUESTED_DELIVERY_DATE', 565645184.0, 1.0, 0.16407734484735964), ('Mean_Delay_Material', 500015808.0, 0.8839743042875443, 0.14504015676079224), ('SHORT_TEXT', 356210016.0, 0.6297410922533374, 0.10332624635820375), ('CREATE_DATE', 348784064.0, 0.6166128058114961, 0.10117219197643086), ('REQUESTED_DELIVERY_DATE_year', 213860848.0, 0.3780830351770484, 0.06203486054368097), ('REQUESTED_DELIVERY_DATE_day', 205090096.0, 0.3625772866122378, 0.0594907184892961), ('month', 134825184.0, 0.23835646057582274, 0.03910889517849535), ('REQUESTED_DELIVERY_DATE_month', 133133320.0, 0.23536542653565667, 0.03861813425483683), ('Median_Delay_Material', 129790808.0, 0.22945622392146098, 0.037648567979734524), ('D_day_of_week', 111725016.0, 0.19751784185614138, 0.032408203051736355), ('day_of_week', 101666920.0, 0.17973620721218764, 0.0294906396523106), ('PLANT_ID', 98096192.0, 0.1734235431941731, 0.028454874501321312), ('Category_total_counts', 85320360.0, 0.15083724287485492, 0.02474897431500251), ('SUB_COMMODITY_DESC', 83825112.0, 0.1481938048287175, 0.02431524601912379), ('Ranking', 76435560.0, 0.13512986968169785, 0.022171750226942705), ('quarter', 71088448.0, 0.1256767493312557, 0.020620707339319616), ('PLANNED_DELIVERY_DAYS', 68651976.0, 0.12136932823244899, 0.019913957122287915), ('COMPANY_CODE_ID', 65588252.0, 0.115952992892449, 0.019025259200897794), ('MATERIAL_ID', 56959476.0, 0.1006982426637261, 0.01652230028705929), ('INBOUND_DELIVERY_ITEM_ID', 37457600.0, 0.06622101815685219, 0.0108653688322651), ('IS_HOLIDAY', 3259900.5, 0.005763154345180458, 0.0009456030629027332)]\n"
     ]
    }
   ],
   "source": [
    "# Assuming 'GBM_grid_1_AutoML_3_20240302_70256_model_8' is the ID of your GBM model\n",
    "model_id = 'GBM_grid_1_AutoML_3_20240302_70256_model_8'\n",
    "gbm_model = h2o.get_model(model_id)\n",
    "\n",
    "# Get the variable importance\n",
    "variable_importance = gbm_model.varimp()\n",
    "\n",
    "# Print variable importance\n",
    "print(variable_importance)"
   ]
  },
  {
   "cell_type": "code",
   "execution_count": null,
   "metadata": {},
   "outputs": [
    {
     "data": {
      "text/html": [
       "<pre style='margin: 1em 0 1em 0;'>ModelMetricsRegression: gbm\n",
       "** Reported on test data. **\n",
       "\n",
       "MSE: 822.3872082202132\n",
       "RMSE: 28.677294297409112\n",
       "MAE: 10.969610040595025\n",
       "RMSLE: NaN\n",
       "Mean Residual Deviance: 822.3872082202132</pre>"
      ],
      "text/plain": [
       "ModelMetricsRegression: gbm\n",
       "** Reported on test data. **\n",
       "\n",
       "MSE: 822.3872082202132\n",
       "RMSE: 28.677294297409112\n",
       "MAE: 10.969610040595025\n",
       "RMSLE: NaN\n",
       "Mean Residual Deviance: 822.3872082202132"
      ]
     },
     "execution_count": 312,
     "metadata": {},
     "output_type": "execute_result"
    }
   ],
   "source": [
    "\n",
    "model = h2o.get_model('GBM_grid_1_AutoML_3_20240302_70256_model_8')\n",
    "model.model_performance(test)\n"
   ]
  },
  {
   "cell_type": "code",
   "execution_count": null,
   "metadata": {},
   "outputs": [
    {
     "data": {
      "image/png": "[encoded data removed]",
      "text/plain": [
       "<Figure size 1400x1000 with 1 Axes>"
      ]
     },
     "metadata": {},
     "output_type": "display_data"
    },
    {
     "data": {
      "text/plain": [
       "<h2o.plot._plot_result._MObject at 0x4844d54d0>"
      ]
     },
     "execution_count": 383,
     "metadata": {},
     "output_type": "execute_result"
    },
    {
     "data": {
      "text/plain": [
       "<Figure size 800x550 with 0 Axes>"
      ]
     },
     "metadata": {},
     "output_type": "display_data"
    }
   ],
   "source": [
    "# plot the graph for variable importance\n",
    "model.varimp_plot(num_of_features = 15)"
   ]
  },
  {
   "cell_type": "markdown",
   "metadata": {},
   "source": [
    "Trying NLP With Short Text"
   ]
  },
  {
   "cell_type": "code",
   "execution_count": 438,
   "metadata": {},
   "outputs": [
    {
     "name": "stdout",
     "output_type": "stream",
     "text": [
      "od x wall long astm\n"
     ]
    }
   ],
   "source": [
    "import pandas as pd\n",
    "import numpy as np\n",
    "from sklearn.model_selection import train_test_split\n",
    "from sklearn.feature_extraction.text import TfidfVectorizer\n",
    "from sklearn.metrics import mean_squared_error, mean_absolute_error\n",
    "from sklearn.pipeline import Pipeline\n",
    "from lightgbm import LGBMRegressor\n",
    "import nltk\n",
    "from nltk.corpus import stopwords\n",
    "from nltk.stem import WordNetLemmatizer\n",
    "from nltk.tokenize import word_tokenize\n",
    "\n",
    "df = koch\n",
    "\n",
    "# Text preprocessing function\n",
    "def preprocess_text(text):\n",
    "    # Lowercasing\n",
    "    text = text.lower()\n",
    "    # Tokenization\n",
    "    tokens = word_tokenize(text)\n",
    "    # Removing stopwords and punctuation\n",
    "    tokens = [word for word in tokens if word.isalpha() and word not in stopwords.words('english')]\n",
    "    # Lemmatization\n",
    "    lemmatizer = WordNetLemmatizer()\n",
    "    tokens = [lemmatizer.lemmatize(word) for word in tokens]\n",
    "    return ' '.join(tokens)\n",
    "\n",
    "test_text = df['SHORT_TEXT'].iloc[0]  # Assuming this is a valid text entry\n",
    "try:\n",
    "    result = preprocess_text(test_text)\n",
    "    print(result)\n",
    "except Exception as e:\n",
    "    print(f\"Error processing text: {e}\")\n",
    "\n",
    "\n"
   ]
  },
  {
   "cell_type": "code",
   "execution_count": 387,
   "metadata": {},
   "outputs": [
    {
     "name": "stderr",
     "output_type": "stream",
     "text": [
      "[nltk_data] Downloading package punkt to\n",
      "[nltk_data]     /Users/addisonjpratt/nltk_data...\n",
      "[nltk_data]   Unzipping tokenizers/punkt.zip.\n",
      "[nltk_data] Downloading package stopwords to\n",
      "[nltk_data]     /Users/addisonjpratt/nltk_data...\n",
      "[nltk_data]   Unzipping corpora/stopwords.zip.\n",
      "[nltk_data] Downloading package wordnet to\n",
      "[nltk_data]     /Users/addisonjpratt/nltk_data...\n"
     ]
    },
    {
     "data": {
      "text/plain": [
       "True"
      ]
     },
     "execution_count": 387,
     "metadata": {},
     "output_type": "execute_result"
    }
   ],
   "source": [
    "import nltk\n",
    "import ssl\n",
    "\n",
    "try:\n",
    "    _create_unverified_https_context = ssl._create_unverified_context\n",
    "except AttributeError:\n",
    "    pass\n",
    "else:\n",
    "    ssl._create_default_https_context = _create_unverified_https_context\n",
    "\n",
    "nltk.download('punkt')\n",
    "nltk.download('stopwords')\n",
    "nltk.download('wordnet')"
   ]
  },
  {
   "cell_type": "code",
   "execution_count": 384,
   "metadata": {},
   "outputs": [
    {
     "data": {
      "text/html": [
       "<div>\n",
       "<style scoped>\n",
       "    .dataframe tbody tr th:only-of-type {\n",
       "        vertical-align: middle;\n",
       "    }\n",
       "\n",
       "    .dataframe tbody tr th {\n",
       "        vertical-align: top;\n",
       "    }\n",
       "\n",
       "    .dataframe thead th {\n",
       "        text-align: right;\n",
       "    }\n",
       "</style>\n",
       "<table border=\"1\" class=\"dataframe\">\n",
       "  <thead>\n",
       "    <tr style=\"text-align: right;\">\n",
       "      <th></th>\n",
       "      <th>SHORT_TEXT</th>\n",
       "      <th>D_day_of_week</th>\n",
       "      <th>COUNTRY</th>\n",
       "      <th>MATERIAL_ID</th>\n",
       "      <th>IS_HOLIDAY</th>\n",
       "      <th>Mean_Delay_Material</th>\n",
       "      <th>Median_Delay_Material</th>\n",
       "      <th>quarter</th>\n",
       "      <th>month</th>\n",
       "      <th>day_of_week</th>\n",
       "      <th>Ranking</th>\n",
       "      <th>Category_total_counts</th>\n",
       "      <th>PLANNED_DELIVERY_DAYS</th>\n",
       "      <th>INBOUND_DELIVERY_ITEM_ID</th>\n",
       "      <th>REQUESTED_DELIVERY_DATE</th>\n",
       "      <th>PLANT_ID</th>\n",
       "      <th>SUB_COMMODITY_DESC</th>\n",
       "      <th>COMPANY_CODE_ID</th>\n",
       "      <th>CREATE_DATE</th>\n",
       "      <th>Time_Difference</th>\n",
       "    </tr>\n",
       "  </thead>\n",
       "  <tbody>\n",
       "    <tr>\n",
       "      <th>0</th>\n",
       "      <td>1/2\" OD x 0.063\" Wall 20' Long ASTM A51</td>\n",
       "      <td>5.0</td>\n",
       "      <td>CA</td>\n",
       "      <td>NaN</td>\n",
       "      <td>0</td>\n",
       "      <td>NaN</td>\n",
       "      <td>NaN</td>\n",
       "      <td>3</td>\n",
       "      <td>7</td>\n",
       "      <td>1</td>\n",
       "      <td>10.0</td>\n",
       "      <td>38309.0</td>\n",
       "      <td>0.0</td>\n",
       "      <td>0.0</td>\n",
       "      <td>2021-08-06</td>\n",
       "      <td>4036.0</td>\n",
       "      <td>Machinery &amp; Equipment</td>\n",
       "      <td>CA10</td>\n",
       "      <td>2021-07-26</td>\n",
       "      <td>6.0</td>\n",
       "    </tr>\n",
       "    <tr>\n",
       "      <th>1</th>\n",
       "      <td>994 45 9951A TU E 4.99-8.62 3X0X 4014</td>\n",
       "      <td>5.0</td>\n",
       "      <td>US</td>\n",
       "      <td>2.100008e+09</td>\n",
       "      <td>0</td>\n",
       "      <td>18.307692</td>\n",
       "      <td>3.0</td>\n",
       "      <td>3</td>\n",
       "      <td>7</td>\n",
       "      <td>1</td>\n",
       "      <td>2.0</td>\n",
       "      <td>106973.0</td>\n",
       "      <td>3.0</td>\n",
       "      <td>10.0</td>\n",
       "      <td>2021-09-10</td>\n",
       "      <td>4016.0</td>\n",
       "      <td>Custom Manufacturing</td>\n",
       "      <td>US10</td>\n",
       "      <td>2021-07-26</td>\n",
       "      <td>4.0</td>\n",
       "    </tr>\n",
       "    <tr>\n",
       "      <th>2</th>\n",
       "      <td>5/8\" x 50 ft Black Rubber ProFitter[REG]</td>\n",
       "      <td>5.0</td>\n",
       "      <td>CA</td>\n",
       "      <td>NaN</td>\n",
       "      <td>0</td>\n",
       "      <td>NaN</td>\n",
       "      <td>NaN</td>\n",
       "      <td>3</td>\n",
       "      <td>7</td>\n",
       "      <td>1</td>\n",
       "      <td>5.0</td>\n",
       "      <td>77387.0</td>\n",
       "      <td>0.0</td>\n",
       "      <td>0.0</td>\n",
       "      <td>2021-08-27</td>\n",
       "      <td>4036.0</td>\n",
       "      <td>Piping &amp; Tubing</td>\n",
       "      <td>CA10</td>\n",
       "      <td>2021-07-26</td>\n",
       "      <td>-24.0</td>\n",
       "    </tr>\n",
       "    <tr>\n",
       "      <th>3</th>\n",
       "      <td>4XL - HI-VIZ SAFETY LONG-SLEEVED SHIRT -</td>\n",
       "      <td>4.0</td>\n",
       "      <td>CA</td>\n",
       "      <td>NaN</td>\n",
       "      <td>0</td>\n",
       "      <td>NaN</td>\n",
       "      <td>NaN</td>\n",
       "      <td>3</td>\n",
       "      <td>7</td>\n",
       "      <td>1</td>\n",
       "      <td>7.0</td>\n",
       "      <td>57662.0</td>\n",
       "      <td>0.0</td>\n",
       "      <td>0.0</td>\n",
       "      <td>2021-08-05</td>\n",
       "      <td>4036.0</td>\n",
       "      <td>Material Handling</td>\n",
       "      <td>CA10</td>\n",
       "      <td>2021-07-26</td>\n",
       "      <td>-6.0</td>\n",
       "    </tr>\n",
       "    <tr>\n",
       "      <th>4</th>\n",
       "      <td>N66 2 BT 00WUD BN PL 65 1.5% 0</td>\n",
       "      <td>2.0</td>\n",
       "      <td>CA</td>\n",
       "      <td>2.100022e+09</td>\n",
       "      <td>0</td>\n",
       "      <td>0.000000</td>\n",
       "      <td>0.0</td>\n",
       "      <td>3</td>\n",
       "      <td>7</td>\n",
       "      <td>1</td>\n",
       "      <td>3.0</td>\n",
       "      <td>96024.0</td>\n",
       "      <td>0.0</td>\n",
       "      <td>10.0</td>\n",
       "      <td>2021-07-27</td>\n",
       "      <td>4007.0</td>\n",
       "      <td>Tolling</td>\n",
       "      <td>CA10</td>\n",
       "      <td>2021-07-26</td>\n",
       "      <td>7.0</td>\n",
       "    </tr>\n",
       "  </tbody>\n",
       "</table>\n",
       "</div>"
      ],
      "text/plain": [
       "                                 SHORT_TEXT  D_day_of_week COUNTRY  \\\n",
       "0   1/2\" OD x 0.063\" Wall 20' Long ASTM A51            5.0      CA   \n",
       "1     994 45 9951A TU E 4.99-8.62 3X0X 4014            5.0      US   \n",
       "2  5/8\" x 50 ft Black Rubber ProFitter[REG]            5.0      CA   \n",
       "3  4XL - HI-VIZ SAFETY LONG-SLEEVED SHIRT -            4.0      CA   \n",
       "4            N66 2 BT 00WUD BN PL 65 1.5% 0            2.0      CA   \n",
       "\n",
       "    MATERIAL_ID  IS_HOLIDAY  Mean_Delay_Material  Median_Delay_Material  \\\n",
       "0           NaN           0                  NaN                    NaN   \n",
       "1  2.100008e+09           0            18.307692                    3.0   \n",
       "2           NaN           0                  NaN                    NaN   \n",
       "3           NaN           0                  NaN                    NaN   \n",
       "4  2.100022e+09           0             0.000000                    0.0   \n",
       "\n",
       "   quarter  month  day_of_week  Ranking  Category_total_counts  \\\n",
       "0        3      7            1     10.0                38309.0   \n",
       "1        3      7            1      2.0               106973.0   \n",
       "2        3      7            1      5.0                77387.0   \n",
       "3        3      7            1      7.0                57662.0   \n",
       "4        3      7            1      3.0                96024.0   \n",
       "\n",
       "   PLANNED_DELIVERY_DAYS  INBOUND_DELIVERY_ITEM_ID REQUESTED_DELIVERY_DATE  \\\n",
       "0                    0.0                       0.0              2021-08-06   \n",
       "1                    3.0                      10.0              2021-09-10   \n",
       "2                    0.0                       0.0              2021-08-27   \n",
       "3                    0.0                       0.0              2021-08-05   \n",
       "4                    0.0                      10.0              2021-07-27   \n",
       "\n",
       "   PLANT_ID     SUB_COMMODITY_DESC COMPANY_CODE_ID CREATE_DATE  \\\n",
       "0    4036.0  Machinery & Equipment            CA10  2021-07-26   \n",
       "1    4016.0   Custom Manufacturing            US10  2021-07-26   \n",
       "2    4036.0        Piping & Tubing            CA10  2021-07-26   \n",
       "3    4036.0      Material Handling            CA10  2021-07-26   \n",
       "4    4007.0                Tolling            CA10  2021-07-26   \n",
       "\n",
       "   Time_Difference  \n",
       "0              6.0  \n",
       "1              4.0  \n",
       "2            -24.0  \n",
       "3             -6.0  \n",
       "4              7.0  "
      ]
     },
     "execution_count": 384,
     "metadata": {},
     "output_type": "execute_result"
    }
   ],
   "source": [
    "\n",
    "# Train the model\n",
    "pipeline.fit(X_train, y_train)\n",
    "\n",
    "# Predict on the test set\n",
    "predictions = pipeline.predict(X_test)\n",
    "\n",
    "# Evaluate the model\n",
    "print(f'Mean Absolute Error (MAE): {mean_absolute_error(y_test, predictions)}')\n",
    "print(f'Mean Squared Error (MSE): {mean_squared_error(y_test, predictions)}')\n",
    "\n",
    "# Example prediction\n",
    "example_text = \"Urgent task due tomorrow\"\n",
    "processed_text = preprocess_text(example_text)\n",
    "example_prediction = pipeline.predict([processed_text])\n",
    "print(f'Predicted Time Difference for \"{example_text}\": {example_prediction[0]} days')\n"
   ]
  },
  {
   "cell_type": "code",
   "execution_count": 440,
   "metadata": {},
   "outputs": [],
   "source": [
    "koch.to_csv(\"all_koch2.csv\")"
   ]
  },
  {
   "cell_type": "code",
   "execution_count": null,
   "metadata": {},
   "outputs": [],
   "source": []
  }
 ],
 "metadata": {
  "kernelspec": {
   "display_name": "Python 3 (ipykernel)",
   "language": "python",
   "name": "python3"
  },
  "language_info": {
   "codemirror_mode": {
    "name": "ipython",
    "version": 3
   },
   "file_extension": ".py",
   "mimetype": "text/x-python",
   "name": "python",
   "nbconvert_exporter": "python",
   "pygments_lexer": "ipython3",
   "version": "3.11.6"
  }
 },
 "nbformat": 4,
 "nbformat_minor": 5
}
